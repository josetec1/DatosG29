{
 "cells": [
  {
   "cell_type": "markdown",
   "metadata": {},
   "source": [
    "## Guia de ejercicios Panda"
   ]
  },
  {
   "cell_type": "code",
   "execution_count": 2,
   "metadata": {},
   "outputs": [],
   "source": [
    "# magic function para hacer que los graficos de matplotlib se renderizen en el notebook.\n",
    "%matplotlib notebook\n",
    "\n",
    "import datetime as datetime\n",
    "import pandas as pd\n",
    "import numpy as np\n",
    "import matplotlib.pyplot as plt\n",
    "\n",
    "plt.style.use('default') # Make the graphs a bit prettier\n",
    "plt.rcParams['figure.figsize'] = (15, 5)\n"
   ]
  },
  {
   "cell_type": "code",
   "execution_count": 66,
   "metadata": {},
   "outputs": [],
   "source": [
    "notas_alumnos = {\n",
    "        'padron': ['12345', '21234', '31234', '41234', '41235', '12345'],\n",
    "        'materia': ['75.06 Organizacion de Datos', '75.06 Organizacion de Datos', '75.42 Taller de Programacion I', '75.07 Algoritmos y programacion III', '75.42 Taller de Programacion I', '75.42 Taller de Programacion I'],\n",
    "        'nota': [10, 6, 7, 4, 8, 5],\n",
    "        'fecha': ['2019-08-01', '2017-10-10', '2018-02-20', '2019-10-10', '2018-02-20', '2019-10-10']\n",
    "    \n",
    "}\n",
    "\n",
    "df_a = pd.DataFrame(notas_alumnos, columns = ['padron', 'materia', 'nota', 'fecha'])"
   ]
  },
  {
   "cell_type": "code",
   "execution_count": 67,
   "metadata": {},
   "outputs": [],
   "source": [
    "df_a.count()\n",
    "df_a['fecha'] = pd.to_datetime(df_a['fecha'])"
   ]
  },
  {
   "cell_type": "code",
   "execution_count": 76,
   "metadata": {},
   "outputs": [
    {
     "data": {
      "text/plain": [
       "sum    6.666667\n",
       "Name: nota, dtype: float64"
      ]
     },
     "execution_count": 76,
     "metadata": {},
     "output_type": "execute_result"
    }
   ],
   "source": [
    "# Ejercicio 1\n",
    "# Dado el registro de notas de los alumnos de la forma (padrón, materia, nota, fecha). Se pide\n",
    "# resolver utilizando Pandas:\n",
    "\n",
    "# A) Cuál es el promedio de notas\n",
    "count = df_a.shape[0]\n",
    "\n",
    "df_a.loc[:,\"nota\"].agg(['sum']) / count"
   ]
  },
  {
   "cell_type": "code",
   "execution_count": 64,
   "metadata": {},
   "outputs": [
    {
     "data": {
      "text/plain": [
       "6.666666666666667"
      ]
     },
     "execution_count": 64,
     "metadata": {},
     "output_type": "execute_result"
    }
   ],
   "source": [
    "# forma facil\n",
    "df_a.loc[:,\"nota\"].mean()"
   ]
  },
  {
   "cell_type": "code",
   "execution_count": 65,
   "metadata": {},
   "outputs": [
    {
     "data": {
      "text/plain": [
       "10"
      ]
     },
     "execution_count": 65,
     "metadata": {},
     "output_type": "execute_result"
    }
   ],
   "source": [
    "# B) Cuál es la nota más alta y la nota más baja registrada durante el año 2019.\n",
    "df_a[df_a.fecha.dt.year == 2019].loc[:,\"nota\"].max()"
   ]
  },
  {
   "cell_type": "code",
   "execution_count": 87,
   "metadata": {},
   "outputs": [
    {
     "data": {
      "text/plain": [
       "'12345'"
      ]
     },
     "execution_count": 87,
     "metadata": {},
     "output_type": "execute_result"
    }
   ],
   "source": [
    "# C) Cuál es el padrón con mayor cantidad de materias aprobadas durante el último cuatrimestre.\n",
    "df_2019 = df_a[df_a.fecha.dt.year == 2019]\n",
    "df_2C2019 = df_2019[df_2019.fecha.dt.month > 7]\n",
    "\n",
    "#padron = df_2C2019.loc[df_2C2019.nota.idxmax()].padron\n",
    "padron = df_2C2019.padron.value_counts().idxmax()\n",
    "padron"
   ]
  },
  {
   "cell_type": "code",
   "execution_count": 94,
   "metadata": {},
   "outputs": [
    {
     "data": {
      "text/plain": [
       "7.5"
      ]
     },
     "execution_count": 94,
     "metadata": {},
     "output_type": "execute_result"
    }
   ],
   "source": [
    "# D) Cuál es la nota promedio\n",
    "df_2C2019[df_2C2019.padron == padron].nota.mean()"
   ]
  },
  {
   "cell_type": "code",
   "execution_count": null,
   "metadata": {},
   "outputs": [],
   "source": [
    "# E) Cuál es la nota promedio por padrón.\n",
    "df_a.groupby('padron').agg({'nota' : 'mean'})"
   ]
  },
  {
   "cell_type": "code",
   "execution_count": 89,
   "metadata": {},
   "outputs": [],
   "source": [
    "# Ejercicio 2\n",
    "#  Se tiene un registro de transacciones bancarias, de la forma (nro de transacción, tipo de\n",
    "# transacción, cuenta origen, cuenta destino, fecha, hora, monto). Se pide resolver en Pandas:\n",
    "# A) Validar que todas las transacciones cuenten con un tipo de transacción.\n",
    "\n",
    "#nro de transacción, tipo de transacción, cuenta origen, cuenta destino, fecha, hora, monto\n",
    "trx = {\n",
    "    'nro_trx': ['12345', '21234', '31234', '41234', np.nan, '12345'],\n",
    "    'tipo_trx': ['credito', 'debito', 'transferencia', 'deposito', 'extraccion', 'deposito'],\n",
    "    'cta_orig': ['12345', np.nan, '31234', '41234', '41235', '12345'],\n",
    "    'cta_dest': ['41234', '41235', '12345', np.nan, '21234', '31234'],\n",
    "    'fecha': ['2019-08-01', '2017-10-10', '2018-02-20', '2019-10-10', '2018-02-20', '2019-10-10'],\n",
    "    'hora': ['17:00', '08:34', '12:23', '10:21', '18:06', '16:20'],\n",
    "    'monto': [1300.00, 2300.00, 250.00, 5400.00, 0.00, 560.00]\n",
    "}\n",
    "\n",
    "df = pd.DataFrame(trx, columns = ['nro_trx', 'tipo_trx', 'cta_orig', 'cta_dest', 'fecha', 'hora', 'monto'])"
   ]
  },
  {
   "cell_type": "code",
   "execution_count": 33,
   "metadata": {},
   "outputs": [
    {
     "data": {
      "text/plain": [
       "0    False\n",
       "1    False\n",
       "2    False\n",
       "3    False\n",
       "4     True\n",
       "5    False\n",
       "Name: nro_trx, dtype: bool"
      ]
     },
     "execution_count": 33,
     "metadata": {},
     "output_type": "execute_result"
    }
   ],
   "source": [
    "df.to_csv(r'out.csv')\n",
    "df.nro_trx.isna()"
   ]
  },
  {
   "cell_type": "code",
   "execution_count": 22,
   "metadata": {},
   "outputs": [],
   "source": [
    "# o leyendo desde archivo\n",
    "df_trx = pd.read_csv('out.csv', index_col='id', parse_dates=['fecha'])"
   ]
  },
  {
   "cell_type": "code",
   "execution_count": 23,
   "metadata": {},
   "outputs": [
    {
     "data": {
      "text/html": [
       "<div>\n",
       "<style scoped>\n",
       "    .dataframe tbody tr th:only-of-type {\n",
       "        vertical-align: middle;\n",
       "    }\n",
       "\n",
       "    .dataframe tbody tr th {\n",
       "        vertical-align: top;\n",
       "    }\n",
       "\n",
       "    .dataframe thead th {\n",
       "        text-align: right;\n",
       "    }\n",
       "</style>\n",
       "<table border=\"1\" class=\"dataframe\">\n",
       "  <thead>\n",
       "    <tr style=\"text-align: right;\">\n",
       "      <th></th>\n",
       "      <th>nro_trx</th>\n",
       "      <th>tipo_trx</th>\n",
       "      <th>cta_orig</th>\n",
       "      <th>cta_dest</th>\n",
       "      <th>fecha</th>\n",
       "      <th>hora</th>\n",
       "      <th>monto</th>\n",
       "    </tr>\n",
       "    <tr>\n",
       "      <th>id</th>\n",
       "      <th></th>\n",
       "      <th></th>\n",
       "      <th></th>\n",
       "      <th></th>\n",
       "      <th></th>\n",
       "      <th></th>\n",
       "      <th></th>\n",
       "    </tr>\n",
       "  </thead>\n",
       "  <tbody>\n",
       "    <tr>\n",
       "      <th>0</th>\n",
       "      <td>12345.0</td>\n",
       "      <td>credito</td>\n",
       "      <td>12345</td>\n",
       "      <td>41234</td>\n",
       "      <td>2019-08-01</td>\n",
       "      <td>17:00</td>\n",
       "      <td>1300.0</td>\n",
       "    </tr>\n",
       "    <tr>\n",
       "      <th>1</th>\n",
       "      <td>21234.0</td>\n",
       "      <td>debito</td>\n",
       "      <td>21234</td>\n",
       "      <td>41235</td>\n",
       "      <td>2017-10-10</td>\n",
       "      <td>08:34</td>\n",
       "      <td>2300.0</td>\n",
       "    </tr>\n",
       "    <tr>\n",
       "      <th>2</th>\n",
       "      <td>31234.0</td>\n",
       "      <td>debin</td>\n",
       "      <td>31234</td>\n",
       "      <td>12345</td>\n",
       "      <td>2018-02-20</td>\n",
       "      <td>12:23</td>\n",
       "      <td>250.0</td>\n",
       "    </tr>\n",
       "    <tr>\n",
       "      <th>3</th>\n",
       "      <td>41234.0</td>\n",
       "      <td>credito</td>\n",
       "      <td>41234</td>\n",
       "      <td>12345</td>\n",
       "      <td>2019-10-10</td>\n",
       "      <td>10:21</td>\n",
       "      <td>5400.0</td>\n",
       "    </tr>\n",
       "    <tr>\n",
       "      <th>4</th>\n",
       "      <td>NaN</td>\n",
       "      <td>credito</td>\n",
       "      <td>41235</td>\n",
       "      <td>21234</td>\n",
       "      <td>2018-02-20</td>\n",
       "      <td>18:06</td>\n",
       "      <td>432.0</td>\n",
       "    </tr>\n",
       "    <tr>\n",
       "      <th>5</th>\n",
       "      <td>12345.0</td>\n",
       "      <td>debito</td>\n",
       "      <td>12345</td>\n",
       "      <td>31234</td>\n",
       "      <td>2019-10-10</td>\n",
       "      <td>16:20</td>\n",
       "      <td>560.0</td>\n",
       "    </tr>\n",
       "  </tbody>\n",
       "</table>\n",
       "</div>"
      ],
      "text/plain": [
       "    nro_trx tipo_trx  cta_orig  cta_dest      fecha   hora   monto\n",
       "id                                                                \n",
       "0   12345.0  credito     12345     41234 2019-08-01  17:00  1300.0\n",
       "1   21234.0   debito     21234     41235 2017-10-10  08:34  2300.0\n",
       "2   31234.0    debin     31234     12345 2018-02-20  12:23   250.0\n",
       "3   41234.0  credito     41234     12345 2019-10-10  10:21  5400.0\n",
       "4       NaN  credito     41235     21234 2018-02-20  18:06   432.0\n",
       "5   12345.0   debito     12345     31234 2019-10-10  16:20   560.0"
      ]
     },
     "execution_count": 23,
     "metadata": {},
     "output_type": "execute_result"
    }
   ],
   "source": [
    "df_trx"
   ]
  },
  {
   "cell_type": "code",
   "execution_count": 26,
   "metadata": {},
   "outputs": [
    {
     "data": {
      "text/plain": [
       "id\n",
       "0    False\n",
       "1    False\n",
       "2    False\n",
       "3    False\n",
       "4     True\n",
       "5    False\n",
       "Name: nro_trx, dtype: bool"
      ]
     },
     "execution_count": 26,
     "metadata": {},
     "output_type": "execute_result"
    }
   ],
   "source": [
    "df_trx.nro_trx.isna()"
   ]
  },
  {
   "cell_type": "code",
   "execution_count": 105,
   "metadata": {},
   "outputs": [
    {
     "data": {
      "text/html": [
       "<div>\n",
       "<style scoped>\n",
       "    .dataframe tbody tr th:only-of-type {\n",
       "        vertical-align: middle;\n",
       "    }\n",
       "\n",
       "    .dataframe tbody tr th {\n",
       "        vertical-align: top;\n",
       "    }\n",
       "\n",
       "    .dataframe thead th {\n",
       "        text-align: right;\n",
       "    }\n",
       "</style>\n",
       "<table border=\"1\" class=\"dataframe\">\n",
       "  <thead>\n",
       "    <tr style=\"text-align: right;\">\n",
       "      <th></th>\n",
       "      <th>nro_trx</th>\n",
       "      <th>tipo_trx</th>\n",
       "      <th>cta_orig</th>\n",
       "      <th>cta_dest</th>\n",
       "      <th>fecha</th>\n",
       "      <th>hora</th>\n",
       "      <th>monto</th>\n",
       "    </tr>\n",
       "  </thead>\n",
       "  <tbody>\n",
       "    <tr>\n",
       "      <th>0</th>\n",
       "      <td>12345</td>\n",
       "      <td>credito</td>\n",
       "      <td>12345</td>\n",
       "      <td>41234</td>\n",
       "      <td>2019-08-01</td>\n",
       "      <td>17:00</td>\n",
       "      <td>1300.0</td>\n",
       "    </tr>\n",
       "    <tr>\n",
       "      <th>1</th>\n",
       "      <td>21234</td>\n",
       "      <td>debito</td>\n",
       "      <td>NaN</td>\n",
       "      <td>41235</td>\n",
       "      <td>2017-10-10</td>\n",
       "      <td>08:34</td>\n",
       "      <td>2300.0</td>\n",
       "    </tr>\n",
       "    <tr>\n",
       "      <th>2</th>\n",
       "      <td>31234</td>\n",
       "      <td>transferencia</td>\n",
       "      <td>31234</td>\n",
       "      <td>12345</td>\n",
       "      <td>2018-02-20</td>\n",
       "      <td>12:23</td>\n",
       "      <td>250.0</td>\n",
       "    </tr>\n",
       "    <tr>\n",
       "      <th>3</th>\n",
       "      <td>41234</td>\n",
       "      <td>deposito</td>\n",
       "      <td>41234</td>\n",
       "      <td>NaN</td>\n",
       "      <td>2019-10-10</td>\n",
       "      <td>10:21</td>\n",
       "      <td>5400.0</td>\n",
       "    </tr>\n",
       "    <tr>\n",
       "      <th>4</th>\n",
       "      <td>NaN</td>\n",
       "      <td>extraccion</td>\n",
       "      <td>41235</td>\n",
       "      <td>21234</td>\n",
       "      <td>2018-02-20</td>\n",
       "      <td>18:06</td>\n",
       "      <td>0.0</td>\n",
       "    </tr>\n",
       "    <tr>\n",
       "      <th>5</th>\n",
       "      <td>12345</td>\n",
       "      <td>deposito</td>\n",
       "      <td>12345</td>\n",
       "      <td>31234</td>\n",
       "      <td>2019-10-10</td>\n",
       "      <td>16:20</td>\n",
       "      <td>560.0</td>\n",
       "    </tr>\n",
       "  </tbody>\n",
       "</table>\n",
       "</div>"
      ],
      "text/plain": [
       "  nro_trx       tipo_trx cta_orig cta_dest       fecha   hora   monto\n",
       "0   12345        credito    12345    41234  2019-08-01  17:00  1300.0\n",
       "1   21234         debito      NaN    41235  2017-10-10  08:34  2300.0\n",
       "2   31234  transferencia    31234    12345  2018-02-20  12:23   250.0\n",
       "3   41234       deposito    41234      NaN  2019-10-10  10:21  5400.0\n",
       "4     NaN     extraccion    41235    21234  2018-02-20  18:06     0.0\n",
       "5   12345       deposito    12345    31234  2019-10-10  16:20   560.0"
      ]
     },
     "execution_count": 105,
     "metadata": {},
     "output_type": "execute_result"
    }
   ],
   "source": [
    "# quito los valorse con tipo_trx NaN\n",
    "df[~df.nro_trx.isna()]\n",
    "# o lo mismo\n",
    "df.dropna(subset=['tipo_trx'])"
   ]
  },
  {
   "cell_type": "code",
   "execution_count": 45,
   "metadata": {},
   "outputs": [
    {
     "data": {
      "text/html": [
       "<div>\n",
       "<style scoped>\n",
       "    .dataframe tbody tr th:only-of-type {\n",
       "        vertical-align: middle;\n",
       "    }\n",
       "\n",
       "    .dataframe tbody tr th {\n",
       "        vertical-align: top;\n",
       "    }\n",
       "\n",
       "    .dataframe thead th {\n",
       "        text-align: right;\n",
       "    }\n",
       "</style>\n",
       "<table border=\"1\" class=\"dataframe\">\n",
       "  <thead>\n",
       "    <tr style=\"text-align: right;\">\n",
       "      <th></th>\n",
       "      <th>nro_trx</th>\n",
       "      <th>tipo_trx</th>\n",
       "      <th>cta_orig</th>\n",
       "      <th>cta_dest</th>\n",
       "      <th>fecha</th>\n",
       "      <th>hora</th>\n",
       "      <th>monto</th>\n",
       "    </tr>\n",
       "  </thead>\n",
       "  <tbody>\n",
       "    <tr>\n",
       "      <th>0</th>\n",
       "      <td>12345</td>\n",
       "      <td>credito</td>\n",
       "      <td>12345</td>\n",
       "      <td>41234</td>\n",
       "      <td>2019-08-01</td>\n",
       "      <td>17:00</td>\n",
       "      <td>1300.0</td>\n",
       "    </tr>\n",
       "    <tr>\n",
       "      <th>2</th>\n",
       "      <td>31234</td>\n",
       "      <td>transferencia</td>\n",
       "      <td>31234</td>\n",
       "      <td>12345</td>\n",
       "      <td>2018-02-20</td>\n",
       "      <td>12:23</td>\n",
       "      <td>250.0</td>\n",
       "    </tr>\n",
       "    <tr>\n",
       "      <th>4</th>\n",
       "      <td>NaN</td>\n",
       "      <td>extraccion</td>\n",
       "      <td>41235</td>\n",
       "      <td>21234</td>\n",
       "      <td>2018-02-20</td>\n",
       "      <td>18:06</td>\n",
       "      <td>0.0</td>\n",
       "    </tr>\n",
       "    <tr>\n",
       "      <th>5</th>\n",
       "      <td>12345</td>\n",
       "      <td>deposito</td>\n",
       "      <td>12345</td>\n",
       "      <td>31234</td>\n",
       "      <td>2019-10-10</td>\n",
       "      <td>16:20</td>\n",
       "      <td>560.0</td>\n",
       "    </tr>\n",
       "  </tbody>\n",
       "</table>\n",
       "</div>"
      ],
      "text/plain": [
       "  nro_trx       tipo_trx cta_orig cta_dest       fecha   hora   monto\n",
       "0   12345        credito    12345    41234  2019-08-01  17:00  1300.0\n",
       "2   31234  transferencia    31234    12345  2018-02-20  12:23   250.0\n",
       "4     NaN     extraccion    41235    21234  2018-02-20  18:06     0.0\n",
       "5   12345       deposito    12345    31234  2019-10-10  16:20   560.0"
      ]
     },
     "execution_count": 45,
     "metadata": {},
     "output_type": "execute_result"
    }
   ],
   "source": [
    "# B) Validar que para las transacciones del tipo transferencia, exista siempre tanto cuenta\n",
    "# origen como cuenta destino. (la validacion es ademas de la anterior?)\n",
    "df[~df.cta_orig.isna() & ~df.cta_dest.isna()]"
   ]
  },
  {
   "cell_type": "code",
   "execution_count": 52,
   "metadata": {},
   "outputs": [
    {
     "data": {
      "text/html": [
       "<div>\n",
       "<style scoped>\n",
       "    .dataframe tbody tr th:only-of-type {\n",
       "        vertical-align: middle;\n",
       "    }\n",
       "\n",
       "    .dataframe tbody tr th {\n",
       "        vertical-align: top;\n",
       "    }\n",
       "\n",
       "    .dataframe thead th {\n",
       "        text-align: right;\n",
       "    }\n",
       "</style>\n",
       "<table border=\"1\" class=\"dataframe\">\n",
       "  <thead>\n",
       "    <tr style=\"text-align: right;\">\n",
       "      <th></th>\n",
       "      <th>nro_trx</th>\n",
       "      <th>tipo_trx</th>\n",
       "      <th>cta_orig</th>\n",
       "      <th>cta_dest</th>\n",
       "      <th>fecha</th>\n",
       "      <th>hora</th>\n",
       "      <th>monto</th>\n",
       "    </tr>\n",
       "  </thead>\n",
       "  <tbody>\n",
       "    <tr>\n",
       "      <th>2</th>\n",
       "      <td>31234</td>\n",
       "      <td>transferencia</td>\n",
       "      <td>31234</td>\n",
       "      <td>12345</td>\n",
       "      <td>2018-02-20</td>\n",
       "      <td>12:23</td>\n",
       "      <td>250.0</td>\n",
       "    </tr>\n",
       "    <tr>\n",
       "      <th>3</th>\n",
       "      <td>41234</td>\n",
       "      <td>deposito</td>\n",
       "      <td>41234</td>\n",
       "      <td>NaN</td>\n",
       "      <td>2019-10-10</td>\n",
       "      <td>10:21</td>\n",
       "      <td>5400.0</td>\n",
       "    </tr>\n",
       "    <tr>\n",
       "      <th>5</th>\n",
       "      <td>12345</td>\n",
       "      <td>deposito</td>\n",
       "      <td>12345</td>\n",
       "      <td>31234</td>\n",
       "      <td>2019-10-10</td>\n",
       "      <td>16:20</td>\n",
       "      <td>560.0</td>\n",
       "    </tr>\n",
       "  </tbody>\n",
       "</table>\n",
       "</div>"
      ],
      "text/plain": [
       "  nro_trx       tipo_trx cta_orig cta_dest       fecha   hora   monto\n",
       "2   31234  transferencia    31234    12345  2018-02-20  12:23   250.0\n",
       "3   41234       deposito    41234      NaN  2019-10-10  10:21  5400.0\n",
       "5   12345       deposito    12345    31234  2019-10-10  16:20   560.0"
      ]
     },
     "execution_count": 52,
     "metadata": {},
     "output_type": "execute_result"
    }
   ],
   "source": [
    "# C) Verificar que todas las transacciones del tipo transferencia, depósito y extracción\n",
    "# cuenten con montos distintos de cero\n",
    "df[df.tipo_trx.isin(['deposito', 'transferencia', 'extraccion']) \n",
    "     & df.monto != 0]"
   ]
  },
  {
   "cell_type": "code",
   "execution_count": 56,
   "metadata": {},
   "outputs": [
    {
     "name": "stdout",
     "output_type": "stream",
     "text": [
      "3    5400.0\n",
      "1    2300.0\n",
      "0    1300.0\n",
      "5     560.0\n",
      "2     250.0\n",
      "4       0.0\n",
      "Name: monto, dtype: float64 \n",
      "\n"
     ]
    }
   ],
   "source": [
    "# D) Indicar cuáles fueron las 10 transacciones de mayor monto.\n",
    "print(df['monto'].sort_values(ascending=False)[:10],'\\n')"
   ]
  },
  {
   "cell_type": "code",
   "execution_count": 113,
   "metadata": {},
   "outputs": [
    {
     "data": {
      "text/html": [
       "<div>\n",
       "<style scoped>\n",
       "    .dataframe tbody tr th:only-of-type {\n",
       "        vertical-align: middle;\n",
       "    }\n",
       "\n",
       "    .dataframe tbody tr th {\n",
       "        vertical-align: top;\n",
       "    }\n",
       "\n",
       "    .dataframe thead th {\n",
       "        text-align: right;\n",
       "    }\n",
       "</style>\n",
       "<table border=\"1\" class=\"dataframe\">\n",
       "  <thead>\n",
       "    <tr style=\"text-align: right;\">\n",
       "      <th></th>\n",
       "      <th>tipo_trx</th>\n",
       "      <th>monto</th>\n",
       "    </tr>\n",
       "  </thead>\n",
       "  <tbody>\n",
       "    <tr>\n",
       "      <th>0</th>\n",
       "      <td>deposito</td>\n",
       "      <td>2980.0</td>\n",
       "    </tr>\n",
       "  </tbody>\n",
       "</table>\n",
       "</div>"
      ],
      "text/plain": [
       "   tipo_trx   monto\n",
       "0  deposito  2980.0"
      ]
     },
     "execution_count": 113,
     "metadata": {},
     "output_type": "execute_result"
    }
   ],
   "source": [
    "# E) Indicar cuál es el tipo de transacción que registra mayor monto promedio.\n",
    "# uso reset_index() para pasar el index tipo_trx a columna\n",
    "df_trx_max_mean = df.groupby('tipo_trx').agg({'monto' : 'mean'}).sort_values('monto', ascending=False)[:1].reset_index(level='tipo_trx')\n",
    "df_trx_max_mean"
   ]
  },
  {
   "cell_type": "code",
   "execution_count": 93,
   "metadata": {},
   "outputs": [
    {
     "data": {
      "text/plain": [
       "12345    2\n",
       "41234    1\n",
       "41235    1\n",
       "31234    1\n",
       "Name: cta_orig, dtype: int64"
      ]
     },
     "execution_count": 93,
     "metadata": {},
     "output_type": "execute_result"
    }
   ],
   "source": [
    "# F) Indicar cuáles son las 5 cuentas con mayor cantidad de transacciones\n",
    "# solo sobre cuentas origen\n",
    "df.cta_orig.value_counts().sort_values(ascending=False)[:5]"
   ]
  },
  {
   "cell_type": "code",
   "execution_count": 96,
   "metadata": {},
   "outputs": [
    {
     "data": {
      "text/html": [
       "<div>\n",
       "<style scoped>\n",
       "    .dataframe tbody tr th:only-of-type {\n",
       "        vertical-align: middle;\n",
       "    }\n",
       "\n",
       "    .dataframe tbody tr th {\n",
       "        vertical-align: top;\n",
       "    }\n",
       "\n",
       "    .dataframe thead th {\n",
       "        text-align: right;\n",
       "    }\n",
       "</style>\n",
       "<table border=\"1\" class=\"dataframe\">\n",
       "  <thead>\n",
       "    <tr style=\"text-align: right;\">\n",
       "      <th></th>\n",
       "      <th>nro_trx</th>\n",
       "      <th>tipo_trx</th>\n",
       "      <th>fecha</th>\n",
       "      <th>hora</th>\n",
       "      <th>monto</th>\n",
       "      <th>cta_dir</th>\n",
       "      <th>cta_num</th>\n",
       "    </tr>\n",
       "  </thead>\n",
       "  <tbody>\n",
       "    <tr>\n",
       "      <th>0</th>\n",
       "      <td>12345</td>\n",
       "      <td>credito</td>\n",
       "      <td>2019-08-01</td>\n",
       "      <td>17:00</td>\n",
       "      <td>1300.0</td>\n",
       "      <td>cta_orig</td>\n",
       "      <td>12345</td>\n",
       "    </tr>\n",
       "    <tr>\n",
       "      <th>1</th>\n",
       "      <td>21234</td>\n",
       "      <td>debito</td>\n",
       "      <td>2017-10-10</td>\n",
       "      <td>08:34</td>\n",
       "      <td>2300.0</td>\n",
       "      <td>cta_orig</td>\n",
       "      <td>NaN</td>\n",
       "    </tr>\n",
       "    <tr>\n",
       "      <th>2</th>\n",
       "      <td>31234</td>\n",
       "      <td>transferencia</td>\n",
       "      <td>2018-02-20</td>\n",
       "      <td>12:23</td>\n",
       "      <td>250.0</td>\n",
       "      <td>cta_orig</td>\n",
       "      <td>31234</td>\n",
       "    </tr>\n",
       "    <tr>\n",
       "      <th>3</th>\n",
       "      <td>41234</td>\n",
       "      <td>deposito</td>\n",
       "      <td>2019-10-10</td>\n",
       "      <td>10:21</td>\n",
       "      <td>5400.0</td>\n",
       "      <td>cta_orig</td>\n",
       "      <td>41234</td>\n",
       "    </tr>\n",
       "    <tr>\n",
       "      <th>4</th>\n",
       "      <td>NaN</td>\n",
       "      <td>extraccion</td>\n",
       "      <td>2018-02-20</td>\n",
       "      <td>18:06</td>\n",
       "      <td>0.0</td>\n",
       "      <td>cta_orig</td>\n",
       "      <td>41235</td>\n",
       "    </tr>\n",
       "    <tr>\n",
       "      <th>5</th>\n",
       "      <td>12345</td>\n",
       "      <td>deposito</td>\n",
       "      <td>2019-10-10</td>\n",
       "      <td>16:20</td>\n",
       "      <td>560.0</td>\n",
       "      <td>cta_orig</td>\n",
       "      <td>12345</td>\n",
       "    </tr>\n",
       "    <tr>\n",
       "      <th>6</th>\n",
       "      <td>12345</td>\n",
       "      <td>credito</td>\n",
       "      <td>2019-08-01</td>\n",
       "      <td>17:00</td>\n",
       "      <td>1300.0</td>\n",
       "      <td>cta_dest</td>\n",
       "      <td>41234</td>\n",
       "    </tr>\n",
       "    <tr>\n",
       "      <th>7</th>\n",
       "      <td>21234</td>\n",
       "      <td>debito</td>\n",
       "      <td>2017-10-10</td>\n",
       "      <td>08:34</td>\n",
       "      <td>2300.0</td>\n",
       "      <td>cta_dest</td>\n",
       "      <td>41235</td>\n",
       "    </tr>\n",
       "    <tr>\n",
       "      <th>8</th>\n",
       "      <td>31234</td>\n",
       "      <td>transferencia</td>\n",
       "      <td>2018-02-20</td>\n",
       "      <td>12:23</td>\n",
       "      <td>250.0</td>\n",
       "      <td>cta_dest</td>\n",
       "      <td>12345</td>\n",
       "    </tr>\n",
       "    <tr>\n",
       "      <th>9</th>\n",
       "      <td>41234</td>\n",
       "      <td>deposito</td>\n",
       "      <td>2019-10-10</td>\n",
       "      <td>10:21</td>\n",
       "      <td>5400.0</td>\n",
       "      <td>cta_dest</td>\n",
       "      <td>NaN</td>\n",
       "    </tr>\n",
       "    <tr>\n",
       "      <th>10</th>\n",
       "      <td>NaN</td>\n",
       "      <td>extraccion</td>\n",
       "      <td>2018-02-20</td>\n",
       "      <td>18:06</td>\n",
       "      <td>0.0</td>\n",
       "      <td>cta_dest</td>\n",
       "      <td>21234</td>\n",
       "    </tr>\n",
       "    <tr>\n",
       "      <th>11</th>\n",
       "      <td>12345</td>\n",
       "      <td>deposito</td>\n",
       "      <td>2019-10-10</td>\n",
       "      <td>16:20</td>\n",
       "      <td>560.0</td>\n",
       "      <td>cta_dest</td>\n",
       "      <td>31234</td>\n",
       "    </tr>\n",
       "  </tbody>\n",
       "</table>\n",
       "</div>"
      ],
      "text/plain": [
       "   nro_trx       tipo_trx       fecha   hora   monto   cta_dir cta_num\n",
       "0    12345        credito  2019-08-01  17:00  1300.0  cta_orig   12345\n",
       "1    21234         debito  2017-10-10  08:34  2300.0  cta_orig     NaN\n",
       "2    31234  transferencia  2018-02-20  12:23   250.0  cta_orig   31234\n",
       "3    41234       deposito  2019-10-10  10:21  5400.0  cta_orig   41234\n",
       "4      NaN     extraccion  2018-02-20  18:06     0.0  cta_orig   41235\n",
       "5    12345       deposito  2019-10-10  16:20   560.0  cta_orig   12345\n",
       "6    12345        credito  2019-08-01  17:00  1300.0  cta_dest   41234\n",
       "7    21234         debito  2017-10-10  08:34  2300.0  cta_dest   41235\n",
       "8    31234  transferencia  2018-02-20  12:23   250.0  cta_dest   12345\n",
       "9    41234       deposito  2019-10-10  10:21  5400.0  cta_dest     NaN\n",
       "10     NaN     extraccion  2018-02-20  18:06     0.0  cta_dest   21234\n",
       "11   12345       deposito  2019-10-10  16:20   560.0  cta_dest   31234"
      ]
     },
     "execution_count": 96,
     "metadata": {},
     "output_type": "execute_result"
    }
   ],
   "source": [
    "# sobre todas los nros de cuenta origen y destino\n",
    "df_ind = df.melt(id_vars=[\"nro_trx\", \"tipo_trx\", \"fecha\", \"hora\", \"monto\"], \n",
    "        var_name=\"cta_dir\", value_name=\"cta_num\")\n",
    "df_ind"
   ]
  },
  {
   "cell_type": "code",
   "execution_count": 97,
   "metadata": {},
   "outputs": [
    {
     "data": {
      "text/plain": [
       "12345    3\n",
       "41234    2\n",
       "41235    2\n",
       "31234    2\n",
       "21234    1\n",
       "Name: cta_num, dtype: int64"
      ]
     },
     "execution_count": 97,
     "metadata": {},
     "output_type": "execute_result"
    }
   ],
   "source": [
    "df_ind.cta_num.value_counts().sort_values(ascending=False)[:5]"
   ]
  },
  {
   "cell_type": "code",
   "execution_count": 107,
   "metadata": {},
   "outputs": [
    {
     "data": {
      "text/html": [
       "<div>\n",
       "<style scoped>\n",
       "    .dataframe tbody tr th:only-of-type {\n",
       "        vertical-align: middle;\n",
       "    }\n",
       "\n",
       "    .dataframe tbody tr th {\n",
       "        vertical-align: top;\n",
       "    }\n",
       "\n",
       "    .dataframe thead th {\n",
       "        text-align: right;\n",
       "    }\n",
       "</style>\n",
       "<table border=\"1\" class=\"dataframe\">\n",
       "  <thead>\n",
       "    <tr style=\"text-align: right;\">\n",
       "      <th></th>\n",
       "      <th>monto</th>\n",
       "    </tr>\n",
       "    <tr>\n",
       "      <th>cta_num</th>\n",
       "      <th></th>\n",
       "    </tr>\n",
       "  </thead>\n",
       "  <tbody>\n",
       "    <tr>\n",
       "      <th>41234</th>\n",
       "      <td>6700.0</td>\n",
       "    </tr>\n",
       "    <tr>\n",
       "      <th>41235</th>\n",
       "      <td>2300.0</td>\n",
       "    </tr>\n",
       "    <tr>\n",
       "      <th>12345</th>\n",
       "      <td>2110.0</td>\n",
       "    </tr>\n",
       "    <tr>\n",
       "      <th>31234</th>\n",
       "      <td>810.0</td>\n",
       "    </tr>\n",
       "    <tr>\n",
       "      <th>21234</th>\n",
       "      <td>0.0</td>\n",
       "    </tr>\n",
       "  </tbody>\n",
       "</table>\n",
       "</div>"
      ],
      "text/plain": [
       "          monto\n",
       "cta_num        \n",
       "41234    6700.0\n",
       "41235    2300.0\n",
       "12345    2110.0\n",
       "31234     810.0\n",
       "21234       0.0"
      ]
     },
     "execution_count": 107,
     "metadata": {},
     "output_type": "execute_result"
    }
   ],
   "source": [
    "# G) Indicar cuáles son las 5 cuentas con mayor monto involucrado\n",
    "df_ind.groupby('cta_num').agg({'monto':'sum'}).sort_values('monto', ascending=False)[:5]"
   ]
  },
  {
   "cell_type": "code",
   "execution_count": 121,
   "metadata": {},
   "outputs": [
    {
     "data": {
      "text/plain": [
       "31234    1\n",
       "41234    1\n",
       "12345    1\n",
       "Name: cta_num, dtype: int64"
      ]
     },
     "execution_count": 121,
     "metadata": {},
     "output_type": "execute_result"
    }
   ],
   "source": [
    "# H) Para el tipo de transacción con mayor cantidad de monto promedio, indicar cuales son\n",
    "# las 5 cuentas con más transacciones\n",
    "tipo_trx = df_trx_max_mean.tipo_trx.iloc[0]\n",
    "df_ind[df_ind.tipo_trx == tipo_trx].cta_num.value_counts().sort_values(ascending=False)[:5]"
   ]
  },
  {
   "cell_type": "code",
   "execution_count": null,
   "metadata": {},
   "outputs": [],
   "source": []
  }
 ],
 "metadata": {
  "kernelspec": {
   "display_name": "Python 3",
   "language": "python",
   "name": "python3"
  },
  "language_info": {
   "codemirror_mode": {
    "name": "ipython",
    "version": 3
   },
   "file_extension": ".py",
   "mimetype": "text/x-python",
   "name": "python",
   "nbconvert_exporter": "python",
   "pygments_lexer": "ipython3",
   "version": "3.7.3"
  }
 },
 "nbformat": 4,
 "nbformat_minor": 2
}
