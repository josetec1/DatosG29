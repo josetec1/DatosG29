{
 "cells": [
  {
   "cell_type": "markdown",
   "metadata": {},
   "source": [
    "## Guia de ejercicios Panda"
   ]
  },
  {
   "cell_type": "code",
   "execution_count": 1,
   "metadata": {},
   "outputs": [],
   "source": [
    "# magic function para hacer que los graficos de matplotlib se renderizen en el notebook.\n",
    "%matplotlib notebook\n",
    "\n",
    "import datetime as datetime\n",
    "import pandas as pd\n",
    "import numpy as np\n",
    "import matplotlib.pyplot as plt\n",
    "\n",
    "plt.style.use('default') # Make the graphs a bit prettier\n",
    "plt.rcParams['figure.figsize'] = (15, 5)\n"
   ]
  },
  {
   "cell_type": "code",
   "execution_count": 61,
   "metadata": {},
   "outputs": [],
   "source": [
    "notas_alumnos = {\n",
    "        'padron': ['12345', '21234', '31234', '41234', '41235', '12345'],\n",
    "        'materia': ['75.06 Organizacion de Datos', '75.06 Organizacion de Datos', '75.42 Taller de Programacion I', '75.07 Algoritmos y programacion III', '75.42 Taller de Programacion I', '75.42 Taller de Programacion I'],\n",
    "        'nota': [10, 6, 7, 4, 8, 5],\n",
    "        'fecha': ['2019-08-01', '2017-10-10', '2018-02-20', '2019-10-10', '2018-02-20', '2019-10-10']\n",
    "    \n",
    "}\n",
    "\n",
    "df_a = pd.DataFrame(notas_alumnos, columns = ['padron', 'materia', 'nota', 'fecha'])"
   ]
  },
  {
   "cell_type": "code",
   "execution_count": 62,
   "metadata": {},
   "outputs": [],
   "source": [
    "df_a.count()\n",
    "df_a['fecha'] = pd.to_datetime(df_a['fecha'])"
   ]
  },
  {
   "cell_type": "code",
   "execution_count": 76,
   "metadata": {},
   "outputs": [
    {
     "data": {
      "text/plain": [
       "sum    6.666667\n",
       "Name: nota, dtype: float64"
      ]
     },
     "execution_count": 76,
     "metadata": {},
     "output_type": "execute_result"
    }
   ],
   "source": [
    "# Ejercicio 1\n",
    "# Dado el registro de notas de los alumnos de la forma (padrón, materia, nota, fecha). Se pide\n",
    "# resolver utilizando Pandas:\n",
    "\n",
    "# A) Cuál es el promedio de notas\n",
    "count = df_a.shape[0]\n",
    "\n",
    "df_a.loc[:,\"nota\"].agg(['sum']) / count"
   ]
  },
  {
   "cell_type": "code",
   "execution_count": 64,
   "metadata": {},
   "outputs": [
    {
     "data": {
      "text/plain": [
       "6.666666666666667"
      ]
     },
     "execution_count": 64,
     "metadata": {},
     "output_type": "execute_result"
    }
   ],
   "source": [
    "# forma facil\n",
    "df_a.loc[:,\"nota\"].mean()"
   ]
  },
  {
   "cell_type": "code",
   "execution_count": 65,
   "metadata": {},
   "outputs": [
    {
     "data": {
      "text/plain": [
       "10"
      ]
     },
     "execution_count": 65,
     "metadata": {},
     "output_type": "execute_result"
    }
   ],
   "source": [
    "# B) Cuál es la nota más alta y la nota más baja registrada durante el año 2019.\n",
    "df_a[df_a.fecha.dt.year == 2019].loc[:,\"nota\"].max()"
   ]
  },
  {
   "cell_type": "code",
   "execution_count": 92,
   "metadata": {},
   "outputs": [
    {
     "data": {
      "text/plain": [
       "'12345'"
      ]
     },
     "execution_count": 92,
     "metadata": {},
     "output_type": "execute_result"
    }
   ],
   "source": [
    "# C) Cuál es el padrón con mayor cantidad de materias aprobadas durante el último cuatrimestre.\n",
    "df_2019 = df_a[df_a.fecha.dt.year == 2019]\n",
    "df_2C2019 = df_2019[df_2019.fecha.dt.month > 7]\n",
    "\n",
    "padron = df_2C2019.loc[df_2C2019.nota.idxmax()].padron\n",
    "padron"
   ]
  },
  {
   "cell_type": "code",
   "execution_count": 94,
   "metadata": {},
   "outputs": [
    {
     "data": {
      "text/plain": [
       "7.5"
      ]
     },
     "execution_count": 94,
     "metadata": {},
     "output_type": "execute_result"
    }
   ],
   "source": [
    "# D) Cuál es la nota promedio\n",
    "df_2C2019[df_2C2019.padron == padron].nota.mean()"
   ]
  },
  {
   "cell_type": "code",
   "execution_count": null,
   "metadata": {},
   "outputs": [],
   "source": [
    "# E) Cuál es la nota promedio por padrón.\n",
    "df_a.groupby('padron').agg({'nota' : 'mean'})"
   ]
  },
  {
   "cell_type": "code",
   "execution_count": null,
   "metadata": {},
   "outputs": [],
   "source": [
    "# Ejercicio 2\n",
    "#  Se tiene un registro de transacciones bancarias, de la forma (nro de transacción, tipo de\n",
    "# transacción, cuenta origen, cuenta destino, fecha, hora, monto). Se pide resolver en Pandas:\n"
   ]
  }
 ],
 "metadata": {
  "kernelspec": {
   "display_name": "Python 3",
   "language": "python",
   "name": "python3"
  },
  "language_info": {
   "codemirror_mode": {
    "name": "ipython",
    "version": 3
   },
   "file_extension": ".py",
   "mimetype": "text/x-python",
   "name": "python",
   "nbconvert_exporter": "python",
   "pygments_lexer": "ipython3",
   "version": "3.7.3"
  }
 },
 "nbformat": 4,
 "nbformat_minor": 2
}
