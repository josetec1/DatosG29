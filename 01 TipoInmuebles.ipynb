{
 "cells": [
  {
   "cell_type": "markdown",
   "metadata": {},
   "source": [
    "# Analisis exploratorio de datos"
   ]
  },
  {
   "cell_type": "markdown",
   "metadata": {},
   "source": [
    "### Indice\n",
    "1.\tCarga de información en un DataFrame\n",
    "2.\tAnalizando utilizacion de memoria del dataframe\n",
    "3.\tConversion de Datos y mejoras en uso de memoria\n",
    "4.\tVerificacion de Calidad de Datos\n",
    "5.\tAnalizando propiedades especificas del set de datos\n"
   ]
  },
  {
   "cell_type": "markdown",
   "metadata": {},
   "source": [
    "## 1) Carga de informacion en un DataFrame"
   ]
  },
  {
   "cell_type": "code",
   "execution_count": 3,
   "metadata": {},
   "outputs": [],
   "source": [
    "import pandas as pd\n",
    "df = pd.read_csv(\"datos/train.csv\", sep=\",\")\n",
    "pd.options.display.float_format = '{:20,.2f}'.format # suprimimos la notacion cientifica en los outputs"
   ]
  },
  {
   "cell_type": "code",
   "execution_count": 25,
   "metadata": {},
   "outputs": [],
   "source": [
    "import seaborn as sns\n",
    "import matplotlib.pyplot as plt\n",
    "import matplotlib as mpl\n",
    "import folium\n",
    "pd.set_option('display.max_columns', 100)\n",
    "pd.set_option('display.float_format', '{:.2f}'.format)\n",
    "pd.set_option('mode.chained_assignment', None)\n",
    "pd.options.display.float_format = '{:20,.2f}'.format\n",
    "\n",
    "\n",
    "%matplotlib inline\n",
    "\n",
    "import numpy as np"
   ]
  },
  {
   "cell_type": "code",
   "execution_count": null,
   "metadata": {},
   "outputs": [],
   "source": []
  },
  {
   "cell_type": "code",
   "execution_count": 5,
   "metadata": {},
   "outputs": [
    {
     "data": {
      "text/html": [
       "<div>\n",
       "<style scoped>\n",
       "    .dataframe tbody tr th:only-of-type {\n",
       "        vertical-align: middle;\n",
       "    }\n",
       "\n",
       "    .dataframe tbody tr th {\n",
       "        vertical-align: top;\n",
       "    }\n",
       "\n",
       "    .dataframe thead th {\n",
       "        text-align: right;\n",
       "    }\n",
       "</style>\n",
       "<table border=\"1\" class=\"dataframe\">\n",
       "  <thead>\n",
       "    <tr style=\"text-align: right;\">\n",
       "      <th></th>\n",
       "      <th>id</th>\n",
       "      <th>titulo</th>\n",
       "      <th>descripcion</th>\n",
       "      <th>tipodepropiedad</th>\n",
       "      <th>direccion</th>\n",
       "      <th>ciudad</th>\n",
       "      <th>provincia</th>\n",
       "      <th>antiguedad</th>\n",
       "      <th>habitaciones</th>\n",
       "      <th>garages</th>\n",
       "      <th>banos</th>\n",
       "      <th>metroscubiertos</th>\n",
       "      <th>metrostotales</th>\n",
       "      <th>idzona</th>\n",
       "      <th>lat</th>\n",
       "      <th>lng</th>\n",
       "      <th>fecha</th>\n",
       "      <th>gimnasio</th>\n",
       "      <th>usosmultiples</th>\n",
       "      <th>piscina</th>\n",
       "      <th>escuelascercanas</th>\n",
       "      <th>centroscomercialescercanos</th>\n",
       "      <th>precio</th>\n",
       "    </tr>\n",
       "  </thead>\n",
       "  <tbody>\n",
       "    <tr>\n",
       "      <th>2638</th>\n",
       "      <td>64295</td>\n",
       "      <td>preciosa casa con tejados de madera</td>\n",
       "      <td>&lt;p class=p1&gt;vendo casa con tejados de madera e...</td>\n",
       "      <td>Casa</td>\n",
       "      <td>Cluster 101010. Fraccionamiento Lomas de Angel...</td>\n",
       "      <td>San Andrés Cholula</td>\n",
       "      <td>Puebla</td>\n",
       "      <td>3.00</td>\n",
       "      <td>4.00</td>\n",
       "      <td>2.00</td>\n",
       "      <td>3.00</td>\n",
       "      <td>370.00</td>\n",
       "      <td>252.00</td>\n",
       "      <td>334,898.00</td>\n",
       "      <td>19.00</td>\n",
       "      <td>-98.26</td>\n",
       "      <td>2014-03-18 00:00:00</td>\n",
       "      <td>0.00</td>\n",
       "      <td>0.00</td>\n",
       "      <td>0.00</td>\n",
       "      <td>1.00</td>\n",
       "      <td>1.00</td>\n",
       "      <td>3,700,000.00</td>\n",
       "    </tr>\n",
       "    <tr>\n",
       "      <th>8359</th>\n",
       "      <td>139105</td>\n",
       "      <td>casa en venta - alcalá residencial</td>\n",
       "      <td>&lt;p&gt;descripción: preciosa casa al poniente de l...</td>\n",
       "      <td>Casa</td>\n",
       "      <td>NaN</td>\n",
       "      <td>Hermosillo</td>\n",
       "      <td>Sonora</td>\n",
       "      <td>0.00</td>\n",
       "      <td>3.00</td>\n",
       "      <td>0.00</td>\n",
       "      <td>2.00</td>\n",
       "      <td>275.00</td>\n",
       "      <td>263.00</td>\n",
       "      <td>94,417.00</td>\n",
       "      <td>nan</td>\n",
       "      <td>nan</td>\n",
       "      <td>2013-10-16 00:00:00</td>\n",
       "      <td>0.00</td>\n",
       "      <td>0.00</td>\n",
       "      <td>0.00</td>\n",
       "      <td>0.00</td>\n",
       "      <td>0.00</td>\n",
       "      <td>2,000,000.00</td>\n",
       "    </tr>\n",
       "    <tr>\n",
       "      <th>96013</th>\n",
       "      <td>293688</td>\n",
       "      <td>casa en venta, león, león de los aldama, guana...</td>\n",
       "      <td>rcv-0867    casa muy bonita en estado de conse...</td>\n",
       "      <td>Casa</td>\n",
       "      <td>NaN</td>\n",
       "      <td>León</td>\n",
       "      <td>Guanajuato</td>\n",
       "      <td>nan</td>\n",
       "      <td>2.00</td>\n",
       "      <td>2.00</td>\n",
       "      <td>3.00</td>\n",
       "      <td>112.00</td>\n",
       "      <td>90.00</td>\n",
       "      <td>33,790.00</td>\n",
       "      <td>21.16</td>\n",
       "      <td>-101.67</td>\n",
       "      <td>2016-06-11 00:00:00</td>\n",
       "      <td>0.00</td>\n",
       "      <td>0.00</td>\n",
       "      <td>0.00</td>\n",
       "      <td>0.00</td>\n",
       "      <td>0.00</td>\n",
       "      <td>800,000.00</td>\n",
       "    </tr>\n",
       "  </tbody>\n",
       "</table>\n",
       "</div>"
      ],
      "text/plain": [
       "           id                                             titulo  \\\n",
       "2638    64295                preciosa casa con tejados de madera   \n",
       "8359   139105                 casa en venta - alcalá residencial   \n",
       "96013  293688  casa en venta, león, león de los aldama, guana...   \n",
       "\n",
       "                                             descripcion tipodepropiedad  \\\n",
       "2638   <p class=p1>vendo casa con tejados de madera e...            Casa   \n",
       "8359   <p>descripción: preciosa casa al poniente de l...            Casa   \n",
       "96013  rcv-0867    casa muy bonita en estado de conse...            Casa   \n",
       "\n",
       "                                               direccion              ciudad  \\\n",
       "2638   Cluster 101010. Fraccionamiento Lomas de Angel...  San Andrés Cholula   \n",
       "8359                                                 NaN          Hermosillo   \n",
       "96013                                                NaN                León   \n",
       "\n",
       "        provincia           antiguedad         habitaciones  \\\n",
       "2638       Puebla                 3.00                 4.00   \n",
       "8359       Sonora                 0.00                 3.00   \n",
       "96013  Guanajuato                  nan                 2.00   \n",
       "\n",
       "                   garages                banos      metroscubiertos  \\\n",
       "2638                  2.00                 3.00               370.00   \n",
       "8359                  0.00                 2.00               275.00   \n",
       "96013                 2.00                 3.00               112.00   \n",
       "\n",
       "             metrostotales               idzona                  lat  \\\n",
       "2638                252.00           334,898.00                19.00   \n",
       "8359                263.00            94,417.00                  nan   \n",
       "96013                90.00            33,790.00                21.16   \n",
       "\n",
       "                       lng                fecha             gimnasio  \\\n",
       "2638                -98.26  2014-03-18 00:00:00                 0.00   \n",
       "8359                   nan  2013-10-16 00:00:00                 0.00   \n",
       "96013              -101.67  2016-06-11 00:00:00                 0.00   \n",
       "\n",
       "             usosmultiples              piscina     escuelascercanas  \\\n",
       "2638                  0.00                 0.00                 1.00   \n",
       "8359                  0.00                 0.00                 0.00   \n",
       "96013                 0.00                 0.00                 0.00   \n",
       "\n",
       "       centroscomercialescercanos               precio  \n",
       "2638                         1.00         3,700,000.00  \n",
       "8359                         0.00         2,000,000.00  \n",
       "96013                        0.00           800,000.00  "
      ]
     },
     "execution_count": 5,
     "metadata": {},
     "output_type": "execute_result"
    }
   ],
   "source": [
    "df.sample(3)"
   ]
  },
  {
   "cell_type": "code",
   "execution_count": 4,
   "metadata": {},
   "outputs": [
    {
     "data": {
      "text/plain": [
       "id                                                                       254099\n",
       "titulo                                                        depto. tipo a-402\n",
       "descripcion                   depto. interior de 80.15m2, consta de sala com...\n",
       "tipodepropiedad                                                     Apartamento\n",
       "direccion                                       Avenida Division del Norte 2005\n",
       "ciudad                                                            Benito Juárez\n",
       "provincia                                                      Distrito Federal\n",
       "antiguedad                                                                  NaN\n",
       "habitaciones                                                               2.00\n",
       "garages                                                                    1.00\n",
       "banos                                                                      2.00\n",
       "metroscubiertos                                                           80.00\n",
       "metrostotales                                                             80.00\n",
       "idzona                                                                23,533.00\n",
       "lat                                                                         NaN\n",
       "lng                                                                         NaN\n",
       "fecha                                                       2015-08-23 00:00:00\n",
       "gimnasio                                                                   0.00\n",
       "usosmultiples                                                              0.00\n",
       "piscina                                                                    0.00\n",
       "escuelascercanas                                                           0.00\n",
       "centroscomercialescercanos                                                 0.00\n",
       "precio                                                             2,273,000.00\n",
       "Name: 0, dtype: object"
      ]
     },
     "execution_count": 4,
     "metadata": {},
     "output_type": "execute_result"
    }
   ],
   "source": [
    "df.loc[0]"
   ]
  },
  {
   "cell_type": "code",
   "execution_count": 5,
   "metadata": {},
   "outputs": [
    {
     "name": "stdout",
     "output_type": "stream",
     "text": [
      "(240000, 23)\n"
     ]
    },
    {
     "data": {
      "text/plain": [
       "5520000"
      ]
     },
     "execution_count": 5,
     "metadata": {},
     "output_type": "execute_result"
    }
   ],
   "source": [
    "# dimensiones del DF\n",
    "print(df.shape)\n",
    "df.size # rows x col"
   ]
  },
  {
   "cell_type": "markdown",
   "metadata": {},
   "source": [
    "### 2 Analizando utilizacion de memoria del dataframe"
   ]
  },
  {
   "cell_type": "code",
   "execution_count": 6,
   "metadata": {},
   "outputs": [
    {
     "name": "stdout",
     "output_type": "stream",
     "text": [
      "<class 'pandas.core.frame.DataFrame'>\n",
      "RangeIndex: 240000 entries, 0 to 239999\n",
      "Data columns (total 23 columns):\n",
      "id                            240000 non-null int64\n",
      "titulo                        234613 non-null object\n",
      "descripcion                   238381 non-null object\n",
      "tipodepropiedad               239954 non-null object\n",
      "direccion                     186928 non-null object\n",
      "ciudad                        239628 non-null object\n",
      "provincia                     239845 non-null object\n",
      "antiguedad                    196445 non-null float64\n",
      "habitaciones                  217529 non-null float64\n",
      "garages                       202235 non-null float64\n",
      "banos                         213779 non-null float64\n",
      "metroscubiertos               222600 non-null float64\n",
      "metrostotales                 188533 non-null float64\n",
      "idzona                        211379 non-null float64\n",
      "lat                           116512 non-null float64\n",
      "lng                           116512 non-null float64\n",
      "fecha                         240000 non-null object\n",
      "gimnasio                      240000 non-null float64\n",
      "usosmultiples                 240000 non-null float64\n",
      "piscina                       240000 non-null float64\n",
      "escuelascercanas              240000 non-null float64\n",
      "centroscomercialescercanos    240000 non-null float64\n",
      "precio                        240000 non-null float64\n",
      "dtypes: float64(15), int64(1), object(7)\n",
      "memory usage: 42.1+ MB\n"
     ]
    }
   ],
   "source": [
    "# veo info general\n",
    "df.info()"
   ]
  },
  {
   "cell_type": "code",
   "execution_count": 7,
   "metadata": {},
   "outputs": [
    {
     "data": {
      "text/plain": [
       "id                            240000\n",
       "titulo                        234613\n",
       "descripcion                   238381\n",
       "tipodepropiedad               239954\n",
       "direccion                     186928\n",
       "ciudad                        239628\n",
       "provincia                     239845\n",
       "antiguedad                    196445\n",
       "habitaciones                  217529\n",
       "garages                       202235\n",
       "banos                         213779\n",
       "metroscubiertos               222600\n",
       "metrostotales                 188533\n",
       "idzona                        211379\n",
       "lat                           116512\n",
       "lng                           116512\n",
       "fecha                         240000\n",
       "gimnasio                      240000\n",
       "usosmultiples                 240000\n",
       "piscina                       240000\n",
       "escuelascercanas              240000\n",
       "centroscomercialescercanos    240000\n",
       "precio                        240000\n",
       "dtype: int64"
      ]
     },
     "execution_count": 7,
     "metadata": {},
     "output_type": "execute_result"
    }
   ],
   "source": [
    "# cantidad de elementos elementos no nulos en el data frame\n",
    "df.count()"
   ]
  },
  {
   "cell_type": "markdown",
   "metadata": {},
   "source": [
    "### 3.\tConversion de Datos y mejoras en uso de memoria"
   ]
  },
  {
   "cell_type": "markdown",
   "metadata": {},
   "source": [
    "#### provincia"
   ]
  },
  {
   "cell_type": "code",
   "execution_count": 8,
   "metadata": {},
   "outputs": [
    {
     "data": {
      "text/plain": [
       "Index             80\n",
       "provincia    1920000\n",
       "dtype: int64"
      ]
     },
     "execution_count": 8,
     "metadata": {},
     "output_type": "execute_result"
    }
   ],
   "source": [
    "df.loc[:,['provincia']].memory_usage()"
   ]
  },
  {
   "cell_type": "code",
   "execution_count": 9,
   "metadata": {},
   "outputs": [
    {
     "data": {
      "text/plain": [
       "33"
      ]
     },
     "execution_count": 9,
     "metadata": {},
     "output_type": "execute_result"
    }
   ],
   "source": [
    "df['provincia'].unique().size"
   ]
  },
  {
   "cell_type": "code",
   "execution_count": 10,
   "metadata": {},
   "outputs": [
    {
     "data": {
      "text/plain": [
       "Distrito Federal         58790\n",
       "Edo. de México           41607\n",
       "Jalisco                  21238\n",
       "Querétaro                16988\n",
       "Nuevo León               15324\n",
       "Puebla                   10421\n",
       "San luis Potosí           8447\n",
       "Yucatán                   7928\n",
       "Morelos                   7337\n",
       "Veracruz                  5762\n",
       "Quintana Roo              4756\n",
       "Chihuahua                 4590\n",
       "Coahuila                  3695\n",
       "Baja California Norte     3220\n",
       "Sonora                    2988\n",
       "Guanajuato                2860\n",
       "Guerrero                  2678\n",
       "Hidalgo                   2521\n",
       "Michoacán                 2471\n",
       "Tamaulipas                2303\n",
       "Durango                   2275\n",
       "Sinaloa                   1806\n",
       "Aguascalientes            1753\n",
       "Baja California Sur       1700\n",
       "Nayarit                   1352\n",
       "Chiapas                   1126\n",
       "Colima                    1008\n",
       "Tabasco                    994\n",
       "Tlaxcala                   839\n",
       "Oaxaca                     711\n",
       "Campeche                   263\n",
       "Zacatecas                   94\n",
       "Name: provincia, dtype: int64"
      ]
     },
     "execution_count": 10,
     "metadata": {},
     "output_type": "execute_result"
    }
   ],
   "source": [
    "df['provincia'].value_counts()"
   ]
  },
  {
   "cell_type": "code",
   "execution_count": 11,
   "metadata": {},
   "outputs": [],
   "source": [
    "# creo una nueva serie en el df de tipo category (enum)\n",
    "df['provincia'] = df['provincia'].astype('category')"
   ]
  },
  {
   "cell_type": "code",
   "execution_count": 12,
   "metadata": {},
   "outputs": [
    {
     "data": {
      "text/plain": [
       "241616"
      ]
     },
     "execution_count": 12,
     "metadata": {},
     "output_type": "execute_result"
    }
   ],
   "source": [
    "df['provincia'].memory_usage()"
   ]
  },
  {
   "cell_type": "code",
   "execution_count": 13,
   "metadata": {},
   "outputs": [
    {
     "data": {
      "text/plain": [
       "CategoricalDtype(categories=['Aguascalientes', 'Baja California Norte',\n",
       "                  'Baja California Sur', 'Campeche', 'Chiapas', 'Chihuahua',\n",
       "                  'Coahuila', 'Colima', 'Distrito Federal', 'Durango',\n",
       "                  'Edo. de México', 'Guanajuato', 'Guerrero', 'Hidalgo',\n",
       "                  'Jalisco', 'Michoacán', 'Morelos', 'Nayarit', 'Nuevo León',\n",
       "                  'Oaxaca', 'Puebla', 'Querétaro', 'Quintana Roo',\n",
       "                  'San luis Potosí', 'Sinaloa', 'Sonora', 'Tabasco',\n",
       "                  'Tamaulipas', 'Tlaxcala', 'Veracruz', 'Yucatán',\n",
       "                  'Zacatecas'],\n",
       "                 ordered=False)"
      ]
     },
     "execution_count": 13,
     "metadata": {},
     "output_type": "execute_result"
    }
   ],
   "source": [
    "df['provincia'].dtype"
   ]
  },
  {
   "cell_type": "markdown",
   "metadata": {},
   "source": [
    "#### Fechas"
   ]
  },
  {
   "cell_type": "code",
   "execution_count": 14,
   "metadata": {},
   "outputs": [
    {
     "data": {
      "text/plain": [
       "0    2015-08-23 00:00:00\n",
       "Name: fecha, dtype: object"
      ]
     },
     "execution_count": 14,
     "metadata": {},
     "output_type": "execute_result"
    }
   ],
   "source": [
    "df.loc[0:0 , 'fecha']"
   ]
  },
  {
   "cell_type": "code",
   "execution_count": 15,
   "metadata": {},
   "outputs": [],
   "source": [
    "# Seteamos la fecha al tipo datetime\n",
    "df['fecha'] = pd.to_datetime(df['fecha'])\n",
    "# generamos una nueva columna obteniendo el año y mes\n",
    "df['year'] = df['fecha'].dt.year\n",
    "df['month'] = df['fecha'].dt.month"
   ]
  },
  {
   "cell_type": "code",
   "execution_count": 16,
   "metadata": {},
   "outputs": [
    {
     "data": {
      "text/plain": [
       "id                                     int64\n",
       "titulo                                object\n",
       "descripcion                           object\n",
       "tipodepropiedad                       object\n",
       "direccion                             object\n",
       "ciudad                                object\n",
       "provincia                           category\n",
       "antiguedad                           float64\n",
       "habitaciones                         float64\n",
       "garages                              float64\n",
       "banos                                float64\n",
       "metroscubiertos                      float64\n",
       "metrostotales                        float64\n",
       "idzona                               float64\n",
       "lat                                  float64\n",
       "lng                                  float64\n",
       "fecha                         datetime64[ns]\n",
       "gimnasio                             float64\n",
       "usosmultiples                        float64\n",
       "piscina                              float64\n",
       "escuelascercanas                     float64\n",
       "centroscomercialescercanos           float64\n",
       "precio                               float64\n",
       "year                                   int64\n",
       "month                                  int64\n",
       "dtype: object"
      ]
     },
     "execution_count": 16,
     "metadata": {},
     "output_type": "execute_result"
    }
   ],
   "source": [
    "df.dtypes"
   ]
  },
  {
   "cell_type": "markdown",
   "metadata": {},
   "source": [
    "#### tipodepropiedad"
   ]
  },
  {
   "cell_type": "code",
   "execution_count": 17,
   "metadata": {},
   "outputs": [
    {
     "data": {
      "text/plain": [
       "25"
      ]
     },
     "execution_count": 17,
     "metadata": {},
     "output_type": "execute_result"
    }
   ],
   "source": [
    "df['tipodepropiedad'].unique().size"
   ]
  },
  {
   "cell_type": "code",
   "execution_count": 18,
   "metadata": {},
   "outputs": [
    {
     "data": {
      "text/plain": [
       "Casa                             141717\n",
       "Apartamento                       57341\n",
       "Casa en condominio                19297\n",
       "Terreno                            9945\n",
       "Local Comercial                    3055\n",
       "Oficina comercial                  1741\n",
       "Bodega comercial                   1406\n",
       "Edificio                           1396\n",
       "Terreno comercial                  1326\n",
       "Casa uso de suelo                   708\n",
       "Quinta Vacacional                   395\n",
       "Duplex                              343\n",
       "Villa                               340\n",
       "Inmuebles productivos urbanos       200\n",
       "Rancho                              170\n",
       "Local en centro comercial           165\n",
       "Departamento Compartido             141\n",
       "Otros                               134\n",
       "Nave industrial                      76\n",
       "Terreno industrial                   31\n",
       "Huerta                               20\n",
       "Lote                                  5\n",
       "Hospedaje                             1\n",
       "Garage                                1\n",
       "Name: tipodepropiedad, dtype: int64"
      ]
     },
     "execution_count": 18,
     "metadata": {},
     "output_type": "execute_result"
    }
   ],
   "source": [
    "df['tipodepropiedad'].value_counts()"
   ]
  },
  {
   "cell_type": "code",
   "execution_count": 19,
   "metadata": {},
   "outputs": [],
   "source": [
    "df['tipodepropiedad'] = df['tipodepropiedad'].astype('category')"
   ]
  },
  {
   "cell_type": "code",
   "execution_count": 20,
   "metadata": {},
   "outputs": [
    {
     "data": {
      "text/plain": [
       "CategoricalDtype(categories=['Apartamento', 'Bodega comercial', 'Casa',\n",
       "                  'Casa en condominio', 'Casa uso de suelo',\n",
       "                  'Departamento Compartido', 'Duplex', 'Edificio', 'Garage',\n",
       "                  'Hospedaje', 'Huerta', 'Inmuebles productivos urbanos',\n",
       "                  'Local Comercial', 'Local en centro comercial', 'Lote',\n",
       "                  'Nave industrial', 'Oficina comercial', 'Otros',\n",
       "                  'Quinta Vacacional', 'Rancho', 'Terreno',\n",
       "                  'Terreno comercial', 'Terreno industrial', 'Villa'],\n",
       "                 ordered=False)"
      ]
     },
     "execution_count": 20,
     "metadata": {},
     "output_type": "execute_result"
    }
   ],
   "source": [
    "df['tipodepropiedad'].dtype"
   ]
  },
  {
   "cell_type": "markdown",
   "metadata": {},
   "source": [
    "#### ciudad"
   ]
  },
  {
   "cell_type": "code",
   "execution_count": 21,
   "metadata": {},
   "outputs": [
    {
     "data": {
      "text/plain": [
       "876"
      ]
     },
     "execution_count": 21,
     "metadata": {},
     "output_type": "execute_result"
    }
   ],
   "source": [
    "df['ciudad'].unique().size"
   ]
  },
  {
   "cell_type": "code",
   "execution_count": 22,
   "metadata": {},
   "outputs": [
    {
     "data": {
      "text/plain": [
       "Querétaro                       12646\n",
       "Benito Juárez                   11014\n",
       "Zapopan                         10360\n",
       "San Luis Potosí                  7925\n",
       "Mérida                           7162\n",
       "Monterrey                        6946\n",
       "Alvaro Obregón                   6633\n",
       "Cuauhtémoc                       6614\n",
       "Naucalpan de Juárez              6554\n",
       "Miguel Hidalgo                   5795\n",
       "Atizapán de Zaragoza             5783\n",
       "Tlalpan                          5721\n",
       "Huixquilucan                     5718\n",
       "Coyoacán                         5293\n",
       "Puebla                           4636\n",
       "Guadalajara                      4006\n",
       "San Andrés Cholula               3805\n",
       "Cancún                           3779\n",
       "Cuernavaca                       3775\n",
       "Chihuahua                        3757\n",
       "Tlalnepantla de Baz              3588\n",
       "Cuautitlán Izcalli               3408\n",
       "Tlajomulco de Zúñiga             3254\n",
       "Gustavo A. Madero                3141\n",
       "Iztapalapa                       3093\n",
       "Cuajimalpa de Morelos            3020\n",
       "Tijuana                          2863\n",
       "Hermosillo                       2590\n",
       "Acapulco de Juárez               2454\n",
       "Ecatepec de Morelos              2159\n",
       "                                ...  \n",
       "Salinas                             1\n",
       "Atoyac de Alvarez                   1\n",
       "Teabo                               1\n",
       "Abalá                               1\n",
       "Santiago Suchilquitongo             1\n",
       "Villaflores                         1\n",
       "Agua Dulce                          1\n",
       "Ojinaga                             1\n",
       "Escuinapa                           1\n",
       "Xicohtzinco                         1\n",
       "Jalpan de Serra                     1\n",
       "Axapusco                            1\n",
       "San Pedro                           1\n",
       "CopAndaro                           1\n",
       "Temax                               1\n",
       "Chavinda                            1\n",
       "Asunción Cacalotepec                1\n",
       "Calcahualco                         1\n",
       "Cacalchén                           1\n",
       "Zimatlán de Alvarez                 1\n",
       "Mulegé                              1\n",
       "Nahuatzen                           1\n",
       "ácatlán                             1\n",
       "Ixtaczoquitlán                      1\n",
       "Huajicori                           1\n",
       "Chapantongo                         1\n",
       "Buctzotz                            1\n",
       "Villaldama                          1\n",
       "San Lucas                           1\n",
       "Sanctórum de Lázaro Cárdenas        1\n",
       "Name: ciudad, Length: 875, dtype: int64"
      ]
     },
     "execution_count": 22,
     "metadata": {},
     "output_type": "execute_result"
    }
   ],
   "source": [
    "df['ciudad'].value_counts()"
   ]
  },
  {
   "cell_type": "code",
   "execution_count": 23,
   "metadata": {},
   "outputs": [],
   "source": [
    "df['ciudad'] = df['ciudad'].astype('category')"
   ]
  },
  {
   "cell_type": "code",
   "execution_count": 24,
   "metadata": {},
   "outputs": [
    {
     "data": {
      "text/plain": [
       "CategoricalDtype(categories=['Abalá', 'Abasolo', 'Abejones', 'Acajete', 'Acambay',\n",
       "                  'Acaponeta', 'Acapulco de Juárez', 'Acateno', 'Acatic',\n",
       "                  'Acatzingo',\n",
       "                  ...\n",
       "                  'Zitácuaro', 'Zumpahuacán', 'Zumpango', 'otra', 'ácatlán',\n",
       "                  'ácatlán de Juárez', 'ácaxochitlán', 'ácámbaro',\n",
       "                  'áutlán de Navarro', 'áyotlán'],\n",
       "                 ordered=False)"
      ]
     },
     "execution_count": 24,
     "metadata": {},
     "output_type": "execute_result"
    }
   ],
   "source": [
    "df['ciudad'].dtype"
   ]
  },
  {
   "cell_type": "code",
   "execution_count": 25,
   "metadata": {},
   "outputs": [
    {
     "data": {
      "text/plain": [
       "id                                     int64\n",
       "titulo                                object\n",
       "descripcion                           object\n",
       "tipodepropiedad                     category\n",
       "direccion                             object\n",
       "ciudad                              category\n",
       "provincia                           category\n",
       "antiguedad                           float64\n",
       "habitaciones                         float64\n",
       "garages                              float64\n",
       "banos                                float64\n",
       "metroscubiertos                      float64\n",
       "metrostotales                        float64\n",
       "idzona                               float64\n",
       "lat                                  float64\n",
       "lng                                  float64\n",
       "fecha                         datetime64[ns]\n",
       "gimnasio                             float64\n",
       "usosmultiples                        float64\n",
       "piscina                              float64\n",
       "escuelascercanas                     float64\n",
       "centroscomercialescercanos           float64\n",
       "precio                               float64\n",
       "year                                   int64\n",
       "month                                  int64\n",
       "dtype: object"
      ]
     },
     "execution_count": 25,
     "metadata": {},
     "output_type": "execute_result"
    }
   ],
   "source": [
    "df.dtypes"
   ]
  },
  {
   "cell_type": "markdown",
   "metadata": {},
   "source": [
    "\n",
    "## 4.\tVerificacion de Calidad de Datos"
   ]
  },
  {
   "cell_type": "code",
   "execution_count": 26,
   "metadata": {},
   "outputs": [
    {
     "data": {
      "text/html": [
       "<div>\n",
       "<style scoped>\n",
       "    .dataframe tbody tr th:only-of-type {\n",
       "        vertical-align: middle;\n",
       "    }\n",
       "\n",
       "    .dataframe tbody tr th {\n",
       "        vertical-align: top;\n",
       "    }\n",
       "\n",
       "    .dataframe thead th {\n",
       "        text-align: right;\n",
       "    }\n",
       "</style>\n",
       "<table border=\"1\" class=\"dataframe\">\n",
       "  <thead>\n",
       "    <tr style=\"text-align: right;\">\n",
       "      <th></th>\n",
       "      <th>id</th>\n",
       "      <th>antiguedad</th>\n",
       "      <th>habitaciones</th>\n",
       "      <th>garages</th>\n",
       "      <th>banos</th>\n",
       "      <th>metroscubiertos</th>\n",
       "      <th>metrostotales</th>\n",
       "      <th>idzona</th>\n",
       "      <th>lat</th>\n",
       "      <th>lng</th>\n",
       "      <th>gimnasio</th>\n",
       "      <th>usosmultiples</th>\n",
       "      <th>piscina</th>\n",
       "      <th>escuelascercanas</th>\n",
       "      <th>centroscomercialescercanos</th>\n",
       "      <th>precio</th>\n",
       "      <th>year</th>\n",
       "      <th>month</th>\n",
       "    </tr>\n",
       "  </thead>\n",
       "  <tbody>\n",
       "    <tr>\n",
       "      <th>count</th>\n",
       "      <td>240,000.00</td>\n",
       "      <td>196,445.00</td>\n",
       "      <td>217,529.00</td>\n",
       "      <td>202,235.00</td>\n",
       "      <td>213,779.00</td>\n",
       "      <td>222,600.00</td>\n",
       "      <td>188,533.00</td>\n",
       "      <td>211,379.00</td>\n",
       "      <td>116,512.00</td>\n",
       "      <td>116,512.00</td>\n",
       "      <td>240,000.00</td>\n",
       "      <td>240,000.00</td>\n",
       "      <td>240,000.00</td>\n",
       "      <td>240,000.00</td>\n",
       "      <td>240,000.00</td>\n",
       "      <td>240,000.00</td>\n",
       "      <td>240,000.00</td>\n",
       "      <td>240,000.00</td>\n",
       "    </tr>\n",
       "    <tr>\n",
       "      <th>mean</th>\n",
       "      <td>149,969.38</td>\n",
       "      <td>8.12</td>\n",
       "      <td>2.90</td>\n",
       "      <td>1.55</td>\n",
       "      <td>2.13</td>\n",
       "      <td>174.02</td>\n",
       "      <td>176.77</td>\n",
       "      <td>2,423,467.82</td>\n",
       "      <td>20.70</td>\n",
       "      <td>-99.51</td>\n",
       "      <td>0.06</td>\n",
       "      <td>0.06</td>\n",
       "      <td>0.09</td>\n",
       "      <td>0.44</td>\n",
       "      <td>0.40</td>\n",
       "      <td>2,530,838.35</td>\n",
       "      <td>2,014.68</td>\n",
       "      <td>7.44</td>\n",
       "    </tr>\n",
       "    <tr>\n",
       "      <th>std</th>\n",
       "      <td>86,634.58</td>\n",
       "      <td>9.55</td>\n",
       "      <td>0.90</td>\n",
       "      <td>0.85</td>\n",
       "      <td>0.91</td>\n",
       "      <td>98.15</td>\n",
       "      <td>94.43</td>\n",
       "      <td>10,567,938.36</td>\n",
       "      <td>3.14</td>\n",
       "      <td>9.74</td>\n",
       "      <td>0.24</td>\n",
       "      <td>0.23</td>\n",
       "      <td>0.28</td>\n",
       "      <td>0.50</td>\n",
       "      <td>0.49</td>\n",
       "      <td>2,152,551.80</td>\n",
       "      <td>1.36</td>\n",
       "      <td>3.56</td>\n",
       "    </tr>\n",
       "    <tr>\n",
       "      <th>min</th>\n",
       "      <td>1.00</td>\n",
       "      <td>0.00</td>\n",
       "      <td>1.00</td>\n",
       "      <td>0.00</td>\n",
       "      <td>1.00</td>\n",
       "      <td>15.00</td>\n",
       "      <td>15.00</td>\n",
       "      <td>22.00</td>\n",
       "      <td>-100.89</td>\n",
       "      <td>-125.86</td>\n",
       "      <td>0.00</td>\n",
       "      <td>0.00</td>\n",
       "      <td>0.00</td>\n",
       "      <td>0.00</td>\n",
       "      <td>0.00</td>\n",
       "      <td>310,000.00</td>\n",
       "      <td>2,012.00</td>\n",
       "      <td>1.00</td>\n",
       "    </tr>\n",
       "    <tr>\n",
       "      <th>25%</th>\n",
       "      <td>74,930.75</td>\n",
       "      <td>0.00</td>\n",
       "      <td>2.00</td>\n",
       "      <td>1.00</td>\n",
       "      <td>1.00</td>\n",
       "      <td>90.00</td>\n",
       "      <td>102.00</td>\n",
       "      <td>24,890.00</td>\n",
       "      <td>19.36</td>\n",
       "      <td>-100.98</td>\n",
       "      <td>0.00</td>\n",
       "      <td>0.00</td>\n",
       "      <td>0.00</td>\n",
       "      <td>0.00</td>\n",
       "      <td>0.00</td>\n",
       "      <td>952,772.50</td>\n",
       "      <td>2,014.00</td>\n",
       "      <td>4.00</td>\n",
       "    </tr>\n",
       "    <tr>\n",
       "      <th>50%</th>\n",
       "      <td>149,875.50</td>\n",
       "      <td>5.00</td>\n",
       "      <td>3.00</td>\n",
       "      <td>2.00</td>\n",
       "      <td>2.00</td>\n",
       "      <td>153.00</td>\n",
       "      <td>155.00</td>\n",
       "      <td>56,383.00</td>\n",
       "      <td>19.54</td>\n",
       "      <td>-99.24</td>\n",
       "      <td>0.00</td>\n",
       "      <td>0.00</td>\n",
       "      <td>0.00</td>\n",
       "      <td>0.00</td>\n",
       "      <td>0.00</td>\n",
       "      <td>1,850,000.00</td>\n",
       "      <td>2,015.00</td>\n",
       "      <td>8.00</td>\n",
       "    </tr>\n",
       "    <tr>\n",
       "      <th>75%</th>\n",
       "      <td>225,016.50</td>\n",
       "      <td>10.00</td>\n",
       "      <td>3.00</td>\n",
       "      <td>2.00</td>\n",
       "      <td>3.00</td>\n",
       "      <td>240.00</td>\n",
       "      <td>238.00</td>\n",
       "      <td>87,838.00</td>\n",
       "      <td>20.74</td>\n",
       "      <td>-99.13</td>\n",
       "      <td>0.00</td>\n",
       "      <td>0.00</td>\n",
       "      <td>0.00</td>\n",
       "      <td>1.00</td>\n",
       "      <td>1.00</td>\n",
       "      <td>3,390,000.00</td>\n",
       "      <td>2,016.00</td>\n",
       "      <td>11.00</td>\n",
       "    </tr>\n",
       "    <tr>\n",
       "      <th>max</th>\n",
       "      <td>299,999.00</td>\n",
       "      <td>80.00</td>\n",
       "      <td>10.00</td>\n",
       "      <td>3.00</td>\n",
       "      <td>4.00</td>\n",
       "      <td>439.00</td>\n",
       "      <td>439.00</td>\n",
       "      <td>50,003,999.00</td>\n",
       "      <td>83.03</td>\n",
       "      <td>121.04</td>\n",
       "      <td>1.00</td>\n",
       "      <td>1.00</td>\n",
       "      <td>1.00</td>\n",
       "      <td>1.00</td>\n",
       "      <td>1.00</td>\n",
       "      <td>12,525,000.00</td>\n",
       "      <td>2,016.00</td>\n",
       "      <td>12.00</td>\n",
       "    </tr>\n",
       "  </tbody>\n",
       "</table>\n",
       "</div>"
      ],
      "text/plain": [
       "                        id           antiguedad         habitaciones  \\\n",
       "count           240,000.00           196,445.00           217,529.00   \n",
       "mean            149,969.38                 8.12                 2.90   \n",
       "std              86,634.58                 9.55                 0.90   \n",
       "min                   1.00                 0.00                 1.00   \n",
       "25%              74,930.75                 0.00                 2.00   \n",
       "50%             149,875.50                 5.00                 3.00   \n",
       "75%             225,016.50                10.00                 3.00   \n",
       "max             299,999.00                80.00                10.00   \n",
       "\n",
       "                   garages                banos      metroscubiertos  \\\n",
       "count           202,235.00           213,779.00           222,600.00   \n",
       "mean                  1.55                 2.13               174.02   \n",
       "std                   0.85                 0.91                98.15   \n",
       "min                   0.00                 1.00                15.00   \n",
       "25%                   1.00                 1.00                90.00   \n",
       "50%                   2.00                 2.00               153.00   \n",
       "75%                   2.00                 3.00               240.00   \n",
       "max                   3.00                 4.00               439.00   \n",
       "\n",
       "             metrostotales               idzona                  lat  \\\n",
       "count           188,533.00           211,379.00           116,512.00   \n",
       "mean                176.77         2,423,467.82                20.70   \n",
       "std                  94.43        10,567,938.36                 3.14   \n",
       "min                  15.00                22.00              -100.89   \n",
       "25%                 102.00            24,890.00                19.36   \n",
       "50%                 155.00            56,383.00                19.54   \n",
       "75%                 238.00            87,838.00                20.74   \n",
       "max                 439.00        50,003,999.00                83.03   \n",
       "\n",
       "                       lng             gimnasio        usosmultiples  \\\n",
       "count           116,512.00           240,000.00           240,000.00   \n",
       "mean                -99.51                 0.06                 0.06   \n",
       "std                   9.74                 0.24                 0.23   \n",
       "min                -125.86                 0.00                 0.00   \n",
       "25%                -100.98                 0.00                 0.00   \n",
       "50%                 -99.24                 0.00                 0.00   \n",
       "75%                 -99.13                 0.00                 0.00   \n",
       "max                 121.04                 1.00                 1.00   \n",
       "\n",
       "                   piscina     escuelascercanas  centroscomercialescercanos  \\\n",
       "count           240,000.00           240,000.00                  240,000.00   \n",
       "mean                  0.09                 0.44                        0.40   \n",
       "std                   0.28                 0.50                        0.49   \n",
       "min                   0.00                 0.00                        0.00   \n",
       "25%                   0.00                 0.00                        0.00   \n",
       "50%                   0.00                 0.00                        0.00   \n",
       "75%                   0.00                 1.00                        1.00   \n",
       "max                   1.00                 1.00                        1.00   \n",
       "\n",
       "                    precio                 year                month  \n",
       "count           240,000.00           240,000.00           240,000.00  \n",
       "mean          2,530,838.35             2,014.68                 7.44  \n",
       "std           2,152,551.80                 1.36                 3.56  \n",
       "min             310,000.00             2,012.00                 1.00  \n",
       "25%             952,772.50             2,014.00                 4.00  \n",
       "50%           1,850,000.00             2,015.00                 8.00  \n",
       "75%           3,390,000.00             2,016.00                11.00  \n",
       "max          12,525,000.00             2,016.00                12.00  "
      ]
     },
     "execution_count": 26,
     "metadata": {},
     "output_type": "execute_result"
    }
   ],
   "source": [
    "# metricas generales \n",
    "df.describe()"
   ]
  },
  {
   "cell_type": "code",
   "execution_count": 27,
   "metadata": {},
   "outputs": [
    {
     "data": {
      "text/plain": [
       "id                            False\n",
       "titulo                         True\n",
       "descripcion                    True\n",
       "tipodepropiedad                True\n",
       "direccion                      True\n",
       "ciudad                         True\n",
       "provincia                      True\n",
       "antiguedad                     True\n",
       "habitaciones                   True\n",
       "garages                        True\n",
       "banos                          True\n",
       "metroscubiertos                True\n",
       "metrostotales                  True\n",
       "idzona                         True\n",
       "lat                            True\n",
       "lng                            True\n",
       "fecha                         False\n",
       "gimnasio                      False\n",
       "usosmultiples                 False\n",
       "piscina                       False\n",
       "escuelascercanas              False\n",
       "centroscomercialescercanos    False\n",
       "precio                        False\n",
       "year                          False\n",
       "month                         False\n",
       "dtype: bool"
      ]
     },
     "execution_count": 27,
     "metadata": {},
     "output_type": "execute_result"
    }
   ],
   "source": [
    "# ver los nulos si existen\n",
    "df.isnull().any()"
   ]
  },
  {
   "cell_type": "code",
   "execution_count": 28,
   "metadata": {},
   "outputs": [
    {
     "data": {
      "text/plain": [
       "id                                 0\n",
       "titulo                          5387\n",
       "descripcion                     1619\n",
       "tipodepropiedad                   46\n",
       "direccion                      53072\n",
       "ciudad                           372\n",
       "provincia                        155\n",
       "antiguedad                     43555\n",
       "habitaciones                   22471\n",
       "garages                        37765\n",
       "banos                          26221\n",
       "metroscubiertos                17400\n",
       "metrostotales                  51467\n",
       "idzona                         28621\n",
       "lat                           123488\n",
       "lng                           123488\n",
       "fecha                              0\n",
       "gimnasio                           0\n",
       "usosmultiples                      0\n",
       "piscina                            0\n",
       "escuelascercanas                   0\n",
       "centroscomercialescercanos         0\n",
       "precio                             0\n",
       "year                               0\n",
       "month                              0\n",
       "dtype: int64"
      ]
     },
     "execution_count": 28,
     "metadata": {},
     "output_type": "execute_result"
    }
   ],
   "source": [
    "df.isnull().sum()"
   ]
  },
  {
   "cell_type": "code",
   "execution_count": null,
   "metadata": {},
   "outputs": [],
   "source": []
  },
  {
   "cell_type": "code",
   "execution_count": 29,
   "metadata": {},
   "outputs": [
    {
     "data": {
      "text/html": [
       "<div>\n",
       "<style scoped>\n",
       "    .dataframe tbody tr th:only-of-type {\n",
       "        vertical-align: middle;\n",
       "    }\n",
       "\n",
       "    .dataframe tbody tr th {\n",
       "        vertical-align: top;\n",
       "    }\n",
       "\n",
       "    .dataframe thead th {\n",
       "        text-align: right;\n",
       "    }\n",
       "</style>\n",
       "<table border=\"1\" class=\"dataframe\">\n",
       "  <thead>\n",
       "    <tr style=\"text-align: right;\">\n",
       "      <th></th>\n",
       "      <th>Nulos</th>\n",
       "      <th>Porcentaje %</th>\n",
       "    </tr>\n",
       "  </thead>\n",
       "  <tbody>\n",
       "    <tr>\n",
       "      <th>lng</th>\n",
       "      <td>123488</td>\n",
       "      <td>51.45</td>\n",
       "    </tr>\n",
       "    <tr>\n",
       "      <th>lat</th>\n",
       "      <td>123488</td>\n",
       "      <td>51.45</td>\n",
       "    </tr>\n",
       "    <tr>\n",
       "      <th>direccion</th>\n",
       "      <td>53072</td>\n",
       "      <td>22.11</td>\n",
       "    </tr>\n",
       "    <tr>\n",
       "      <th>metrostotales</th>\n",
       "      <td>51467</td>\n",
       "      <td>21.44</td>\n",
       "    </tr>\n",
       "    <tr>\n",
       "      <th>antiguedad</th>\n",
       "      <td>43555</td>\n",
       "      <td>18.15</td>\n",
       "    </tr>\n",
       "    <tr>\n",
       "      <th>garages</th>\n",
       "      <td>37765</td>\n",
       "      <td>15.74</td>\n",
       "    </tr>\n",
       "    <tr>\n",
       "      <th>idzona</th>\n",
       "      <td>28621</td>\n",
       "      <td>11.93</td>\n",
       "    </tr>\n",
       "    <tr>\n",
       "      <th>banos</th>\n",
       "      <td>26221</td>\n",
       "      <td>10.93</td>\n",
       "    </tr>\n",
       "    <tr>\n",
       "      <th>habitaciones</th>\n",
       "      <td>22471</td>\n",
       "      <td>9.36</td>\n",
       "    </tr>\n",
       "    <tr>\n",
       "      <th>metroscubiertos</th>\n",
       "      <td>17400</td>\n",
       "      <td>7.25</td>\n",
       "    </tr>\n",
       "    <tr>\n",
       "      <th>titulo</th>\n",
       "      <td>5387</td>\n",
       "      <td>2.24</td>\n",
       "    </tr>\n",
       "    <tr>\n",
       "      <th>descripcion</th>\n",
       "      <td>1619</td>\n",
       "      <td>0.67</td>\n",
       "    </tr>\n",
       "    <tr>\n",
       "      <th>ciudad</th>\n",
       "      <td>372</td>\n",
       "      <td>0.16</td>\n",
       "    </tr>\n",
       "    <tr>\n",
       "      <th>provincia</th>\n",
       "      <td>155</td>\n",
       "      <td>0.06</td>\n",
       "    </tr>\n",
       "    <tr>\n",
       "      <th>tipodepropiedad</th>\n",
       "      <td>46</td>\n",
       "      <td>0.02</td>\n",
       "    </tr>\n",
       "    <tr>\n",
       "      <th>escuelascercanas</th>\n",
       "      <td>0</td>\n",
       "      <td>0.00</td>\n",
       "    </tr>\n",
       "    <tr>\n",
       "      <th>year</th>\n",
       "      <td>0</td>\n",
       "      <td>0.00</td>\n",
       "    </tr>\n",
       "    <tr>\n",
       "      <th>precio</th>\n",
       "      <td>0</td>\n",
       "      <td>0.00</td>\n",
       "    </tr>\n",
       "    <tr>\n",
       "      <th>centroscomercialescercanos</th>\n",
       "      <td>0</td>\n",
       "      <td>0.00</td>\n",
       "    </tr>\n",
       "    <tr>\n",
       "      <th>id</th>\n",
       "      <td>0</td>\n",
       "      <td>0.00</td>\n",
       "    </tr>\n",
       "    <tr>\n",
       "      <th>piscina</th>\n",
       "      <td>0</td>\n",
       "      <td>0.00</td>\n",
       "    </tr>\n",
       "    <tr>\n",
       "      <th>usosmultiples</th>\n",
       "      <td>0</td>\n",
       "      <td>0.00</td>\n",
       "    </tr>\n",
       "    <tr>\n",
       "      <th>gimnasio</th>\n",
       "      <td>0</td>\n",
       "      <td>0.00</td>\n",
       "    </tr>\n",
       "    <tr>\n",
       "      <th>fecha</th>\n",
       "      <td>0</td>\n",
       "      <td>0.00</td>\n",
       "    </tr>\n",
       "    <tr>\n",
       "      <th>month</th>\n",
       "      <td>0</td>\n",
       "      <td>0.00</td>\n",
       "    </tr>\n",
       "  </tbody>\n",
       "</table>\n",
       "</div>"
      ],
      "text/plain": [
       "                             Nulos         Porcentaje %\n",
       "lng                         123488                51.45\n",
       "lat                         123488                51.45\n",
       "direccion                    53072                22.11\n",
       "metrostotales                51467                21.44\n",
       "antiguedad                   43555                18.15\n",
       "garages                      37765                15.74\n",
       "idzona                       28621                11.93\n",
       "banos                        26221                10.93\n",
       "habitaciones                 22471                 9.36\n",
       "metroscubiertos              17400                 7.25\n",
       "titulo                        5387                 2.24\n",
       "descripcion                   1619                 0.67\n",
       "ciudad                         372                 0.16\n",
       "provincia                      155                 0.06\n",
       "tipodepropiedad                 46                 0.02\n",
       "escuelascercanas                 0                 0.00\n",
       "year                             0                 0.00\n",
       "precio                           0                 0.00\n",
       "centroscomercialescercanos       0                 0.00\n",
       "id                               0                 0.00\n",
       "piscina                          0                 0.00\n",
       "usosmultiples                    0                 0.00\n",
       "gimnasio                         0                 0.00\n",
       "fecha                            0                 0.00\n",
       "month                            0                 0.00"
      ]
     },
     "execution_count": 29,
     "metadata": {},
     "output_type": "execute_result"
    }
   ],
   "source": [
    "nulos = pd.DataFrame(df.isnull().sum(), columns=['Nulos'])\n",
    "nulos['Porcentaje %'] = round(100*nulos['Nulos'] / len(df), 2)\n",
    "nulos.sort_values ('Porcentaje %', ascending=False)"
   ]
  },
  {
   "cell_type": "code",
   "execution_count": 30,
   "metadata": {},
   "outputs": [],
   "source": [
    "nulos.index = nulos.index.set_names(['feature'])\n",
    "nulos = nulos.reset_index(level='feature')\n",
    "features = nulos.feature.unique()"
   ]
  },
  {
   "cell_type": "code",
   "execution_count": 74,
   "metadata": {},
   "outputs": [
    {
     "ename": "NameError",
     "evalue": "name 'features' is not defined",
     "output_type": "error",
     "traceback": [
      "\u001b[1;31m---------------------------------------------------------------------------\u001b[0m",
      "\u001b[1;31mNameError\u001b[0m                                 Traceback (most recent call last)",
      "\u001b[1;32m<ipython-input-74-6c839b337675>\u001b[0m in \u001b[0;36m<module>\u001b[1;34m\u001b[0m\n\u001b[0;32m      1\u001b[0m \u001b[0mtotal\u001b[0m \u001b[1;33m=\u001b[0m \u001b[1;36m240000\u001b[0m\u001b[1;33m\u001b[0m\u001b[1;33m\u001b[0m\u001b[0m\n\u001b[1;32m----> 2\u001b[1;33m \u001b[0mN\u001b[0m \u001b[1;33m=\u001b[0m \u001b[0mlen\u001b[0m\u001b[1;33m(\u001b[0m\u001b[0mfeatures\u001b[0m\u001b[1;33m)\u001b[0m\u001b[1;33m\u001b[0m\u001b[1;33m\u001b[0m\u001b[0m\n\u001b[0m\u001b[0;32m      3\u001b[0m \u001b[0mporc_valor\u001b[0m \u001b[1;33m=\u001b[0m \u001b[0mnulos\u001b[0m\u001b[1;33m[\u001b[0m\u001b[1;34m'Porcentaje %'\u001b[0m\u001b[1;33m]\u001b[0m\u001b[1;33m.\u001b[0m\u001b[0mmap\u001b[0m\u001b[1;33m(\u001b[0m\u001b[1;32mlambda\u001b[0m \u001b[0mx\u001b[0m\u001b[1;33m:\u001b[0m \u001b[0mtotal\u001b[0m\u001b[1;33m*\u001b[0m\u001b[1;33m(\u001b[0m\u001b[1;33m(\u001b[0m\u001b[1;36m100\u001b[0m \u001b[1;33m-\u001b[0m \u001b[0mx\u001b[0m\u001b[1;33m)\u001b[0m\u001b[1;33m/\u001b[0m\u001b[1;36m100\u001b[0m\u001b[1;33m)\u001b[0m\u001b[1;33m)\u001b[0m\u001b[1;33m\u001b[0m\u001b[1;33m\u001b[0m\u001b[0m\n\u001b[0;32m      4\u001b[0m \u001b[0mporc_nulos\u001b[0m \u001b[1;33m=\u001b[0m \u001b[0mnulos\u001b[0m\u001b[1;33m[\u001b[0m\u001b[1;34m'Porcentaje %'\u001b[0m\u001b[1;33m]\u001b[0m\u001b[1;33m.\u001b[0m\u001b[0mmap\u001b[0m\u001b[1;33m(\u001b[0m\u001b[1;32mlambda\u001b[0m \u001b[0mx\u001b[0m\u001b[1;33m:\u001b[0m \u001b[0mtotal\u001b[0m\u001b[1;33m*\u001b[0m\u001b[1;33m(\u001b[0m\u001b[0mx\u001b[0m\u001b[1;33m/\u001b[0m\u001b[1;36m100\u001b[0m\u001b[1;33m)\u001b[0m\u001b[1;33m)\u001b[0m\u001b[1;33m\u001b[0m\u001b[1;33m\u001b[0m\u001b[0m\n\u001b[0;32m      5\u001b[0m \u001b[0mind\u001b[0m \u001b[1;33m=\u001b[0m \u001b[0mnp\u001b[0m\u001b[1;33m.\u001b[0m\u001b[0marange\u001b[0m\u001b[1;33m(\u001b[0m\u001b[0mN\u001b[0m\u001b[1;33m)\u001b[0m\u001b[1;33m\u001b[0m\u001b[1;33m\u001b[0m\u001b[0m\n",
      "\u001b[1;31mNameError\u001b[0m: name 'features' is not defined"
     ]
    }
   ],
   "source": [
    "total = 240000\n",
    "N = len(features)\n",
    "porc_valor = nulos['Porcentaje %'].map(lambda x: total*((100 - x)/100))\n",
    "porc_nulos = nulos['Porcentaje %'].map(lambda x: total*(x/100))\n",
    "ind = np.arange(N)  \n",
    "width = 0.50      \n",
    "\n",
    "p1 = plt.bar(ind, porc_valor, width, color='lightblue')\n",
    "p2 = plt.bar(ind, porc_nulos, width,bottom=porc_valor, color='red')\n",
    "\n",
    "plt.ylabel('Cantidad de filas')\n",
    "plt.xlabel('features')\n",
    "plt.title('Cantidad de nulos sobre valores asignados')\n",
    "plt.xticks(ind, features)\n",
    "plt.xticks(rotation=90)\n",
    "#plt.yticks(np.arange(0, 100, 10))\n",
    "plt.legend((p1[0], p2[0]), ('con valor', 'nulos'))\n",
    "plt.rcParams['figure.figsize'] = [10, 10]\n",
    "ax = plt.gca()\n",
    "ax.yaxis.get_major_formatter().set_scientific(False)\n",
    "plt.show()"
   ]
  },
  {
   "cell_type": "markdown",
   "metadata": {},
   "source": [
    "### IDs"
   ]
  },
  {
   "cell_type": "code",
   "execution_count": 132,
   "metadata": {},
   "outputs": [
    {
     "data": {
      "text/plain": [
       "True"
      ]
     },
     "execution_count": 132,
     "metadata": {},
     "output_type": "execute_result"
    }
   ],
   "source": [
    "# Verifico si son unicos los IDs\n",
    "df['id'].unique().size == df['id'].count()"
   ]
  },
  {
   "cell_type": "markdown",
   "metadata": {},
   "source": [
    "### Direcciones"
   ]
  },
  {
   "cell_type": "code",
   "execution_count": 134,
   "metadata": {},
   "outputs": [
    {
     "data": {
      "text/plain": [
       "False"
      ]
     },
     "execution_count": 134,
     "metadata": {},
     "output_type": "execute_result"
    }
   ],
   "source": [
    "# Verifico si son unicas las direcciones\n",
    "df['direccion'].unique().size == df['direccion'].count()"
   ]
  },
  {
   "cell_type": "markdown",
   "metadata": {},
   "source": [
    "### vamos a buscar cuales son las direcciones duplicadas"
   ]
  },
  {
   "cell_type": "code",
   "execution_count": 201,
   "metadata": {},
   "outputs": [],
   "source": [
    "# esta funcion devueve las celdas duplicadas\n",
    "def fduplicados (data, limite):\n",
    "    return data['Repeticiones'].sum() >= limite"
   ]
  },
  {
   "cell_type": "code",
   "execution_count": 202,
   "metadata": {},
   "outputs": [],
   "source": [
    "df1 = df.copy()\n",
    "df1['Repeticiones'] = 1"
   ]
  },
  {
   "cell_type": "code",
   "execution_count": 203,
   "metadata": {},
   "outputs": [],
   "source": [
    "agrupados = df1.groupby(['direccion'])"
   ]
  },
  {
   "cell_type": "code",
   "execution_count": 204,
   "metadata": {},
   "outputs": [],
   "source": [
    "agrupadosfiltrados = agrupados.filter(fduplicados, limite=2)"
   ]
  },
  {
   "cell_type": "code",
   "execution_count": 205,
   "metadata": {},
   "outputs": [],
   "source": [
    "repetidos =agrupadosfiltrados.groupby(['direccion']).agg({'Repeticiones':'sum'})\n",
    "repetidos.reset_index(inplace=True)"
   ]
  },
  {
   "cell_type": "code",
   "execution_count": 206,
   "metadata": {},
   "outputs": [
    {
     "name": "stdout",
     "output_type": "stream",
     "text": [
      "Cantidad de direcciones repetidas\n"
     ]
    },
    {
     "data": {
      "text/plain": [
       "63009"
      ]
     },
     "execution_count": 206,
     "metadata": {},
     "output_type": "execute_result"
    }
   ],
   "source": [
    "print (\"Cantidad de direcciones repetidas\")\n",
    "repetidos[\"Repeticiones\"].sum()"
   ]
  },
  {
   "cell_type": "code",
   "execution_count": 181,
   "metadata": {},
   "outputs": [],
   "source": []
  },
  {
   "cell_type": "code",
   "execution_count": 207,
   "metadata": {},
   "outputs": [
    {
     "name": "stdout",
     "output_type": "stream",
     "text": [
      "Ranking de direcciones mas repetidas\n"
     ]
    },
    {
     "data": {
      "text/html": [
       "<div>\n",
       "<style scoped>\n",
       "    .dataframe tbody tr th:only-of-type {\n",
       "        vertical-align: middle;\n",
       "    }\n",
       "\n",
       "    .dataframe tbody tr th {\n",
       "        vertical-align: top;\n",
       "    }\n",
       "\n",
       "    .dataframe thead th {\n",
       "        text-align: right;\n",
       "    }\n",
       "</style>\n",
       "<table border=\"1\" class=\"dataframe\">\n",
       "  <thead>\n",
       "    <tr style=\"text-align: right;\">\n",
       "      <th></th>\n",
       "      <th>direccion</th>\n",
       "      <th>Repeticiones</th>\n",
       "    </tr>\n",
       "  </thead>\n",
       "  <tbody>\n",
       "    <tr>\n",
       "      <th>35</th>\n",
       "      <td>-</td>\n",
       "      <td>660</td>\n",
       "    </tr>\n",
       "    <tr>\n",
       "      <th>64</th>\n",
       "      <td>.</td>\n",
       "      <td>476</td>\n",
       "    </tr>\n",
       "    <tr>\n",
       "      <th>85</th>\n",
       "      <td>1</td>\n",
       "      <td>212</td>\n",
       "    </tr>\n",
       "    <tr>\n",
       "      <th>3817</th>\n",
       "      <td>Calle</td>\n",
       "      <td>194</td>\n",
       "    </tr>\n",
       "    <tr>\n",
       "      <th>10195</th>\n",
       "      <td>Norte de Mérida</td>\n",
       "      <td>136</td>\n",
       "    </tr>\n",
       "    <tr>\n",
       "      <th>16308</th>\n",
       "      <td>x #x</td>\n",
       "      <td>122</td>\n",
       "    </tr>\n",
       "    <tr>\n",
       "      <th>77</th>\n",
       "      <td>0</td>\n",
       "      <td>113</td>\n",
       "    </tr>\n",
       "    <tr>\n",
       "      <th>15399</th>\n",
       "      <td>domicilio conocido</td>\n",
       "      <td>105</td>\n",
       "    </tr>\n",
       "    <tr>\n",
       "      <th>3847</th>\n",
       "      <td>Calle 18 No.344 x 11 y 13 Col. Camara de Comer...</td>\n",
       "      <td>94</td>\n",
       "    </tr>\n",
       "    <tr>\n",
       "      <th>15074</th>\n",
       "      <td>calle</td>\n",
       "      <td>94</td>\n",
       "    </tr>\n",
       "  </tbody>\n",
       "</table>\n",
       "</div>"
      ],
      "text/plain": [
       "                                               direccion  Repeticiones\n",
       "35                                                     -           660\n",
       "64                                                     .           476\n",
       "85                                                     1           212\n",
       "3817                                               Calle           194\n",
       "10195                                    Norte de Mérida           136\n",
       "16308                                               x #x           122\n",
       "77                                                     0           113\n",
       "15399                                 domicilio conocido           105\n",
       "3847   Calle 18 No.344 x 11 y 13 Col. Camara de Comer...            94\n",
       "15074                                              calle            94"
      ]
     },
     "execution_count": 207,
     "metadata": {},
     "output_type": "execute_result"
    }
   ],
   "source": [
    "print (\"Ranking de direcciones mas repetidas\")\n",
    "repetidos.nlargest(10,'Repeticiones')"
   ]
  },
  {
   "cell_type": "code",
   "execution_count": null,
   "metadata": {},
   "outputs": [],
   "source": []
  },
  {
   "cell_type": "code",
   "execution_count": 197,
   "metadata": {},
   "outputs": [
    {
     "data": {
      "text/html": [
       "<div>\n",
       "<style scoped>\n",
       "    .dataframe tbody tr th:only-of-type {\n",
       "        vertical-align: middle;\n",
       "    }\n",
       "\n",
       "    .dataframe tbody tr th {\n",
       "        vertical-align: top;\n",
       "    }\n",
       "\n",
       "    .dataframe thead th {\n",
       "        text-align: right;\n",
       "    }\n",
       "</style>\n",
       "<table border=\"1\" class=\"dataframe\">\n",
       "  <thead>\n",
       "    <tr style=\"text-align: right;\">\n",
       "      <th></th>\n",
       "      <th>id</th>\n",
       "      <th>titulo</th>\n",
       "      <th>descripcion</th>\n",
       "      <th>tipodepropiedad</th>\n",
       "      <th>direccion</th>\n",
       "      <th>ciudad</th>\n",
       "      <th>provincia</th>\n",
       "      <th>antiguedad</th>\n",
       "      <th>habitaciones</th>\n",
       "      <th>garages</th>\n",
       "      <th>...</th>\n",
       "      <th>idzona</th>\n",
       "      <th>lat</th>\n",
       "      <th>lng</th>\n",
       "      <th>fecha</th>\n",
       "      <th>gimnasio</th>\n",
       "      <th>usosmultiples</th>\n",
       "      <th>piscina</th>\n",
       "      <th>escuelascercanas</th>\n",
       "      <th>centroscomercialescercanos</th>\n",
       "      <th>precio</th>\n",
       "    </tr>\n",
       "  </thead>\n",
       "  <tbody>\n",
       "    <tr>\n",
       "      <th>160073</th>\n",
       "      <td>164116</td>\n",
       "      <td>casa lomas de angelopolis</td>\n",
       "      <td>lujos espacios ubicación y plenitud en cluster...</td>\n",
       "      <td>Casa</td>\n",
       "      <td>CASCATA</td>\n",
       "      <td>San Andrés Cholula</td>\n",
       "      <td>Puebla</td>\n",
       "      <td>nan</td>\n",
       "      <td>3.00</td>\n",
       "      <td>2.00</td>\n",
       "      <td>...</td>\n",
       "      <td>334,898.00</td>\n",
       "      <td>nan</td>\n",
       "      <td>nan</td>\n",
       "      <td>2015-04-12 00:00:00</td>\n",
       "      <td>1.00</td>\n",
       "      <td>0.00</td>\n",
       "      <td>0.00</td>\n",
       "      <td>0.00</td>\n",
       "      <td>0.00</td>\n",
       "      <td>1,730,000.00</td>\n",
       "    </tr>\n",
       "    <tr>\n",
       "      <th>208408</th>\n",
       "      <td>70102</td>\n",
       "      <td>lomas angelopolis, exclusivo terreno¡</td>\n",
       "      <td>nuevo cluster residencial llamado  gran reserv...</td>\n",
       "      <td>Terreno</td>\n",
       "      <td>CASCATA</td>\n",
       "      <td>San Andrés Cholula</td>\n",
       "      <td>Puebla</td>\n",
       "      <td>nan</td>\n",
       "      <td>nan</td>\n",
       "      <td>0.00</td>\n",
       "      <td>...</td>\n",
       "      <td>334,898.00</td>\n",
       "      <td>nan</td>\n",
       "      <td>nan</td>\n",
       "      <td>2016-12-05 00:00:00</td>\n",
       "      <td>0.00</td>\n",
       "      <td>0.00</td>\n",
       "      <td>0.00</td>\n",
       "      <td>1.00</td>\n",
       "      <td>1.00</td>\n",
       "      <td>1,900,000.00</td>\n",
       "    </tr>\n",
       "    <tr>\n",
       "      <th>230351</th>\n",
       "      <td>260226</td>\n",
       "      <td>venta casa en  lomas de angelopolis cascata en...</td>\n",
       "      <td>magnifico diseño y acabados casas en pre- vent...</td>\n",
       "      <td>Casa en condominio</td>\n",
       "      <td>CASCATA</td>\n",
       "      <td>San Andrés Cholula</td>\n",
       "      <td>Puebla</td>\n",
       "      <td>0.00</td>\n",
       "      <td>4.00</td>\n",
       "      <td>2.00</td>\n",
       "      <td>...</td>\n",
       "      <td>334,898.00</td>\n",
       "      <td>18.98</td>\n",
       "      <td>-98.29</td>\n",
       "      <td>2016-03-17 00:00:00</td>\n",
       "      <td>0.00</td>\n",
       "      <td>1.00</td>\n",
       "      <td>0.00</td>\n",
       "      <td>1.00</td>\n",
       "      <td>1.00</td>\n",
       "      <td>2,700,000.00</td>\n",
       "    </tr>\n",
       "  </tbody>\n",
       "</table>\n",
       "<p>3 rows × 23 columns</p>\n",
       "</div>"
      ],
      "text/plain": [
       "            id                                             titulo  \\\n",
       "160073  164116                          casa lomas de angelopolis   \n",
       "208408   70102             lomas angelopolis, exclusivo terreno¡    \n",
       "230351  260226  venta casa en  lomas de angelopolis cascata en...   \n",
       "\n",
       "                                              descripcion     tipodepropiedad  \\\n",
       "160073  lujos espacios ubicación y plenitud en cluster...                Casa   \n",
       "208408  nuevo cluster residencial llamado  gran reserv...             Terreno   \n",
       "230351  magnifico diseño y acabados casas en pre- vent...  Casa en condominio   \n",
       "\n",
       "       direccion              ciudad provincia           antiguedad  \\\n",
       "160073   CASCATA  San Andrés Cholula    Puebla                  nan   \n",
       "208408   CASCATA  San Andrés Cholula    Puebla                  nan   \n",
       "230351   CASCATA  San Andrés Cholula    Puebla                 0.00   \n",
       "\n",
       "               habitaciones              garages  ...               idzona  \\\n",
       "160073                 3.00                 2.00  ...           334,898.00   \n",
       "208408                  nan                 0.00  ...           334,898.00   \n",
       "230351                 4.00                 2.00  ...           334,898.00   \n",
       "\n",
       "                        lat                  lng                fecha  \\\n",
       "160073                  nan                  nan  2015-04-12 00:00:00   \n",
       "208408                  nan                  nan  2016-12-05 00:00:00   \n",
       "230351                18.98               -98.29  2016-03-17 00:00:00   \n",
       "\n",
       "                   gimnasio        usosmultiples              piscina  \\\n",
       "160073                 1.00                 0.00                 0.00   \n",
       "208408                 0.00                 0.00                 0.00   \n",
       "230351                 0.00                 1.00                 0.00   \n",
       "\n",
       "           escuelascercanas  centroscomercialescercanos               precio  \n",
       "160073                 0.00                        0.00         1,730,000.00  \n",
       "208408                 1.00                        1.00         1,900,000.00  \n",
       "230351                 1.00                        1.00         2,700,000.00  \n",
       "\n",
       "[3 rows x 23 columns]"
      ]
     },
     "execution_count": 197,
     "metadata": {},
     "output_type": "execute_result"
    }
   ],
   "source": [
    "#con esto accedo directamente\n",
    "df.loc[df['direccion'].isin([\"CASCATA\"]), :]"
   ]
  },
  {
   "cell_type": "markdown",
   "metadata": {},
   "source": [
    "## 5) Analizando propiedades especificas del set de datos"
   ]
  },
  {
   "cell_type": "code",
   "execution_count": 18,
   "metadata": {},
   "outputs": [],
   "source": [
    "# Revisemos alguna caterogia principal para ver como esta compuesta:\n"
   ]
  },
  {
   "cell_type": "markdown",
   "metadata": {},
   "source": [
    "## 01 Inmuebles ------------------------------------------------------------------***TP2"
   ]
  },
  {
   "cell_type": "code",
   "execution_count": 75,
   "metadata": {},
   "outputs": [
    {
     "name": "stdout",
     "output_type": "stream",
     "text": [
      "titulo             object\n",
      "descripcion        object\n",
      "tipodepropiedad    object\n",
      "direccion          object\n",
      "ciudad             object\n",
      "provincia          object\n",
      "fecha              object\n",
      "dtype: object\n"
     ]
    },
    {
     "data": {
      "text/html": [
       "<div>\n",
       "<style scoped>\n",
       "    .dataframe tbody tr th:only-of-type {\n",
       "        vertical-align: middle;\n",
       "    }\n",
       "\n",
       "    .dataframe tbody tr th {\n",
       "        vertical-align: top;\n",
       "    }\n",
       "\n",
       "    .dataframe thead th {\n",
       "        text-align: right;\n",
       "    }\n",
       "</style>\n",
       "<table border=\"1\" class=\"dataframe\">\n",
       "  <thead>\n",
       "    <tr style=\"text-align: right;\">\n",
       "      <th></th>\n",
       "      <th>titulo</th>\n",
       "      <th>descripcion</th>\n",
       "      <th>tipodepropiedad</th>\n",
       "      <th>direccion</th>\n",
       "      <th>ciudad</th>\n",
       "      <th>provincia</th>\n",
       "      <th>fecha</th>\n",
       "    </tr>\n",
       "  </thead>\n",
       "  <tbody>\n",
       "    <tr>\n",
       "      <th>count</th>\n",
       "      <td>234613</td>\n",
       "      <td>238381</td>\n",
       "      <td>239954</td>\n",
       "      <td>186928</td>\n",
       "      <td>239628</td>\n",
       "      <td>239845</td>\n",
       "      <td>240000</td>\n",
       "    </tr>\n",
       "    <tr>\n",
       "      <th>unique</th>\n",
       "      <td>186191</td>\n",
       "      <td>232187</td>\n",
       "      <td>24</td>\n",
       "      <td>140269</td>\n",
       "      <td>875</td>\n",
       "      <td>32</td>\n",
       "      <td>1830</td>\n",
       "    </tr>\n",
       "    <tr>\n",
       "      <th>top</th>\n",
       "      <td>casa en venta</td>\n",
       "      <td>empresa dedicada a los   ante notario y regist...</td>\n",
       "      <td>Casa</td>\n",
       "      <td>-</td>\n",
       "      <td>Querétaro</td>\n",
       "      <td>Distrito Federal</td>\n",
       "      <td>2016-12-03 00:00:00</td>\n",
       "    </tr>\n",
       "    <tr>\n",
       "      <th>freq</th>\n",
       "      <td>468</td>\n",
       "      <td>119</td>\n",
       "      <td>141717</td>\n",
       "      <td>660</td>\n",
       "      <td>12646</td>\n",
       "      <td>58790</td>\n",
       "      <td>1416</td>\n",
       "    </tr>\n",
       "  </tbody>\n",
       "</table>\n",
       "</div>"
      ],
      "text/plain": [
       "               titulo                                        descripcion  \\\n",
       "count          234613                                             238381   \n",
       "unique         186191                                             232187   \n",
       "top     casa en venta  empresa dedicada a los   ante notario y regist...   \n",
       "freq              468                                                119   \n",
       "\n",
       "       tipodepropiedad direccion     ciudad         provincia  \\\n",
       "count           239954    186928     239628            239845   \n",
       "unique              24    140269        875                32   \n",
       "top               Casa         -  Querétaro  Distrito Federal   \n",
       "freq            141717       660      12646             58790   \n",
       "\n",
       "                      fecha  \n",
       "count                240000  \n",
       "unique                 1830  \n",
       "top     2016-12-03 00:00:00  \n",
       "freq                   1416  "
      ]
     },
     "execution_count": 75,
     "metadata": {},
     "output_type": "execute_result"
    }
   ],
   "source": [
    "# Analizamos que features son numericas para correlacionarlas\n",
    "features_numericas = df.select_dtypes(include=[np.number])\n",
    "features_numericas.dtypes\n",
    "\n",
    "# Observamos tambien cuales son las features categoricas\n",
    "categoricas = df.select_dtypes(exclude=[np.number])\n",
    "print(categoricas.dtypes)\n",
    "categoricas.describe()"
   ]
  },
  {
   "cell_type": "code",
   "execution_count": 76,
   "metadata": {
    "scrolled": false
   },
   "outputs": [
    {
     "data": {
      "text/plain": [
       "Text(0.5, 1, 'Matriz de correlaciones como heatmap')"
      ]
     },
     "execution_count": 76,
     "metadata": {},
     "output_type": "execute_result"
    },
    {
     "data": {
      "image/png": "[encoded data removed]",
      "text/plain": [
       "<Figure size 1440x648 with 2 Axes>"
      ]
     },
     "metadata": {
      "needs_background": "light"
     },
     "output_type": "display_data"
    }
   ],
   "source": [
    "# Matriz de correlaciones como heatmap\n",
    "corr = features_numericas.corr()\n",
    "plt.subplots(figsize=(20, 9))\n",
    "sns.heatmap(corr, square=True, cmap='Greens')\n",
    "plt.title(\"Matriz de correlaciones como heatmap\")"
   ]
  },
  {
   "cell_type": "markdown",
   "metadata": {},
   "source": [
    "## Cantidad de inmuebles por tipo de propiedad"
   ]
  },
  {
   "cell_type": "code",
   "execution_count": 10,
   "metadata": {},
   "outputs": [],
   "source": [
    "propiedades = df ['tipodepropiedad']"
   ]
  },
  {
   "cell_type": "code",
   "execution_count": 11,
   "metadata": {
    "scrolled": true
   },
   "outputs": [
    {
     "data": {
      "text/plain": [
       "Casa                             141717\n",
       "Apartamento                       57341\n",
       "Casa en condominio                19297\n",
       "Terreno                            9945\n",
       "Local Comercial                    3055\n",
       "Oficina comercial                  1741\n",
       "Bodega comercial                   1406\n",
       "Edificio                           1396\n",
       "Terreno comercial                  1326\n",
       "Casa uso de suelo                   708\n",
       "Quinta Vacacional                   395\n",
       "Duplex                              343\n",
       "Villa                               340\n",
       "Inmuebles productivos urbanos       200\n",
       "Rancho                              170\n",
       "Local en centro comercial           165\n",
       "Departamento Compartido             141\n",
       "Otros                               134\n",
       "Nave industrial                      76\n",
       "Terreno industrial                   31\n",
       "Huerta                               20\n",
       "Lote                                  5\n",
       "Garage                                1\n",
       "Hospedaje                             1\n",
       "Name: tipodepropiedad, dtype: int64"
      ]
     },
     "execution_count": 11,
     "metadata": {},
     "output_type": "execute_result"
    }
   ],
   "source": [
    "propiedades.value_counts()"
   ]
  },
  {
   "cell_type": "code",
   "execution_count": 12,
   "metadata": {},
   "outputs": [
    {
     "name": "stdout",
     "output_type": "stream",
     "text": [
      "Total tipos de propiedad: 24\n"
     ]
    },
    {
     "data": {
      "image/png": "[encoded data removed]",
      "text/plain": [
       "<Figure size 1080x360 with 1 Axes>"
      ]
     },
     "metadata": {
      "needs_background": "light"
     },
     "output_type": "display_data"
    }
   ],
   "source": [
    "print(f\"Total tipos de propiedad: {propiedades.nunique()}\")\n",
    "propiedades.value_counts().plot(kind='bar', figsize=(15, 5), rot=70, \n",
    "title=\"Cantidad de inmuebles por tipo de propiedad\");"
   ]
  },
  {
   "cell_type": "code",
   "execution_count": null,
   "metadata": {},
   "outputs": [],
   "source": []
  },
  {
   "cell_type": "markdown",
   "metadata": {},
   "source": [
    "#####  Antiguedad de los inmuebles (18% nulos)"
   ]
  },
  {
   "cell_type": "code",
   "execution_count": 210,
   "metadata": {},
   "outputs": [],
   "source": [
    "antiguedad = df ['antiguedad']"
   ]
  },
  {
   "cell_type": "code",
   "execution_count": 212,
   "metadata": {},
   "outputs": [
    {
     "data": {
      "text/plain": [
       " 0.00    50335\n",
       " 5.00    33268\n",
       "10.00    28844\n",
       "20.00    19904\n",
       " 1.00    12353\n",
       " 4.00     7944\n",
       " 3.00     5616\n",
       " 2.00     5059\n",
       "15.00     3965\n",
       " 6.00     3169\n",
       "30.00     3055\n",
       " 8.00     2418\n",
       "25.00     2297\n",
       " 7.00     2046\n",
       "12.00     1492\n",
       "11.00     1434\n",
       "40.00     1347\n",
       "50.00     1193\n",
       " 9.00     1065\n",
       "35.00      938\n",
       "18.00      908\n",
       "21.00      742\n",
       "16.00      700\n",
       "14.00      616\n",
       "13.00      577\n",
       "17.00      529\n",
       "22.00      448\n",
       "28.00      396\n",
       "26.00      369\n",
       "45.00      329\n",
       "         ...  \n",
       "47.00       40\n",
       "55.00       38\n",
       "48.00       36\n",
       "46.00       31\n",
       "70.00       29\n",
       "41.00       27\n",
       "80.00       27\n",
       "53.00       17\n",
       "49.00       17\n",
       "65.00       17\n",
       "52.00       11\n",
       "58.00       10\n",
       "54.00        9\n",
       "75.00        6\n",
       "66.00        5\n",
       "59.00        5\n",
       "69.00        5\n",
       "67.00        4\n",
       "57.00        4\n",
       "63.00        4\n",
       "62.00        3\n",
       "56.00        3\n",
       "74.00        2\n",
       "68.00        2\n",
       "79.00        2\n",
       "61.00        2\n",
       "76.00        2\n",
       "71.00        1\n",
       "77.00        1\n",
       "64.00        1\n",
       "Name: antiguedad, Length: 78, dtype: int64"
      ]
     },
     "execution_count": 212,
     "metadata": {},
     "output_type": "execute_result"
    }
   ],
   "source": [
    "antiguedad.value_counts()"
   ]
  },
  {
   "cell_type": "code",
   "execution_count": 77,
   "metadata": {},
   "outputs": [
    {
     "data": {
      "text/plain": [
       "Text(0, 0.5, 'cantidad')"
      ]
     },
     "execution_count": 77,
     "metadata": {},
     "output_type": "execute_result"
    },
    {
     "data": {
      "image/png": "[encoded data removed]",
      "text/plain": [
       "<Figure size 432x288 with 1 Axes>"
      ]
     },
     "metadata": {
      "needs_background": "light"
     },
     "output_type": "display_data"
    }
   ],
   "source": [
    "df1 = df.dropna(subset=['antiguedad'])\n",
    "#df1['antiguedad_log'] = np.log(df1['antiguedad'])\n",
    "#df1['antiguedad_log'] = df1['antiguedad_log'].replace([np.inf, -np.inf], np.nan)\n",
    "\n",
    "g = df1['antiguedad'].plot.hist(bins=50, color='lightblue')\n",
    "g.set_title(\"Histograma de antigüedad\", fontsize=18)\n",
    "g.set_xlabel(\"antigüedad (años)\",fontsize=18)\n",
    "g.set_ylabel(\"cantidad\", fontsize=18)"
   ]
  },
  {
   "cell_type": "code",
   "execution_count": null,
   "metadata": {},
   "outputs": [],
   "source": []
  },
  {
   "cell_type": "code",
   "execution_count": 78,
   "metadata": {},
   "outputs": [
    {
     "data": {
      "text/plain": [
       "Text(0, 0.5, 'Densidad')"
      ]
     },
     "execution_count": 78,
     "metadata": {},
     "output_type": "execute_result"
    },
    {
     "data": {
      "image/png": "[encoded data removed]",
      "text/plain": [
       "<Figure size 432x288 with 1 Axes>"
      ]
     },
     "metadata": {
      "needs_background": "light"
     },
     "output_type": "display_data"
    }
   ],
   "source": [
    "g = sns.distplot(df1[\"antiguedad\"], bins=50)\n",
    "g.set_title(\"Densidad de propiedades por antigüedad\", fontsize=18)\n",
    "g.set_xlabel(\"Antigüedad (años)\",fontsize=18)\n",
    "g.set_ylabel(\"Densidad\", fontsize=18)"
   ]
  },
  {
   "cell_type": "markdown",
   "metadata": {},
   "source": [
    "### 3 )dado que casa, apartamento y casa en condominio concentran mas del 90% de las publicaciones\n",
    "### a)vamos a realizar un informe pormenorizado de las mismas."
   ]
  },
  {
   "cell_type": "code",
   "execution_count": null,
   "metadata": {},
   "outputs": [],
   "source": [
    "## Densidad propiedades por antiguedad (comparacion de 3 tipos)"
   ]
  },
  {
   "cell_type": "code",
   "execution_count": null,
   "metadata": {},
   "outputs": [],
   "source": [
    "# hay que hacer un grafico de desidad casa x antiguedad, apartamento x antiguedad ......   y luego unir los 3 en un solo grafico"
   ]
  },
  {
   "cell_type": "code",
   "execution_count": 51,
   "metadata": {},
   "outputs": [],
   "source": [
    "df1 = df.dropna(subset=['antiguedad'])\n",
    "casas= df1.loc[df['tipodepropiedad'] == \"Casa\", :]\n"
   ]
  },
  {
   "cell_type": "code",
   "execution_count": 52,
   "metadata": {},
   "outputs": [
    {
     "data": {
      "text/plain": [
       " 0.00    30727\n",
       " 5.00    20052\n",
       "10.00    17920\n",
       "20.00    12148\n",
       " 1.00     6867\n",
       " 4.00     4550\n",
       " 3.00     3163\n",
       " 2.00     2820\n",
       "15.00     2502\n",
       "30.00     1924\n",
       " 6.00     1906\n",
       " 8.00     1559\n",
       "25.00     1484\n",
       " 7.00     1213\n",
       "11.00      979\n",
       "12.00      914\n",
       "40.00      869\n",
       "50.00      719\n",
       " 9.00      665\n",
       "35.00      603\n",
       "18.00      566\n",
       "21.00      530\n",
       "16.00      406\n",
       "14.00      382\n",
       "13.00      374\n",
       "17.00      306\n",
       "22.00      271\n",
       "26.00      235\n",
       "28.00      230\n",
       "45.00      214\n",
       "         ...  \n",
       "44.00       29\n",
       "51.00       27\n",
       "47.00       26\n",
       "43.00       26\n",
       "55.00       23\n",
       "48.00       23\n",
       "80.00       21\n",
       "70.00       20\n",
       "41.00       19\n",
       "46.00       17\n",
       "49.00       13\n",
       "65.00       12\n",
       "53.00       11\n",
       "58.00        6\n",
       "54.00        5\n",
       "69.00        4\n",
       "66.00        4\n",
       "75.00        4\n",
       "57.00        4\n",
       "59.00        4\n",
       "52.00        3\n",
       "56.00        3\n",
       "62.00        3\n",
       "61.00        2\n",
       "67.00        2\n",
       "63.00        2\n",
       "74.00        1\n",
       "77.00        1\n",
       "71.00        1\n",
       "68.00        1\n",
       "Name: antiguedad, Length: 75, dtype: int64"
      ]
     },
     "execution_count": 52,
     "metadata": {},
     "output_type": "execute_result"
    }
   ],
   "source": [
    "casas['antiguedad'].value_counts()"
   ]
  },
  {
   "cell_type": "code",
   "execution_count": null,
   "metadata": {},
   "outputs": [],
   "source": []
  },
  {
   "cell_type": "code",
   "execution_count": 116,
   "metadata": {},
   "outputs": [
    {
     "data": {
      "text/plain": [
       "Text(0, 0.5, 'Cantidad de Casas')"
      ]
     },
     "execution_count": 116,
     "metadata": {},
     "output_type": "execute_result"
    },
    {
     "data": {
      "image/png": "[encoded data removed]",
      "text/plain": [
       "<Figure size 576x432 with 1 Axes>"
      ]
     },
     "metadata": {
      "needs_background": "light"
     },
     "output_type": "display_data"
    }
   ],
   "source": [
    "plt.figure(figsize=(8, 6))\n",
    "\n",
    "\n",
    "\n",
    "g = sns.distplot(casas[\"antiguedad\"], color='red', bins=50, hist=False, kde_kws={\"shade\": True})\n",
    "g.set_title(\"Densidad de casas por antiguedad\", fontsize=18)\n",
    "g.set_xlabel(\"Antiguedad\",fontsize=18)\n",
    "g.set_ylabel(\"Cantidad de Casas\", fontsize=18)\n"
   ]
  },
  {
   "cell_type": "code",
   "execution_count": 54,
   "metadata": {},
   "outputs": [],
   "source": [
    "\n",
    "apartamentos= df1.loc[df ['tipodepropiedad'] == \"Apartamento\", :]"
   ]
  },
  {
   "cell_type": "code",
   "execution_count": 55,
   "metadata": {},
   "outputs": [
    {
     "data": {
      "text/plain": [
       " 0.00    10760\n",
       " 5.00     8675\n",
       "10.00     7149\n",
       "20.00     5365\n",
       " 1.00     3255\n",
       " 4.00     2196\n",
       " 3.00     1553\n",
       " 2.00     1470\n",
       "15.00      932\n",
       " 6.00      763\n",
       "30.00      762\n",
       "25.00      553\n",
       " 7.00      538\n",
       " 8.00      499\n",
       "12.00      354\n",
       "40.00      318\n",
       "50.00      271\n",
       " 9.00      256\n",
       "11.00      247\n",
       "35.00      241\n",
       "18.00      211\n",
       "16.00      192\n",
       "14.00      137\n",
       "17.00      128\n",
       "13.00      127\n",
       "28.00      118\n",
       "21.00      115\n",
       "22.00      110\n",
       "45.00       95\n",
       "26.00       92\n",
       "         ...  \n",
       "38.00       40\n",
       "34.00       32\n",
       "36.00       29\n",
       "37.00       28\n",
       "39.00       21\n",
       "31.00       21\n",
       "42.00       17\n",
       "43.00       13\n",
       "46.00       12\n",
       "47.00       11\n",
       "44.00       11\n",
       "55.00       11\n",
       "48.00       10\n",
       "51.00        9\n",
       "52.00        7\n",
       "41.00        7\n",
       "53.00        5\n",
       "70.00        4\n",
       "80.00        3\n",
       "54.00        3\n",
       "58.00        3\n",
       "49.00        3\n",
       "63.00        2\n",
       "65.00        2\n",
       "67.00        2\n",
       "75.00        1\n",
       "64.00        1\n",
       "74.00        1\n",
       "59.00        1\n",
       "68.00        1\n",
       "Name: antiguedad, Length: 68, dtype: int64"
      ]
     },
     "execution_count": 55,
     "metadata": {},
     "output_type": "execute_result"
    }
   ],
   "source": [
    "apartamentos['antiguedad'].value_counts()"
   ]
  },
  {
   "cell_type": "code",
   "execution_count": 117,
   "metadata": {},
   "outputs": [
    {
     "data": {
      "text/plain": [
       "Text(0, 0.5, 'Densidad')"
      ]
     },
     "execution_count": 117,
     "metadata": {},
     "output_type": "execute_result"
    },
    {
     "data": {
      "image/png": "[encoded data removed]",
      "text/plain": [
       "<Figure size 576x432 with 1 Axes>"
      ]
     },
     "metadata": {
      "needs_background": "light"
     },
     "output_type": "display_data"
    }
   ],
   "source": [
    "plt.figure(figsize=(8, 6))\n",
    "g = sns.distplot(apartamentos[\"antiguedad\"], color='green', bins=50, hist=False, kde_kws={\"shade\": True})\n",
    "g.set_title(\"Densidad de apartamentos por antiguedad\", fontsize=18)\n",
    "g.set_xlabel(\"Antiguedad (años)\",fontsize=18)\n",
    "g.set_ylabel(\"Densidad\", fontsize=18)"
   ]
  },
  {
   "cell_type": "code",
   "execution_count": null,
   "metadata": {},
   "outputs": [],
   "source": []
  },
  {
   "cell_type": "code",
   "execution_count": null,
   "metadata": {},
   "outputs": [],
   "source": []
  },
  {
   "cell_type": "code",
   "execution_count": null,
   "metadata": {},
   "outputs": [],
   "source": []
  },
  {
   "cell_type": "code",
   "execution_count": 57,
   "metadata": {},
   "outputs": [],
   "source": [
    "casaencondominio= df1.loc[df ['tipodepropiedad'] == \"Casa en condominio\", :]"
   ]
  },
  {
   "cell_type": "code",
   "execution_count": 58,
   "metadata": {},
   "outputs": [
    {
     "data": {
      "text/plain": [
       " 0.00    3833\n",
       " 5.00    3119\n",
       "10.00    2165\n",
       " 1.00    1528\n",
       " 4.00     897\n",
       "20.00     895\n",
       " 3.00     667\n",
       " 2.00     540\n",
       " 6.00     350\n",
       "15.00     317\n",
       " 8.00     293\n",
       " 7.00     234\n",
       "12.00     169\n",
       "30.00     141\n",
       "25.00     135\n",
       " 9.00     121\n",
       "11.00     116\n",
       "18.00     103\n",
       "14.00      76\n",
       "17.00      67\n",
       "16.00      65\n",
       "13.00      62\n",
       "22.00      49\n",
       "19.00      46\n",
       "21.00      42\n",
       "35.00      31\n",
       "28.00      31\n",
       "23.00      29\n",
       "40.00      27\n",
       "26.00      23\n",
       "24.00      23\n",
       "27.00      18\n",
       "29.00      14\n",
       "50.00      13\n",
       "32.00      11\n",
       "31.00       8\n",
       "33.00       5\n",
       "39.00       4\n",
       "34.00       3\n",
       "60.00       3\n",
       "37.00       3\n",
       "42.00       2\n",
       "36.00       2\n",
       "45.00       2\n",
       "38.00       2\n",
       "75.00       1\n",
       "51.00       1\n",
       "Name: antiguedad, dtype: int64"
      ]
     },
     "execution_count": 58,
     "metadata": {},
     "output_type": "execute_result"
    }
   ],
   "source": [
    "casaencondominio['antiguedad'].value_counts()"
   ]
  },
  {
   "cell_type": "code",
   "execution_count": 118,
   "metadata": {},
   "outputs": [
    {
     "data": {
      "text/plain": [
       "Text(0, 0.5, 'Cantidad de casaencondominio')"
      ]
     },
     "execution_count": 118,
     "metadata": {},
     "output_type": "execute_result"
    },
    {
     "data": {
      "image/png": "[encoded data removed]",
      "text/plain": [
       "<Figure size 576x432 with 1 Axes>"
      ]
     },
     "metadata": {
      "needs_background": "light"
     },
     "output_type": "display_data"
    }
   ],
   "source": [
    "plt.figure(figsize=(8, 6))\n",
    "g = sns.distplot(casaencondominio[\"antiguedad\"], color='blue', bins=50, hist=False, kde_kws={\"shade\": True})\n",
    "g.set_title(\"Densidad de casaencondominio por antiguedad\", fontsize=18)\n",
    "g.set_xlabel(\"Antiguedad\",fontsize=18)\n",
    "g.set_ylabel(\"Cantidad de casaencondominio\", fontsize=15)"
   ]
  },
  {
   "cell_type": "code",
   "execution_count": null,
   "metadata": {},
   "outputs": [],
   "source": []
  },
  {
   "cell_type": "code",
   "execution_count": null,
   "metadata": {},
   "outputs": [],
   "source": []
  },
  {
   "cell_type": "code",
   "execution_count": 122,
   "metadata": {},
   "outputs": [
    {
     "data": {
      "text/plain": [
       "Text(0.5, 1.0, 'Densidad x Antiguedad cross distribuition')"
      ]
     },
     "execution_count": 122,
     "metadata": {},
     "output_type": "execute_result"
    },
    {
     "data": {
      "image/png": "[encoded data removed]",
      "text/plain": [
       "<Figure size 864x576 with 1 Axes>"
      ]
     },
     "metadata": {
      "needs_background": "light"
     },
     "output_type": "display_data"
    }
   ],
   "source": [
    "# TODO referencias por color en la visualizacion\n",
    "plt.figure(figsize=(12,8))\n",
    "g = sns.distplot(casas[\"antiguedad\"], color='grey', label='casas', hist=False , kde_kws={\"shade\": True})\n",
    "g = sns.distplot(apartamentos['antiguedad'], color='green', label='apartamentos', hist=False, kde_kws={\"shade\": True})\n",
    "g = sns.distplot(casaencondominio['antiguedad'], color='red', label='casaencondominio', hist=False, kde_kws={\"shade\": True})\n",
    "g.set_title(\"Densidad x Antiguedad cross distribuition\", fontsize=18)\n"
   ]
  },
  {
   "cell_type": "markdown",
   "metadata": {},
   "source": [
    "## 3B histograma de metros cuadrados   (para los 3 tipos)\n",
    "\n"
   ]
  },
  {
   "cell_type": "code",
   "execution_count": null,
   "metadata": {},
   "outputs": [],
   "source": [
    "# quiero ver las dimenciones de lo que se esta ofreciendo para esos 3 tipos"
   ]
  },
  {
   "cell_type": "code",
   "execution_count": 153,
   "metadata": {},
   "outputs": [
    {
     "data": {
      "text/plain": [
       " 90.00    4625\n",
       "200.00    4455\n",
       "160.00    4039\n",
       "120.00    3733\n",
       "300.00    2892\n",
       "250.00    2802\n",
       "140.00    2263\n",
       "105.00    2177\n",
       "180.00    2054\n",
       "150.00    1694\n",
       " 60.00    1546\n",
       "100.00    1396\n",
       " 80.00    1151\n",
       "400.00    1109\n",
       "128.00    1080\n",
       "144.00    1056\n",
       "130.00    1028\n",
       "220.00     996\n",
       " 96.00     976\n",
       "240.00     955\n",
       "170.00     911\n",
       "110.00     846\n",
       " 70.00     766\n",
       "126.00     760\n",
       "112.00     755\n",
       " 72.00     742\n",
       "350.00     731\n",
       "210.00     675\n",
       "119.00     675\n",
       "190.00     653\n",
       "          ... \n",
       "439.00      24\n",
       "427.00      24\n",
       "421.00      22\n",
       "429.00      22\n",
       "433.00      22\n",
       "423.00      20\n",
       " 39.00      18\n",
       "393.00      18\n",
       " 36.00      16\n",
       " 32.00      16\n",
       " 15.00      14\n",
       " 33.00      12\n",
       " 38.00      11\n",
       " 37.00      10\n",
       " 20.00      10\n",
       " 16.00      10\n",
       " 28.00      10\n",
       " 24.00       8\n",
       " 25.00       7\n",
       " 34.00       6\n",
       " 27.00       6\n",
       " 17.00       5\n",
       " 31.00       4\n",
       " 22.00       4\n",
       " 26.00       4\n",
       " 29.00       4\n",
       " 21.00       3\n",
       " 18.00       2\n",
       " 19.00       1\n",
       " 23.00       1\n",
       "Name: metrostotales, Length: 425, dtype: int64"
      ]
     },
     "execution_count": 153,
     "metadata": {},
     "output_type": "execute_result"
    }
   ],
   "source": [
    "metroscasas = casas[\"metrostotales\"]\n",
    "metroscasas.value_counts()\n"
   ]
  },
  {
   "cell_type": "code",
   "execution_count": 155,
   "metadata": {},
   "outputs": [
    {
     "data": {
      "text/plain": [
       "Text(0, 0.5, 'cantidad metros')"
      ]
     },
     "execution_count": 155,
     "metadata": {},
     "output_type": "execute_result"
    },
    {
     "data": {
      "image/png": "[encoded data removed]",
      "text/plain": [
       "<Figure size 432x288 with 1 Axes>"
      ]
     },
     "metadata": {
      "needs_background": "light"
     },
     "output_type": "display_data"
    }
   ],
   "source": [
    "g = casas['metrostotales'].plot.hist(bins=6, color='lightblue')\n",
    "g.set_title(\"Histograma de metrostotales por casas\", fontsize=18)\n",
    "g.set_xlabel(\"cantidad (casas)\",fontsize=18)\n",
    "g.set_ylabel(\"cantidad metros\", fontsize=18)"
   ]
  },
  {
   "cell_type": "code",
   "execution_count": 156,
   "metadata": {},
   "outputs": [
    {
     "data": {
      "text/plain": [
       "Text(0, 0.5, 'cantidad metros')"
      ]
     },
     "execution_count": 156,
     "metadata": {},
     "output_type": "execute_result"
    },
    {
     "data": {
      "image/png": "[encoded data removed]",
      "text/plain": [
       "<Figure size 432x288 with 1 Axes>"
      ]
     },
     "metadata": {
      "needs_background": "light"
     },
     "output_type": "display_data"
    }
   ],
   "source": [
    "g = apartamentos['metrostotales'].plot.hist(bins=6, color='lightblue')\n",
    "g.set_title(\"Histograma de metrostotales por apartamentos\", fontsize=18)\n",
    "g.set_xlabel(\"cantidad (apartamentos)\",fontsize=18)\n",
    "g.set_ylabel(\"cantidad metros\", fontsize=18)"
   ]
  },
  {
   "cell_type": "code",
   "execution_count": 157,
   "metadata": {},
   "outputs": [
    {
     "data": {
      "text/plain": [
       "Text(0, 0.5, 'cantidad metros')"
      ]
     },
     "execution_count": 157,
     "metadata": {},
     "output_type": "execute_result"
    },
    {
     "data": {
      "image/png": "[encoded data removed]",
      "text/plain": [
       "<Figure size 432x288 with 1 Axes>"
      ]
     },
     "metadata": {
      "needs_background": "light"
     },
     "output_type": "display_data"
    }
   ],
   "source": [
    "g = casaencondominio['metrostotales'].plot.hist(bins=6, color='lightblue')\n",
    "g.set_title(\"Histograma de metrostotales por casaencondominio\", fontsize=18)\n",
    "g.set_xlabel(\"cantidad (casaencondominio)\",fontsize=18)\n",
    "g.set_ylabel(\"cantidad metros\", fontsize=18)"
   ]
  },
  {
   "cell_type": "code",
   "execution_count": 159,
   "metadata": {},
   "outputs": [
    {
     "data": {
      "text/plain": [
       "Text(0.5, 1.0, 'Densidad x metrosTotales cross distribuition')"
      ]
     },
     "execution_count": 159,
     "metadata": {},
     "output_type": "execute_result"
    },
    {
     "data": {
      "image/png": "[encoded data removed]",
      "text/plain": [
       "<Figure size 864x576 with 1 Axes>"
      ]
     },
     "metadata": {
      "needs_background": "light"
     },
     "output_type": "display_data"
    }
   ],
   "source": [
    "# TODO referencias por color en la visualizacion\n",
    "plt.figure(figsize=(12,8))\n",
    "g = sns.distplot(casas[\"metrostotales\"], color='grey', label='casas', hist=False , kde_kws={\"shade\": True})\n",
    "g = sns.distplot(apartamentos['metrostotales'], color='green', label='apartamentos', hist=False, kde_kws={\"shade\": True})\n",
    "g = sns.distplot(casaencondominio['metrostotales'], color='red', label='casaencondominio', hist=False, kde_kws={\"shade\": True})\n",
    "g.set_title(\"Densidad x metrosTotales cross distribuition\", fontsize=18)\n"
   ]
  },
  {
   "cell_type": "markdown",
   "metadata": {},
   "source": [
    "## 3C matriz de correlacion para cada uno de los tipos"
   ]
  },
  {
   "cell_type": "code",
   "execution_count": 25,
   "metadata": {},
   "outputs": [],
   "source": [
    "# matriz de correlacion para las casas, apartamentos y  casa en condominio...\n",
    "# esto es para ver que como se relacionan las variables especificamente para cada una de ellas.\n",
    "#asi puedo profundizar por separado.\n"
   ]
  },
  {
   "cell_type": "markdown",
   "metadata": {},
   "source": [
    "## casas"
   ]
  },
  {
   "cell_type": "code",
   "execution_count": 146,
   "metadata": {},
   "outputs": [],
   "source": [
    "# Analizamos que features son numericas para correlacionarlas\n",
    "features_numericas = casas.select_dtypes(include=[np.number])"
   ]
  },
  {
   "cell_type": "code",
   "execution_count": 147,
   "metadata": {
    "scrolled": false
   },
   "outputs": [
    {
     "data": {
      "text/plain": [
       "Text(0.5, 1, 'Matriz de correlaciones de casas como heatmap')"
      ]
     },
     "execution_count": 147,
     "metadata": {},
     "output_type": "execute_result"
    },
    {
     "data": {
      "image/png": "[encoded data removed]",
      "text/plain": [
       "<Figure size 1440x648 with 2 Axes>"
      ]
     },
     "metadata": {
      "needs_background": "light"
     },
     "output_type": "display_data"
    }
   ],
   "source": [
    "# Matriz de correlaciones como heatmap\n",
    "corr = features_numericas.corr()\n",
    "plt.subplots(figsize=(20, 9))\n",
    "sns.heatmap(corr, square=True, cmap='Greens')\n",
    "plt.title(\"Matriz de correlaciones de casas como heatmap\")"
   ]
  },
  {
   "cell_type": "markdown",
   "metadata": {},
   "source": [
    "## apartamentos"
   ]
  },
  {
   "cell_type": "code",
   "execution_count": 148,
   "metadata": {},
   "outputs": [],
   "source": [
    "# Analizamos que features son numericas para correlacionarlas\n",
    "features_numericas = apartamentos.select_dtypes(include=[np.number])"
   ]
  },
  {
   "cell_type": "code",
   "execution_count": 149,
   "metadata": {},
   "outputs": [
    {
     "data": {
      "text/plain": [
       "Text(0.5, 1, 'Matriz de correlaciones de apartamentos como heatmap')"
      ]
     },
     "execution_count": 149,
     "metadata": {},
     "output_type": "execute_result"
    },
    {
     "data": {
      "image/png": "[encoded data removed]",
      "text/plain": [
       "<Figure size 1440x648 with 2 Axes>"
      ]
     },
     "metadata": {
      "needs_background": "light"
     },
     "output_type": "display_data"
    }
   ],
   "source": [
    "# Matriz de correlaciones como heatmap\n",
    "corr = features_numericas.corr()\n",
    "plt.subplots(figsize=(20, 9))\n",
    "sns.heatmap(corr, square=True, cmap='Greens')\n",
    "plt.title(\"Matriz de correlaciones de apartamentos como heatmap\")"
   ]
  },
  {
   "cell_type": "markdown",
   "metadata": {},
   "source": [
    "## casaencondominio"
   ]
  },
  {
   "cell_type": "code",
   "execution_count": 150,
   "metadata": {},
   "outputs": [],
   "source": [
    "# Analizamos que features son numericas para correlacionarlas\n",
    "features_numericas = casaencondominio.select_dtypes(include=[np.number])"
   ]
  },
  {
   "cell_type": "code",
   "execution_count": 151,
   "metadata": {},
   "outputs": [
    {
     "data": {
      "text/plain": [
       "Text(0.5, 1, 'Matriz de correlaciones de casas en condominio como heatmap')"
      ]
     },
     "execution_count": 151,
     "metadata": {},
     "output_type": "execute_result"
    },
    {
     "data": {
      "image/png": "[encoded data removed]",
      "text/plain": [
       "<Figure size 1440x648 with 2 Axes>"
      ]
     },
     "metadata": {
      "needs_background": "light"
     },
     "output_type": "display_data"
    }
   ],
   "source": [
    "# Matriz de correlaciones como heatmap\n",
    "corr = features_numericas.corr()\n",
    "plt.subplots(figsize=(20, 9))\n",
    "sns.heatmap(corr, square=True, cmap='Greens')\n",
    "plt.title(\"Matriz de correlaciones de casas en condominio como heatmap\")"
   ]
  },
  {
   "cell_type": "code",
   "execution_count": null,
   "metadata": {},
   "outputs": [],
   "source": []
  },
  {
   "cell_type": "markdown",
   "metadata": {},
   "source": [
    "# 3D luego explorar relaciones, seguramente baños, habitaciones (piscina gimnacio)"
   ]
  },
  {
   "cell_type": "code",
   "execution_count": null,
   "metadata": {},
   "outputs": [],
   "source": []
  },
  {
   "cell_type": "markdown",
   "metadata": {},
   "source": [
    "#  3E Por ultimo para el resto de las propiedades, veamos el promedio de metros cuadrados de lo ofrecido. (es el 10% del as ofertas)"
   ]
  },
  {
   "cell_type": "code",
   "execution_count": null,
   "metadata": {},
   "outputs": [],
   "source": []
  },
  {
   "cell_type": "markdown",
   "metadata": {},
   "source": [
    "##### Cantidad de banos que tienen los inmuebles"
   ]
  },
  {
   "cell_type": "code",
   "execution_count": 213,
   "metadata": {},
   "outputs": [],
   "source": [
    "banos = df ['banos']"
   ]
  },
  {
   "cell_type": "code",
   "execution_count": 214,
   "metadata": {},
   "outputs": [
    {
     "data": {
      "text/plain": [
       "2.00    87683\n",
       "1.00    58173\n",
       "3.00    49365\n",
       "4.00    18558\n",
       "Name: banos, dtype: int64"
      ]
     },
     "execution_count": 214,
     "metadata": {},
     "output_type": "execute_result"
    }
   ],
   "source": [
    "banos.value_counts()"
   ]
  },
  {
   "cell_type": "code",
   "execution_count": 163,
   "metadata": {},
   "outputs": [
    {
     "data": {
      "text/plain": [
       "Text(0, 0.5, 'cantidad inmuebles')"
      ]
     },
     "execution_count": 163,
     "metadata": {},
     "output_type": "execute_result"
    },
    {
     "data": {
      "image/png": "[encoded data removed]",
      "text/plain": [
       "<Figure size 720x432 with 1 Axes>"
      ]
     },
     "metadata": {
      "needs_background": "light"
     },
     "output_type": "display_data"
    }
   ],
   "source": [
    "plt.figure(figsize=(10,6))\n",
    "g = df['banos'].plot.hist(bins=6, color='lightblue')\n",
    "g.set_title(\"Histograma de baños por inmueble\", fontsize=18)\n",
    "g.set_xlabel(\"cantidad (baños)\",fontsize=18)\n",
    "g.set_ylabel(\"cantidad inmuebles\", fontsize=18)"
   ]
  },
  {
   "cell_type": "code",
   "execution_count": null,
   "metadata": {},
   "outputs": [],
   "source": []
  }
 ],
 "metadata": {
  "kernelspec": {
   "display_name": "Python 3",
   "language": "python",
   "name": "python3"
  },
  "language_info": {
   "codemirror_mode": {
    "name": "ipython",
    "version": 3
   },
   "file_extension": ".py",
   "mimetype": "text/x-python",
   "name": "python",
   "nbconvert_exporter": "python",
   "pygments_lexer": "ipython3",
   "version": "3.7.3"
  }
 },
 "nbformat": 4,
 "nbformat_minor": 2
}
