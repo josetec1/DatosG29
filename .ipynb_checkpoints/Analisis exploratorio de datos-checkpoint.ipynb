{
 "cells": [
  {
   "cell_type": "markdown",
   "metadata": {},
   "source": [
    "# Analisis exploratorio de datos"
   ]
  },
  {
   "cell_type": "markdown",
   "metadata": {},
   "source": [
    "### Indice\n",
    "1.\tCarga de información en un DataFrame\n",
    "2.\tAnalizando utilizacion de memoria del dataframe\n",
    "3.\tConversion de Datos y mejoras en uso de memoria\n",
    "4.\tVerificacion de Calidad de Datos\n",
    "5.\tAnalizando propiedades especificas del set de datos\n",
    "6.\tManejo de valores nulos\n"
   ]
  },
  {
   "cell_type": "markdown",
   "metadata": {},
   "source": [
    "## 1) Carga de informacion en un DataFrame"
   ]
  },
  {
   "cell_type": "code",
   "execution_count": 122,
   "metadata": {},
   "outputs": [],
   "source": [
    "import pandas as pd\n",
    "df = pd.read_csv(\"datos/train.csv\", sep=\",\")\n",
    "pd.options.display.float_format = '{:20,.2f}'.format # suprimimos la notacion cientifica en los outputs"
   ]
  },
  {
   "cell_type": "code",
   "execution_count": 79,
   "metadata": {},
   "outputs": [
    {
     "data": {
      "text/html": [
       "<div>\n",
       "<style scoped>\n",
       "    .dataframe tbody tr th:only-of-type {\n",
       "        vertical-align: middle;\n",
       "    }\n",
       "\n",
       "    .dataframe tbody tr th {\n",
       "        vertical-align: top;\n",
       "    }\n",
       "\n",
       "    .dataframe thead th {\n",
       "        text-align: right;\n",
       "    }\n",
       "</style>\n",
       "<table border=\"1\" class=\"dataframe\">\n",
       "  <thead>\n",
       "    <tr style=\"text-align: right;\">\n",
       "      <th></th>\n",
       "      <th>id</th>\n",
       "      <th>titulo</th>\n",
       "      <th>descripcion</th>\n",
       "      <th>tipodepropiedad</th>\n",
       "      <th>direccion</th>\n",
       "      <th>ciudad</th>\n",
       "      <th>provincia</th>\n",
       "      <th>antiguedad</th>\n",
       "      <th>habitaciones</th>\n",
       "      <th>garages</th>\n",
       "      <th>...</th>\n",
       "      <th>idzona</th>\n",
       "      <th>lat</th>\n",
       "      <th>lng</th>\n",
       "      <th>fecha</th>\n",
       "      <th>gimnasio</th>\n",
       "      <th>usosmultiples</th>\n",
       "      <th>piscina</th>\n",
       "      <th>escuelascercanas</th>\n",
       "      <th>centroscomercialescercanos</th>\n",
       "      <th>precio</th>\n",
       "    </tr>\n",
       "  </thead>\n",
       "  <tbody>\n",
       "    <tr>\n",
       "      <th>98320</th>\n",
       "      <td>210680</td>\n",
       "      <td>naturaleza, confort y privacidad en un solo lugar</td>\n",
       "      <td>&lt;p&gt;ev1098.- envidiable vista panorámica, entre...</td>\n",
       "      <td>Casa</td>\n",
       "      <td>NaN</td>\n",
       "      <td>Atizapán de Zaragoza</td>\n",
       "      <td>Edo. de México</td>\n",
       "      <td>12.00</td>\n",
       "      <td>3.00</td>\n",
       "      <td>3.00</td>\n",
       "      <td>...</td>\n",
       "      <td>55,674.00</td>\n",
       "      <td>19.55</td>\n",
       "      <td>-99.30</td>\n",
       "      <td>2014-11-01 00:00:00</td>\n",
       "      <td>0.00</td>\n",
       "      <td>0.00</td>\n",
       "      <td>0.00</td>\n",
       "      <td>0.00</td>\n",
       "      <td>0.00</td>\n",
       "      <td>4,690,000.00</td>\n",
       "    </tr>\n",
       "    <tr>\n",
       "      <th>37914</th>\n",
       "      <td>239678</td>\n",
       "      <td>bonita casa, ciudad satelite, nauc. recuperaci...</td>\n",
       "      <td>inmueble de remate bancario. no se aceptan cre...</td>\n",
       "      <td>Casa</td>\n",
       "      <td>C.EZEQUIEL MONTES 12</td>\n",
       "      <td>Naucalpan de Juárez</td>\n",
       "      <td>Edo. de México</td>\n",
       "      <td>20.00</td>\n",
       "      <td>4.00</td>\n",
       "      <td>2.00</td>\n",
       "      <td>...</td>\n",
       "      <td>55,795.00</td>\n",
       "      <td>19.51</td>\n",
       "      <td>-99.25</td>\n",
       "      <td>2016-04-17 00:00:00</td>\n",
       "      <td>0.00</td>\n",
       "      <td>0.00</td>\n",
       "      <td>0.00</td>\n",
       "      <td>0.00</td>\n",
       "      <td>1.00</td>\n",
       "      <td>2,060,000.00</td>\n",
       "    </tr>\n",
       "    <tr>\n",
       "      <th>140147</th>\n",
       "      <td>25046</td>\n",
       "      <td>venta de casa en zapopan</td>\n",
       "      <td>bugambilias primera seccion, ideal para remode...</td>\n",
       "      <td>Casa</td>\n",
       "      <td>Paseo de las Camelias 2159</td>\n",
       "      <td>Zapopan</td>\n",
       "      <td>Jalisco</td>\n",
       "      <td>26.00</td>\n",
       "      <td>4.00</td>\n",
       "      <td>nan</td>\n",
       "      <td>...</td>\n",
       "      <td>nan</td>\n",
       "      <td>nan</td>\n",
       "      <td>nan</td>\n",
       "      <td>2014-09-09 00:00:00</td>\n",
       "      <td>0.00</td>\n",
       "      <td>0.00</td>\n",
       "      <td>0.00</td>\n",
       "      <td>0.00</td>\n",
       "      <td>0.00</td>\n",
       "      <td>2,890,000.00</td>\n",
       "    </tr>\n",
       "  </tbody>\n",
       "</table>\n",
       "<p>3 rows × 23 columns</p>\n",
       "</div>"
      ],
      "text/plain": [
       "            id                                             titulo  \\\n",
       "98320   210680  naturaleza, confort y privacidad en un solo lugar   \n",
       "37914   239678  bonita casa, ciudad satelite, nauc. recuperaci...   \n",
       "140147   25046                           venta de casa en zapopan   \n",
       "\n",
       "                                              descripcion tipodepropiedad  \\\n",
       "98320   <p>ev1098.- envidiable vista panorámica, entre...            Casa   \n",
       "37914   inmueble de remate bancario. no se aceptan cre...            Casa   \n",
       "140147  bugambilias primera seccion, ideal para remode...            Casa   \n",
       "\n",
       "                         direccion                ciudad       provincia  \\\n",
       "98320                          NaN  Atizapán de Zaragoza  Edo. de México   \n",
       "37914         C.EZEQUIEL MONTES 12   Naucalpan de Juárez  Edo. de México   \n",
       "140147  Paseo de las Camelias 2159               Zapopan         Jalisco   \n",
       "\n",
       "                 antiguedad         habitaciones              garages  ...  \\\n",
       "98320                 12.00                 3.00                 3.00  ...   \n",
       "37914                 20.00                 4.00                 2.00  ...   \n",
       "140147                26.00                 4.00                  nan  ...   \n",
       "\n",
       "                     idzona                  lat                  lng  \\\n",
       "98320             55,674.00                19.55               -99.30   \n",
       "37914             55,795.00                19.51               -99.25   \n",
       "140147                  nan                  nan                  nan   \n",
       "\n",
       "                      fecha             gimnasio        usosmultiples  \\\n",
       "98320   2014-11-01 00:00:00                 0.00                 0.00   \n",
       "37914   2016-04-17 00:00:00                 0.00                 0.00   \n",
       "140147  2014-09-09 00:00:00                 0.00                 0.00   \n",
       "\n",
       "                    piscina     escuelascercanas  centroscomercialescercanos  \\\n",
       "98320                  0.00                 0.00                        0.00   \n",
       "37914                  0.00                 0.00                        1.00   \n",
       "140147                 0.00                 0.00                        0.00   \n",
       "\n",
       "                     precio  \n",
       "98320          4,690,000.00  \n",
       "37914          2,060,000.00  \n",
       "140147         2,890,000.00  \n",
       "\n",
       "[3 rows x 23 columns]"
      ]
     },
     "execution_count": 79,
     "metadata": {},
     "output_type": "execute_result"
    }
   ],
   "source": [
    "df.sample(3)"
   ]
  },
  {
   "cell_type": "code",
   "execution_count": 80,
   "metadata": {},
   "outputs": [
    {
     "data": {
      "text/plain": [
       "id                                                                       254099\n",
       "titulo                                                        depto. tipo a-402\n",
       "descripcion                   depto. interior de 80.15m2, consta de sala com...\n",
       "tipodepropiedad                                                     Apartamento\n",
       "direccion                                       Avenida Division del Norte 2005\n",
       "ciudad                                                            Benito Juárez\n",
       "provincia                                                      Distrito Federal\n",
       "antiguedad                                                                  NaN\n",
       "habitaciones                                                               2.00\n",
       "garages                                                                    1.00\n",
       "banos                                                                      2.00\n",
       "metroscubiertos                                                           80.00\n",
       "metrostotales                                                             80.00\n",
       "idzona                                                                23,533.00\n",
       "lat                                                                         NaN\n",
       "lng                                                                         NaN\n",
       "fecha                                                       2015-08-23 00:00:00\n",
       "gimnasio                                                                   0.00\n",
       "usosmultiples                                                              0.00\n",
       "piscina                                                                    0.00\n",
       "escuelascercanas                                                           0.00\n",
       "centroscomercialescercanos                                                 0.00\n",
       "precio                                                             2,273,000.00\n",
       "Name: 0, dtype: object"
      ]
     },
     "execution_count": 80,
     "metadata": {},
     "output_type": "execute_result"
    }
   ],
   "source": [
    "df.loc[0]"
   ]
  },
  {
   "cell_type": "code",
   "execution_count": 81,
   "metadata": {},
   "outputs": [
    {
     "name": "stdout",
     "output_type": "stream",
     "text": [
      "(240000, 23)\n"
     ]
    },
    {
     "data": {
      "text/plain": [
       "5520000"
      ]
     },
     "execution_count": 81,
     "metadata": {},
     "output_type": "execute_result"
    }
   ],
   "source": [
    "# dimensiones del DF\n",
    "print(df.shape)\n",
    "df.size # rows x col"
   ]
  },
  {
   "cell_type": "markdown",
   "metadata": {},
   "source": [
    "### 2 Analizando utilizacion de memoria del dataframe"
   ]
  },
  {
   "cell_type": "code",
   "execution_count": 82,
   "metadata": {},
   "outputs": [
    {
     "name": "stdout",
     "output_type": "stream",
     "text": [
      "<class 'pandas.core.frame.DataFrame'>\n",
      "RangeIndex: 240000 entries, 0 to 239999\n",
      "Data columns (total 23 columns):\n",
      "id                            240000 non-null int64\n",
      "titulo                        234613 non-null object\n",
      "descripcion                   238381 non-null object\n",
      "tipodepropiedad               239954 non-null object\n",
      "direccion                     186928 non-null object\n",
      "ciudad                        239628 non-null object\n",
      "provincia                     239845 non-null object\n",
      "antiguedad                    196445 non-null float64\n",
      "habitaciones                  217529 non-null float64\n",
      "garages                       202235 non-null float64\n",
      "banos                         213779 non-null float64\n",
      "metroscubiertos               222600 non-null float64\n",
      "metrostotales                 188533 non-null float64\n",
      "idzona                        211379 non-null float64\n",
      "lat                           116512 non-null float64\n",
      "lng                           116512 non-null float64\n",
      "fecha                         240000 non-null object\n",
      "gimnasio                      240000 non-null float64\n",
      "usosmultiples                 240000 non-null float64\n",
      "piscina                       240000 non-null float64\n",
      "escuelascercanas              240000 non-null float64\n",
      "centroscomercialescercanos    240000 non-null float64\n",
      "precio                        240000 non-null float64\n",
      "dtypes: float64(15), int64(1), object(7)\n",
      "memory usage: 42.1+ MB\n"
     ]
    }
   ],
   "source": [
    "# veo info general\n",
    "df.info()"
   ]
  },
  {
   "cell_type": "code",
   "execution_count": 83,
   "metadata": {},
   "outputs": [
    {
     "data": {
      "text/plain": [
       "id                            240000\n",
       "titulo                        234613\n",
       "descripcion                   238381\n",
       "tipodepropiedad               239954\n",
       "direccion                     186928\n",
       "ciudad                        239628\n",
       "provincia                     239845\n",
       "antiguedad                    196445\n",
       "habitaciones                  217529\n",
       "garages                       202235\n",
       "banos                         213779\n",
       "metroscubiertos               222600\n",
       "metrostotales                 188533\n",
       "idzona                        211379\n",
       "lat                           116512\n",
       "lng                           116512\n",
       "fecha                         240000\n",
       "gimnasio                      240000\n",
       "usosmultiples                 240000\n",
       "piscina                       240000\n",
       "escuelascercanas              240000\n",
       "centroscomercialescercanos    240000\n",
       "precio                        240000\n",
       "dtype: int64"
      ]
     },
     "execution_count": 83,
     "metadata": {},
     "output_type": "execute_result"
    }
   ],
   "source": [
    "# cantidad de elementos elementos no nulos en el data frame\n",
    "df.count()"
   ]
  },
  {
   "cell_type": "markdown",
   "metadata": {},
   "source": [
    "### 3.\tConversion de Datos y mejoras en uso de memoria"
   ]
  },
  {
   "cell_type": "markdown",
   "metadata": {},
   "source": [
    "#### provincia"
   ]
  },
  {
   "cell_type": "code",
   "execution_count": 84,
   "metadata": {},
   "outputs": [
    {
     "data": {
      "text/plain": [
       "Index             80\n",
       "provincia    1920000\n",
       "dtype: int64"
      ]
     },
     "execution_count": 84,
     "metadata": {},
     "output_type": "execute_result"
    }
   ],
   "source": [
    "df.loc[:,['provincia']].memory_usage()"
   ]
  },
  {
   "cell_type": "code",
   "execution_count": 85,
   "metadata": {},
   "outputs": [
    {
     "data": {
      "text/plain": [
       "33"
      ]
     },
     "execution_count": 85,
     "metadata": {},
     "output_type": "execute_result"
    }
   ],
   "source": [
    "df['provincia'].unique().size"
   ]
  },
  {
   "cell_type": "code",
   "execution_count": 86,
   "metadata": {},
   "outputs": [
    {
     "data": {
      "text/plain": [
       "Distrito Federal         58790\n",
       "Edo. de México           41607\n",
       "Jalisco                  21238\n",
       "Querétaro                16988\n",
       "Nuevo León               15324\n",
       "Puebla                   10421\n",
       "San luis Potosí           8447\n",
       "Yucatán                   7928\n",
       "Morelos                   7337\n",
       "Veracruz                  5762\n",
       "Quintana Roo              4756\n",
       "Chihuahua                 4590\n",
       "Coahuila                  3695\n",
       "Baja California Norte     3220\n",
       "Sonora                    2988\n",
       "Guanajuato                2860\n",
       "Guerrero                  2678\n",
       "Hidalgo                   2521\n",
       "Michoacán                 2471\n",
       "Tamaulipas                2303\n",
       "Durango                   2275\n",
       "Sinaloa                   1806\n",
       "Aguascalientes            1753\n",
       "Baja California Sur       1700\n",
       "Nayarit                   1352\n",
       "Chiapas                   1126\n",
       "Colima                    1008\n",
       "Tabasco                    994\n",
       "Tlaxcala                   839\n",
       "Oaxaca                     711\n",
       "Campeche                   263\n",
       "Zacatecas                   94\n",
       "Name: provincia, dtype: int64"
      ]
     },
     "execution_count": 86,
     "metadata": {},
     "output_type": "execute_result"
    }
   ],
   "source": [
    "df['provincia'].value_counts()"
   ]
  },
  {
   "cell_type": "code",
   "execution_count": 87,
   "metadata": {},
   "outputs": [],
   "source": [
    "# creo una nueva serie en el df de tipo category (enum)\n",
    "df['provincia'] = df['provincia'].astype('category')"
   ]
  },
  {
   "cell_type": "code",
   "execution_count": 88,
   "metadata": {},
   "outputs": [
    {
     "data": {
      "text/plain": [
       "241616"
      ]
     },
     "execution_count": 88,
     "metadata": {},
     "output_type": "execute_result"
    }
   ],
   "source": [
    "df['provincia'].memory_usage()"
   ]
  },
  {
   "cell_type": "code",
   "execution_count": 89,
   "metadata": {},
   "outputs": [
    {
     "data": {
      "text/plain": [
       "CategoricalDtype(categories=['Aguascalientes', 'Baja California Norte',\n",
       "                  'Baja California Sur', 'Campeche', 'Chiapas', 'Chihuahua',\n",
       "                  'Coahuila', 'Colima', 'Distrito Federal', 'Durango',\n",
       "                  'Edo. de México', 'Guanajuato', 'Guerrero', 'Hidalgo',\n",
       "                  'Jalisco', 'Michoacán', 'Morelos', 'Nayarit', 'Nuevo León',\n",
       "                  'Oaxaca', 'Puebla', 'Querétaro', 'Quintana Roo',\n",
       "                  'San luis Potosí', 'Sinaloa', 'Sonora', 'Tabasco',\n",
       "                  'Tamaulipas', 'Tlaxcala', 'Veracruz', 'Yucatán',\n",
       "                  'Zacatecas'],\n",
       "                 ordered=False)"
      ]
     },
     "execution_count": 89,
     "metadata": {},
     "output_type": "execute_result"
    }
   ],
   "source": [
    "df['provincia'].dtype"
   ]
  },
  {
   "cell_type": "markdown",
   "metadata": {},
   "source": [
    "#### Fechas"
   ]
  },
  {
   "cell_type": "code",
   "execution_count": 90,
   "metadata": {},
   "outputs": [
    {
     "data": {
      "text/plain": [
       "0    2015-08-23 00:00:00\n",
       "Name: fecha, dtype: object"
      ]
     },
     "execution_count": 90,
     "metadata": {},
     "output_type": "execute_result"
    }
   ],
   "source": [
    "df.loc[0:0 , 'fecha']"
   ]
  },
  {
   "cell_type": "code",
   "execution_count": 106,
   "metadata": {},
   "outputs": [],
   "source": [
    "# Seteamos la fecha al tipo datetime\n",
    "df['fecha'] = pd.to_datetime(df['fecha'])\n",
    "# generamos una nueva columna obteniendo el año y mes\n",
    "df['year'] = df['fecha'].dt.year\n",
    "df['month'] = df['fecha'].dt.month"
   ]
  },
  {
   "cell_type": "code",
   "execution_count": 119,
   "metadata": {},
   "outputs": [
    {
     "data": {
      "text/plain": [
       "id                                     int64\n",
       "titulo                                object\n",
       "descripcion                           object\n",
       "tipodepropiedad                     category\n",
       "direccion                             object\n",
       "ciudad                              category\n",
       "provincia                           category\n",
       "antiguedad                           float64\n",
       "habitaciones                         float64\n",
       "garages                              float64\n",
       "banos                                float64\n",
       "metroscubiertos                      float64\n",
       "metrostotales                        float64\n",
       "idzona                               float64\n",
       "lat                                  float64\n",
       "lng                                  float64\n",
       "fecha                         datetime64[ns]\n",
       "gimnasio                             float64\n",
       "usosmultiples                        float64\n",
       "piscina                              float64\n",
       "escuelascercanas                     float64\n",
       "centroscomercialescercanos           float64\n",
       "precio                               float64\n",
       "year                                   int64\n",
       "month                                  int64\n",
       "dtype: object"
      ]
     },
     "execution_count": 119,
     "metadata": {},
     "output_type": "execute_result"
    }
   ],
   "source": [
    "df.dtypes"
   ]
  },
  {
   "cell_type": "markdown",
   "metadata": {},
   "source": [
    "#### tipodepropiedad"
   ]
  },
  {
   "cell_type": "code",
   "execution_count": 93,
   "metadata": {},
   "outputs": [
    {
     "data": {
      "text/plain": [
       "25"
      ]
     },
     "execution_count": 93,
     "metadata": {},
     "output_type": "execute_result"
    }
   ],
   "source": [
    "df['tipodepropiedad'].unique().size"
   ]
  },
  {
   "cell_type": "code",
   "execution_count": 94,
   "metadata": {},
   "outputs": [
    {
     "data": {
      "text/plain": [
       "Casa                             141717\n",
       "Apartamento                       57341\n",
       "Casa en condominio                19297\n",
       "Terreno                            9945\n",
       "Local Comercial                    3055\n",
       "Oficina comercial                  1741\n",
       "Bodega comercial                   1406\n",
       "Edificio                           1396\n",
       "Terreno comercial                  1326\n",
       "Casa uso de suelo                   708\n",
       "Quinta Vacacional                   395\n",
       "Duplex                              343\n",
       "Villa                               340\n",
       "Inmuebles productivos urbanos       200\n",
       "Rancho                              170\n",
       "Local en centro comercial           165\n",
       "Departamento Compartido             141\n",
       "Otros                               134\n",
       "Nave industrial                      76\n",
       "Terreno industrial                   31\n",
       "Huerta                               20\n",
       "Lote                                  5\n",
       "Garage                                1\n",
       "Hospedaje                             1\n",
       "Name: tipodepropiedad, dtype: int64"
      ]
     },
     "execution_count": 94,
     "metadata": {},
     "output_type": "execute_result"
    }
   ],
   "source": [
    "df['tipodepropiedad'].value_counts()"
   ]
  },
  {
   "cell_type": "code",
   "execution_count": 95,
   "metadata": {},
   "outputs": [],
   "source": [
    "df['tipodepropiedad'] = df['tipodepropiedad'].astype('category')"
   ]
  },
  {
   "cell_type": "code",
   "execution_count": 96,
   "metadata": {},
   "outputs": [
    {
     "data": {
      "text/plain": [
       "CategoricalDtype(categories=['Apartamento', 'Bodega comercial', 'Casa',\n",
       "                  'Casa en condominio', 'Casa uso de suelo',\n",
       "                  'Departamento Compartido', 'Duplex', 'Edificio', 'Garage',\n",
       "                  'Hospedaje', 'Huerta', 'Inmuebles productivos urbanos',\n",
       "                  'Local Comercial', 'Local en centro comercial', 'Lote',\n",
       "                  'Nave industrial', 'Oficina comercial', 'Otros',\n",
       "                  'Quinta Vacacional', 'Rancho', 'Terreno',\n",
       "                  'Terreno comercial', 'Terreno industrial', 'Villa'],\n",
       "                 ordered=False)"
      ]
     },
     "execution_count": 96,
     "metadata": {},
     "output_type": "execute_result"
    }
   ],
   "source": [
    "df['tipodepropiedad'].dtype"
   ]
  },
  {
   "cell_type": "markdown",
   "metadata": {},
   "source": [
    "#### ciudad"
   ]
  },
  {
   "cell_type": "code",
   "execution_count": 98,
   "metadata": {},
   "outputs": [
    {
     "data": {
      "text/plain": [
       "876"
      ]
     },
     "execution_count": 98,
     "metadata": {},
     "output_type": "execute_result"
    }
   ],
   "source": [
    "df['ciudad'].unique().size"
   ]
  },
  {
   "cell_type": "code",
   "execution_count": 99,
   "metadata": {},
   "outputs": [
    {
     "data": {
      "text/plain": [
       "Querétaro                        12646\n",
       "Benito Juárez                    11014\n",
       "Zapopan                          10360\n",
       "San Luis Potosí                   7925\n",
       "Mérida                            7162\n",
       "Monterrey                         6946\n",
       "Alvaro Obregón                    6633\n",
       "Cuauhtémoc                        6614\n",
       "Naucalpan de Juárez               6554\n",
       "Miguel Hidalgo                    5795\n",
       "Atizapán de Zaragoza              5783\n",
       "Tlalpan                           5721\n",
       "Huixquilucan                      5718\n",
       "Coyoacán                          5293\n",
       "Puebla                            4636\n",
       "Guadalajara                       4006\n",
       "San Andrés Cholula                3805\n",
       "Cancún                            3779\n",
       "Cuernavaca                        3775\n",
       "Chihuahua                         3757\n",
       "Tlalnepantla de Baz               3588\n",
       "Cuautitlán Izcalli                3408\n",
       "Tlajomulco de Zúñiga              3254\n",
       "Gustavo A. Madero                 3141\n",
       "Iztapalapa                        3093\n",
       "Cuajimalpa de Morelos             3020\n",
       "Tijuana                           2863\n",
       "Hermosillo                        2590\n",
       "Acapulco de Juárez                2454\n",
       "Ecatepec de Morelos               2159\n",
       "                                 ...  \n",
       "Atoyac de Alvarez                    1\n",
       "Chavinda                             1\n",
       "Atlangatepec                         1\n",
       "Sabinas                              1\n",
       "Juárez Hidalgo                       1\n",
       "Tixtla de Guerrero                   1\n",
       "CopAndaro                            1\n",
       "Ciénega de Zimatlán                  1\n",
       "Villagrán                            1\n",
       "Chilapa de Alvarez                   1\n",
       "Gral. Bravo                          1\n",
       "Progreso de Obregón                  1\n",
       "Villa de Cos                         1\n",
       "Chínipas                             1\n",
       "Los Reyes                            1\n",
       "General Plutarco Elías Calles        1\n",
       "Santa Cruz Acatepec                  1\n",
       "Cocotitlán                           1\n",
       "Tocumbo                              1\n",
       "PuruAndiro                           1\n",
       "El Barrio de la Soledad              1\n",
       "San Mateo Río Hondo                  1\n",
       "Almoloya del Río                     1\n",
       "San Jerónimo Tecuanipan              1\n",
       "Gral. Treviño                        1\n",
       "Suma                                 1\n",
       "El Mante                             1\n",
       "San Gabriel                          1\n",
       "Bella Vista                          1\n",
       "Dr. Belisario Domínguez              1\n",
       "Name: ciudad, Length: 875, dtype: int64"
      ]
     },
     "execution_count": 99,
     "metadata": {},
     "output_type": "execute_result"
    }
   ],
   "source": [
    "df['ciudad'].value_counts()"
   ]
  },
  {
   "cell_type": "code",
   "execution_count": 100,
   "metadata": {},
   "outputs": [],
   "source": [
    "df['ciudad'] = df['ciudad'].astype('category')"
   ]
  },
  {
   "cell_type": "code",
   "execution_count": 101,
   "metadata": {},
   "outputs": [
    {
     "data": {
      "text/plain": [
       "CategoricalDtype(categories=['Abalá', 'Abasolo', 'Abejones', 'Acajete', 'Acambay',\n",
       "                  'Acaponeta', 'Acapulco de Juárez', 'Acateno', 'Acatic',\n",
       "                  'Acatzingo',\n",
       "                  ...\n",
       "                  'Zitácuaro', 'Zumpahuacán', 'Zumpango', 'otra', 'ácatlán',\n",
       "                  'ácatlán de Juárez', 'ácaxochitlán', 'ácámbaro',\n",
       "                  'áutlán de Navarro', 'áyotlán'],\n",
       "                 ordered=False)"
      ]
     },
     "execution_count": 101,
     "metadata": {},
     "output_type": "execute_result"
    }
   ],
   "source": [
    "df['ciudad'].dtype"
   ]
  },
  {
   "cell_type": "code",
   "execution_count": 120,
   "metadata": {},
   "outputs": [
    {
     "data": {
      "text/plain": [
       "id                                     int64\n",
       "titulo                                object\n",
       "descripcion                           object\n",
       "tipodepropiedad                     category\n",
       "direccion                             object\n",
       "ciudad                              category\n",
       "provincia                           category\n",
       "antiguedad                           float64\n",
       "habitaciones                         float64\n",
       "garages                              float64\n",
       "banos                                float64\n",
       "metroscubiertos                      float64\n",
       "metrostotales                        float64\n",
       "idzona                               float64\n",
       "lat                                  float64\n",
       "lng                                  float64\n",
       "fecha                         datetime64[ns]\n",
       "gimnasio                             float64\n",
       "usosmultiples                        float64\n",
       "piscina                              float64\n",
       "escuelascercanas                     float64\n",
       "centroscomercialescercanos           float64\n",
       "precio                               float64\n",
       "year                                   int64\n",
       "month                                  int64\n",
       "dtype: object"
      ]
     },
     "execution_count": 120,
     "metadata": {},
     "output_type": "execute_result"
    }
   ],
   "source": [
    "df.dtypes"
   ]
  },
  {
   "cell_type": "markdown",
   "metadata": {},
   "source": [
    "\n",
    "## 4.\tVerificacion de Calidad de Datos"
   ]
  },
  {
   "cell_type": "code",
   "execution_count": null,
   "metadata": {},
   "outputs": [],
   "source": []
  },
  {
   "cell_type": "code",
   "execution_count": null,
   "metadata": {},
   "outputs": [],
   "source": []
  },
  {
   "cell_type": "code",
   "execution_count": null,
   "metadata": {},
   "outputs": [],
   "source": []
  },
  {
   "cell_type": "code",
   "execution_count": null,
   "metadata": {},
   "outputs": [],
   "source": []
  },
  {
   "cell_type": "markdown",
   "metadata": {},
   "source": [
    "## 5) Analizando propiedades especificas del set de datos"
   ]
  },
  {
   "cell_type": "code",
   "execution_count": 18,
   "metadata": {},
   "outputs": [],
   "source": [
    "# Revisemos alguna caterogia principal para ver como esta compuesta:\n",
    "# Por ejemplo para provincia, la cantidad de inmuebles que hay"
   ]
  },
  {
   "cell_type": "code",
   "execution_count": 42,
   "metadata": {},
   "outputs": [],
   "source": [
    "provincias = df['provincia']  #subset"
   ]
  },
  {
   "cell_type": "code",
   "execution_count": 43,
   "metadata": {},
   "outputs": [
    {
     "data": {
      "text/plain": [
       "Distrito Federal         58790\n",
       "Edo. de México           41607\n",
       "Jalisco                  21238\n",
       "Querétaro                16988\n",
       "Nuevo León               15324\n",
       "Puebla                   10421\n",
       "San luis Potosí           8447\n",
       "Yucatán                   7928\n",
       "Morelos                   7337\n",
       "Veracruz                  5762\n",
       "Quintana Roo              4756\n",
       "Chihuahua                 4590\n",
       "Coahuila                  3695\n",
       "Baja California Norte     3220\n",
       "Sonora                    2988\n",
       "Guanajuato                2860\n",
       "Guerrero                  2678\n",
       "Hidalgo                   2521\n",
       "Michoacán                 2471\n",
       "Tamaulipas                2303\n",
       "Durango                   2275\n",
       "Sinaloa                   1806\n",
       "Aguascalientes            1753\n",
       "Baja California Sur       1700\n",
       "Nayarit                   1352\n",
       "Chiapas                   1126\n",
       "Colima                    1008\n",
       "Tabasco                    994\n",
       "Tlaxcala                   839\n",
       "Oaxaca                     711\n",
       "Campeche                   263\n",
       "Zacatecas                   94\n",
       "Name: provincia, dtype: int64"
      ]
     },
     "execution_count": 43,
     "metadata": {},
     "output_type": "execute_result"
    }
   ],
   "source": [
    "provincias.value_counts()"
   ]
  },
  {
   "cell_type": "code",
   "execution_count": null,
   "metadata": {},
   "outputs": [],
   "source": [
    "# cantidad de cada tipo de propiedades"
   ]
  },
  {
   "cell_type": "code",
   "execution_count": 44,
   "metadata": {},
   "outputs": [],
   "source": [
    "propiedades = df ['tipodepropiedad']"
   ]
  },
  {
   "cell_type": "code",
   "execution_count": 46,
   "metadata": {},
   "outputs": [
    {
     "data": {
      "text/plain": [
       "Casa                             141717\n",
       "Apartamento                       57341\n",
       "Casa en condominio                19297\n",
       "Terreno                            9945\n",
       "Local Comercial                    3055\n",
       "Oficina comercial                  1741\n",
       "Bodega comercial                   1406\n",
       "Edificio                           1396\n",
       "Terreno comercial                  1326\n",
       "Casa uso de suelo                   708\n",
       "Quinta Vacacional                   395\n",
       "Duplex                              343\n",
       "Villa                               340\n",
       "Inmuebles productivos urbanos       200\n",
       "Rancho                              170\n",
       "Local en centro comercial           165\n",
       "Departamento Compartido             141\n",
       "Otros                               134\n",
       "Nave industrial                      76\n",
       "Terreno industrial                   31\n",
       "Huerta                               20\n",
       "Lote                                  5\n",
       "Garage                                1\n",
       "Hospedaje                             1\n",
       "Name: tipodepropiedad, dtype: int64"
      ]
     },
     "execution_count": 46,
     "metadata": {},
     "output_type": "execute_result"
    }
   ],
   "source": [
    "propiedades.value_counts()"
   ]
  },
  {
   "cell_type": "code",
   "execution_count": null,
   "metadata": {},
   "outputs": [],
   "source": [
    "#precio promedio de las propiedades de cada provincia."
   ]
  },
  {
   "cell_type": "code",
   "execution_count": null,
   "metadata": {},
   "outputs": [],
   "source": [
    "#Precio promedio de cada tipo de propiedades."
   ]
  },
  {
   "cell_type": "code",
   "execution_count": 221,
   "metadata": {},
   "outputs": [
    {
     "data": {
      "text/plain": [
       "50,003,995.00    2539\n",
       "    84,312.00    2022\n",
       "   334,898.00    1545\n",
       "50,003,997.00    1409\n",
       "50,003,998.00    1400\n",
       "   275,358.00    1274\n",
       "    55,795.00    1143\n",
       "   286,309.00    1060\n",
       "    23,815.00    1023\n",
       "50,003,996.00    973 \n",
       "    87,460.00    912 \n",
       "    55,584.00    879 \n",
       "    23,569.00    863 \n",
       "    55,520.00    729 \n",
       "    84,028.00    610 \n",
       "50,002,774.00    606 \n",
       "    23,191.00    599 \n",
       "    84,338.00    590 \n",
       "    24,481.00    590 \n",
       "    55,519.00    587 \n",
       "   275,308.00    579 \n",
       "    24,823.00    575 \n",
       "    23,734.00    566 \n",
       "    55,552.00    537 \n",
       "    23,365.00    533 \n",
       "   339,455.00    513 \n",
       "    23,837.00    510 \n",
       "   343,015.00    503 \n",
       "    55,678.00    475 \n",
       "50,003,999.00    448 \n",
       "                ...  \n",
       "    87,478.00    1   \n",
       "   116,169.00    1   \n",
       "    93,754.00    1   \n",
       "   130,040.00    1   \n",
       "     1,331.00    1   \n",
       "    71,688.00    1   \n",
       "   105,566.00    1   \n",
       "   105,568.00    1   \n",
       "    79,916.00    1   \n",
       "   126,518.00    1   \n",
       "    72,809.00    1   \n",
       "   122,515.00    1   \n",
       "    47,689.00    1   \n",
       "   127,554.00    1   \n",
       "   122,523.00    1   \n",
       "    56,074.00    1   \n",
       "   105,596.00    1   \n",
       "     3,300.00    1   \n",
       "    69,092.00    1   \n",
       "    56,940.00    1   \n",
       "    57,408.00    1   \n",
       "    72,853.00    1   \n",
       "   291,417.00    1   \n",
       "   126,509.00    1   \n",
       "    15,318.00    1   \n",
       "     1,780.00    1   \n",
       "    41,950.00    1   \n",
       "    36,441.00    1   \n",
       "    15,319.00    1   \n",
       "    52,082.00    1   \n",
       "Name: idzona, Length: 19719, dtype: int64"
      ]
     },
     "execution_count": 221,
     "metadata": {},
     "output_type": "execute_result"
    }
   ],
   "source": [
    "df['idzona'].value_counts()   #esto no se que es"
   ]
  },
  {
   "cell_type": "code",
   "execution_count": 211,
   "metadata": {},
   "outputs": [
    {
     "data": {
      "text/plain": [
       "12    42227\n",
       "10    23306\n",
       "11    21225\n",
       "8     20897\n",
       "9     20622\n",
       "7     17510\n",
       "6     17221\n",
       "4     16466\n",
       "5     16062\n",
       "1     16009\n",
       "3     14732\n",
       "2     13723\n",
       "Name: mes, dtype: int64"
      ]
     },
     "execution_count": 211,
     "metadata": {},
     "output_type": "execute_result"
    }
   ],
   "source": [
    "df['mes'].value_counts()"
   ]
  },
  {
   "cell_type": "code",
   "execution_count": 63,
   "metadata": {},
   "outputs": [
    {
     "data": {
      "text/plain": [
       "2016    94038\n",
       "2015    51470\n",
       "2014    40572\n",
       "2013    30386\n",
       "2012    23534\n",
       "Name: year, dtype: int64"
      ]
     },
     "execution_count": 63,
     "metadata": {},
     "output_type": "execute_result"
    }
   ],
   "source": [
    "df['year'].value_counts()"
   ]
  },
  {
   "cell_type": "code",
   "execution_count": 67,
   "metadata": {},
   "outputs": [
    {
     "data": {
      "text/plain": [
       "240000"
      ]
     },
     "execution_count": 67,
     "metadata": {},
     "output_type": "execute_result"
    }
   ],
   "source": [
    "df['fecha_datetime'].count()"
   ]
  },
  {
   "cell_type": "markdown",
   "metadata": {},
   "source": [
    "### 5)Verificacion de Calidad de Datos"
   ]
  },
  {
   "cell_type": "code",
   "execution_count": 192,
   "metadata": {},
   "outputs": [
    {
     "data": {
      "text/plain": [
       "id                            False\n",
       "titulo                         True\n",
       "descripcion                    True\n",
       "tipodepropiedad                True\n",
       "direccion                      True\n",
       "ciudad                         True\n",
       "provincia                      True\n",
       "antiguedad                     True\n",
       "habitaciones                   True\n",
       "garages                        True\n",
       "banos                          True\n",
       "metroscubiertos                True\n",
       "metrostotales                  True\n",
       "idzona                         True\n",
       "lat                            True\n",
       "lng                            True\n",
       "fecha                         False\n",
       "gimnasio                      False\n",
       "usosmultiples                 False\n",
       "piscina                       False\n",
       "escuelascercanas              False\n",
       "centroscomercialescercanos    False\n",
       "precio                        False\n",
       "fecha_datetime                False\n",
       "year                          False\n",
       "dtype: bool"
      ]
     },
     "execution_count": 192,
     "metadata": {},
     "output_type": "execute_result"
    }
   ],
   "source": [
    "# por ejemplo de la siguiente forma podemos ver los nulos si existen\n",
    "df.isnull().any()"
   ]
  },
  {
   "cell_type": "code",
   "execution_count": 196,
   "metadata": {},
   "outputs": [
    {
     "data": {
      "text/plain": [
       "id                                 0\n",
       "titulo                          5387\n",
       "descripcion                     1619\n",
       "tipodepropiedad                   46\n",
       "direccion                      53072\n",
       "ciudad                           372\n",
       "provincia                        155\n",
       "antiguedad                     43555\n",
       "habitaciones                   22471\n",
       "garages                        37765\n",
       "banos                          26221\n",
       "metroscubiertos                17400\n",
       "metrostotales                  51467\n",
       "idzona                         28621\n",
       "lat                           123488\n",
       "lng                           123488\n",
       "fecha                              0\n",
       "gimnasio                           0\n",
       "usosmultiples                      0\n",
       "piscina                            0\n",
       "escuelascercanas                   0\n",
       "centroscomercialescercanos         0\n",
       "precio                             0\n",
       "fecha_datetime                     0\n",
       "year                               0\n",
       "dtype: int64"
      ]
     },
     "execution_count": 196,
     "metadata": {},
     "output_type": "execute_result"
    }
   ],
   "source": [
    "df.isnull().sum()"
   ]
  },
  {
   "cell_type": "code",
   "execution_count": 194,
   "metadata": {},
   "outputs": [
    {
     "data": {
      "text/html": [
       "<div>\n",
       "<style scoped>\n",
       "    .dataframe tbody tr th:only-of-type {\n",
       "        vertical-align: middle;\n",
       "    }\n",
       "\n",
       "    .dataframe tbody tr th {\n",
       "        vertical-align: top;\n",
       "    }\n",
       "\n",
       "    .dataframe thead th {\n",
       "        text-align: right;\n",
       "    }\n",
       "</style>\n",
       "<table border=\"1\" class=\"dataframe\">\n",
       "  <thead>\n",
       "    <tr style=\"text-align: right;\">\n",
       "      <th></th>\n",
       "      <th>id</th>\n",
       "      <th>antiguedad</th>\n",
       "      <th>habitaciones</th>\n",
       "      <th>garages</th>\n",
       "      <th>banos</th>\n",
       "      <th>metroscubiertos</th>\n",
       "      <th>metrostotales</th>\n",
       "      <th>idzona</th>\n",
       "      <th>lat</th>\n",
       "      <th>lng</th>\n",
       "      <th>gimnasio</th>\n",
       "      <th>usosmultiples</th>\n",
       "      <th>piscina</th>\n",
       "      <th>escuelascercanas</th>\n",
       "      <th>centroscomercialescercanos</th>\n",
       "      <th>precio</th>\n",
       "      <th>year</th>\n",
       "    </tr>\n",
       "  </thead>\n",
       "  <tbody>\n",
       "    <tr>\n",
       "      <th>count</th>\n",
       "      <td>240000.000000</td>\n",
       "      <td>196445.000000</td>\n",
       "      <td>217529.000000</td>\n",
       "      <td>202235.000000</td>\n",
       "      <td>213779.000000</td>\n",
       "      <td>222600.000000</td>\n",
       "      <td>188533.000000</td>\n",
       "      <td>2.113790e+05</td>\n",
       "      <td>116512.000000</td>\n",
       "      <td>116512.000000</td>\n",
       "      <td>240000.000000</td>\n",
       "      <td>240000.000000</td>\n",
       "      <td>240000.000000</td>\n",
       "      <td>240000.000000</td>\n",
       "      <td>240000.000000</td>\n",
       "      <td>2.400000e+05</td>\n",
       "      <td>240000.000000</td>\n",
       "    </tr>\n",
       "    <tr>\n",
       "      <th>mean</th>\n",
       "      <td>149969.382092</td>\n",
       "      <td>8.116114</td>\n",
       "      <td>2.902326</td>\n",
       "      <td>1.546874</td>\n",
       "      <td>2.132417</td>\n",
       "      <td>174.016774</td>\n",
       "      <td>176.765145</td>\n",
       "      <td>2.423468e+06</td>\n",
       "      <td>20.696818</td>\n",
       "      <td>-99.509221</td>\n",
       "      <td>0.062475</td>\n",
       "      <td>0.055092</td>\n",
       "      <td>0.087383</td>\n",
       "      <td>0.444142</td>\n",
       "      <td>0.396533</td>\n",
       "      <td>2.530838e+06</td>\n",
       "      <td>2014.675383</td>\n",
       "    </tr>\n",
       "    <tr>\n",
       "      <th>std</th>\n",
       "      <td>86634.579744</td>\n",
       "      <td>9.553830</td>\n",
       "      <td>0.896894</td>\n",
       "      <td>0.853507</td>\n",
       "      <td>0.912546</td>\n",
       "      <td>98.152950</td>\n",
       "      <td>94.427328</td>\n",
       "      <td>1.056794e+07</td>\n",
       "      <td>3.137884</td>\n",
       "      <td>9.744143</td>\n",
       "      <td>0.242017</td>\n",
       "      <td>0.228160</td>\n",
       "      <td>0.282397</td>\n",
       "      <td>0.496871</td>\n",
       "      <td>0.489179</td>\n",
       "      <td>2.152552e+06</td>\n",
       "      <td>1.358111</td>\n",
       "    </tr>\n",
       "    <tr>\n",
       "      <th>min</th>\n",
       "      <td>1.000000</td>\n",
       "      <td>0.000000</td>\n",
       "      <td>1.000000</td>\n",
       "      <td>0.000000</td>\n",
       "      <td>1.000000</td>\n",
       "      <td>15.000000</td>\n",
       "      <td>15.000000</td>\n",
       "      <td>2.200000e+01</td>\n",
       "      <td>-100.886679</td>\n",
       "      <td>-125.859375</td>\n",
       "      <td>0.000000</td>\n",
       "      <td>0.000000</td>\n",
       "      <td>0.000000</td>\n",
       "      <td>0.000000</td>\n",
       "      <td>0.000000</td>\n",
       "      <td>3.100000e+05</td>\n",
       "      <td>2012.000000</td>\n",
       "    </tr>\n",
       "    <tr>\n",
       "      <th>25%</th>\n",
       "      <td>74930.750000</td>\n",
       "      <td>0.000000</td>\n",
       "      <td>2.000000</td>\n",
       "      <td>1.000000</td>\n",
       "      <td>1.000000</td>\n",
       "      <td>90.000000</td>\n",
       "      <td>102.000000</td>\n",
       "      <td>2.489000e+04</td>\n",
       "      <td>19.359846</td>\n",
       "      <td>-100.977908</td>\n",
       "      <td>0.000000</td>\n",
       "      <td>0.000000</td>\n",
       "      <td>0.000000</td>\n",
       "      <td>0.000000</td>\n",
       "      <td>0.000000</td>\n",
       "      <td>9.527725e+05</td>\n",
       "      <td>2014.000000</td>\n",
       "    </tr>\n",
       "    <tr>\n",
       "      <th>50%</th>\n",
       "      <td>149875.500000</td>\n",
       "      <td>5.000000</td>\n",
       "      <td>3.000000</td>\n",
       "      <td>2.000000</td>\n",
       "      <td>2.000000</td>\n",
       "      <td>153.000000</td>\n",
       "      <td>155.000000</td>\n",
       "      <td>5.638300e+04</td>\n",
       "      <td>19.543273</td>\n",
       "      <td>-99.240387</td>\n",
       "      <td>0.000000</td>\n",
       "      <td>0.000000</td>\n",
       "      <td>0.000000</td>\n",
       "      <td>0.000000</td>\n",
       "      <td>0.000000</td>\n",
       "      <td>1.850000e+06</td>\n",
       "      <td>2015.000000</td>\n",
       "    </tr>\n",
       "    <tr>\n",
       "      <th>75%</th>\n",
       "      <td>225016.500000</td>\n",
       "      <td>10.000000</td>\n",
       "      <td>3.000000</td>\n",
       "      <td>2.000000</td>\n",
       "      <td>3.000000</td>\n",
       "      <td>240.000000</td>\n",
       "      <td>238.000000</td>\n",
       "      <td>8.783800e+04</td>\n",
       "      <td>20.740005</td>\n",
       "      <td>-99.134777</td>\n",
       "      <td>0.000000</td>\n",
       "      <td>0.000000</td>\n",
       "      <td>0.000000</td>\n",
       "      <td>1.000000</td>\n",
       "      <td>1.000000</td>\n",
       "      <td>3.390000e+06</td>\n",
       "      <td>2016.000000</td>\n",
       "    </tr>\n",
       "    <tr>\n",
       "      <th>max</th>\n",
       "      <td>299999.000000</td>\n",
       "      <td>80.000000</td>\n",
       "      <td>10.000000</td>\n",
       "      <td>3.000000</td>\n",
       "      <td>4.000000</td>\n",
       "      <td>439.000000</td>\n",
       "      <td>439.000000</td>\n",
       "      <td>5.000400e+07</td>\n",
       "      <td>83.026219</td>\n",
       "      <td>121.036000</td>\n",
       "      <td>1.000000</td>\n",
       "      <td>1.000000</td>\n",
       "      <td>1.000000</td>\n",
       "      <td>1.000000</td>\n",
       "      <td>1.000000</td>\n",
       "      <td>1.252500e+07</td>\n",
       "      <td>2016.000000</td>\n",
       "    </tr>\n",
       "  </tbody>\n",
       "</table>\n",
       "</div>"
      ],
      "text/plain": [
       "                  id     antiguedad   habitaciones        garages  \\\n",
       "count  240000.000000  196445.000000  217529.000000  202235.000000   \n",
       "mean   149969.382092       8.116114       2.902326       1.546874   \n",
       "std     86634.579744       9.553830       0.896894       0.853507   \n",
       "min         1.000000       0.000000       1.000000       0.000000   \n",
       "25%     74930.750000       0.000000       2.000000       1.000000   \n",
       "50%    149875.500000       5.000000       3.000000       2.000000   \n",
       "75%    225016.500000      10.000000       3.000000       2.000000   \n",
       "max    299999.000000      80.000000      10.000000       3.000000   \n",
       "\n",
       "               banos  metroscubiertos  metrostotales        idzona  \\\n",
       "count  213779.000000    222600.000000  188533.000000  2.113790e+05   \n",
       "mean        2.132417       174.016774     176.765145  2.423468e+06   \n",
       "std         0.912546        98.152950      94.427328  1.056794e+07   \n",
       "min         1.000000        15.000000      15.000000  2.200000e+01   \n",
       "25%         1.000000        90.000000     102.000000  2.489000e+04   \n",
       "50%         2.000000       153.000000     155.000000  5.638300e+04   \n",
       "75%         3.000000       240.000000     238.000000  8.783800e+04   \n",
       "max         4.000000       439.000000     439.000000  5.000400e+07   \n",
       "\n",
       "                 lat            lng       gimnasio  usosmultiples  \\\n",
       "count  116512.000000  116512.000000  240000.000000  240000.000000   \n",
       "mean       20.696818     -99.509221       0.062475       0.055092   \n",
       "std         3.137884       9.744143       0.242017       0.228160   \n",
       "min      -100.886679    -125.859375       0.000000       0.000000   \n",
       "25%        19.359846    -100.977908       0.000000       0.000000   \n",
       "50%        19.543273     -99.240387       0.000000       0.000000   \n",
       "75%        20.740005     -99.134777       0.000000       0.000000   \n",
       "max        83.026219     121.036000       1.000000       1.000000   \n",
       "\n",
       "             piscina  escuelascercanas  centroscomercialescercanos  \\\n",
       "count  240000.000000     240000.000000               240000.000000   \n",
       "mean        0.087383          0.444142                    0.396533   \n",
       "std         0.282397          0.496871                    0.489179   \n",
       "min         0.000000          0.000000                    0.000000   \n",
       "25%         0.000000          0.000000                    0.000000   \n",
       "50%         0.000000          0.000000                    0.000000   \n",
       "75%         0.000000          1.000000                    1.000000   \n",
       "max         1.000000          1.000000                    1.000000   \n",
       "\n",
       "             precio           year  \n",
       "count  2.400000e+05  240000.000000  \n",
       "mean   2.530838e+06    2014.675383  \n",
       "std    2.152552e+06       1.358111  \n",
       "min    3.100000e+05    2012.000000  \n",
       "25%    9.527725e+05    2014.000000  \n",
       "50%    1.850000e+06    2015.000000  \n",
       "75%    3.390000e+06    2016.000000  \n",
       "max    1.252500e+07    2016.000000  "
      ]
     },
     "execution_count": 194,
     "metadata": {},
     "output_type": "execute_result"
    }
   ],
   "source": [
    "# metricas generales de las columnas o features numericos del data frame que podemos analizar via .describe\n",
    "df.describe()"
   ]
  },
  {
   "cell_type": "markdown",
   "metadata": {},
   "source": [
    "### 6  Manejo de valores nulos"
   ]
  },
  {
   "cell_type": "code",
   "execution_count": 198,
   "metadata": {},
   "outputs": [],
   "source": [
    "#Borrado o reemplazo por otro valor\n"
   ]
  },
  {
   "cell_type": "markdown",
   "metadata": {},
   "source": [
    "## 7Manipulando el Data Frame\n"
   ]
  },
  {
   "cell_type": "code",
   "execution_count": 154,
   "metadata": {},
   "outputs": [
    {
     "data": {
      "text/plain": [
       "array([254099,  53461, 247984, ..., 131932, 146867, 121958], dtype=int64)"
      ]
     },
     "execution_count": 154,
     "metadata": {},
     "output_type": "execute_result"
    }
   ],
   "source": [
    "df['id'].unique()\n"
   ]
  },
  {
   "cell_type": "markdown",
   "metadata": {},
   "source": [
    "# Preguntas del google doc"
   ]
  },
  {
   "cell_type": "markdown",
   "metadata": {},
   "source": [
    "1)hay que ver si lo ids son unicos (y otras claves, tipo dirección)  [Jose]\n"
   ]
  },
  {
   "cell_type": "code",
   "execution_count": 29,
   "metadata": {},
   "outputs": [
    {
     "data": {
      "text/plain": [
       "True"
      ]
     },
     "execution_count": 29,
     "metadata": {},
     "output_type": "execute_result"
    }
   ],
   "source": [
    "df['id'].unique().size == df['id'].count()"
   ]
  },
  {
   "cell_type": "code",
   "execution_count": 113,
   "metadata": {},
   "outputs": [
    {
     "data": {
      "text/plain": [
       "False"
      ]
     },
     "execution_count": 113,
     "metadata": {},
     "output_type": "execute_result"
    }
   ],
   "source": [
    "df['direccion'].unique().size == df['direccion'].count()"
   ]
  },
  {
   "cell_type": "code",
   "execution_count": null,
   "metadata": {},
   "outputs": [],
   "source": [
    "# vamos a buscar cuales son las direcciones duplicadas"
   ]
  },
  {
   "cell_type": "code",
   "execution_count": 179,
   "metadata": {},
   "outputs": [],
   "source": [
    "# esta funcion devueve las celdas duplicadas\n",
    "def funes (data, limite):\n",
    "    return data['valor'].sum() >= limite\n"
   ]
  },
  {
   "cell_type": "code",
   "execution_count": null,
   "metadata": {},
   "outputs": [],
   "source": [
    "df1 = df\n",
    "df1['valor'] = 1"
   ]
  },
  {
   "cell_type": "code",
   "execution_count": 167,
   "metadata": {},
   "outputs": [],
   "source": [
    "agrupados = df1.groupby(['direccion'])"
   ]
  },
  {
   "cell_type": "code",
   "execution_count": 168,
   "metadata": {},
   "outputs": [],
   "source": [
    "agrupadosfiltrados = agrupados.filter(funes, limite=2)"
   ]
  },
  {
   "cell_type": "code",
   "execution_count": 181,
   "metadata": {},
   "outputs": [],
   "source": [
    "repetidos =agrupadosfiltrados.groupby(['direccion']).agg({'valor':'sum'})"
   ]
  },
  {
   "cell_type": "code",
   "execution_count": 184,
   "metadata": {},
   "outputs": [],
   "source": [
    "repetidos.reset_index(inplace=True)"
   ]
  },
  {
   "cell_type": "code",
   "execution_count": 199,
   "metadata": {},
   "outputs": [
    {
     "name": "stdout",
     "output_type": "stream",
     "text": [
      "Ranking de direcciones mas repetidas\n"
     ]
    },
    {
     "data": {
      "text/html": [
       "<div>\n",
       "<style scoped>\n",
       "    .dataframe tbody tr th:only-of-type {\n",
       "        vertical-align: middle;\n",
       "    }\n",
       "\n",
       "    .dataframe tbody tr th {\n",
       "        vertical-align: top;\n",
       "    }\n",
       "\n",
       "    .dataframe thead th {\n",
       "        text-align: right;\n",
       "    }\n",
       "</style>\n",
       "<table border=\"1\" class=\"dataframe\">\n",
       "  <thead>\n",
       "    <tr style=\"text-align: right;\">\n",
       "      <th></th>\n",
       "      <th>direccion</th>\n",
       "      <th>valor</th>\n",
       "    </tr>\n",
       "  </thead>\n",
       "  <tbody>\n",
       "    <tr>\n",
       "      <th>35</th>\n",
       "      <td>-</td>\n",
       "      <td>660</td>\n",
       "    </tr>\n",
       "    <tr>\n",
       "      <th>64</th>\n",
       "      <td>.</td>\n",
       "      <td>476</td>\n",
       "    </tr>\n",
       "    <tr>\n",
       "      <th>85</th>\n",
       "      <td>1</td>\n",
       "      <td>212</td>\n",
       "    </tr>\n",
       "    <tr>\n",
       "      <th>3817</th>\n",
       "      <td>Calle</td>\n",
       "      <td>194</td>\n",
       "    </tr>\n",
       "    <tr>\n",
       "      <th>10195</th>\n",
       "      <td>Norte de Mérida</td>\n",
       "      <td>136</td>\n",
       "    </tr>\n",
       "  </tbody>\n",
       "</table>\n",
       "</div>"
      ],
      "text/plain": [
       "             direccion  valor\n",
       "35                   -    660\n",
       "64                   .    476\n",
       "85                   1    212\n",
       "3817             Calle    194\n",
       "10195  Norte de Mérida    136"
      ]
     },
     "execution_count": 199,
     "metadata": {},
     "output_type": "execute_result"
    }
   ],
   "source": [
    "print (\"Ranking de direcciones mas repetidas\")\n",
    "repetidos.nlargest(5,'valor')"
   ]
  },
  {
   "cell_type": "code",
   "execution_count": 201,
   "metadata": {},
   "outputs": [
    {
     "data": {
      "text/html": [
       "<div>\n",
       "<style scoped>\n",
       "    .dataframe tbody tr th:only-of-type {\n",
       "        vertical-align: middle;\n",
       "    }\n",
       "\n",
       "    .dataframe tbody tr th {\n",
       "        vertical-align: top;\n",
       "    }\n",
       "\n",
       "    .dataframe thead th {\n",
       "        text-align: right;\n",
       "    }\n",
       "</style>\n",
       "<table border=\"1\" class=\"dataframe\">\n",
       "  <thead>\n",
       "    <tr style=\"text-align: right;\">\n",
       "      <th></th>\n",
       "      <th>id</th>\n",
       "      <th>titulo</th>\n",
       "      <th>descripcion</th>\n",
       "      <th>tipodepropiedad</th>\n",
       "      <th>direccion</th>\n",
       "      <th>ciudad</th>\n",
       "      <th>provincia</th>\n",
       "      <th>antiguedad</th>\n",
       "      <th>habitaciones</th>\n",
       "      <th>garages</th>\n",
       "      <th>...</th>\n",
       "      <th>lat</th>\n",
       "      <th>lng</th>\n",
       "      <th>fecha</th>\n",
       "      <th>gimnasio</th>\n",
       "      <th>usosmultiples</th>\n",
       "      <th>piscina</th>\n",
       "      <th>escuelascercanas</th>\n",
       "      <th>centroscomercialescercanos</th>\n",
       "      <th>precio</th>\n",
       "      <th>valor</th>\n",
       "    </tr>\n",
       "  </thead>\n",
       "  <tbody>\n",
       "    <tr>\n",
       "      <th>21997</th>\n",
       "      <td>83330</td>\n",
       "      <td>casa en providencia con excelente ubicación</td>\n",
       "      <td>esta casa se encuentra cerca de av. américas, ...</td>\n",
       "      <td>Casa</td>\n",
       "      <td>Providencia</td>\n",
       "      <td>Guadalajara</td>\n",
       "      <td>Jalisco</td>\n",
       "      <td>5.0</td>\n",
       "      <td>3.0</td>\n",
       "      <td>2.0</td>\n",
       "      <td>...</td>\n",
       "      <td>20.690476</td>\n",
       "      <td>-103.388226</td>\n",
       "      <td>2016-12-02 00:00:00</td>\n",
       "      <td>0.0</td>\n",
       "      <td>0.0</td>\n",
       "      <td>0.0</td>\n",
       "      <td>1.0</td>\n",
       "      <td>1.0</td>\n",
       "      <td>2970000.0</td>\n",
       "      <td>1</td>\n",
       "    </tr>\n",
       "    <tr>\n",
       "      <th>22346</th>\n",
       "      <td>127480</td>\n",
       "      <td>casa sola en venta,providencia,axotla,álvaro o...</td>\n",
       "      <td>NaN</td>\n",
       "      <td>Casa</td>\n",
       "      <td>Providencia</td>\n",
       "      <td>Alvaro Obregón</td>\n",
       "      <td>Distrito Federal</td>\n",
       "      <td>1.0</td>\n",
       "      <td>3.0</td>\n",
       "      <td>NaN</td>\n",
       "      <td>...</td>\n",
       "      <td>19.357357</td>\n",
       "      <td>-99.175974</td>\n",
       "      <td>2013-09-12 00:00:00</td>\n",
       "      <td>0.0</td>\n",
       "      <td>0.0</td>\n",
       "      <td>0.0</td>\n",
       "      <td>1.0</td>\n",
       "      <td>0.0</td>\n",
       "      <td>6850000.0</td>\n",
       "      <td>1</td>\n",
       "    </tr>\n",
       "    <tr>\n",
       "      <th>26604</th>\n",
       "      <td>241261</td>\n",
       "      <td>departamento impecable</td>\n",
       "      <td>metros cuadrados \\n\\n- departamento 96 m2 \\n- ...</td>\n",
       "      <td>Apartamento</td>\n",
       "      <td>Providencia</td>\n",
       "      <td>Benito Juárez</td>\n",
       "      <td>Distrito Federal</td>\n",
       "      <td>5.0</td>\n",
       "      <td>2.0</td>\n",
       "      <td>2.0</td>\n",
       "      <td>...</td>\n",
       "      <td>NaN</td>\n",
       "      <td>NaN</td>\n",
       "      <td>2015-03-14 00:00:00</td>\n",
       "      <td>0.0</td>\n",
       "      <td>0.0</td>\n",
       "      <td>0.0</td>\n",
       "      <td>1.0</td>\n",
       "      <td>1.0</td>\n",
       "      <td>3150000.0</td>\n",
       "      <td>1</td>\n",
       "    </tr>\n",
       "    <tr>\n",
       "      <th>29900</th>\n",
       "      <td>208529</td>\n",
       "      <td>departamento remodelado providencia!</td>\n",
       "      <td>cochera con portón eléctrico para 1 auto, esta...</td>\n",
       "      <td>Apartamento</td>\n",
       "      <td>Providencia</td>\n",
       "      <td>Guadalajara</td>\n",
       "      <td>Jalisco</td>\n",
       "      <td>5.0</td>\n",
       "      <td>3.0</td>\n",
       "      <td>0.0</td>\n",
       "      <td>...</td>\n",
       "      <td>NaN</td>\n",
       "      <td>NaN</td>\n",
       "      <td>2015-01-25 00:00:00</td>\n",
       "      <td>0.0</td>\n",
       "      <td>0.0</td>\n",
       "      <td>0.0</td>\n",
       "      <td>0.0</td>\n",
       "      <td>0.0</td>\n",
       "      <td>1800000.0</td>\n",
       "      <td>1</td>\n",
       "    </tr>\n",
       "    <tr>\n",
       "      <th>30206</th>\n",
       "      <td>196875</td>\n",
       "      <td>moderno departamento super equipado en la del ...</td>\n",
       "      <td>2 habitaciones, la principal con baño y vestid...</td>\n",
       "      <td>Apartamento</td>\n",
       "      <td>Providencia</td>\n",
       "      <td>Benito Juárez</td>\n",
       "      <td>Distrito Federal</td>\n",
       "      <td>5.0</td>\n",
       "      <td>2.0</td>\n",
       "      <td>NaN</td>\n",
       "      <td>...</td>\n",
       "      <td>19.387480</td>\n",
       "      <td>-99.169865</td>\n",
       "      <td>2016-10-28 00:00:00</td>\n",
       "      <td>0.0</td>\n",
       "      <td>1.0</td>\n",
       "      <td>1.0</td>\n",
       "      <td>1.0</td>\n",
       "      <td>1.0</td>\n",
       "      <td>6200000.0</td>\n",
       "      <td>1</td>\n",
       "    </tr>\n",
       "    <tr>\n",
       "      <th>31200</th>\n",
       "      <td>179148</td>\n",
       "      <td>departamento en venta colonia del valle</td>\n",
       "      <td>excelente departamento muy bien ubicado en cal...</td>\n",
       "      <td>Apartamento</td>\n",
       "      <td>Providencia</td>\n",
       "      <td>Benito Juárez</td>\n",
       "      <td>Distrito Federal</td>\n",
       "      <td>20.0</td>\n",
       "      <td>3.0</td>\n",
       "      <td>1.0</td>\n",
       "      <td>...</td>\n",
       "      <td>NaN</td>\n",
       "      <td>NaN</td>\n",
       "      <td>2014-06-20 00:00:00</td>\n",
       "      <td>0.0</td>\n",
       "      <td>0.0</td>\n",
       "      <td>0.0</td>\n",
       "      <td>0.0</td>\n",
       "      <td>1.0</td>\n",
       "      <td>2180000.0</td>\n",
       "      <td>1</td>\n",
       "    </tr>\n",
       "    <tr>\n",
       "      <th>33839</th>\n",
       "      <td>206467</td>\n",
       "      <td>del valle 100 3r 2 b 2 est. entrega inmediata,...</td>\n",
       "      <td>status en negociación. departamento en venta o...</td>\n",
       "      <td>Apartamento</td>\n",
       "      <td>Providencia</td>\n",
       "      <td>Benito Juárez</td>\n",
       "      <td>Distrito Federal</td>\n",
       "      <td>5.0</td>\n",
       "      <td>3.0</td>\n",
       "      <td>2.0</td>\n",
       "      <td>...</td>\n",
       "      <td>19.379509</td>\n",
       "      <td>-99.206879</td>\n",
       "      <td>2016-05-24 00:00:00</td>\n",
       "      <td>1.0</td>\n",
       "      <td>0.0</td>\n",
       "      <td>0.0</td>\n",
       "      <td>1.0</td>\n",
       "      <td>1.0</td>\n",
       "      <td>3300000.0</td>\n",
       "      <td>1</td>\n",
       "    </tr>\n",
       "    <tr>\n",
       "      <th>49378</th>\n",
       "      <td>33863</td>\n",
       "      <td>casa remodelada en providencia. amplios espaci...</td>\n",
       "      <td>residencia ubicada en providencia, remodelada ...</td>\n",
       "      <td>Casa</td>\n",
       "      <td>Providencia</td>\n",
       "      <td>Guadalajara</td>\n",
       "      <td>Jalisco</td>\n",
       "      <td>5.0</td>\n",
       "      <td>4.0</td>\n",
       "      <td>3.0</td>\n",
       "      <td>...</td>\n",
       "      <td>NaN</td>\n",
       "      <td>NaN</td>\n",
       "      <td>2015-02-08 00:00:00</td>\n",
       "      <td>0.0</td>\n",
       "      <td>0.0</td>\n",
       "      <td>0.0</td>\n",
       "      <td>0.0</td>\n",
       "      <td>0.0</td>\n",
       "      <td>5490000.0</td>\n",
       "      <td>1</td>\n",
       "    </tr>\n",
       "    <tr>\n",
       "      <th>59076</th>\n",
       "      <td>48333</td>\n",
       "      <td>se vende casa en la del valle centro</td>\n",
       "      <td>se vende hermosa casa en letrán valle con 4 re...</td>\n",
       "      <td>Casa</td>\n",
       "      <td>Providencia</td>\n",
       "      <td>Benito Juárez</td>\n",
       "      <td>Distrito Federal</td>\n",
       "      <td>10.0</td>\n",
       "      <td>4.0</td>\n",
       "      <td>2.0</td>\n",
       "      <td>...</td>\n",
       "      <td>NaN</td>\n",
       "      <td>NaN</td>\n",
       "      <td>2015-12-13 00:00:00</td>\n",
       "      <td>0.0</td>\n",
       "      <td>0.0</td>\n",
       "      <td>0.0</td>\n",
       "      <td>0.0</td>\n",
       "      <td>0.0</td>\n",
       "      <td>5900000.0</td>\n",
       "      <td>1</td>\n",
       "    </tr>\n",
       "    <tr>\n",
       "      <th>62091</th>\n",
       "      <td>65733</td>\n",
       "      <td>2 cajones, 120 m2, 3 rec, estudio 2.5 baños, 2...</td>\n",
       "      <td>departamento en exterior en venta o renta solo...</td>\n",
       "      <td>Apartamento</td>\n",
       "      <td>Providencia</td>\n",
       "      <td>Benito Juárez</td>\n",
       "      <td>Distrito Federal</td>\n",
       "      <td>5.0</td>\n",
       "      <td>3.0</td>\n",
       "      <td>2.0</td>\n",
       "      <td>...</td>\n",
       "      <td>19.426914</td>\n",
       "      <td>-99.160040</td>\n",
       "      <td>2016-07-13 00:00:00</td>\n",
       "      <td>1.0</td>\n",
       "      <td>0.0</td>\n",
       "      <td>0.0</td>\n",
       "      <td>1.0</td>\n",
       "      <td>1.0</td>\n",
       "      <td>3685000.0</td>\n",
       "      <td>1</td>\n",
       "    </tr>\n",
       "    <tr>\n",
       "      <th>66318</th>\n",
       "      <td>119290</td>\n",
       "      <td>pre-venta penthouse 238m2, col. del valle</td>\n",
       "      <td>&lt;p&gt;penthouse en pre venta.\\n&lt;/p&gt;&lt;p&gt;\\n&lt;/p&gt;&lt;p&gt;-1...</td>\n",
       "      <td>Apartamento</td>\n",
       "      <td>Providencia</td>\n",
       "      <td>Benito Juárez</td>\n",
       "      <td>Distrito Federal</td>\n",
       "      <td>NaN</td>\n",
       "      <td>3.0</td>\n",
       "      <td>NaN</td>\n",
       "      <td>...</td>\n",
       "      <td>NaN</td>\n",
       "      <td>NaN</td>\n",
       "      <td>2016-06-07 00:00:00</td>\n",
       "      <td>0.0</td>\n",
       "      <td>0.0</td>\n",
       "      <td>0.0</td>\n",
       "      <td>0.0</td>\n",
       "      <td>0.0</td>\n",
       "      <td>7980000.0</td>\n",
       "      <td>1</td>\n",
       "    </tr>\n",
       "    <tr>\n",
       "      <th>69983</th>\n",
       "      <td>18849</td>\n",
       "      <td>departamento en venta en providencia! estrena!...</td>\n",
       "      <td>&lt;p&gt;exclusivo loft en preventa. en el mejor y  ...</td>\n",
       "      <td>Apartamento</td>\n",
       "      <td>Providencia</td>\n",
       "      <td>Guadalajara</td>\n",
       "      <td>Jalisco</td>\n",
       "      <td>1.0</td>\n",
       "      <td>2.0</td>\n",
       "      <td>1.0</td>\n",
       "      <td>...</td>\n",
       "      <td>NaN</td>\n",
       "      <td>NaN</td>\n",
       "      <td>2012-11-13 00:00:00</td>\n",
       "      <td>0.0</td>\n",
       "      <td>0.0</td>\n",
       "      <td>0.0</td>\n",
       "      <td>0.0</td>\n",
       "      <td>0.0</td>\n",
       "      <td>3100000.0</td>\n",
       "      <td>1</td>\n",
       "    </tr>\n",
       "    <tr>\n",
       "      <th>85585</th>\n",
       "      <td>157496</td>\n",
       "      <td>bonito departamento el la del valle</td>\n",
       "      <td>&lt;p&gt;departamento de 3 recamaras en zona residen...</td>\n",
       "      <td>Apartamento</td>\n",
       "      <td>Providencia</td>\n",
       "      <td>Benito Juárez</td>\n",
       "      <td>Distrito Federal</td>\n",
       "      <td>30.0</td>\n",
       "      <td>3.0</td>\n",
       "      <td>1.0</td>\n",
       "      <td>...</td>\n",
       "      <td>19.396207</td>\n",
       "      <td>-99.167173</td>\n",
       "      <td>2014-01-27 00:00:00</td>\n",
       "      <td>0.0</td>\n",
       "      <td>0.0</td>\n",
       "      <td>0.0</td>\n",
       "      <td>1.0</td>\n",
       "      <td>1.0</td>\n",
       "      <td>2150000.0</td>\n",
       "      <td>1</td>\n",
       "    </tr>\n",
       "    <tr>\n",
       "      <th>92029</th>\n",
       "      <td>260250</td>\n",
       "      <td>florida casa en venta alvaro obregon ciudad de...</td>\n",
       "      <td>&lt;p&gt;florida casa en venta alvaro obregon ciudad...</td>\n",
       "      <td>Casa</td>\n",
       "      <td>Providencia</td>\n",
       "      <td>Alvaro Obregón</td>\n",
       "      <td>Distrito Federal</td>\n",
       "      <td>21.0</td>\n",
       "      <td>4.0</td>\n",
       "      <td>NaN</td>\n",
       "      <td>...</td>\n",
       "      <td>19.357785</td>\n",
       "      <td>-99.175779</td>\n",
       "      <td>2016-12-16 00:00:00</td>\n",
       "      <td>0.0</td>\n",
       "      <td>0.0</td>\n",
       "      <td>0.0</td>\n",
       "      <td>1.0</td>\n",
       "      <td>1.0</td>\n",
       "      <td>7180000.0</td>\n",
       "      <td>1</td>\n",
       "    </tr>\n",
       "    <tr>\n",
       "      <th>96113</th>\n",
       "      <td>127716</td>\n",
       "      <td>departamento en venta providencia</td>\n",
       "      <td>hermoso departamento ph, con vista espectacula...</td>\n",
       "      <td>Apartamento</td>\n",
       "      <td>Providencia</td>\n",
       "      <td>Guadalajara</td>\n",
       "      <td>Jalisco</td>\n",
       "      <td>2.0</td>\n",
       "      <td>3.0</td>\n",
       "      <td>3.0</td>\n",
       "      <td>...</td>\n",
       "      <td>NaN</td>\n",
       "      <td>NaN</td>\n",
       "      <td>2015-06-05 00:00:00</td>\n",
       "      <td>0.0</td>\n",
       "      <td>0.0</td>\n",
       "      <td>1.0</td>\n",
       "      <td>0.0</td>\n",
       "      <td>0.0</td>\n",
       "      <td>8250000.0</td>\n",
       "      <td>1</td>\n",
       "    </tr>\n",
       "    <tr>\n",
       "      <th>105806</th>\n",
       "      <td>194373</td>\n",
       "      <td>hermoso departamento a estrenar!!!</td>\n",
       "      <td>providencia 857 departamento 208. \\n\\nproviden...</td>\n",
       "      <td>Apartamento</td>\n",
       "      <td>Providencia</td>\n",
       "      <td>Benito Juárez</td>\n",
       "      <td>Distrito Federal</td>\n",
       "      <td>0.0</td>\n",
       "      <td>3.0</td>\n",
       "      <td>2.0</td>\n",
       "      <td>...</td>\n",
       "      <td>19.389184</td>\n",
       "      <td>-99.169458</td>\n",
       "      <td>2015-11-18 00:00:00</td>\n",
       "      <td>1.0</td>\n",
       "      <td>0.0</td>\n",
       "      <td>0.0</td>\n",
       "      <td>1.0</td>\n",
       "      <td>1.0</td>\n",
       "      <td>5250000.0</td>\n",
       "      <td>1</td>\n",
       "    </tr>\n",
       "    <tr>\n",
       "      <th>108276</th>\n",
       "      <td>105519</td>\n",
       "      <td>casa en benito juarez</td>\n",
       "      <td>&lt;p&gt;&lt;strong&gt;&amp;iquest;quieres una oportunidad? ad...</td>\n",
       "      <td>Casa</td>\n",
       "      <td>Providencia</td>\n",
       "      <td>Benito Juárez</td>\n",
       "      <td>Distrito Federal</td>\n",
       "      <td>10.0</td>\n",
       "      <td>NaN</td>\n",
       "      <td>0.0</td>\n",
       "      <td>...</td>\n",
       "      <td>NaN</td>\n",
       "      <td>NaN</td>\n",
       "      <td>2013-05-02 00:00:00</td>\n",
       "      <td>0.0</td>\n",
       "      <td>0.0</td>\n",
       "      <td>0.0</td>\n",
       "      <td>0.0</td>\n",
       "      <td>0.0</td>\n",
       "      <td>2500000.0</td>\n",
       "      <td>1</td>\n",
       "    </tr>\n",
       "    <tr>\n",
       "      <th>121454</th>\n",
       "      <td>30219</td>\n",
       "      <td>departamento 120 m. en colonia del valle</td>\n",
       "      <td>&lt;p&gt;bonito departamento colonia del valle de 12...</td>\n",
       "      <td>Apartamento</td>\n",
       "      <td>Providencia</td>\n",
       "      <td>Benito Juárez</td>\n",
       "      <td>Distrito Federal</td>\n",
       "      <td>20.0</td>\n",
       "      <td>2.0</td>\n",
       "      <td>1.0</td>\n",
       "      <td>...</td>\n",
       "      <td>19.380682</td>\n",
       "      <td>-99.171442</td>\n",
       "      <td>2015-11-13 00:00:00</td>\n",
       "      <td>0.0</td>\n",
       "      <td>0.0</td>\n",
       "      <td>0.0</td>\n",
       "      <td>0.0</td>\n",
       "      <td>0.0</td>\n",
       "      <td>3100000.0</td>\n",
       "      <td>1</td>\n",
       "    </tr>\n",
       "    <tr>\n",
       "      <th>143293</th>\n",
       "      <td>183508</td>\n",
       "      <td>7219-rav depto en venta en providencia,, del v...</td>\n",
       "      <td>excelente departamento en el corazón de la del...</td>\n",
       "      <td>Apartamento</td>\n",
       "      <td>Providencia</td>\n",
       "      <td>Benito Juárez</td>\n",
       "      <td>Distrito Federal</td>\n",
       "      <td>8.0</td>\n",
       "      <td>2.0</td>\n",
       "      <td>2.0</td>\n",
       "      <td>...</td>\n",
       "      <td>19.396000</td>\n",
       "      <td>-99.168000</td>\n",
       "      <td>2016-12-06 00:00:00</td>\n",
       "      <td>0.0</td>\n",
       "      <td>0.0</td>\n",
       "      <td>0.0</td>\n",
       "      <td>0.0</td>\n",
       "      <td>0.0</td>\n",
       "      <td>3800000.0</td>\n",
       "      <td>1</td>\n",
       "    </tr>\n",
       "    <tr>\n",
       "      <th>145374</th>\n",
       "      <td>31494</td>\n",
       "      <td>preventa depa</td>\n",
       "      <td>excelente ubicación, departamentos con acabado...</td>\n",
       "      <td>Apartamento</td>\n",
       "      <td>Providencia</td>\n",
       "      <td>Benito Juárez</td>\n",
       "      <td>Distrito Federal</td>\n",
       "      <td>NaN</td>\n",
       "      <td>2.0</td>\n",
       "      <td>2.0</td>\n",
       "      <td>...</td>\n",
       "      <td>19.388091</td>\n",
       "      <td>-99.169962</td>\n",
       "      <td>2014-11-28 00:00:00</td>\n",
       "      <td>0.0</td>\n",
       "      <td>0.0</td>\n",
       "      <td>0.0</td>\n",
       "      <td>1.0</td>\n",
       "      <td>1.0</td>\n",
       "      <td>4005200.0</td>\n",
       "      <td>1</td>\n",
       "    </tr>\n",
       "    <tr>\n",
       "      <th>149779</th>\n",
       "      <td>163106</td>\n",
       "      <td>casa en venta en providencia. colomos providen...</td>\n",
       "      <td>italia providencia casa en venta. casa en vent...</td>\n",
       "      <td>Casa</td>\n",
       "      <td>Providencia</td>\n",
       "      <td>Guadalajara</td>\n",
       "      <td>Jalisco</td>\n",
       "      <td>5.0</td>\n",
       "      <td>3.0</td>\n",
       "      <td>3.0</td>\n",
       "      <td>...</td>\n",
       "      <td>NaN</td>\n",
       "      <td>NaN</td>\n",
       "      <td>2015-09-21 00:00:00</td>\n",
       "      <td>0.0</td>\n",
       "      <td>0.0</td>\n",
       "      <td>0.0</td>\n",
       "      <td>1.0</td>\n",
       "      <td>1.0</td>\n",
       "      <td>5800000.0</td>\n",
       "      <td>1</td>\n",
       "    </tr>\n",
       "    <tr>\n",
       "      <th>177717</th>\n",
       "      <td>190833</td>\n",
       "      <td>preventa departamentos providencia col. del valle</td>\n",
       "      <td>exclusivo departamento sala, comedor cocina in...</td>\n",
       "      <td>Apartamento</td>\n",
       "      <td>Providencia</td>\n",
       "      <td>Benito Juárez</td>\n",
       "      <td>Distrito Federal</td>\n",
       "      <td>NaN</td>\n",
       "      <td>1.0</td>\n",
       "      <td>1.0</td>\n",
       "      <td>...</td>\n",
       "      <td>NaN</td>\n",
       "      <td>NaN</td>\n",
       "      <td>2016-01-29 00:00:00</td>\n",
       "      <td>0.0</td>\n",
       "      <td>0.0</td>\n",
       "      <td>0.0</td>\n",
       "      <td>0.0</td>\n",
       "      <td>1.0</td>\n",
       "      <td>3360000.0</td>\n",
       "      <td>1</td>\n",
       "    </tr>\n",
       "    <tr>\n",
       "      <th>182834</th>\n",
       "      <td>75422</td>\n",
       "      <td>departamento de lujo en venta - col. del valle</td>\n",
       "      <td>excelente departamento con acabados de lujo de...</td>\n",
       "      <td>Apartamento</td>\n",
       "      <td>Providencia</td>\n",
       "      <td>Benito Juárez</td>\n",
       "      <td>Distrito Federal</td>\n",
       "      <td>5.0</td>\n",
       "      <td>2.0</td>\n",
       "      <td>2.0</td>\n",
       "      <td>...</td>\n",
       "      <td>19.376823</td>\n",
       "      <td>-99.172308</td>\n",
       "      <td>2016-10-02 00:00:00</td>\n",
       "      <td>1.0</td>\n",
       "      <td>0.0</td>\n",
       "      <td>0.0</td>\n",
       "      <td>1.0</td>\n",
       "      <td>1.0</td>\n",
       "      <td>7100000.0</td>\n",
       "      <td>1</td>\n",
       "    </tr>\n",
       "    <tr>\n",
       "      <th>190219</th>\n",
       "      <td>45283</td>\n",
       "      <td>casa en condominio en venta del valle norte  p...</td>\n",
       "      <td>casa en condominio en venta en colonia del val...</td>\n",
       "      <td>Casa en condominio</td>\n",
       "      <td>Providencia</td>\n",
       "      <td>Benito Juárez</td>\n",
       "      <td>Distrito Federal</td>\n",
       "      <td>20.0</td>\n",
       "      <td>3.0</td>\n",
       "      <td>3.0</td>\n",
       "      <td>...</td>\n",
       "      <td>19.387476</td>\n",
       "      <td>-99.169789</td>\n",
       "      <td>2016-12-20 00:00:00</td>\n",
       "      <td>0.0</td>\n",
       "      <td>0.0</td>\n",
       "      <td>0.0</td>\n",
       "      <td>1.0</td>\n",
       "      <td>1.0</td>\n",
       "      <td>4914483.0</td>\n",
       "      <td>1</td>\n",
       "    </tr>\n",
       "    <tr>\n",
       "      <th>196136</th>\n",
       "      <td>70168</td>\n",
       "      <td>casa en condominio-venta, providencia, del val...</td>\n",
       "      <td>cuenta con roof garden privado</td>\n",
       "      <td>Casa</td>\n",
       "      <td>Providencia</td>\n",
       "      <td>Benito Juárez</td>\n",
       "      <td>Distrito Federal</td>\n",
       "      <td>10.0</td>\n",
       "      <td>2.0</td>\n",
       "      <td>2.0</td>\n",
       "      <td>...</td>\n",
       "      <td>NaN</td>\n",
       "      <td>NaN</td>\n",
       "      <td>2016-12-18 00:00:00</td>\n",
       "      <td>0.0</td>\n",
       "      <td>0.0</td>\n",
       "      <td>0.0</td>\n",
       "      <td>0.0</td>\n",
       "      <td>0.0</td>\n",
       "      <td>7800000.0</td>\n",
       "      <td>1</td>\n",
       "    </tr>\n",
       "    <tr>\n",
       "      <th>196669</th>\n",
       "      <td>298840</td>\n",
       "      <td>penthouse venta / providencia / guadalajara</td>\n",
       "      <td>&lt;p&gt;penthouse en venta en providencia, guadalaj...</td>\n",
       "      <td>Apartamento</td>\n",
       "      <td>Providencia</td>\n",
       "      <td>Guadalajara</td>\n",
       "      <td>Jalisco</td>\n",
       "      <td>9.0</td>\n",
       "      <td>3.0</td>\n",
       "      <td>2.0</td>\n",
       "      <td>...</td>\n",
       "      <td>20.699625</td>\n",
       "      <td>-103.384772</td>\n",
       "      <td>2014-04-30 00:00:00</td>\n",
       "      <td>0.0</td>\n",
       "      <td>0.0</td>\n",
       "      <td>0.0</td>\n",
       "      <td>0.0</td>\n",
       "      <td>0.0</td>\n",
       "      <td>4095000.0</td>\n",
       "      <td>1</td>\n",
       "    </tr>\n",
       "    <tr>\n",
       "      <th>201764</th>\n",
       "      <td>237972</td>\n",
       "      <td>departamento de lujo en providencia</td>\n",
       "      <td>inmejorable ubicación,bellos acabados ,pronta ...</td>\n",
       "      <td>Apartamento</td>\n",
       "      <td>Providencia</td>\n",
       "      <td>Guadalajara</td>\n",
       "      <td>Jalisco</td>\n",
       "      <td>0.0</td>\n",
       "      <td>2.0</td>\n",
       "      <td>2.0</td>\n",
       "      <td>...</td>\n",
       "      <td>NaN</td>\n",
       "      <td>NaN</td>\n",
       "      <td>2016-12-30 00:00:00</td>\n",
       "      <td>1.0</td>\n",
       "      <td>0.0</td>\n",
       "      <td>1.0</td>\n",
       "      <td>0.0</td>\n",
       "      <td>0.0</td>\n",
       "      <td>3922240.0</td>\n",
       "      <td>1</td>\n",
       "    </tr>\n",
       "    <tr>\n",
       "      <th>221726</th>\n",
       "      <td>245506</td>\n",
       "      <td>remate hipotecario depto. en providencia, vall...</td>\n",
       "      <td>firma de cesión ante notario público \\nsolo pa...</td>\n",
       "      <td>Apartamento</td>\n",
       "      <td>Providencia</td>\n",
       "      <td>Benito Juárez</td>\n",
       "      <td>Distrito Federal</td>\n",
       "      <td>20.0</td>\n",
       "      <td>NaN</td>\n",
       "      <td>0.0</td>\n",
       "      <td>...</td>\n",
       "      <td>19.384675</td>\n",
       "      <td>-99.170650</td>\n",
       "      <td>2016-04-18 00:00:00</td>\n",
       "      <td>0.0</td>\n",
       "      <td>0.0</td>\n",
       "      <td>0.0</td>\n",
       "      <td>0.0</td>\n",
       "      <td>0.0</td>\n",
       "      <td>1800000.0</td>\n",
       "      <td>1</td>\n",
       "    </tr>\n",
       "    <tr>\n",
       "      <th>230364</th>\n",
       "      <td>79400</td>\n",
       "      <td>magnifica residencia en venta en la zona dorad...</td>\n",
       "      <td>&lt;p&gt;magnifica residencia en venta en la zona do...</td>\n",
       "      <td>Casa en condominio</td>\n",
       "      <td>Providencia</td>\n",
       "      <td>Metepec</td>\n",
       "      <td>Edo. de México</td>\n",
       "      <td>0.0</td>\n",
       "      <td>4.0</td>\n",
       "      <td>NaN</td>\n",
       "      <td>...</td>\n",
       "      <td>19.269495</td>\n",
       "      <td>-99.608670</td>\n",
       "      <td>2016-12-22 00:00:00</td>\n",
       "      <td>0.0</td>\n",
       "      <td>0.0</td>\n",
       "      <td>0.0</td>\n",
       "      <td>1.0</td>\n",
       "      <td>1.0</td>\n",
       "      <td>6600000.0</td>\n",
       "      <td>1</td>\n",
       "    </tr>\n",
       "    <tr>\n",
       "      <th>232712</th>\n",
       "      <td>12062</td>\n",
       "      <td>providencia, departamento</td>\n",
       "      <td>excelente departamento interior, muy iluminado...</td>\n",
       "      <td>Apartamento</td>\n",
       "      <td>Providencia</td>\n",
       "      <td>Benito Juárez</td>\n",
       "      <td>Distrito Federal</td>\n",
       "      <td>35.0</td>\n",
       "      <td>3.0</td>\n",
       "      <td>2.0</td>\n",
       "      <td>...</td>\n",
       "      <td>19.392488</td>\n",
       "      <td>-99.169368</td>\n",
       "      <td>2016-12-22 00:00:00</td>\n",
       "      <td>0.0</td>\n",
       "      <td>0.0</td>\n",
       "      <td>0.0</td>\n",
       "      <td>0.0</td>\n",
       "      <td>0.0</td>\n",
       "      <td>3500000.0</td>\n",
       "      <td>1</td>\n",
       "    </tr>\n",
       "  </tbody>\n",
       "</table>\n",
       "<p>30 rows × 24 columns</p>\n",
       "</div>"
      ],
      "text/plain": [
       "            id                                             titulo  \\\n",
       "21997    83330        casa en providencia con excelente ubicación   \n",
       "22346   127480  casa sola en venta,providencia,axotla,álvaro o...   \n",
       "26604   241261                             departamento impecable   \n",
       "29900   208529              departamento remodelado providencia!    \n",
       "30206   196875  moderno departamento super equipado en la del ...   \n",
       "31200   179148            departamento en venta colonia del valle   \n",
       "33839   206467  del valle 100 3r 2 b 2 est. entrega inmediata,...   \n",
       "49378    33863  casa remodelada en providencia. amplios espaci...   \n",
       "59076    48333               se vende casa en la del valle centro   \n",
       "62091    65733  2 cajones, 120 m2, 3 rec, estudio 2.5 baños, 2...   \n",
       "66318   119290          pre-venta penthouse 238m2, col. del valle   \n",
       "69983    18849  departamento en venta en providencia! estrena!...   \n",
       "85585   157496                bonito departamento el la del valle   \n",
       "92029   260250  florida casa en venta alvaro obregon ciudad de...   \n",
       "96113   127716                  departamento en venta providencia   \n",
       "105806  194373                 hermoso departamento a estrenar!!!   \n",
       "108276  105519                              casa en benito juarez   \n",
       "121454   30219           departamento 120 m. en colonia del valle   \n",
       "143293  183508  7219-rav depto en venta en providencia,, del v...   \n",
       "145374   31494                                      preventa depa   \n",
       "149779  163106  casa en venta en providencia. colomos providen...   \n",
       "177717  190833  preventa departamentos providencia col. del valle   \n",
       "182834   75422     departamento de lujo en venta - col. del valle   \n",
       "190219   45283  casa en condominio en venta del valle norte  p...   \n",
       "196136   70168  casa en condominio-venta, providencia, del val...   \n",
       "196669  298840        penthouse venta / providencia / guadalajara   \n",
       "201764  237972               departamento de lujo en providencia    \n",
       "221726  245506  remate hipotecario depto. en providencia, vall...   \n",
       "230364   79400  magnifica residencia en venta en la zona dorad...   \n",
       "232712   12062                          providencia, departamento   \n",
       "\n",
       "                                              descripcion     tipodepropiedad  \\\n",
       "21997   esta casa se encuentra cerca de av. américas, ...                Casa   \n",
       "22346                                                 NaN                Casa   \n",
       "26604   metros cuadrados \\n\\n- departamento 96 m2 \\n- ...         Apartamento   \n",
       "29900   cochera con portón eléctrico para 1 auto, esta...         Apartamento   \n",
       "30206   2 habitaciones, la principal con baño y vestid...         Apartamento   \n",
       "31200   excelente departamento muy bien ubicado en cal...         Apartamento   \n",
       "33839   status en negociación. departamento en venta o...         Apartamento   \n",
       "49378   residencia ubicada en providencia, remodelada ...                Casa   \n",
       "59076   se vende hermosa casa en letrán valle con 4 re...                Casa   \n",
       "62091   departamento en exterior en venta o renta solo...         Apartamento   \n",
       "66318   <p>penthouse en pre venta.\\n</p><p>\\n</p><p>-1...         Apartamento   \n",
       "69983   <p>exclusivo loft en preventa. en el mejor y  ...         Apartamento   \n",
       "85585   <p>departamento de 3 recamaras en zona residen...         Apartamento   \n",
       "92029   <p>florida casa en venta alvaro obregon ciudad...                Casa   \n",
       "96113   hermoso departamento ph, con vista espectacula...         Apartamento   \n",
       "105806  providencia 857 departamento 208. \\n\\nproviden...         Apartamento   \n",
       "108276  <p><strong>&iquest;quieres una oportunidad? ad...                Casa   \n",
       "121454  <p>bonito departamento colonia del valle de 12...         Apartamento   \n",
       "143293  excelente departamento en el corazón de la del...         Apartamento   \n",
       "145374  excelente ubicación, departamentos con acabado...         Apartamento   \n",
       "149779  italia providencia casa en venta. casa en vent...                Casa   \n",
       "177717  exclusivo departamento sala, comedor cocina in...         Apartamento   \n",
       "182834  excelente departamento con acabados de lujo de...         Apartamento   \n",
       "190219  casa en condominio en venta en colonia del val...  Casa en condominio   \n",
       "196136                     cuenta con roof garden privado                Casa   \n",
       "196669  <p>penthouse en venta en providencia, guadalaj...         Apartamento   \n",
       "201764  inmejorable ubicación,bellos acabados ,pronta ...         Apartamento   \n",
       "221726  firma de cesión ante notario público \\nsolo pa...         Apartamento   \n",
       "230364  <p>magnifica residencia en venta en la zona do...  Casa en condominio   \n",
       "232712  excelente departamento interior, muy iluminado...         Apartamento   \n",
       "\n",
       "          direccion          ciudad         provincia  antiguedad  \\\n",
       "21997   Providencia     Guadalajara           Jalisco         5.0   \n",
       "22346   Providencia  Alvaro Obregón  Distrito Federal         1.0   \n",
       "26604   Providencia   Benito Juárez  Distrito Federal         5.0   \n",
       "29900   Providencia     Guadalajara           Jalisco         5.0   \n",
       "30206   Providencia   Benito Juárez  Distrito Federal         5.0   \n",
       "31200   Providencia   Benito Juárez  Distrito Federal        20.0   \n",
       "33839   Providencia   Benito Juárez  Distrito Federal         5.0   \n",
       "49378   Providencia     Guadalajara           Jalisco         5.0   \n",
       "59076   Providencia   Benito Juárez  Distrito Federal        10.0   \n",
       "62091   Providencia   Benito Juárez  Distrito Federal         5.0   \n",
       "66318   Providencia   Benito Juárez  Distrito Federal         NaN   \n",
       "69983   Providencia     Guadalajara           Jalisco         1.0   \n",
       "85585   Providencia   Benito Juárez  Distrito Federal        30.0   \n",
       "92029   Providencia  Alvaro Obregón  Distrito Federal        21.0   \n",
       "96113   Providencia     Guadalajara           Jalisco         2.0   \n",
       "105806  Providencia   Benito Juárez  Distrito Federal         0.0   \n",
       "108276  Providencia   Benito Juárez  Distrito Federal        10.0   \n",
       "121454  Providencia   Benito Juárez  Distrito Federal        20.0   \n",
       "143293  Providencia   Benito Juárez  Distrito Federal         8.0   \n",
       "145374  Providencia   Benito Juárez  Distrito Federal         NaN   \n",
       "149779  Providencia     Guadalajara           Jalisco         5.0   \n",
       "177717  Providencia   Benito Juárez  Distrito Federal         NaN   \n",
       "182834  Providencia   Benito Juárez  Distrito Federal         5.0   \n",
       "190219  Providencia   Benito Juárez  Distrito Federal        20.0   \n",
       "196136  Providencia   Benito Juárez  Distrito Federal        10.0   \n",
       "196669  Providencia     Guadalajara           Jalisco         9.0   \n",
       "201764  Providencia     Guadalajara           Jalisco         0.0   \n",
       "221726  Providencia   Benito Juárez  Distrito Federal        20.0   \n",
       "230364  Providencia         Metepec    Edo. de México         0.0   \n",
       "232712  Providencia   Benito Juárez  Distrito Federal        35.0   \n",
       "\n",
       "        habitaciones  garages  ...        lat         lng  \\\n",
       "21997            3.0      2.0  ...  20.690476 -103.388226   \n",
       "22346            3.0      NaN  ...  19.357357  -99.175974   \n",
       "26604            2.0      2.0  ...        NaN         NaN   \n",
       "29900            3.0      0.0  ...        NaN         NaN   \n",
       "30206            2.0      NaN  ...  19.387480  -99.169865   \n",
       "31200            3.0      1.0  ...        NaN         NaN   \n",
       "33839            3.0      2.0  ...  19.379509  -99.206879   \n",
       "49378            4.0      3.0  ...        NaN         NaN   \n",
       "59076            4.0      2.0  ...        NaN         NaN   \n",
       "62091            3.0      2.0  ...  19.426914  -99.160040   \n",
       "66318            3.0      NaN  ...        NaN         NaN   \n",
       "69983            2.0      1.0  ...        NaN         NaN   \n",
       "85585            3.0      1.0  ...  19.396207  -99.167173   \n",
       "92029            4.0      NaN  ...  19.357785  -99.175779   \n",
       "96113            3.0      3.0  ...        NaN         NaN   \n",
       "105806           3.0      2.0  ...  19.389184  -99.169458   \n",
       "108276           NaN      0.0  ...        NaN         NaN   \n",
       "121454           2.0      1.0  ...  19.380682  -99.171442   \n",
       "143293           2.0      2.0  ...  19.396000  -99.168000   \n",
       "145374           2.0      2.0  ...  19.388091  -99.169962   \n",
       "149779           3.0      3.0  ...        NaN         NaN   \n",
       "177717           1.0      1.0  ...        NaN         NaN   \n",
       "182834           2.0      2.0  ...  19.376823  -99.172308   \n",
       "190219           3.0      3.0  ...  19.387476  -99.169789   \n",
       "196136           2.0      2.0  ...        NaN         NaN   \n",
       "196669           3.0      2.0  ...  20.699625 -103.384772   \n",
       "201764           2.0      2.0  ...        NaN         NaN   \n",
       "221726           NaN      0.0  ...  19.384675  -99.170650   \n",
       "230364           4.0      NaN  ...  19.269495  -99.608670   \n",
       "232712           3.0      2.0  ...  19.392488  -99.169368   \n",
       "\n",
       "                      fecha  gimnasio  usosmultiples  piscina  \\\n",
       "21997   2016-12-02 00:00:00       0.0            0.0      0.0   \n",
       "22346   2013-09-12 00:00:00       0.0            0.0      0.0   \n",
       "26604   2015-03-14 00:00:00       0.0            0.0      0.0   \n",
       "29900   2015-01-25 00:00:00       0.0            0.0      0.0   \n",
       "30206   2016-10-28 00:00:00       0.0            1.0      1.0   \n",
       "31200   2014-06-20 00:00:00       0.0            0.0      0.0   \n",
       "33839   2016-05-24 00:00:00       1.0            0.0      0.0   \n",
       "49378   2015-02-08 00:00:00       0.0            0.0      0.0   \n",
       "59076   2015-12-13 00:00:00       0.0            0.0      0.0   \n",
       "62091   2016-07-13 00:00:00       1.0            0.0      0.0   \n",
       "66318   2016-06-07 00:00:00       0.0            0.0      0.0   \n",
       "69983   2012-11-13 00:00:00       0.0            0.0      0.0   \n",
       "85585   2014-01-27 00:00:00       0.0            0.0      0.0   \n",
       "92029   2016-12-16 00:00:00       0.0            0.0      0.0   \n",
       "96113   2015-06-05 00:00:00       0.0            0.0      1.0   \n",
       "105806  2015-11-18 00:00:00       1.0            0.0      0.0   \n",
       "108276  2013-05-02 00:00:00       0.0            0.0      0.0   \n",
       "121454  2015-11-13 00:00:00       0.0            0.0      0.0   \n",
       "143293  2016-12-06 00:00:00       0.0            0.0      0.0   \n",
       "145374  2014-11-28 00:00:00       0.0            0.0      0.0   \n",
       "149779  2015-09-21 00:00:00       0.0            0.0      0.0   \n",
       "177717  2016-01-29 00:00:00       0.0            0.0      0.0   \n",
       "182834  2016-10-02 00:00:00       1.0            0.0      0.0   \n",
       "190219  2016-12-20 00:00:00       0.0            0.0      0.0   \n",
       "196136  2016-12-18 00:00:00       0.0            0.0      0.0   \n",
       "196669  2014-04-30 00:00:00       0.0            0.0      0.0   \n",
       "201764  2016-12-30 00:00:00       1.0            0.0      1.0   \n",
       "221726  2016-04-18 00:00:00       0.0            0.0      0.0   \n",
       "230364  2016-12-22 00:00:00       0.0            0.0      0.0   \n",
       "232712  2016-12-22 00:00:00       0.0            0.0      0.0   \n",
       "\n",
       "       escuelascercanas  centroscomercialescercanos     precio  valor  \n",
       "21997               1.0                         1.0  2970000.0      1  \n",
       "22346               1.0                         0.0  6850000.0      1  \n",
       "26604               1.0                         1.0  3150000.0      1  \n",
       "29900               0.0                         0.0  1800000.0      1  \n",
       "30206               1.0                         1.0  6200000.0      1  \n",
       "31200               0.0                         1.0  2180000.0      1  \n",
       "33839               1.0                         1.0  3300000.0      1  \n",
       "49378               0.0                         0.0  5490000.0      1  \n",
       "59076               0.0                         0.0  5900000.0      1  \n",
       "62091               1.0                         1.0  3685000.0      1  \n",
       "66318               0.0                         0.0  7980000.0      1  \n",
       "69983               0.0                         0.0  3100000.0      1  \n",
       "85585               1.0                         1.0  2150000.0      1  \n",
       "92029               1.0                         1.0  7180000.0      1  \n",
       "96113               0.0                         0.0  8250000.0      1  \n",
       "105806              1.0                         1.0  5250000.0      1  \n",
       "108276              0.0                         0.0  2500000.0      1  \n",
       "121454              0.0                         0.0  3100000.0      1  \n",
       "143293              0.0                         0.0  3800000.0      1  \n",
       "145374              1.0                         1.0  4005200.0      1  \n",
       "149779              1.0                         1.0  5800000.0      1  \n",
       "177717              0.0                         1.0  3360000.0      1  \n",
       "182834              1.0                         1.0  7100000.0      1  \n",
       "190219              1.0                         1.0  4914483.0      1  \n",
       "196136              0.0                         0.0  7800000.0      1  \n",
       "196669              0.0                         0.0  4095000.0      1  \n",
       "201764              0.0                         0.0  3922240.0      1  \n",
       "221726              0.0                         0.0  1800000.0      1  \n",
       "230364              1.0                         1.0  6600000.0      1  \n",
       "232712              0.0                         0.0  3500000.0      1  \n",
       "\n",
       "[30 rows x 24 columns]"
      ]
     },
     "execution_count": 201,
     "metadata": {},
     "output_type": "execute_result"
    }
   ],
   "source": [
    "#con esto accedo directamente\n",
    "df.loc[df['direccion'].isin([\"Providencia\"]), :]"
   ]
  },
  {
   "cell_type": "code",
   "execution_count": 198,
   "metadata": {},
   "outputs": [
    {
     "name": "stdout",
     "output_type": "stream",
     "text": [
      "Cantidad de direcciones repetidas\n"
     ]
    },
    {
     "data": {
      "text/plain": [
       "63009"
      ]
     },
     "execution_count": 198,
     "metadata": {},
     "output_type": "execute_result"
    }
   ],
   "source": [
    "print (\"Cantidad de direcciones repetidas\")\n",
    "repetidos[\"valor\"].sum()"
   ]
  },
  {
   "cell_type": "code",
   "execution_count": 152,
   "metadata": {},
   "outputs": [],
   "source": []
  },
  {
   "cell_type": "code",
   "execution_count": null,
   "metadata": {},
   "outputs": [],
   "source": []
  },
  {
   "cell_type": "code",
   "execution_count": null,
   "metadata": {},
   "outputs": [],
   "source": []
  },
  {
   "cell_type": "code",
   "execution_count": 81,
   "metadata": {},
   "outputs": [],
   "source": []
  },
  {
   "cell_type": "code",
   "execution_count": 144,
   "metadata": {},
   "outputs": [],
   "source": []
  },
  {
   "cell_type": "code",
   "execution_count": null,
   "metadata": {},
   "outputs": [],
   "source": []
  },
  {
   "cell_type": "code",
   "execution_count": null,
   "metadata": {},
   "outputs": [],
   "source": []
  },
  {
   "cell_type": "code",
   "execution_count": null,
   "metadata": {},
   "outputs": [],
   "source": []
  },
  {
   "cell_type": "markdown",
   "metadata": {},
   "source": [
    "3)procesar descripción.[Jose]\n",
    " *** podríamos validar que si dice 3 baños tenga 3 baños.  (nose)\n",
    " *** determinar si esta en una esquina en base a la descripcion  (y agregamos una columna mas si no nose )\n"
   ]
  },
  {
   "cell_type": "code",
   "execution_count": null,
   "metadata": {},
   "outputs": [],
   "source": []
  },
  {
   "cell_type": "code",
   "execution_count": null,
   "metadata": {},
   "outputs": [],
   "source": []
  },
  {
   "cell_type": "code",
   "execution_count": null,
   "metadata": {},
   "outputs": [],
   "source": []
  },
  {
   "cell_type": "markdown",
   "metadata": {},
   "source": [
    "4) hacer ranking de palabras de la descripción, para luego hacer un estudio con esos inmuebles.\n",
    "  *** largo de la descricion.[Jose]\n"
   ]
  },
  {
   "cell_type": "code",
   "execution_count": 215,
   "metadata": {},
   "outputs": [],
   "source": []
  },
  {
   "cell_type": "markdown",
   "metadata": {},
   "source": [
    "6) relacion entre el precio y la fecha de publicion.  (filtrar año y mes de publicacion)\n",
    "si hay alguna relacion, la recomendacion para el usuario es cuando les conviene comprar.[Jose]"
   ]
  },
  {
   "cell_type": "code",
   "execution_count": 228,
   "metadata": {},
   "outputs": [],
   "source": [
    "# generamos nuevas columnas seteando el tipo datetime\n",
    "df['fecha_datetime'] = pd.to_datetime(df['fecha'])\n",
    "# generamos una nueva columna obteniendo el año, esto los usuaremos en visualizacion.\n",
    "df['year'] = df['fecha_datetime'].dt.year\n",
    "df['month'] = df['fecha_datetime'].dt.month\n"
   ]
  },
  {
   "cell_type": "code",
   "execution_count": 216,
   "metadata": {},
   "outputs": [
    {
     "data": {
      "text/html": [
       "<div>\n",
       "<style scoped>\n",
       "    .dataframe tbody tr th:only-of-type {\n",
       "        vertical-align: middle;\n",
       "    }\n",
       "\n",
       "    .dataframe tbody tr th {\n",
       "        vertical-align: top;\n",
       "    }\n",
       "\n",
       "    .dataframe thead th {\n",
       "        text-align: right;\n",
       "    }\n",
       "</style>\n",
       "<table border=\"1\" class=\"dataframe\">\n",
       "  <thead>\n",
       "    <tr style=\"text-align: right;\">\n",
       "      <th></th>\n",
       "      <th>precio</th>\n",
       "    </tr>\n",
       "    <tr>\n",
       "      <th>year</th>\n",
       "      <th></th>\n",
       "    </tr>\n",
       "  </thead>\n",
       "  <tbody>\n",
       "    <tr>\n",
       "      <th>2012</th>\n",
       "      <td>2,032,517.56</td>\n",
       "    </tr>\n",
       "    <tr>\n",
       "      <th>2013</th>\n",
       "      <td>2,125,061.05</td>\n",
       "    </tr>\n",
       "    <tr>\n",
       "      <th>2014</th>\n",
       "      <td>2,364,594.65</td>\n",
       "    </tr>\n",
       "    <tr>\n",
       "      <th>2015</th>\n",
       "      <td>2,634,569.73</td>\n",
       "    </tr>\n",
       "    <tr>\n",
       "      <th>2016</th>\n",
       "      <td>2,801,614.15</td>\n",
       "    </tr>\n",
       "  </tbody>\n",
       "</table>\n",
       "</div>"
      ],
      "text/plain": [
       "                   precio\n",
       "year                     \n",
       "2012         2,032,517.56\n",
       "2013         2,125,061.05\n",
       "2014         2,364,594.65\n",
       "2015         2,634,569.73\n",
       "2016         2,801,614.15"
      ]
     },
     "execution_count": 216,
     "metadata": {},
     "output_type": "execute_result"
    }
   ],
   "source": [
    "#comencemos viendo los precios promedios por año\n",
    "df.groupby('year').agg({'precio':'mean'})"
   ]
  },
  {
   "cell_type": "code",
   "execution_count": 227,
   "metadata": {},
   "outputs": [
    {
     "data": {
      "text/plain": [
       "2016    94038\n",
       "2015    51470\n",
       "2014    40572\n",
       "2013    30386\n",
       "2012    23534\n",
       "Name: year, dtype: int64"
      ]
     },
     "execution_count": 227,
     "metadata": {},
     "output_type": "execute_result"
    }
   ],
   "source": [
    "# cantidad de publicaciones por año\n",
    "# df.groupby('year')['id'].count()  \n",
    "df['year'].value_counts()"
   ]
  },
  {
   "cell_type": "code",
   "execution_count": null,
   "metadata": {},
   "outputs": [],
   "source": [
    "# comparemos el precio por mes\n"
   ]
  },
  {
   "cell_type": "code",
   "execution_count": 274,
   "metadata": {},
   "outputs": [
    {
     "data": {
      "text/html": [
       "<div>\n",
       "<style scoped>\n",
       "    .dataframe tbody tr th:only-of-type {\n",
       "        vertical-align: middle;\n",
       "    }\n",
       "\n",
       "    .dataframe tbody tr th {\n",
       "        vertical-align: top;\n",
       "    }\n",
       "\n",
       "    .dataframe thead tr th {\n",
       "        text-align: left;\n",
       "    }\n",
       "\n",
       "    .dataframe thead tr:last-of-type th {\n",
       "        text-align: right;\n",
       "    }\n",
       "</style>\n",
       "<table border=\"1\" class=\"dataframe\">\n",
       "  <thead>\n",
       "    <tr>\n",
       "      <th></th>\n",
       "      <th colspan=\"3\" halign=\"left\">precio</th>\n",
       "    </tr>\n",
       "    <tr>\n",
       "      <th></th>\n",
       "      <th>mean</th>\n",
       "      <th>count</th>\n",
       "      <th>sum</th>\n",
       "    </tr>\n",
       "    <tr>\n",
       "      <th>month</th>\n",
       "      <th></th>\n",
       "      <th></th>\n",
       "      <th></th>\n",
       "    </tr>\n",
       "  </thead>\n",
       "  <tbody>\n",
       "    <tr>\n",
       "      <th>1</th>\n",
       "      <td>2,380,728.28</td>\n",
       "      <td>16009</td>\n",
       "      <td>38,113,079,010.00</td>\n",
       "    </tr>\n",
       "    <tr>\n",
       "      <th>2</th>\n",
       "      <td>2,395,430.20</td>\n",
       "      <td>13723</td>\n",
       "      <td>32,872,488,649.00</td>\n",
       "    </tr>\n",
       "    <tr>\n",
       "      <th>3</th>\n",
       "      <td>2,498,691.19</td>\n",
       "      <td>14732</td>\n",
       "      <td>36,810,718,600.00</td>\n",
       "    </tr>\n",
       "    <tr>\n",
       "      <th>4</th>\n",
       "      <td>2,546,977.10</td>\n",
       "      <td>16466</td>\n",
       "      <td>41,938,524,984.00</td>\n",
       "    </tr>\n",
       "    <tr>\n",
       "      <th>5</th>\n",
       "      <td>2,457,124.77</td>\n",
       "      <td>16062</td>\n",
       "      <td>39,466,338,047.00</td>\n",
       "    </tr>\n",
       "    <tr>\n",
       "      <th>6</th>\n",
       "      <td>2,520,843.26</td>\n",
       "      <td>17221</td>\n",
       "      <td>43,411,441,832.00</td>\n",
       "    </tr>\n",
       "    <tr>\n",
       "      <th>7</th>\n",
       "      <td>2,551,788.47</td>\n",
       "      <td>17510</td>\n",
       "      <td>44,681,816,100.00</td>\n",
       "    </tr>\n",
       "    <tr>\n",
       "      <th>8</th>\n",
       "      <td>2,517,020.83</td>\n",
       "      <td>20897</td>\n",
       "      <td>52,598,184,194.00</td>\n",
       "    </tr>\n",
       "    <tr>\n",
       "      <th>9</th>\n",
       "      <td>2,558,958.43</td>\n",
       "      <td>20622</td>\n",
       "      <td>52,770,840,815.00</td>\n",
       "    </tr>\n",
       "    <tr>\n",
       "      <th>10</th>\n",
       "      <td>2,512,789.45</td>\n",
       "      <td>23306</td>\n",
       "      <td>58,563,070,853.00</td>\n",
       "    </tr>\n",
       "    <tr>\n",
       "      <th>11</th>\n",
       "      <td>2,531,623.41</td>\n",
       "      <td>21225</td>\n",
       "      <td>53,733,706,871.00</td>\n",
       "    </tr>\n",
       "    <tr>\n",
       "      <th>12</th>\n",
       "      <td>2,662,774.84</td>\n",
       "      <td>42227</td>\n",
       "      <td>112,440,993,060.00</td>\n",
       "    </tr>\n",
       "  </tbody>\n",
       "</table>\n",
       "</div>"
      ],
      "text/plain": [
       "                    precio                            \n",
       "                      mean  count                  sum\n",
       "month                                                 \n",
       "1             2,380,728.28  16009    38,113,079,010.00\n",
       "2             2,395,430.20  13723    32,872,488,649.00\n",
       "3             2,498,691.19  14732    36,810,718,600.00\n",
       "4             2,546,977.10  16466    41,938,524,984.00\n",
       "5             2,457,124.77  16062    39,466,338,047.00\n",
       "6             2,520,843.26  17221    43,411,441,832.00\n",
       "7             2,551,788.47  17510    44,681,816,100.00\n",
       "8             2,517,020.83  20897    52,598,184,194.00\n",
       "9             2,558,958.43  20622    52,770,840,815.00\n",
       "10            2,512,789.45  23306    58,563,070,853.00\n",
       "11            2,531,623.41  21225    53,733,706,871.00\n",
       "12            2,662,774.84  42227   112,440,993,060.00"
      ]
     },
     "execution_count": 274,
     "metadata": {},
     "output_type": "execute_result"
    }
   ],
   "source": [
    " df.groupby('month').agg({'precio':['mean','count','sum']})"
   ]
  },
  {
   "cell_type": "code",
   "execution_count": null,
   "metadata": {},
   "outputs": [],
   "source": []
  },
  {
   "cell_type": "code",
   "execution_count": 266,
   "metadata": {},
   "outputs": [
    {
     "data": {
      "text/plain": [
       "MultiIndex(levels=[['precio'], ['mean', 'count']],\n",
       "           codes=[[0, 0], [0, 1]])"
      ]
     },
     "execution_count": 266,
     "metadata": {},
     "output_type": "execute_result"
    }
   ],
   "source": [
    "ada.columns"
   ]
  },
  {
   "cell_type": "code",
   "execution_count": 267,
   "metadata": {},
   "outputs": [],
   "source": []
  },
  {
   "cell_type": "code",
   "execution_count": 268,
   "metadata": {},
   "outputs": [
    {
     "data": {
      "text/html": [
       "<div>\n",
       "<style scoped>\n",
       "    .dataframe tbody tr th:only-of-type {\n",
       "        vertical-align: middle;\n",
       "    }\n",
       "\n",
       "    .dataframe tbody tr th {\n",
       "        vertical-align: top;\n",
       "    }\n",
       "\n",
       "    .dataframe thead tr th {\n",
       "        text-align: left;\n",
       "    }\n",
       "</style>\n",
       "<table border=\"1\" class=\"dataframe\">\n",
       "  <thead>\n",
       "    <tr>\n",
       "      <th></th>\n",
       "      <th>month</th>\n",
       "      <th colspan=\"2\" halign=\"left\">precio</th>\n",
       "    </tr>\n",
       "    <tr>\n",
       "      <th></th>\n",
       "      <th></th>\n",
       "      <th>mean</th>\n",
       "      <th>count</th>\n",
       "    </tr>\n",
       "  </thead>\n",
       "  <tbody>\n",
       "    <tr>\n",
       "      <th>0</th>\n",
       "      <td>1</td>\n",
       "      <td>2,380,728.28</td>\n",
       "      <td>16009</td>\n",
       "    </tr>\n",
       "    <tr>\n",
       "      <th>1</th>\n",
       "      <td>2</td>\n",
       "      <td>2,395,430.20</td>\n",
       "      <td>13723</td>\n",
       "    </tr>\n",
       "    <tr>\n",
       "      <th>2</th>\n",
       "      <td>3</td>\n",
       "      <td>2,498,691.19</td>\n",
       "      <td>14732</td>\n",
       "    </tr>\n",
       "    <tr>\n",
       "      <th>3</th>\n",
       "      <td>4</td>\n",
       "      <td>2,546,977.10</td>\n",
       "      <td>16466</td>\n",
       "    </tr>\n",
       "    <tr>\n",
       "      <th>4</th>\n",
       "      <td>5</td>\n",
       "      <td>2,457,124.77</td>\n",
       "      <td>16062</td>\n",
       "    </tr>\n",
       "    <tr>\n",
       "      <th>5</th>\n",
       "      <td>6</td>\n",
       "      <td>2,520,843.26</td>\n",
       "      <td>17221</td>\n",
       "    </tr>\n",
       "    <tr>\n",
       "      <th>6</th>\n",
       "      <td>7</td>\n",
       "      <td>2,551,788.47</td>\n",
       "      <td>17510</td>\n",
       "    </tr>\n",
       "    <tr>\n",
       "      <th>7</th>\n",
       "      <td>8</td>\n",
       "      <td>2,517,020.83</td>\n",
       "      <td>20897</td>\n",
       "    </tr>\n",
       "    <tr>\n",
       "      <th>8</th>\n",
       "      <td>9</td>\n",
       "      <td>2,558,958.43</td>\n",
       "      <td>20622</td>\n",
       "    </tr>\n",
       "    <tr>\n",
       "      <th>9</th>\n",
       "      <td>10</td>\n",
       "      <td>2,512,789.45</td>\n",
       "      <td>23306</td>\n",
       "    </tr>\n",
       "  </tbody>\n",
       "</table>\n",
       "</div>"
      ],
      "text/plain": [
       "  month               precio       \n",
       "                        mean  count\n",
       "0  1            2,380,728.28  16009\n",
       "1  2            2,395,430.20  13723\n",
       "2  3            2,498,691.19  14732\n",
       "3  4            2,546,977.10  16466\n",
       "4  5            2,457,124.77  16062\n",
       "5  6            2,520,843.26  17221\n",
       "6  7            2,551,788.47  17510\n",
       "7  8            2,517,020.83  20897\n",
       "8  9            2,558,958.43  20622\n",
       "9  10           2,512,789.45  23306"
      ]
     },
     "execution_count": 268,
     "metadata": {},
     "output_type": "execute_result"
    }
   ],
   "source": [
    "ada.head(10)"
   ]
  },
  {
   "cell_type": "code",
   "execution_count": null,
   "metadata": {},
   "outputs": [],
   "source": []
  },
  {
   "cell_type": "code",
   "execution_count": 212,
   "metadata": {},
   "outputs": [
    {
     "data": {
      "text/plain": [
       "Index(['id', 'titulo', 'descripcion', 'tipodepropiedad', 'direccion', 'ciudad',\n",
       "       'provincia', 'antiguedad', 'habitaciones', 'garages', 'banos',\n",
       "       'metroscubiertos', 'metrostotales', 'idzona', 'lat', 'lng', 'fecha',\n",
       "       'gimnasio', 'usosmultiples', 'piscina', 'escuelascercanas',\n",
       "       'centroscomercialescercanos', 'precio', 'valor', 'fecha_datetime',\n",
       "       'year'],\n",
       "      dtype='object')"
      ]
     },
     "execution_count": 212,
     "metadata": {},
     "output_type": "execute_result"
    }
   ],
   "source": [
    "df.columns"
   ]
  },
  {
   "cell_type": "code",
   "execution_count": 10,
   "metadata": {},
   "outputs": [
    {
     "data": {
      "text/plain": [
       "RangeIndex(start=0, stop=240000, step=1)"
      ]
     },
     "execution_count": 10,
     "metadata": {},
     "output_type": "execute_result"
    }
   ],
   "source": [
    "df.index"
   ]
  },
  {
   "cell_type": "code",
   "execution_count": 11,
   "metadata": {},
   "outputs": [
    {
     "data": {
      "text/plain": [
       "pandas.core.indexes.range.RangeIndex"
      ]
     },
     "execution_count": 11,
     "metadata": {},
     "output_type": "execute_result"
    }
   ],
   "source": [
    "type(df.index)"
   ]
  }
 ],
 "metadata": {
  "kernelspec": {
   "display_name": "Python 3",
   "language": "python",
   "name": "python3"
  }
 },
 "nbformat": 4,
 "nbformat_minor": 2
}
