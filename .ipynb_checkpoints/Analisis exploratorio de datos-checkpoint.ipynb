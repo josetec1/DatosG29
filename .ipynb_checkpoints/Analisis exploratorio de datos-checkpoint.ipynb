{
 "cells": [
  {
   "cell_type": "markdown",
   "metadata": {},
   "source": [
    "# Analisis exploratorio de datos"
   ]
  },
  {
   "cell_type": "markdown",
   "metadata": {},
   "source": [
    "### Indice\n",
    "1.\tCarga de información en un DataFrame\n",
    "2.\tAnalizando utilizacion de memoria del dataframe\n",
    "3.\tConversion de Datos y mejoras en uso de memoria\n",
    "4.\tVerificacion de Calidad de Datos\n",
    "5.\tAnalizando propiedades especificas del set de datos\n",
    "6.\tManejo de valores nulos\n"
   ]
  },
  {
   "cell_type": "markdown",
   "metadata": {},
   "source": [
    "## 1) Carga de informacion en un DataFrame"
   ]
  },
  {
   "cell_type": "code",
   "execution_count": 142,
   "metadata": {},
   "outputs": [],
   "source": [
    "import pandas as pd\n",
    "df = pd.read_csv(\"datos/train.csv\", sep=\",\")\n",
    "pd.options.display.float_format = '{:20,.2f}'.format # suprimimos la notacion cientifica en los outputs"
   ]
  },
  {
   "cell_type": "code",
   "execution_count": 143,
   "metadata": {},
   "outputs": [
    {
     "data": {
      "text/html": [
       "<div>\n",
       "<style scoped>\n",
       "    .dataframe tbody tr th:only-of-type {\n",
       "        vertical-align: middle;\n",
       "    }\n",
       "\n",
       "    .dataframe tbody tr th {\n",
       "        vertical-align: top;\n",
       "    }\n",
       "\n",
       "    .dataframe thead th {\n",
       "        text-align: right;\n",
       "    }\n",
       "</style>\n",
       "<table border=\"1\" class=\"dataframe\">\n",
       "  <thead>\n",
       "    <tr style=\"text-align: right;\">\n",
       "      <th></th>\n",
       "      <th>id</th>\n",
       "      <th>titulo</th>\n",
       "      <th>descripcion</th>\n",
       "      <th>tipodepropiedad</th>\n",
       "      <th>direccion</th>\n",
       "      <th>ciudad</th>\n",
       "      <th>provincia</th>\n",
       "      <th>antiguedad</th>\n",
       "      <th>habitaciones</th>\n",
       "      <th>garages</th>\n",
       "      <th>...</th>\n",
       "      <th>idzona</th>\n",
       "      <th>lat</th>\n",
       "      <th>lng</th>\n",
       "      <th>fecha</th>\n",
       "      <th>gimnasio</th>\n",
       "      <th>usosmultiples</th>\n",
       "      <th>piscina</th>\n",
       "      <th>escuelascercanas</th>\n",
       "      <th>centroscomercialescercanos</th>\n",
       "      <th>precio</th>\n",
       "    </tr>\n",
       "  </thead>\n",
       "  <tbody>\n",
       "    <tr>\n",
       "      <th>117211</th>\n",
       "      <td>258573</td>\n",
       "      <td>casa en venta en san cristobal</td>\n",
       "      <td>nocnok id: mx15-bf4078. bonita casa sola estil...</td>\n",
       "      <td>Casa</td>\n",
       "      <td>NaN</td>\n",
       "      <td>Cuernavaca</td>\n",
       "      <td>Morelos</td>\n",
       "      <td>nan</td>\n",
       "      <td>3.00</td>\n",
       "      <td>2.00</td>\n",
       "      <td>...</td>\n",
       "      <td>65,573.00</td>\n",
       "      <td>nan</td>\n",
       "      <td>nan</td>\n",
       "      <td>2016-06-09 00:00:00</td>\n",
       "      <td>0.00</td>\n",
       "      <td>0.00</td>\n",
       "      <td>0.00</td>\n",
       "      <td>0.00</td>\n",
       "      <td>0.00</td>\n",
       "      <td>2,350,000.00</td>\n",
       "    </tr>\n",
       "    <tr>\n",
       "      <th>102424</th>\n",
       "      <td>230271</td>\n",
       "      <td>casa en condominio en venta, san andrés cholul...</td>\n",
       "      <td>hermosa casa en venta ubicada en parque santia...</td>\n",
       "      <td>Casa en condominio</td>\n",
       "      <td>NaN</td>\n",
       "      <td>San Andrés Cholula</td>\n",
       "      <td>Puebla</td>\n",
       "      <td>1.00</td>\n",
       "      <td>3.00</td>\n",
       "      <td>1.00</td>\n",
       "      <td>...</td>\n",
       "      <td>nan</td>\n",
       "      <td>19.06</td>\n",
       "      <td>-98.29</td>\n",
       "      <td>2016-12-08 00:00:00</td>\n",
       "      <td>0.00</td>\n",
       "      <td>0.00</td>\n",
       "      <td>0.00</td>\n",
       "      <td>0.00</td>\n",
       "      <td>0.00</td>\n",
       "      <td>5,395,000.00</td>\n",
       "    </tr>\n",
       "    <tr>\n",
       "      <th>119201</th>\n",
       "      <td>168759</td>\n",
       "      <td>hermosa casa amplia en vista del valle....exce...</td>\n",
       "      <td>etapa: compra - venta directa \\nentrega: inmed...</td>\n",
       "      <td>Casa</td>\n",
       "      <td>mar de las ondas</td>\n",
       "      <td>Naucalpan de Juárez</td>\n",
       "      <td>Edo. de México</td>\n",
       "      <td>20.00</td>\n",
       "      <td>5.00</td>\n",
       "      <td>2.00</td>\n",
       "      <td>...</td>\n",
       "      <td>286,425.00</td>\n",
       "      <td>nan</td>\n",
       "      <td>nan</td>\n",
       "      <td>2016-10-11 00:00:00</td>\n",
       "      <td>0.00</td>\n",
       "      <td>0.00</td>\n",
       "      <td>0.00</td>\n",
       "      <td>0.00</td>\n",
       "      <td>0.00</td>\n",
       "      <td>4,500,000.00</td>\n",
       "    </tr>\n",
       "  </tbody>\n",
       "</table>\n",
       "<p>3 rows × 23 columns</p>\n",
       "</div>"
      ],
      "text/plain": [
       "            id                                             titulo  \\\n",
       "117211  258573                     casa en venta en san cristobal   \n",
       "102424  230271  casa en condominio en venta, san andrés cholul...   \n",
       "119201  168759  hermosa casa amplia en vista del valle....exce...   \n",
       "\n",
       "                                              descripcion     tipodepropiedad  \\\n",
       "117211  nocnok id: mx15-bf4078. bonita casa sola estil...                Casa   \n",
       "102424  hermosa casa en venta ubicada en parque santia...  Casa en condominio   \n",
       "119201  etapa: compra - venta directa \\nentrega: inmed...                Casa   \n",
       "\n",
       "               direccion               ciudad       provincia  \\\n",
       "117211               NaN           Cuernavaca         Morelos   \n",
       "102424               NaN   San Andrés Cholula          Puebla   \n",
       "119201  mar de las ondas  Naucalpan de Juárez  Edo. de México   \n",
       "\n",
       "                 antiguedad         habitaciones              garages  ...  \\\n",
       "117211                  nan                 3.00                 2.00  ...   \n",
       "102424                 1.00                 3.00                 1.00  ...   \n",
       "119201                20.00                 5.00                 2.00  ...   \n",
       "\n",
       "                     idzona                  lat                  lng  \\\n",
       "117211            65,573.00                  nan                  nan   \n",
       "102424                  nan                19.06               -98.29   \n",
       "119201           286,425.00                  nan                  nan   \n",
       "\n",
       "                      fecha             gimnasio        usosmultiples  \\\n",
       "117211  2016-06-09 00:00:00                 0.00                 0.00   \n",
       "102424  2016-12-08 00:00:00                 0.00                 0.00   \n",
       "119201  2016-10-11 00:00:00                 0.00                 0.00   \n",
       "\n",
       "                    piscina     escuelascercanas  centroscomercialescercanos  \\\n",
       "117211                 0.00                 0.00                        0.00   \n",
       "102424                 0.00                 0.00                        0.00   \n",
       "119201                 0.00                 0.00                        0.00   \n",
       "\n",
       "                     precio  \n",
       "117211         2,350,000.00  \n",
       "102424         5,395,000.00  \n",
       "119201         4,500,000.00  \n",
       "\n",
       "[3 rows x 23 columns]"
      ]
     },
     "execution_count": 143,
     "metadata": {},
     "output_type": "execute_result"
    }
   ],
   "source": [
    "df.sample(3)"
   ]
  },
  {
   "cell_type": "code",
   "execution_count": 80,
   "metadata": {},
   "outputs": [
    {
     "data": {
      "text/plain": [
       "id                                                                       254099\n",
       "titulo                                                        depto. tipo a-402\n",
       "descripcion                   depto. interior de 80.15m2, consta de sala com...\n",
       "tipodepropiedad                                                     Apartamento\n",
       "direccion                                       Avenida Division del Norte 2005\n",
       "ciudad                                                            Benito Juárez\n",
       "provincia                                                      Distrito Federal\n",
       "antiguedad                                                                  NaN\n",
       "habitaciones                                                               2.00\n",
       "garages                                                                    1.00\n",
       "banos                                                                      2.00\n",
       "metroscubiertos                                                           80.00\n",
       "metrostotales                                                             80.00\n",
       "idzona                                                                23,533.00\n",
       "lat                                                                         NaN\n",
       "lng                                                                         NaN\n",
       "fecha                                                       2015-08-23 00:00:00\n",
       "gimnasio                                                                   0.00\n",
       "usosmultiples                                                              0.00\n",
       "piscina                                                                    0.00\n",
       "escuelascercanas                                                           0.00\n",
       "centroscomercialescercanos                                                 0.00\n",
       "precio                                                             2,273,000.00\n",
       "Name: 0, dtype: object"
      ]
     },
     "execution_count": 80,
     "metadata": {},
     "output_type": "execute_result"
    }
   ],
   "source": [
    "df.loc[0]"
   ]
  },
  {
   "cell_type": "code",
   "execution_count": 81,
   "metadata": {},
   "outputs": [
    {
     "name": "stdout",
     "output_type": "stream",
     "text": [
      "(240000, 23)\n"
     ]
    },
    {
     "data": {
      "text/plain": [
       "5520000"
      ]
     },
     "execution_count": 81,
     "metadata": {},
     "output_type": "execute_result"
    }
   ],
   "source": [
    "# dimensiones del DF\n",
    "print(df.shape)\n",
    "df.size # rows x col"
   ]
  },
  {
   "cell_type": "markdown",
   "metadata": {},
   "source": [
    "### 2 Analizando utilizacion de memoria del dataframe"
   ]
  },
  {
   "cell_type": "code",
   "execution_count": 82,
   "metadata": {},
   "outputs": [
    {
     "name": "stdout",
     "output_type": "stream",
     "text": [
      "<class 'pandas.core.frame.DataFrame'>\n",
      "RangeIndex: 240000 entries, 0 to 239999\n",
      "Data columns (total 23 columns):\n",
      "id                            240000 non-null int64\n",
      "titulo                        234613 non-null object\n",
      "descripcion                   238381 non-null object\n",
      "tipodepropiedad               239954 non-null object\n",
      "direccion                     186928 non-null object\n",
      "ciudad                        239628 non-null object\n",
      "provincia                     239845 non-null object\n",
      "antiguedad                    196445 non-null float64\n",
      "habitaciones                  217529 non-null float64\n",
      "garages                       202235 non-null float64\n",
      "banos                         213779 non-null float64\n",
      "metroscubiertos               222600 non-null float64\n",
      "metrostotales                 188533 non-null float64\n",
      "idzona                        211379 non-null float64\n",
      "lat                           116512 non-null float64\n",
      "lng                           116512 non-null float64\n",
      "fecha                         240000 non-null object\n",
      "gimnasio                      240000 non-null float64\n",
      "usosmultiples                 240000 non-null float64\n",
      "piscina                       240000 non-null float64\n",
      "escuelascercanas              240000 non-null float64\n",
      "centroscomercialescercanos    240000 non-null float64\n",
      "precio                        240000 non-null float64\n",
      "dtypes: float64(15), int64(1), object(7)\n",
      "memory usage: 42.1+ MB\n"
     ]
    }
   ],
   "source": [
    "# veo info general\n",
    "df.info()"
   ]
  },
  {
   "cell_type": "code",
   "execution_count": 83,
   "metadata": {},
   "outputs": [
    {
     "data": {
      "text/plain": [
       "id                            240000\n",
       "titulo                        234613\n",
       "descripcion                   238381\n",
       "tipodepropiedad               239954\n",
       "direccion                     186928\n",
       "ciudad                        239628\n",
       "provincia                     239845\n",
       "antiguedad                    196445\n",
       "habitaciones                  217529\n",
       "garages                       202235\n",
       "banos                         213779\n",
       "metroscubiertos               222600\n",
       "metrostotales                 188533\n",
       "idzona                        211379\n",
       "lat                           116512\n",
       "lng                           116512\n",
       "fecha                         240000\n",
       "gimnasio                      240000\n",
       "usosmultiples                 240000\n",
       "piscina                       240000\n",
       "escuelascercanas              240000\n",
       "centroscomercialescercanos    240000\n",
       "precio                        240000\n",
       "dtype: int64"
      ]
     },
     "execution_count": 83,
     "metadata": {},
     "output_type": "execute_result"
    }
   ],
   "source": [
    "# cantidad de elementos elementos no nulos en el data frame\n",
    "df.count()"
   ]
  },
  {
   "cell_type": "markdown",
   "metadata": {},
   "source": [
    "### 3.\tConversion de Datos y mejoras en uso de memoria"
   ]
  },
  {
   "cell_type": "markdown",
   "metadata": {},
   "source": [
    "#### provincia"
   ]
  },
  {
   "cell_type": "code",
   "execution_count": 84,
   "metadata": {},
   "outputs": [
    {
     "data": {
      "text/plain": [
       "Index             80\n",
       "provincia    1920000\n",
       "dtype: int64"
      ]
     },
     "execution_count": 84,
     "metadata": {},
     "output_type": "execute_result"
    }
   ],
   "source": [
    "df.loc[:,['provincia']].memory_usage()"
   ]
  },
  {
   "cell_type": "code",
   "execution_count": 85,
   "metadata": {},
   "outputs": [
    {
     "data": {
      "text/plain": [
       "33"
      ]
     },
     "execution_count": 85,
     "metadata": {},
     "output_type": "execute_result"
    }
   ],
   "source": [
    "df['provincia'].unique().size"
   ]
  },
  {
   "cell_type": "code",
   "execution_count": 86,
   "metadata": {},
   "outputs": [
    {
     "data": {
      "text/plain": [
       "Distrito Federal         58790\n",
       "Edo. de México           41607\n",
       "Jalisco                  21238\n",
       "Querétaro                16988\n",
       "Nuevo León               15324\n",
       "Puebla                   10421\n",
       "San luis Potosí           8447\n",
       "Yucatán                   7928\n",
       "Morelos                   7337\n",
       "Veracruz                  5762\n",
       "Quintana Roo              4756\n",
       "Chihuahua                 4590\n",
       "Coahuila                  3695\n",
       "Baja California Norte     3220\n",
       "Sonora                    2988\n",
       "Guanajuato                2860\n",
       "Guerrero                  2678\n",
       "Hidalgo                   2521\n",
       "Michoacán                 2471\n",
       "Tamaulipas                2303\n",
       "Durango                   2275\n",
       "Sinaloa                   1806\n",
       "Aguascalientes            1753\n",
       "Baja California Sur       1700\n",
       "Nayarit                   1352\n",
       "Chiapas                   1126\n",
       "Colima                    1008\n",
       "Tabasco                    994\n",
       "Tlaxcala                   839\n",
       "Oaxaca                     711\n",
       "Campeche                   263\n",
       "Zacatecas                   94\n",
       "Name: provincia, dtype: int64"
      ]
     },
     "execution_count": 86,
     "metadata": {},
     "output_type": "execute_result"
    }
   ],
   "source": [
    "df['provincia'].value_counts()"
   ]
  },
  {
   "cell_type": "code",
   "execution_count": 87,
   "metadata": {},
   "outputs": [],
   "source": [
    "# creo una nueva serie en el df de tipo category (enum)\n",
    "df['provincia'] = df['provincia'].astype('category')"
   ]
  },
  {
   "cell_type": "code",
   "execution_count": 88,
   "metadata": {},
   "outputs": [
    {
     "data": {
      "text/plain": [
       "241616"
      ]
     },
     "execution_count": 88,
     "metadata": {},
     "output_type": "execute_result"
    }
   ],
   "source": [
    "df['provincia'].memory_usage()"
   ]
  },
  {
   "cell_type": "code",
   "execution_count": 89,
   "metadata": {},
   "outputs": [
    {
     "data": {
      "text/plain": [
       "CategoricalDtype(categories=['Aguascalientes', 'Baja California Norte',\n",
       "                  'Baja California Sur', 'Campeche', 'Chiapas', 'Chihuahua',\n",
       "                  'Coahuila', 'Colima', 'Distrito Federal', 'Durango',\n",
       "                  'Edo. de México', 'Guanajuato', 'Guerrero', 'Hidalgo',\n",
       "                  'Jalisco', 'Michoacán', 'Morelos', 'Nayarit', 'Nuevo León',\n",
       "                  'Oaxaca', 'Puebla', 'Querétaro', 'Quintana Roo',\n",
       "                  'San luis Potosí', 'Sinaloa', 'Sonora', 'Tabasco',\n",
       "                  'Tamaulipas', 'Tlaxcala', 'Veracruz', 'Yucatán',\n",
       "                  'Zacatecas'],\n",
       "                 ordered=False)"
      ]
     },
     "execution_count": 89,
     "metadata": {},
     "output_type": "execute_result"
    }
   ],
   "source": [
    "df['provincia'].dtype"
   ]
  },
  {
   "cell_type": "markdown",
   "metadata": {},
   "source": [
    "#### Fechas"
   ]
  },
  {
   "cell_type": "code",
   "execution_count": 90,
   "metadata": {},
   "outputs": [
    {
     "data": {
      "text/plain": [
       "0    2015-08-23 00:00:00\n",
       "Name: fecha, dtype: object"
      ]
     },
     "execution_count": 90,
     "metadata": {},
     "output_type": "execute_result"
    }
   ],
   "source": [
    "df.loc[0:0 , 'fecha']"
   ]
  },
  {
   "cell_type": "code",
   "execution_count": 106,
   "metadata": {},
   "outputs": [],
   "source": [
    "# Seteamos la fecha al tipo datetime\n",
    "df['fecha'] = pd.to_datetime(df['fecha'])\n",
    "# generamos una nueva columna obteniendo el año y mes\n",
    "df['year'] = df['fecha'].dt.year\n",
    "df['month'] = df['fecha'].dt.month"
   ]
  },
  {
   "cell_type": "code",
   "execution_count": 119,
   "metadata": {},
   "outputs": [
    {
     "data": {
      "text/plain": [
       "id                                     int64\n",
       "titulo                                object\n",
       "descripcion                           object\n",
       "tipodepropiedad                     category\n",
       "direccion                             object\n",
       "ciudad                              category\n",
       "provincia                           category\n",
       "antiguedad                           float64\n",
       "habitaciones                         float64\n",
       "garages                              float64\n",
       "banos                                float64\n",
       "metroscubiertos                      float64\n",
       "metrostotales                        float64\n",
       "idzona                               float64\n",
       "lat                                  float64\n",
       "lng                                  float64\n",
       "fecha                         datetime64[ns]\n",
       "gimnasio                             float64\n",
       "usosmultiples                        float64\n",
       "piscina                              float64\n",
       "escuelascercanas                     float64\n",
       "centroscomercialescercanos           float64\n",
       "precio                               float64\n",
       "year                                   int64\n",
       "month                                  int64\n",
       "dtype: object"
      ]
     },
     "execution_count": 119,
     "metadata": {},
     "output_type": "execute_result"
    }
   ],
   "source": [
    "df.dtypes"
   ]
  },
  {
   "cell_type": "markdown",
   "metadata": {},
   "source": [
    "#### tipodepropiedad"
   ]
  },
  {
   "cell_type": "code",
   "execution_count": 93,
   "metadata": {},
   "outputs": [
    {
     "data": {
      "text/plain": [
       "25"
      ]
     },
     "execution_count": 93,
     "metadata": {},
     "output_type": "execute_result"
    }
   ],
   "source": [
    "df['tipodepropiedad'].unique().size"
   ]
  },
  {
   "cell_type": "code",
   "execution_count": 94,
   "metadata": {},
   "outputs": [
    {
     "data": {
      "text/plain": [
       "Casa                             141717\n",
       "Apartamento                       57341\n",
       "Casa en condominio                19297\n",
       "Terreno                            9945\n",
       "Local Comercial                    3055\n",
       "Oficina comercial                  1741\n",
       "Bodega comercial                   1406\n",
       "Edificio                           1396\n",
       "Terreno comercial                  1326\n",
       "Casa uso de suelo                   708\n",
       "Quinta Vacacional                   395\n",
       "Duplex                              343\n",
       "Villa                               340\n",
       "Inmuebles productivos urbanos       200\n",
       "Rancho                              170\n",
       "Local en centro comercial           165\n",
       "Departamento Compartido             141\n",
       "Otros                               134\n",
       "Nave industrial                      76\n",
       "Terreno industrial                   31\n",
       "Huerta                               20\n",
       "Lote                                  5\n",
       "Garage                                1\n",
       "Hospedaje                             1\n",
       "Name: tipodepropiedad, dtype: int64"
      ]
     },
     "execution_count": 94,
     "metadata": {},
     "output_type": "execute_result"
    }
   ],
   "source": [
    "df['tipodepropiedad'].value_counts()"
   ]
  },
  {
   "cell_type": "code",
   "execution_count": 95,
   "metadata": {},
   "outputs": [],
   "source": [
    "df['tipodepropiedad'] = df['tipodepropiedad'].astype('category')"
   ]
  },
  {
   "cell_type": "code",
   "execution_count": 96,
   "metadata": {},
   "outputs": [
    {
     "data": {
      "text/plain": [
       "CategoricalDtype(categories=['Apartamento', 'Bodega comercial', 'Casa',\n",
       "                  'Casa en condominio', 'Casa uso de suelo',\n",
       "                  'Departamento Compartido', 'Duplex', 'Edificio', 'Garage',\n",
       "                  'Hospedaje', 'Huerta', 'Inmuebles productivos urbanos',\n",
       "                  'Local Comercial', 'Local en centro comercial', 'Lote',\n",
       "                  'Nave industrial', 'Oficina comercial', 'Otros',\n",
       "                  'Quinta Vacacional', 'Rancho', 'Terreno',\n",
       "                  'Terreno comercial', 'Terreno industrial', 'Villa'],\n",
       "                 ordered=False)"
      ]
     },
     "execution_count": 96,
     "metadata": {},
     "output_type": "execute_result"
    }
   ],
   "source": [
    "df['tipodepropiedad'].dtype"
   ]
  },
  {
   "cell_type": "markdown",
   "metadata": {},
   "source": [
    "#### ciudad"
   ]
  },
  {
   "cell_type": "code",
   "execution_count": 98,
   "metadata": {},
   "outputs": [
    {
     "data": {
      "text/plain": [
       "876"
      ]
     },
     "execution_count": 98,
     "metadata": {},
     "output_type": "execute_result"
    }
   ],
   "source": [
    "df['ciudad'].unique().size"
   ]
  },
  {
   "cell_type": "code",
   "execution_count": 99,
   "metadata": {},
   "outputs": [
    {
     "data": {
      "text/plain": [
       "Querétaro                        12646\n",
       "Benito Juárez                    11014\n",
       "Zapopan                          10360\n",
       "San Luis Potosí                   7925\n",
       "Mérida                            7162\n",
       "Monterrey                         6946\n",
       "Alvaro Obregón                    6633\n",
       "Cuauhtémoc                        6614\n",
       "Naucalpan de Juárez               6554\n",
       "Miguel Hidalgo                    5795\n",
       "Atizapán de Zaragoza              5783\n",
       "Tlalpan                           5721\n",
       "Huixquilucan                      5718\n",
       "Coyoacán                          5293\n",
       "Puebla                            4636\n",
       "Guadalajara                       4006\n",
       "San Andrés Cholula                3805\n",
       "Cancún                            3779\n",
       "Cuernavaca                        3775\n",
       "Chihuahua                         3757\n",
       "Tlalnepantla de Baz               3588\n",
       "Cuautitlán Izcalli                3408\n",
       "Tlajomulco de Zúñiga              3254\n",
       "Gustavo A. Madero                 3141\n",
       "Iztapalapa                        3093\n",
       "Cuajimalpa de Morelos             3020\n",
       "Tijuana                           2863\n",
       "Hermosillo                        2590\n",
       "Acapulco de Juárez                2454\n",
       "Ecatepec de Morelos               2159\n",
       "                                 ...  \n",
       "Atoyac de Alvarez                    1\n",
       "Chavinda                             1\n",
       "Atlangatepec                         1\n",
       "Sabinas                              1\n",
       "Juárez Hidalgo                       1\n",
       "Tixtla de Guerrero                   1\n",
       "CopAndaro                            1\n",
       "Ciénega de Zimatlán                  1\n",
       "Villagrán                            1\n",
       "Chilapa de Alvarez                   1\n",
       "Gral. Bravo                          1\n",
       "Progreso de Obregón                  1\n",
       "Villa de Cos                         1\n",
       "Chínipas                             1\n",
       "Los Reyes                            1\n",
       "General Plutarco Elías Calles        1\n",
       "Santa Cruz Acatepec                  1\n",
       "Cocotitlán                           1\n",
       "Tocumbo                              1\n",
       "PuruAndiro                           1\n",
       "El Barrio de la Soledad              1\n",
       "San Mateo Río Hondo                  1\n",
       "Almoloya del Río                     1\n",
       "San Jerónimo Tecuanipan              1\n",
       "Gral. Treviño                        1\n",
       "Suma                                 1\n",
       "El Mante                             1\n",
       "San Gabriel                          1\n",
       "Bella Vista                          1\n",
       "Dr. Belisario Domínguez              1\n",
       "Name: ciudad, Length: 875, dtype: int64"
      ]
     },
     "execution_count": 99,
     "metadata": {},
     "output_type": "execute_result"
    }
   ],
   "source": [
    "df['ciudad'].value_counts()"
   ]
  },
  {
   "cell_type": "code",
   "execution_count": 100,
   "metadata": {},
   "outputs": [],
   "source": [
    "df['ciudad'] = df['ciudad'].astype('category')"
   ]
  },
  {
   "cell_type": "code",
   "execution_count": 101,
   "metadata": {},
   "outputs": [
    {
     "data": {
      "text/plain": [
       "CategoricalDtype(categories=['Abalá', 'Abasolo', 'Abejones', 'Acajete', 'Acambay',\n",
       "                  'Acaponeta', 'Acapulco de Juárez', 'Acateno', 'Acatic',\n",
       "                  'Acatzingo',\n",
       "                  ...\n",
       "                  'Zitácuaro', 'Zumpahuacán', 'Zumpango', 'otra', 'ácatlán',\n",
       "                  'ácatlán de Juárez', 'ácaxochitlán', 'ácámbaro',\n",
       "                  'áutlán de Navarro', 'áyotlán'],\n",
       "                 ordered=False)"
      ]
     },
     "execution_count": 101,
     "metadata": {},
     "output_type": "execute_result"
    }
   ],
   "source": [
    "df['ciudad'].dtype"
   ]
  },
  {
   "cell_type": "code",
   "execution_count": 120,
   "metadata": {},
   "outputs": [
    {
     "data": {
      "text/plain": [
       "id                                     int64\n",
       "titulo                                object\n",
       "descripcion                           object\n",
       "tipodepropiedad                     category\n",
       "direccion                             object\n",
       "ciudad                              category\n",
       "provincia                           category\n",
       "antiguedad                           float64\n",
       "habitaciones                         float64\n",
       "garages                              float64\n",
       "banos                                float64\n",
       "metroscubiertos                      float64\n",
       "metrostotales                        float64\n",
       "idzona                               float64\n",
       "lat                                  float64\n",
       "lng                                  float64\n",
       "fecha                         datetime64[ns]\n",
       "gimnasio                             float64\n",
       "usosmultiples                        float64\n",
       "piscina                              float64\n",
       "escuelascercanas                     float64\n",
       "centroscomercialescercanos           float64\n",
       "precio                               float64\n",
       "year                                   int64\n",
       "month                                  int64\n",
       "dtype: object"
      ]
     },
     "execution_count": 120,
     "metadata": {},
     "output_type": "execute_result"
    }
   ],
   "source": [
    "df.dtypes"
   ]
  },
  {
   "cell_type": "markdown",
   "metadata": {},
   "source": [
    "\n",
    "## 4.\tVerificacion de Calidad de Datos"
   ]
  },
  {
   "cell_type": "code",
   "execution_count": 125,
   "metadata": {},
   "outputs": [
    {
     "data": {
      "text/html": [
       "<div>\n",
       "<style scoped>\n",
       "    .dataframe tbody tr th:only-of-type {\n",
       "        vertical-align: middle;\n",
       "    }\n",
       "\n",
       "    .dataframe tbody tr th {\n",
       "        vertical-align: top;\n",
       "    }\n",
       "\n",
       "    .dataframe thead th {\n",
       "        text-align: right;\n",
       "    }\n",
       "</style>\n",
       "<table border=\"1\" class=\"dataframe\">\n",
       "  <thead>\n",
       "    <tr style=\"text-align: right;\">\n",
       "      <th></th>\n",
       "      <th>id</th>\n",
       "      <th>antiguedad</th>\n",
       "      <th>habitaciones</th>\n",
       "      <th>garages</th>\n",
       "      <th>banos</th>\n",
       "      <th>metroscubiertos</th>\n",
       "      <th>metrostotales</th>\n",
       "      <th>idzona</th>\n",
       "      <th>lat</th>\n",
       "      <th>lng</th>\n",
       "      <th>gimnasio</th>\n",
       "      <th>usosmultiples</th>\n",
       "      <th>piscina</th>\n",
       "      <th>escuelascercanas</th>\n",
       "      <th>centroscomercialescercanos</th>\n",
       "      <th>precio</th>\n",
       "    </tr>\n",
       "  </thead>\n",
       "  <tbody>\n",
       "    <tr>\n",
       "      <th>count</th>\n",
       "      <td>240,000.00</td>\n",
       "      <td>196,445.00</td>\n",
       "      <td>217,529.00</td>\n",
       "      <td>202,235.00</td>\n",
       "      <td>213,779.00</td>\n",
       "      <td>222,600.00</td>\n",
       "      <td>188,533.00</td>\n",
       "      <td>211,379.00</td>\n",
       "      <td>116,512.00</td>\n",
       "      <td>116,512.00</td>\n",
       "      <td>240,000.00</td>\n",
       "      <td>240,000.00</td>\n",
       "      <td>240,000.00</td>\n",
       "      <td>240,000.00</td>\n",
       "      <td>240,000.00</td>\n",
       "      <td>240,000.00</td>\n",
       "    </tr>\n",
       "    <tr>\n",
       "      <th>mean</th>\n",
       "      <td>149,969.38</td>\n",
       "      <td>8.12</td>\n",
       "      <td>2.90</td>\n",
       "      <td>1.55</td>\n",
       "      <td>2.13</td>\n",
       "      <td>174.02</td>\n",
       "      <td>176.77</td>\n",
       "      <td>2,423,467.82</td>\n",
       "      <td>20.70</td>\n",
       "      <td>-99.51</td>\n",
       "      <td>0.06</td>\n",
       "      <td>0.06</td>\n",
       "      <td>0.09</td>\n",
       "      <td>0.44</td>\n",
       "      <td>0.40</td>\n",
       "      <td>2,530,838.35</td>\n",
       "    </tr>\n",
       "    <tr>\n",
       "      <th>std</th>\n",
       "      <td>86,634.58</td>\n",
       "      <td>9.55</td>\n",
       "      <td>0.90</td>\n",
       "      <td>0.85</td>\n",
       "      <td>0.91</td>\n",
       "      <td>98.15</td>\n",
       "      <td>94.43</td>\n",
       "      <td>10,567,938.36</td>\n",
       "      <td>3.14</td>\n",
       "      <td>9.74</td>\n",
       "      <td>0.24</td>\n",
       "      <td>0.23</td>\n",
       "      <td>0.28</td>\n",
       "      <td>0.50</td>\n",
       "      <td>0.49</td>\n",
       "      <td>2,152,551.80</td>\n",
       "    </tr>\n",
       "    <tr>\n",
       "      <th>min</th>\n",
       "      <td>1.00</td>\n",
       "      <td>0.00</td>\n",
       "      <td>1.00</td>\n",
       "      <td>0.00</td>\n",
       "      <td>1.00</td>\n",
       "      <td>15.00</td>\n",
       "      <td>15.00</td>\n",
       "      <td>22.00</td>\n",
       "      <td>-100.89</td>\n",
       "      <td>-125.86</td>\n",
       "      <td>0.00</td>\n",
       "      <td>0.00</td>\n",
       "      <td>0.00</td>\n",
       "      <td>0.00</td>\n",
       "      <td>0.00</td>\n",
       "      <td>310,000.00</td>\n",
       "    </tr>\n",
       "    <tr>\n",
       "      <th>25%</th>\n",
       "      <td>74,930.75</td>\n",
       "      <td>0.00</td>\n",
       "      <td>2.00</td>\n",
       "      <td>1.00</td>\n",
       "      <td>1.00</td>\n",
       "      <td>90.00</td>\n",
       "      <td>102.00</td>\n",
       "      <td>24,890.00</td>\n",
       "      <td>19.36</td>\n",
       "      <td>-100.98</td>\n",
       "      <td>0.00</td>\n",
       "      <td>0.00</td>\n",
       "      <td>0.00</td>\n",
       "      <td>0.00</td>\n",
       "      <td>0.00</td>\n",
       "      <td>952,772.50</td>\n",
       "    </tr>\n",
       "    <tr>\n",
       "      <th>50%</th>\n",
       "      <td>149,875.50</td>\n",
       "      <td>5.00</td>\n",
       "      <td>3.00</td>\n",
       "      <td>2.00</td>\n",
       "      <td>2.00</td>\n",
       "      <td>153.00</td>\n",
       "      <td>155.00</td>\n",
       "      <td>56,383.00</td>\n",
       "      <td>19.54</td>\n",
       "      <td>-99.24</td>\n",
       "      <td>0.00</td>\n",
       "      <td>0.00</td>\n",
       "      <td>0.00</td>\n",
       "      <td>0.00</td>\n",
       "      <td>0.00</td>\n",
       "      <td>1,850,000.00</td>\n",
       "    </tr>\n",
       "    <tr>\n",
       "      <th>75%</th>\n",
       "      <td>225,016.50</td>\n",
       "      <td>10.00</td>\n",
       "      <td>3.00</td>\n",
       "      <td>2.00</td>\n",
       "      <td>3.00</td>\n",
       "      <td>240.00</td>\n",
       "      <td>238.00</td>\n",
       "      <td>87,838.00</td>\n",
       "      <td>20.74</td>\n",
       "      <td>-99.13</td>\n",
       "      <td>0.00</td>\n",
       "      <td>0.00</td>\n",
       "      <td>0.00</td>\n",
       "      <td>1.00</td>\n",
       "      <td>1.00</td>\n",
       "      <td>3,390,000.00</td>\n",
       "    </tr>\n",
       "    <tr>\n",
       "      <th>max</th>\n",
       "      <td>299,999.00</td>\n",
       "      <td>80.00</td>\n",
       "      <td>10.00</td>\n",
       "      <td>3.00</td>\n",
       "      <td>4.00</td>\n",
       "      <td>439.00</td>\n",
       "      <td>439.00</td>\n",
       "      <td>50,003,999.00</td>\n",
       "      <td>83.03</td>\n",
       "      <td>121.04</td>\n",
       "      <td>1.00</td>\n",
       "      <td>1.00</td>\n",
       "      <td>1.00</td>\n",
       "      <td>1.00</td>\n",
       "      <td>1.00</td>\n",
       "      <td>12,525,000.00</td>\n",
       "    </tr>\n",
       "  </tbody>\n",
       "</table>\n",
       "</div>"
      ],
      "text/plain": [
       "                        id           antiguedad         habitaciones  \\\n",
       "count           240,000.00           196,445.00           217,529.00   \n",
       "mean            149,969.38                 8.12                 2.90   \n",
       "std              86,634.58                 9.55                 0.90   \n",
       "min                   1.00                 0.00                 1.00   \n",
       "25%              74,930.75                 0.00                 2.00   \n",
       "50%             149,875.50                 5.00                 3.00   \n",
       "75%             225,016.50                10.00                 3.00   \n",
       "max             299,999.00                80.00                10.00   \n",
       "\n",
       "                   garages                banos      metroscubiertos  \\\n",
       "count           202,235.00           213,779.00           222,600.00   \n",
       "mean                  1.55                 2.13               174.02   \n",
       "std                   0.85                 0.91                98.15   \n",
       "min                   0.00                 1.00                15.00   \n",
       "25%                   1.00                 1.00                90.00   \n",
       "50%                   2.00                 2.00               153.00   \n",
       "75%                   2.00                 3.00               240.00   \n",
       "max                   3.00                 4.00               439.00   \n",
       "\n",
       "             metrostotales               idzona                  lat  \\\n",
       "count           188,533.00           211,379.00           116,512.00   \n",
       "mean                176.77         2,423,467.82                20.70   \n",
       "std                  94.43        10,567,938.36                 3.14   \n",
       "min                  15.00                22.00              -100.89   \n",
       "25%                 102.00            24,890.00                19.36   \n",
       "50%                 155.00            56,383.00                19.54   \n",
       "75%                 238.00            87,838.00                20.74   \n",
       "max                 439.00        50,003,999.00                83.03   \n",
       "\n",
       "                       lng             gimnasio        usosmultiples  \\\n",
       "count           116,512.00           240,000.00           240,000.00   \n",
       "mean                -99.51                 0.06                 0.06   \n",
       "std                   9.74                 0.24                 0.23   \n",
       "min                -125.86                 0.00                 0.00   \n",
       "25%                -100.98                 0.00                 0.00   \n",
       "50%                 -99.24                 0.00                 0.00   \n",
       "75%                 -99.13                 0.00                 0.00   \n",
       "max                 121.04                 1.00                 1.00   \n",
       "\n",
       "                   piscina     escuelascercanas  centroscomercialescercanos  \\\n",
       "count           240,000.00           240,000.00                  240,000.00   \n",
       "mean                  0.09                 0.44                        0.40   \n",
       "std                   0.28                 0.50                        0.49   \n",
       "min                   0.00                 0.00                        0.00   \n",
       "25%                   0.00                 0.00                        0.00   \n",
       "50%                   0.00                 0.00                        0.00   \n",
       "75%                   0.00                 1.00                        1.00   \n",
       "max                   1.00                 1.00                        1.00   \n",
       "\n",
       "                    precio  \n",
       "count           240,000.00  \n",
       "mean          2,530,838.35  \n",
       "std           2,152,551.80  \n",
       "min             310,000.00  \n",
       "25%             952,772.50  \n",
       "50%           1,850,000.00  \n",
       "75%           3,390,000.00  \n",
       "max          12,525,000.00  "
      ]
     },
     "execution_count": 125,
     "metadata": {},
     "output_type": "execute_result"
    }
   ],
   "source": [
    "# metricas generales de las columnas o features numericos del data frame que podemos analizar via .describe\n",
    "df.describe()"
   ]
  },
  {
   "cell_type": "code",
   "execution_count": 123,
   "metadata": {},
   "outputs": [
    {
     "data": {
      "text/plain": [
       "id                            False\n",
       "titulo                         True\n",
       "descripcion                    True\n",
       "tipodepropiedad                True\n",
       "direccion                      True\n",
       "ciudad                         True\n",
       "provincia                      True\n",
       "antiguedad                     True\n",
       "habitaciones                   True\n",
       "garages                        True\n",
       "banos                          True\n",
       "metroscubiertos                True\n",
       "metrostotales                  True\n",
       "idzona                         True\n",
       "lat                            True\n",
       "lng                            True\n",
       "fecha                         False\n",
       "gimnasio                      False\n",
       "usosmultiples                 False\n",
       "piscina                       False\n",
       "escuelascercanas              False\n",
       "centroscomercialescercanos    False\n",
       "precio                        False\n",
       "dtype: bool"
      ]
     },
     "execution_count": 123,
     "metadata": {},
     "output_type": "execute_result"
    }
   ],
   "source": [
    "# por ejemplo de la siguiente forma podemos ver los nulos si existen\n",
    "df.isnull().any()"
   ]
  },
  {
   "cell_type": "code",
   "execution_count": 124,
   "metadata": {},
   "outputs": [
    {
     "data": {
      "text/plain": [
       "id                                 0\n",
       "titulo                          5387\n",
       "descripcion                     1619\n",
       "tipodepropiedad                   46\n",
       "direccion                      53072\n",
       "ciudad                           372\n",
       "provincia                        155\n",
       "antiguedad                     43555\n",
       "habitaciones                   22471\n",
       "garages                        37765\n",
       "banos                          26221\n",
       "metroscubiertos                17400\n",
       "metrostotales                  51467\n",
       "idzona                         28621\n",
       "lat                           123488\n",
       "lng                           123488\n",
       "fecha                              0\n",
       "gimnasio                           0\n",
       "usosmultiples                      0\n",
       "piscina                            0\n",
       "escuelascercanas                   0\n",
       "centroscomercialescercanos         0\n",
       "precio                             0\n",
       "dtype: int64"
      ]
     },
     "execution_count": 124,
     "metadata": {},
     "output_type": "execute_result"
    }
   ],
   "source": [
    "df.isnull().sum()"
   ]
  },
  {
   "cell_type": "code",
   "execution_count": 127,
   "metadata": {},
   "outputs": [],
   "source": []
  },
  {
   "cell_type": "code",
   "execution_count": 180,
   "metadata": {},
   "outputs": [
    {
     "data": {
      "text/html": [
       "<div>\n",
       "<style scoped>\n",
       "    .dataframe tbody tr th:only-of-type {\n",
       "        vertical-align: middle;\n",
       "    }\n",
       "\n",
       "    .dataframe tbody tr th {\n",
       "        vertical-align: top;\n",
       "    }\n",
       "\n",
       "    .dataframe thead th {\n",
       "        text-align: right;\n",
       "    }\n",
       "</style>\n",
       "<table border=\"1\" class=\"dataframe\">\n",
       "  <thead>\n",
       "    <tr style=\"text-align: right;\">\n",
       "      <th></th>\n",
       "      <th>Nulos</th>\n",
       "      <th>Porcentaje %</th>\n",
       "    </tr>\n",
       "  </thead>\n",
       "  <tbody>\n",
       "    <tr>\n",
       "      <th>lng</th>\n",
       "      <td>123488</td>\n",
       "      <td>51.45</td>\n",
       "    </tr>\n",
       "    <tr>\n",
       "      <th>lat</th>\n",
       "      <td>123488</td>\n",
       "      <td>51.45</td>\n",
       "    </tr>\n",
       "    <tr>\n",
       "      <th>direccion</th>\n",
       "      <td>53072</td>\n",
       "      <td>22.11</td>\n",
       "    </tr>\n",
       "    <tr>\n",
       "      <th>metrostotales</th>\n",
       "      <td>51467</td>\n",
       "      <td>21.44</td>\n",
       "    </tr>\n",
       "    <tr>\n",
       "      <th>antiguedad</th>\n",
       "      <td>43555</td>\n",
       "      <td>18.15</td>\n",
       "    </tr>\n",
       "    <tr>\n",
       "      <th>garages</th>\n",
       "      <td>37765</td>\n",
       "      <td>15.74</td>\n",
       "    </tr>\n",
       "    <tr>\n",
       "      <th>idzona</th>\n",
       "      <td>28621</td>\n",
       "      <td>11.93</td>\n",
       "    </tr>\n",
       "    <tr>\n",
       "      <th>banos</th>\n",
       "      <td>26221</td>\n",
       "      <td>10.93</td>\n",
       "    </tr>\n",
       "    <tr>\n",
       "      <th>habitaciones</th>\n",
       "      <td>22471</td>\n",
       "      <td>9.36</td>\n",
       "    </tr>\n",
       "    <tr>\n",
       "      <th>metroscubiertos</th>\n",
       "      <td>17400</td>\n",
       "      <td>7.25</td>\n",
       "    </tr>\n",
       "    <tr>\n",
       "      <th>titulo</th>\n",
       "      <td>5387</td>\n",
       "      <td>2.24</td>\n",
       "    </tr>\n",
       "    <tr>\n",
       "      <th>descripcion</th>\n",
       "      <td>1619</td>\n",
       "      <td>0.67</td>\n",
       "    </tr>\n",
       "    <tr>\n",
       "      <th>ciudad</th>\n",
       "      <td>372</td>\n",
       "      <td>0.16</td>\n",
       "    </tr>\n",
       "    <tr>\n",
       "      <th>provincia</th>\n",
       "      <td>155</td>\n",
       "      <td>0.06</td>\n",
       "    </tr>\n",
       "    <tr>\n",
       "      <th>tipodepropiedad</th>\n",
       "      <td>46</td>\n",
       "      <td>0.02</td>\n",
       "    </tr>\n",
       "    <tr>\n",
       "      <th>piscina</th>\n",
       "      <td>0</td>\n",
       "      <td>0.00</td>\n",
       "    </tr>\n",
       "    <tr>\n",
       "      <th>centroscomercialescercanos</th>\n",
       "      <td>0</td>\n",
       "      <td>0.00</td>\n",
       "    </tr>\n",
       "    <tr>\n",
       "      <th>escuelascercanas</th>\n",
       "      <td>0</td>\n",
       "      <td>0.00</td>\n",
       "    </tr>\n",
       "    <tr>\n",
       "      <th>id</th>\n",
       "      <td>0</td>\n",
       "      <td>0.00</td>\n",
       "    </tr>\n",
       "    <tr>\n",
       "      <th>usosmultiples</th>\n",
       "      <td>0</td>\n",
       "      <td>0.00</td>\n",
       "    </tr>\n",
       "    <tr>\n",
       "      <th>gimnasio</th>\n",
       "      <td>0</td>\n",
       "      <td>0.00</td>\n",
       "    </tr>\n",
       "    <tr>\n",
       "      <th>fecha</th>\n",
       "      <td>0</td>\n",
       "      <td>0.00</td>\n",
       "    </tr>\n",
       "    <tr>\n",
       "      <th>precio</th>\n",
       "      <td>0</td>\n",
       "      <td>0.00</td>\n",
       "    </tr>\n",
       "  </tbody>\n",
       "</table>\n",
       "</div>"
      ],
      "text/plain": [
       "                             Nulos         Porcentaje %\n",
       "lng                         123488                51.45\n",
       "lat                         123488                51.45\n",
       "direccion                    53072                22.11\n",
       "metrostotales                51467                21.44\n",
       "antiguedad                   43555                18.15\n",
       "garages                      37765                15.74\n",
       "idzona                       28621                11.93\n",
       "banos                        26221                10.93\n",
       "habitaciones                 22471                 9.36\n",
       "metroscubiertos              17400                 7.25\n",
       "titulo                        5387                 2.24\n",
       "descripcion                   1619                 0.67\n",
       "ciudad                         372                 0.16\n",
       "provincia                      155                 0.06\n",
       "tipodepropiedad                 46                 0.02\n",
       "piscina                          0                 0.00\n",
       "centroscomercialescercanos       0                 0.00\n",
       "escuelascercanas                 0                 0.00\n",
       "id                               0                 0.00\n",
       "usosmultiples                    0                 0.00\n",
       "gimnasio                         0                 0.00\n",
       "fecha                            0                 0.00\n",
       "precio                           0                 0.00"
      ]
     },
     "execution_count": 180,
     "metadata": {},
     "output_type": "execute_result"
    }
   ],
   "source": [
    "nulos = pd.DataFrame(df.isnull().sum(), columns=['Nulos'])\n",
    "nulos['Porcentaje %'] = round(100*nulos['Nulos'] / len(df), 2)\n",
    "nulos.sort_values ('Porcentaje %', ascending=False)"
   ]
  },
  {
   "cell_type": "code",
   "execution_count": 186,
   "metadata": {},
   "outputs": [],
   "source": [
    "#todo GRAFICAR  los Nulos \n",
    "%matplotlib inline\n",
    "import matplotlib.pyplot as plt\n",
    "import numpy as np\n"
   ]
  },
  {
   "cell_type": "code",
   "execution_count": 187,
   "metadata": {},
   "outputs": [
    {
     "data": {
      "image/png": "[encoded data removed]",
      "text/plain": [
       "<Figure size 432x288 with 1 Axes>"
      ]
     },
     "metadata": {
      "needs_background": "light"
     },
     "output_type": "display_data"
    }
   ],
   "source": [
    "N = 5\n",
    "menMeans = (20, 35, 30, 35, 27)\n",
    "womenMeans = (25, 32, 34, 20, 25)\n",
    "menStd = (2, 3, 4, 1, 2)\n",
    "womenStd = (3, 5, 2, 3, 3)\n",
    "ind = np.arange(N)    # the x locations for the groups\n",
    "width = 0.35       # the width of the bars: can also be len(x) sequence\n",
    "\n",
    "p1 = plt.bar(ind, menMeans, width, yerr=menStd)\n",
    "p2 = plt.bar(ind, womenMeans, width,\n",
    "             bottom=menMeans, yerr=womenStd)\n",
    "\n",
    "plt.ylabel('Scores')\n",
    "plt.title('Scores by group and gender')\n",
    "plt.xticks(ind, ('G1', 'G2', 'G3', 'G4', 'G5'))\n",
    "plt.yticks(np.arange(0, 81, 10))\n",
    "plt.legend((p1[0], p2[0]), ('Men', 'Women'))\n",
    "\n",
    "plt.show()"
   ]
  },
  {
   "cell_type": "markdown",
   "metadata": {},
   "source": [
    "### IDs"
   ]
  },
  {
   "cell_type": "code",
   "execution_count": 132,
   "metadata": {},
   "outputs": [
    {
     "data": {
      "text/plain": [
       "True"
      ]
     },
     "execution_count": 132,
     "metadata": {},
     "output_type": "execute_result"
    }
   ],
   "source": [
    "# Verifico si son unicos los IDs\n",
    "df['id'].unique().size == df['id'].count()"
   ]
  },
  {
   "cell_type": "markdown",
   "metadata": {},
   "source": [
    "### Direcciones"
   ]
  },
  {
   "cell_type": "code",
   "execution_count": 134,
   "metadata": {},
   "outputs": [
    {
     "data": {
      "text/plain": [
       "False"
      ]
     },
     "execution_count": 134,
     "metadata": {},
     "output_type": "execute_result"
    }
   ],
   "source": [
    "# Verifico si son unicas las direcciones\n",
    "df['direccion'].unique().size == df['direccion'].count()"
   ]
  },
  {
   "cell_type": "markdown",
   "metadata": {},
   "source": [
    "### vamos a buscar cuales son las direcciones duplicadas"
   ]
  },
  {
   "cell_type": "code",
   "execution_count": 147,
   "metadata": {},
   "outputs": [],
   "source": [
    "# esta funcion devueve las celdas duplicadas\n",
    "def fduplicados (data, limite):\n",
    "    return data['valor'].sum() >= limite"
   ]
  },
  {
   "cell_type": "code",
   "execution_count": 148,
   "metadata": {},
   "outputs": [],
   "source": [
    "df1 = df.copy()\n",
    "df1['valor'] = 1"
   ]
  },
  {
   "cell_type": "code",
   "execution_count": 149,
   "metadata": {},
   "outputs": [],
   "source": [
    "agrupados = df1.groupby(['direccion'])"
   ]
  },
  {
   "cell_type": "code",
   "execution_count": 150,
   "metadata": {},
   "outputs": [],
   "source": [
    "agrupadosfiltrados = agrupados.filter(fduplicados, limite=2)"
   ]
  },
  {
   "cell_type": "code",
   "execution_count": 151,
   "metadata": {},
   "outputs": [],
   "source": [
    "repetidos =agrupadosfiltrados.groupby(['direccion']).agg({'valor':'sum'})\n",
    "repetidos.reset_index(inplace=True)"
   ]
  },
  {
   "cell_type": "code",
   "execution_count": 156,
   "metadata": {},
   "outputs": [
    {
     "name": "stdout",
     "output_type": "stream",
     "text": [
      "Cantidad de direcciones repetidas\n"
     ]
    },
    {
     "data": {
      "text/plain": [
       "63009"
      ]
     },
     "execution_count": 156,
     "metadata": {},
     "output_type": "execute_result"
    }
   ],
   "source": [
    "print (\"Cantidad de direcciones repetidas\")\n",
    "repetidos[\"valor\"].sum()"
   ]
  },
  {
   "cell_type": "code",
   "execution_count": 181,
   "metadata": {},
   "outputs": [],
   "source": [
    "#todo graficar el ranking de palabras???\n"
   ]
  },
  {
   "cell_type": "code",
   "execution_count": 163,
   "metadata": {},
   "outputs": [
    {
     "name": "stdout",
     "output_type": "stream",
     "text": [
      "Ranking de direcciones mas repetidas\n"
     ]
    },
    {
     "data": {
      "text/html": [
       "<div>\n",
       "<style scoped>\n",
       "    .dataframe tbody tr th:only-of-type {\n",
       "        vertical-align: middle;\n",
       "    }\n",
       "\n",
       "    .dataframe tbody tr th {\n",
       "        vertical-align: top;\n",
       "    }\n",
       "\n",
       "    .dataframe thead th {\n",
       "        text-align: right;\n",
       "    }\n",
       "</style>\n",
       "<table border=\"1\" class=\"dataframe\">\n",
       "  <thead>\n",
       "    <tr style=\"text-align: right;\">\n",
       "      <th></th>\n",
       "      <th>direccion</th>\n",
       "      <th>valor</th>\n",
       "    </tr>\n",
       "  </thead>\n",
       "  <tbody>\n",
       "    <tr>\n",
       "      <th>35</th>\n",
       "      <td>-</td>\n",
       "      <td>660</td>\n",
       "    </tr>\n",
       "    <tr>\n",
       "      <th>64</th>\n",
       "      <td>.</td>\n",
       "      <td>476</td>\n",
       "    </tr>\n",
       "    <tr>\n",
       "      <th>85</th>\n",
       "      <td>1</td>\n",
       "      <td>212</td>\n",
       "    </tr>\n",
       "    <tr>\n",
       "      <th>3817</th>\n",
       "      <td>Calle</td>\n",
       "      <td>194</td>\n",
       "    </tr>\n",
       "    <tr>\n",
       "      <th>10195</th>\n",
       "      <td>Norte de Mérida</td>\n",
       "      <td>136</td>\n",
       "    </tr>\n",
       "  </tbody>\n",
       "</table>\n",
       "</div>"
      ],
      "text/plain": [
       "             direccion  valor\n",
       "35                   -    660\n",
       "64                   .    476\n",
       "85                   1    212\n",
       "3817             Calle    194\n",
       "10195  Norte de Mérida    136"
      ]
     },
     "execution_count": 163,
     "metadata": {},
     "output_type": "execute_result"
    }
   ],
   "source": [
    "print (\"Ranking de direcciones mas repetidas\")\n",
    "repetidos.nlargest(5,'valor')"
   ]
  },
  {
   "cell_type": "code",
   "execution_count": null,
   "metadata": {},
   "outputs": [],
   "source": []
  },
  {
   "cell_type": "code",
   "execution_count": 162,
   "metadata": {},
   "outputs": [
    {
     "data": {
      "text/html": [
       "<div>\n",
       "<style scoped>\n",
       "    .dataframe tbody tr th:only-of-type {\n",
       "        vertical-align: middle;\n",
       "    }\n",
       "\n",
       "    .dataframe tbody tr th {\n",
       "        vertical-align: top;\n",
       "    }\n",
       "\n",
       "    .dataframe thead th {\n",
       "        text-align: right;\n",
       "    }\n",
       "</style>\n",
       "<table border=\"1\" class=\"dataframe\">\n",
       "  <thead>\n",
       "    <tr style=\"text-align: right;\">\n",
       "      <th></th>\n",
       "      <th>id</th>\n",
       "      <th>titulo</th>\n",
       "      <th>descripcion</th>\n",
       "      <th>tipodepropiedad</th>\n",
       "      <th>direccion</th>\n",
       "      <th>ciudad</th>\n",
       "      <th>provincia</th>\n",
       "      <th>antiguedad</th>\n",
       "      <th>habitaciones</th>\n",
       "      <th>garages</th>\n",
       "      <th>...</th>\n",
       "      <th>idzona</th>\n",
       "      <th>lat</th>\n",
       "      <th>lng</th>\n",
       "      <th>fecha</th>\n",
       "      <th>gimnasio</th>\n",
       "      <th>usosmultiples</th>\n",
       "      <th>piscina</th>\n",
       "      <th>escuelascercanas</th>\n",
       "      <th>centroscomercialescercanos</th>\n",
       "      <th>precio</th>\n",
       "    </tr>\n",
       "  </thead>\n",
       "  <tbody>\n",
       "    <tr>\n",
       "      <th>160073</th>\n",
       "      <td>164116</td>\n",
       "      <td>casa lomas de angelopolis</td>\n",
       "      <td>lujos espacios ubicación y plenitud en cluster...</td>\n",
       "      <td>Casa</td>\n",
       "      <td>CASCATA</td>\n",
       "      <td>San Andrés Cholula</td>\n",
       "      <td>Puebla</td>\n",
       "      <td>nan</td>\n",
       "      <td>3.00</td>\n",
       "      <td>2.00</td>\n",
       "      <td>...</td>\n",
       "      <td>334,898.00</td>\n",
       "      <td>nan</td>\n",
       "      <td>nan</td>\n",
       "      <td>2015-04-12 00:00:00</td>\n",
       "      <td>1.00</td>\n",
       "      <td>0.00</td>\n",
       "      <td>0.00</td>\n",
       "      <td>0.00</td>\n",
       "      <td>0.00</td>\n",
       "      <td>1,730,000.00</td>\n",
       "    </tr>\n",
       "    <tr>\n",
       "      <th>208408</th>\n",
       "      <td>70102</td>\n",
       "      <td>lomas angelopolis, exclusivo terreno¡</td>\n",
       "      <td>nuevo cluster residencial llamado  gran reserv...</td>\n",
       "      <td>Terreno</td>\n",
       "      <td>CASCATA</td>\n",
       "      <td>San Andrés Cholula</td>\n",
       "      <td>Puebla</td>\n",
       "      <td>nan</td>\n",
       "      <td>nan</td>\n",
       "      <td>0.00</td>\n",
       "      <td>...</td>\n",
       "      <td>334,898.00</td>\n",
       "      <td>nan</td>\n",
       "      <td>nan</td>\n",
       "      <td>2016-12-05 00:00:00</td>\n",
       "      <td>0.00</td>\n",
       "      <td>0.00</td>\n",
       "      <td>0.00</td>\n",
       "      <td>1.00</td>\n",
       "      <td>1.00</td>\n",
       "      <td>1,900,000.00</td>\n",
       "    </tr>\n",
       "    <tr>\n",
       "      <th>230351</th>\n",
       "      <td>260226</td>\n",
       "      <td>venta casa en  lomas de angelopolis cascata en...</td>\n",
       "      <td>magnifico diseño y acabados casas en pre- vent...</td>\n",
       "      <td>Casa en condominio</td>\n",
       "      <td>CASCATA</td>\n",
       "      <td>San Andrés Cholula</td>\n",
       "      <td>Puebla</td>\n",
       "      <td>0.00</td>\n",
       "      <td>4.00</td>\n",
       "      <td>2.00</td>\n",
       "      <td>...</td>\n",
       "      <td>334,898.00</td>\n",
       "      <td>18.98</td>\n",
       "      <td>-98.29</td>\n",
       "      <td>2016-03-17 00:00:00</td>\n",
       "      <td>0.00</td>\n",
       "      <td>1.00</td>\n",
       "      <td>0.00</td>\n",
       "      <td>1.00</td>\n",
       "      <td>1.00</td>\n",
       "      <td>2,700,000.00</td>\n",
       "    </tr>\n",
       "  </tbody>\n",
       "</table>\n",
       "<p>3 rows × 23 columns</p>\n",
       "</div>"
      ],
      "text/plain": [
       "            id                                             titulo  \\\n",
       "160073  164116                          casa lomas de angelopolis   \n",
       "208408   70102             lomas angelopolis, exclusivo terreno¡    \n",
       "230351  260226  venta casa en  lomas de angelopolis cascata en...   \n",
       "\n",
       "                                              descripcion     tipodepropiedad  \\\n",
       "160073  lujos espacios ubicación y plenitud en cluster...                Casa   \n",
       "208408  nuevo cluster residencial llamado  gran reserv...             Terreno   \n",
       "230351  magnifico diseño y acabados casas en pre- vent...  Casa en condominio   \n",
       "\n",
       "       direccion              ciudad provincia           antiguedad  \\\n",
       "160073   CASCATA  San Andrés Cholula    Puebla                  nan   \n",
       "208408   CASCATA  San Andrés Cholula    Puebla                  nan   \n",
       "230351   CASCATA  San Andrés Cholula    Puebla                 0.00   \n",
       "\n",
       "               habitaciones              garages  ...               idzona  \\\n",
       "160073                 3.00                 2.00  ...           334,898.00   \n",
       "208408                  nan                 0.00  ...           334,898.00   \n",
       "230351                 4.00                 2.00  ...           334,898.00   \n",
       "\n",
       "                        lat                  lng                fecha  \\\n",
       "160073                  nan                  nan  2015-04-12 00:00:00   \n",
       "208408                  nan                  nan  2016-12-05 00:00:00   \n",
       "230351                18.98               -98.29  2016-03-17 00:00:00   \n",
       "\n",
       "                   gimnasio        usosmultiples              piscina  \\\n",
       "160073                 1.00                 0.00                 0.00   \n",
       "208408                 0.00                 0.00                 0.00   \n",
       "230351                 0.00                 1.00                 0.00   \n",
       "\n",
       "           escuelascercanas  centroscomercialescercanos               precio  \n",
       "160073                 0.00                        0.00         1,730,000.00  \n",
       "208408                 1.00                        1.00         1,900,000.00  \n",
       "230351                 1.00                        1.00         2,700,000.00  \n",
       "\n",
       "[3 rows x 23 columns]"
      ]
     },
     "execution_count": 162,
     "metadata": {},
     "output_type": "execute_result"
    }
   ],
   "source": [
    "#con esto accedo directamente\n",
    "df.loc[df['direccion'].isin([\"CASCATA\"]), :]"
   ]
  },
  {
   "cell_type": "code",
   "execution_count": null,
   "metadata": {},
   "outputs": [],
   "source": []
  },
  {
   "cell_type": "code",
   "execution_count": null,
   "metadata": {},
   "outputs": [],
   "source": []
  },
  {
   "cell_type": "code",
   "execution_count": null,
   "metadata": {},
   "outputs": [],
   "source": []
  },
  {
   "cell_type": "markdown",
   "metadata": {},
   "source": [
    "## 5) Analizando propiedades especificas del set de datos"
   ]
  },
  {
   "cell_type": "code",
   "execution_count": 18,
   "metadata": {},
   "outputs": [],
   "source": [
    "# Revisemos alguna caterogia principal para ver como esta compuesta:\n",
    "# Por ejemplo para provincia, la cantidad de inmuebles que hay"
   ]
  },
  {
   "cell_type": "code",
   "execution_count": 42,
   "metadata": {},
   "outputs": [],
   "source": [
    "provincias = df['provincia']  #subset"
   ]
  },
  {
   "cell_type": "code",
   "execution_count": 43,
   "metadata": {},
   "outputs": [
    {
     "data": {
      "text/plain": [
       "Distrito Federal         58790\n",
       "Edo. de México           41607\n",
       "Jalisco                  21238\n",
       "Querétaro                16988\n",
       "Nuevo León               15324\n",
       "Puebla                   10421\n",
       "San luis Potosí           8447\n",
       "Yucatán                   7928\n",
       "Morelos                   7337\n",
       "Veracruz                  5762\n",
       "Quintana Roo              4756\n",
       "Chihuahua                 4590\n",
       "Coahuila                  3695\n",
       "Baja California Norte     3220\n",
       "Sonora                    2988\n",
       "Guanajuato                2860\n",
       "Guerrero                  2678\n",
       "Hidalgo                   2521\n",
       "Michoacán                 2471\n",
       "Tamaulipas                2303\n",
       "Durango                   2275\n",
       "Sinaloa                   1806\n",
       "Aguascalientes            1753\n",
       "Baja California Sur       1700\n",
       "Nayarit                   1352\n",
       "Chiapas                   1126\n",
       "Colima                    1008\n",
       "Tabasco                    994\n",
       "Tlaxcala                   839\n",
       "Oaxaca                     711\n",
       "Campeche                   263\n",
       "Zacatecas                   94\n",
       "Name: provincia, dtype: int64"
      ]
     },
     "execution_count": 43,
     "metadata": {},
     "output_type": "execute_result"
    }
   ],
   "source": [
    "provincias.value_counts()"
   ]
  },
  {
   "cell_type": "code",
   "execution_count": null,
   "metadata": {},
   "outputs": [],
   "source": [
    "# cantidad de cada tipo de propiedades"
   ]
  },
  {
   "cell_type": "code",
   "execution_count": 44,
   "metadata": {},
   "outputs": [],
   "source": [
    "propiedades = df ['tipodepropiedad']"
   ]
  },
  {
   "cell_type": "code",
   "execution_count": 46,
   "metadata": {},
   "outputs": [
    {
     "data": {
      "text/plain": [
       "Casa                             141717\n",
       "Apartamento                       57341\n",
       "Casa en condominio                19297\n",
       "Terreno                            9945\n",
       "Local Comercial                    3055\n",
       "Oficina comercial                  1741\n",
       "Bodega comercial                   1406\n",
       "Edificio                           1396\n",
       "Terreno comercial                  1326\n",
       "Casa uso de suelo                   708\n",
       "Quinta Vacacional                   395\n",
       "Duplex                              343\n",
       "Villa                               340\n",
       "Inmuebles productivos urbanos       200\n",
       "Rancho                              170\n",
       "Local en centro comercial           165\n",
       "Departamento Compartido             141\n",
       "Otros                               134\n",
       "Nave industrial                      76\n",
       "Terreno industrial                   31\n",
       "Huerta                               20\n",
       "Lote                                  5\n",
       "Garage                                1\n",
       "Hospedaje                             1\n",
       "Name: tipodepropiedad, dtype: int64"
      ]
     },
     "execution_count": 46,
     "metadata": {},
     "output_type": "execute_result"
    }
   ],
   "source": [
    "propiedades.value_counts()"
   ]
  },
  {
   "cell_type": "code",
   "execution_count": null,
   "metadata": {},
   "outputs": [],
   "source": [
    "#precio promedio de las propiedades de cada provincia."
   ]
  },
  {
   "cell_type": "code",
   "execution_count": null,
   "metadata": {},
   "outputs": [],
   "source": [
    "#Precio promedio de cada tipo de propiedades."
   ]
  },
  {
   "cell_type": "code",
   "execution_count": 221,
   "metadata": {},
   "outputs": [
    {
     "data": {
      "text/plain": [
       "50,003,995.00    2539\n",
       "    84,312.00    2022\n",
       "   334,898.00    1545\n",
       "50,003,997.00    1409\n",
       "50,003,998.00    1400\n",
       "   275,358.00    1274\n",
       "    55,795.00    1143\n",
       "   286,309.00    1060\n",
       "    23,815.00    1023\n",
       "50,003,996.00    973 \n",
       "    87,460.00    912 \n",
       "    55,584.00    879 \n",
       "    23,569.00    863 \n",
       "    55,520.00    729 \n",
       "    84,028.00    610 \n",
       "50,002,774.00    606 \n",
       "    23,191.00    599 \n",
       "    84,338.00    590 \n",
       "    24,481.00    590 \n",
       "    55,519.00    587 \n",
       "   275,308.00    579 \n",
       "    24,823.00    575 \n",
       "    23,734.00    566 \n",
       "    55,552.00    537 \n",
       "    23,365.00    533 \n",
       "   339,455.00    513 \n",
       "    23,837.00    510 \n",
       "   343,015.00    503 \n",
       "    55,678.00    475 \n",
       "50,003,999.00    448 \n",
       "                ...  \n",
       "    87,478.00    1   \n",
       "   116,169.00    1   \n",
       "    93,754.00    1   \n",
       "   130,040.00    1   \n",
       "     1,331.00    1   \n",
       "    71,688.00    1   \n",
       "   105,566.00    1   \n",
       "   105,568.00    1   \n",
       "    79,916.00    1   \n",
       "   126,518.00    1   \n",
       "    72,809.00    1   \n",
       "   122,515.00    1   \n",
       "    47,689.00    1   \n",
       "   127,554.00    1   \n",
       "   122,523.00    1   \n",
       "    56,074.00    1   \n",
       "   105,596.00    1   \n",
       "     3,300.00    1   \n",
       "    69,092.00    1   \n",
       "    56,940.00    1   \n",
       "    57,408.00    1   \n",
       "    72,853.00    1   \n",
       "   291,417.00    1   \n",
       "   126,509.00    1   \n",
       "    15,318.00    1   \n",
       "     1,780.00    1   \n",
       "    41,950.00    1   \n",
       "    36,441.00    1   \n",
       "    15,319.00    1   \n",
       "    52,082.00    1   \n",
       "Name: idzona, Length: 19719, dtype: int64"
      ]
     },
     "execution_count": 221,
     "metadata": {},
     "output_type": "execute_result"
    }
   ],
   "source": [
    "df['idzona'].value_counts()   #esto no se que es"
   ]
  },
  {
   "cell_type": "code",
   "execution_count": 211,
   "metadata": {},
   "outputs": [
    {
     "data": {
      "text/plain": [
       "12    42227\n",
       "10    23306\n",
       "11    21225\n",
       "8     20897\n",
       "9     20622\n",
       "7     17510\n",
       "6     17221\n",
       "4     16466\n",
       "5     16062\n",
       "1     16009\n",
       "3     14732\n",
       "2     13723\n",
       "Name: mes, dtype: int64"
      ]
     },
     "execution_count": 211,
     "metadata": {},
     "output_type": "execute_result"
    }
   ],
   "source": [
    "df['mes'].value_counts()"
   ]
  },
  {
   "cell_type": "code",
   "execution_count": 63,
   "metadata": {},
   "outputs": [
    {
     "data": {
      "text/plain": [
       "2016    94038\n",
       "2015    51470\n",
       "2014    40572\n",
       "2013    30386\n",
       "2012    23534\n",
       "Name: year, dtype: int64"
      ]
     },
     "execution_count": 63,
     "metadata": {},
     "output_type": "execute_result"
    }
   ],
   "source": [
    "df['year'].value_counts()"
   ]
  },
  {
   "cell_type": "code",
   "execution_count": 67,
   "metadata": {},
   "outputs": [
    {
     "data": {
      "text/plain": [
       "240000"
      ]
     },
     "execution_count": 67,
     "metadata": {},
     "output_type": "execute_result"
    }
   ],
   "source": [
    "df['fecha_datetime'].count()"
   ]
  },
  {
   "cell_type": "markdown",
   "metadata": {},
   "source": []
  },
  {
   "cell_type": "code",
   "execution_count": null,
   "metadata": {},
   "outputs": [],
   "source": []
  },
  {
   "cell_type": "code",
   "execution_count": null,
   "metadata": {},
   "outputs": [],
   "source": []
  },
  {
   "cell_type": "code",
   "execution_count": null,
   "metadata": {},
   "outputs": [],
   "source": []
  },
  {
   "cell_type": "markdown",
   "metadata": {},
   "source": [
    "# Preguntas del google doc"
   ]
  },
  {
   "cell_type": "code",
   "execution_count": null,
   "metadata": {},
   "outputs": [],
   "source": []
  },
  {
   "cell_type": "markdown",
   "metadata": {},
   "source": [
    " relacion entre el precio y la fecha de publicion.  (filtrar año y mes de publicacion)\n",
    "si hay alguna relacion, la recomendacion para el usuario es cuando les conviene comprar.[Jose]"
   ]
  },
  {
   "cell_type": "code",
   "execution_count": 228,
   "metadata": {},
   "outputs": [],
   "source": [
    "# generamos nuevas columnas seteando el tipo datetime\n",
    "df['fecha_datetime'] = pd.to_datetime(df['fecha'])\n",
    "# generamos una nueva columna obteniendo el año, esto los usuaremos en visualizacion.\n",
    "df['year'] = df['fecha_datetime'].dt.year\n",
    "df['month'] = df['fecha_datetime'].dt.month\n"
   ]
  },
  {
   "cell_type": "code",
   "execution_count": 216,
   "metadata": {},
   "outputs": [
    {
     "data": {
      "text/html": [
       "<div>\n",
       "<style scoped>\n",
       "    .dataframe tbody tr th:only-of-type {\n",
       "        vertical-align: middle;\n",
       "    }\n",
       "\n",
       "    .dataframe tbody tr th {\n",
       "        vertical-align: top;\n",
       "    }\n",
       "\n",
       "    .dataframe thead th {\n",
       "        text-align: right;\n",
       "    }\n",
       "</style>\n",
       "<table border=\"1\" class=\"dataframe\">\n",
       "  <thead>\n",
       "    <tr style=\"text-align: right;\">\n",
       "      <th></th>\n",
       "      <th>precio</th>\n",
       "    </tr>\n",
       "    <tr>\n",
       "      <th>year</th>\n",
       "      <th></th>\n",
       "    </tr>\n",
       "  </thead>\n",
       "  <tbody>\n",
       "    <tr>\n",
       "      <th>2012</th>\n",
       "      <td>2,032,517.56</td>\n",
       "    </tr>\n",
       "    <tr>\n",
       "      <th>2013</th>\n",
       "      <td>2,125,061.05</td>\n",
       "    </tr>\n",
       "    <tr>\n",
       "      <th>2014</th>\n",
       "      <td>2,364,594.65</td>\n",
       "    </tr>\n",
       "    <tr>\n",
       "      <th>2015</th>\n",
       "      <td>2,634,569.73</td>\n",
       "    </tr>\n",
       "    <tr>\n",
       "      <th>2016</th>\n",
       "      <td>2,801,614.15</td>\n",
       "    </tr>\n",
       "  </tbody>\n",
       "</table>\n",
       "</div>"
      ],
      "text/plain": [
       "                   precio\n",
       "year                     \n",
       "2012         2,032,517.56\n",
       "2013         2,125,061.05\n",
       "2014         2,364,594.65\n",
       "2015         2,634,569.73\n",
       "2016         2,801,614.15"
      ]
     },
     "execution_count": 216,
     "metadata": {},
     "output_type": "execute_result"
    }
   ],
   "source": [
    "#comencemos viendo los precios promedios por año\n",
    "df.groupby('year').agg({'precio':'mean'})"
   ]
  },
  {
   "cell_type": "code",
   "execution_count": 227,
   "metadata": {},
   "outputs": [
    {
     "data": {
      "text/plain": [
       "2016    94038\n",
       "2015    51470\n",
       "2014    40572\n",
       "2013    30386\n",
       "2012    23534\n",
       "Name: year, dtype: int64"
      ]
     },
     "execution_count": 227,
     "metadata": {},
     "output_type": "execute_result"
    }
   ],
   "source": [
    "# cantidad de publicaciones por año\n",
    "# df.groupby('year')['id'].count()  \n",
    "df['year'].value_counts()"
   ]
  },
  {
   "cell_type": "code",
   "execution_count": null,
   "metadata": {},
   "outputs": [],
   "source": [
    "# comparemos el precio por mes\n"
   ]
  },
  {
   "cell_type": "code",
   "execution_count": 274,
   "metadata": {},
   "outputs": [
    {
     "data": {
      "text/html": [
       "<div>\n",
       "<style scoped>\n",
       "    .dataframe tbody tr th:only-of-type {\n",
       "        vertical-align: middle;\n",
       "    }\n",
       "\n",
       "    .dataframe tbody tr th {\n",
       "        vertical-align: top;\n",
       "    }\n",
       "\n",
       "    .dataframe thead tr th {\n",
       "        text-align: left;\n",
       "    }\n",
       "\n",
       "    .dataframe thead tr:last-of-type th {\n",
       "        text-align: right;\n",
       "    }\n",
       "</style>\n",
       "<table border=\"1\" class=\"dataframe\">\n",
       "  <thead>\n",
       "    <tr>\n",
       "      <th></th>\n",
       "      <th colspan=\"3\" halign=\"left\">precio</th>\n",
       "    </tr>\n",
       "    <tr>\n",
       "      <th></th>\n",
       "      <th>mean</th>\n",
       "      <th>count</th>\n",
       "      <th>sum</th>\n",
       "    </tr>\n",
       "    <tr>\n",
       "      <th>month</th>\n",
       "      <th></th>\n",
       "      <th></th>\n",
       "      <th></th>\n",
       "    </tr>\n",
       "  </thead>\n",
       "  <tbody>\n",
       "    <tr>\n",
       "      <th>1</th>\n",
       "      <td>2,380,728.28</td>\n",
       "      <td>16009</td>\n",
       "      <td>38,113,079,010.00</td>\n",
       "    </tr>\n",
       "    <tr>\n",
       "      <th>2</th>\n",
       "      <td>2,395,430.20</td>\n",
       "      <td>13723</td>\n",
       "      <td>32,872,488,649.00</td>\n",
       "    </tr>\n",
       "    <tr>\n",
       "      <th>3</th>\n",
       "      <td>2,498,691.19</td>\n",
       "      <td>14732</td>\n",
       "      <td>36,810,718,600.00</td>\n",
       "    </tr>\n",
       "    <tr>\n",
       "      <th>4</th>\n",
       "      <td>2,546,977.10</td>\n",
       "      <td>16466</td>\n",
       "      <td>41,938,524,984.00</td>\n",
       "    </tr>\n",
       "    <tr>\n",
       "      <th>5</th>\n",
       "      <td>2,457,124.77</td>\n",
       "      <td>16062</td>\n",
       "      <td>39,466,338,047.00</td>\n",
       "    </tr>\n",
       "    <tr>\n",
       "      <th>6</th>\n",
       "      <td>2,520,843.26</td>\n",
       "      <td>17221</td>\n",
       "      <td>43,411,441,832.00</td>\n",
       "    </tr>\n",
       "    <tr>\n",
       "      <th>7</th>\n",
       "      <td>2,551,788.47</td>\n",
       "      <td>17510</td>\n",
       "      <td>44,681,816,100.00</td>\n",
       "    </tr>\n",
       "    <tr>\n",
       "      <th>8</th>\n",
       "      <td>2,517,020.83</td>\n",
       "      <td>20897</td>\n",
       "      <td>52,598,184,194.00</td>\n",
       "    </tr>\n",
       "    <tr>\n",
       "      <th>9</th>\n",
       "      <td>2,558,958.43</td>\n",
       "      <td>20622</td>\n",
       "      <td>52,770,840,815.00</td>\n",
       "    </tr>\n",
       "    <tr>\n",
       "      <th>10</th>\n",
       "      <td>2,512,789.45</td>\n",
       "      <td>23306</td>\n",
       "      <td>58,563,070,853.00</td>\n",
       "    </tr>\n",
       "    <tr>\n",
       "      <th>11</th>\n",
       "      <td>2,531,623.41</td>\n",
       "      <td>21225</td>\n",
       "      <td>53,733,706,871.00</td>\n",
       "    </tr>\n",
       "    <tr>\n",
       "      <th>12</th>\n",
       "      <td>2,662,774.84</td>\n",
       "      <td>42227</td>\n",
       "      <td>112,440,993,060.00</td>\n",
       "    </tr>\n",
       "  </tbody>\n",
       "</table>\n",
       "</div>"
      ],
      "text/plain": [
       "                    precio                            \n",
       "                      mean  count                  sum\n",
       "month                                                 \n",
       "1             2,380,728.28  16009    38,113,079,010.00\n",
       "2             2,395,430.20  13723    32,872,488,649.00\n",
       "3             2,498,691.19  14732    36,810,718,600.00\n",
       "4             2,546,977.10  16466    41,938,524,984.00\n",
       "5             2,457,124.77  16062    39,466,338,047.00\n",
       "6             2,520,843.26  17221    43,411,441,832.00\n",
       "7             2,551,788.47  17510    44,681,816,100.00\n",
       "8             2,517,020.83  20897    52,598,184,194.00\n",
       "9             2,558,958.43  20622    52,770,840,815.00\n",
       "10            2,512,789.45  23306    58,563,070,853.00\n",
       "11            2,531,623.41  21225    53,733,706,871.00\n",
       "12            2,662,774.84  42227   112,440,993,060.00"
      ]
     },
     "execution_count": 274,
     "metadata": {},
     "output_type": "execute_result"
    }
   ],
   "source": [
    " df.groupby('month').agg({'precio':['mean','count','sum']})"
   ]
  },
  {
   "cell_type": "code",
   "execution_count": null,
   "metadata": {},
   "outputs": [],
   "source": []
  },
  {
   "cell_type": "code",
   "execution_count": 266,
   "metadata": {},
   "outputs": [
    {
     "data": {
      "text/plain": [
       "MultiIndex(levels=[['precio'], ['mean', 'count']],\n",
       "           codes=[[0, 0], [0, 1]])"
      ]
     },
     "execution_count": 266,
     "metadata": {},
     "output_type": "execute_result"
    }
   ],
   "source": [
    "ada.columns"
   ]
  },
  {
   "cell_type": "code",
   "execution_count": 267,
   "metadata": {},
   "outputs": [],
   "source": []
  },
  {
   "cell_type": "code",
   "execution_count": 268,
   "metadata": {},
   "outputs": [
    {
     "data": {
      "text/html": [
       "<div>\n",
       "<style scoped>\n",
       "    .dataframe tbody tr th:only-of-type {\n",
       "        vertical-align: middle;\n",
       "    }\n",
       "\n",
       "    .dataframe tbody tr th {\n",
       "        vertical-align: top;\n",
       "    }\n",
       "\n",
       "    .dataframe thead tr th {\n",
       "        text-align: left;\n",
       "    }\n",
       "</style>\n",
       "<table border=\"1\" class=\"dataframe\">\n",
       "  <thead>\n",
       "    <tr>\n",
       "      <th></th>\n",
       "      <th>month</th>\n",
       "      <th colspan=\"2\" halign=\"left\">precio</th>\n",
       "    </tr>\n",
       "    <tr>\n",
       "      <th></th>\n",
       "      <th></th>\n",
       "      <th>mean</th>\n",
       "      <th>count</th>\n",
       "    </tr>\n",
       "  </thead>\n",
       "  <tbody>\n",
       "    <tr>\n",
       "      <th>0</th>\n",
       "      <td>1</td>\n",
       "      <td>2,380,728.28</td>\n",
       "      <td>16009</td>\n",
       "    </tr>\n",
       "    <tr>\n",
       "      <th>1</th>\n",
       "      <td>2</td>\n",
       "      <td>2,395,430.20</td>\n",
       "      <td>13723</td>\n",
       "    </tr>\n",
       "    <tr>\n",
       "      <th>2</th>\n",
       "      <td>3</td>\n",
       "      <td>2,498,691.19</td>\n",
       "      <td>14732</td>\n",
       "    </tr>\n",
       "    <tr>\n",
       "      <th>3</th>\n",
       "      <td>4</td>\n",
       "      <td>2,546,977.10</td>\n",
       "      <td>16466</td>\n",
       "    </tr>\n",
       "    <tr>\n",
       "      <th>4</th>\n",
       "      <td>5</td>\n",
       "      <td>2,457,124.77</td>\n",
       "      <td>16062</td>\n",
       "    </tr>\n",
       "    <tr>\n",
       "      <th>5</th>\n",
       "      <td>6</td>\n",
       "      <td>2,520,843.26</td>\n",
       "      <td>17221</td>\n",
       "    </tr>\n",
       "    <tr>\n",
       "      <th>6</th>\n",
       "      <td>7</td>\n",
       "      <td>2,551,788.47</td>\n",
       "      <td>17510</td>\n",
       "    </tr>\n",
       "    <tr>\n",
       "      <th>7</th>\n",
       "      <td>8</td>\n",
       "      <td>2,517,020.83</td>\n",
       "      <td>20897</td>\n",
       "    </tr>\n",
       "    <tr>\n",
       "      <th>8</th>\n",
       "      <td>9</td>\n",
       "      <td>2,558,958.43</td>\n",
       "      <td>20622</td>\n",
       "    </tr>\n",
       "    <tr>\n",
       "      <th>9</th>\n",
       "      <td>10</td>\n",
       "      <td>2,512,789.45</td>\n",
       "      <td>23306</td>\n",
       "    </tr>\n",
       "  </tbody>\n",
       "</table>\n",
       "</div>"
      ],
      "text/plain": [
       "  month               precio       \n",
       "                        mean  count\n",
       "0  1            2,380,728.28  16009\n",
       "1  2            2,395,430.20  13723\n",
       "2  3            2,498,691.19  14732\n",
       "3  4            2,546,977.10  16466\n",
       "4  5            2,457,124.77  16062\n",
       "5  6            2,520,843.26  17221\n",
       "6  7            2,551,788.47  17510\n",
       "7  8            2,517,020.83  20897\n",
       "8  9            2,558,958.43  20622\n",
       "9  10           2,512,789.45  23306"
      ]
     },
     "execution_count": 268,
     "metadata": {},
     "output_type": "execute_result"
    }
   ],
   "source": [
    "ada.head(10)"
   ]
  },
  {
   "cell_type": "code",
   "execution_count": null,
   "metadata": {},
   "outputs": [],
   "source": []
  },
  {
   "cell_type": "code",
   "execution_count": 212,
   "metadata": {},
   "outputs": [
    {
     "data": {
      "text/plain": [
       "Index(['id', 'titulo', 'descripcion', 'tipodepropiedad', 'direccion', 'ciudad',\n",
       "       'provincia', 'antiguedad', 'habitaciones', 'garages', 'banos',\n",
       "       'metroscubiertos', 'metrostotales', 'idzona', 'lat', 'lng', 'fecha',\n",
       "       'gimnasio', 'usosmultiples', 'piscina', 'escuelascercanas',\n",
       "       'centroscomercialescercanos', 'precio', 'valor', 'fecha_datetime',\n",
       "       'year'],\n",
       "      dtype='object')"
      ]
     },
     "execution_count": 212,
     "metadata": {},
     "output_type": "execute_result"
    }
   ],
   "source": [
    "df.columns"
   ]
  },
  {
   "cell_type": "code",
   "execution_count": 10,
   "metadata": {},
   "outputs": [
    {
     "data": {
      "text/plain": [
       "RangeIndex(start=0, stop=240000, step=1)"
      ]
     },
     "execution_count": 10,
     "metadata": {},
     "output_type": "execute_result"
    }
   ],
   "source": [
    "df.index"
   ]
  },
  {
   "cell_type": "code",
   "execution_count": 11,
   "metadata": {},
   "outputs": [
    {
     "data": {
      "text/plain": [
       "pandas.core.indexes.range.RangeIndex"
      ]
     },
     "execution_count": 11,
     "metadata": {},
     "output_type": "execute_result"
    }
   ],
   "source": [
    "type(df.index)"
   ]
  }
 ],
 "metadata": {
  "kernelspec": {
   "display_name": "Python 3",
   "language": "python",
   "name": "python3"
  }
 },
 "nbformat": 4,
 "nbformat_minor": 2
}
