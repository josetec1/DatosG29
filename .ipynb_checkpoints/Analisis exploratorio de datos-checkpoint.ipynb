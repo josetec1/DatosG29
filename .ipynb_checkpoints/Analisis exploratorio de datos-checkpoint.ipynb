{
 "cells": [
  {
   "cell_type": "markdown",
   "metadata": {},
   "source": [
    "# Analisis exploratorio de datos"
   ]
  },
  {
   "cell_type": "markdown",
   "metadata": {},
   "source": [
    "### Indice\n",
    "1.\tCarga de información en un DataFrame\n",
    "2.\tAnalizando utilizacion de memoria del dataframe\n",
    "3.\tConversion de Datos y mejoras en uso de memoria\n",
    "4.\tVerificacion de Calidad de Datos\n",
    "5.\tAnalizando propiedades especificas del set de datos\n"
   ]
  },
  {
   "cell_type": "markdown",
   "metadata": {},
   "source": [
    "## 1) Carga de informacion en un DataFrame"
   ]
  },
  {
   "cell_type": "code",
   "execution_count": 142,
   "metadata": {},
   "outputs": [],
   "source": [
    "import pandas as pd\n",
    "df = pd.read_csv(\"datos/train.csv\", sep=\",\")\n",
    "pd.options.display.float_format = '{:20,.2f}'.format # suprimimos la notacion cientifica en los outputs"
   ]
  },
  {
   "cell_type": "code",
   "execution_count": 284,
   "metadata": {},
   "outputs": [],
   "source": [
    "import seaborn as sns\n",
    "import matplotlib.pyplot as plt\n",
    "import matplotlib as mpl\n",
    "import folium\n",
    "pd.set_option('display.max_columns', 100)\n",
    "pd.set_option('display.float_format', '{:.2f}'.format)\n",
    "pd.set_option('mode.chained_assignment', None)\n",
    "pd.options.display.float_format = '{:20,.2f}'.format\n",
    "\n",
    "\n",
    "%matplotlib inline\n",
    "\n",
    "import numpy as np"
   ]
  },
  {
   "cell_type": "code",
   "execution_count": null,
   "metadata": {},
   "outputs": [],
   "source": []
  },
  {
   "cell_type": "code",
   "execution_count": 143,
   "metadata": {},
   "outputs": [
    {
     "data": {
      "text/html": [
       "<div>\n",
       "<style scoped>\n",
       "    .dataframe tbody tr th:only-of-type {\n",
       "        vertical-align: middle;\n",
       "    }\n",
       "\n",
       "    .dataframe tbody tr th {\n",
       "        vertical-align: top;\n",
       "    }\n",
       "\n",
       "    .dataframe thead th {\n",
       "        text-align: right;\n",
       "    }\n",
       "</style>\n",
       "<table border=\"1\" class=\"dataframe\">\n",
       "  <thead>\n",
       "    <tr style=\"text-align: right;\">\n",
       "      <th></th>\n",
       "      <th>id</th>\n",
       "      <th>titulo</th>\n",
       "      <th>descripcion</th>\n",
       "      <th>tipodepropiedad</th>\n",
       "      <th>direccion</th>\n",
       "      <th>ciudad</th>\n",
       "      <th>provincia</th>\n",
       "      <th>antiguedad</th>\n",
       "      <th>habitaciones</th>\n",
       "      <th>garages</th>\n",
       "      <th>...</th>\n",
       "      <th>idzona</th>\n",
       "      <th>lat</th>\n",
       "      <th>lng</th>\n",
       "      <th>fecha</th>\n",
       "      <th>gimnasio</th>\n",
       "      <th>usosmultiples</th>\n",
       "      <th>piscina</th>\n",
       "      <th>escuelascercanas</th>\n",
       "      <th>centroscomercialescercanos</th>\n",
       "      <th>precio</th>\n",
       "    </tr>\n",
       "  </thead>\n",
       "  <tbody>\n",
       "    <tr>\n",
       "      <th>117211</th>\n",
       "      <td>258573</td>\n",
       "      <td>casa en venta en san cristobal</td>\n",
       "      <td>nocnok id: mx15-bf4078. bonita casa sola estil...</td>\n",
       "      <td>Casa</td>\n",
       "      <td>NaN</td>\n",
       "      <td>Cuernavaca</td>\n",
       "      <td>Morelos</td>\n",
       "      <td>nan</td>\n",
       "      <td>3.00</td>\n",
       "      <td>2.00</td>\n",
       "      <td>...</td>\n",
       "      <td>65,573.00</td>\n",
       "      <td>nan</td>\n",
       "      <td>nan</td>\n",
       "      <td>2016-06-09 00:00:00</td>\n",
       "      <td>0.00</td>\n",
       "      <td>0.00</td>\n",
       "      <td>0.00</td>\n",
       "      <td>0.00</td>\n",
       "      <td>0.00</td>\n",
       "      <td>2,350,000.00</td>\n",
       "    </tr>\n",
       "    <tr>\n",
       "      <th>102424</th>\n",
       "      <td>230271</td>\n",
       "      <td>casa en condominio en venta, san andrés cholul...</td>\n",
       "      <td>hermosa casa en venta ubicada en parque santia...</td>\n",
       "      <td>Casa en condominio</td>\n",
       "      <td>NaN</td>\n",
       "      <td>San Andrés Cholula</td>\n",
       "      <td>Puebla</td>\n",
       "      <td>1.00</td>\n",
       "      <td>3.00</td>\n",
       "      <td>1.00</td>\n",
       "      <td>...</td>\n",
       "      <td>nan</td>\n",
       "      <td>19.06</td>\n",
       "      <td>-98.29</td>\n",
       "      <td>2016-12-08 00:00:00</td>\n",
       "      <td>0.00</td>\n",
       "      <td>0.00</td>\n",
       "      <td>0.00</td>\n",
       "      <td>0.00</td>\n",
       "      <td>0.00</td>\n",
       "      <td>5,395,000.00</td>\n",
       "    </tr>\n",
       "    <tr>\n",
       "      <th>119201</th>\n",
       "      <td>168759</td>\n",
       "      <td>hermosa casa amplia en vista del valle....exce...</td>\n",
       "      <td>etapa: compra - venta directa \\nentrega: inmed...</td>\n",
       "      <td>Casa</td>\n",
       "      <td>mar de las ondas</td>\n",
       "      <td>Naucalpan de Juárez</td>\n",
       "      <td>Edo. de México</td>\n",
       "      <td>20.00</td>\n",
       "      <td>5.00</td>\n",
       "      <td>2.00</td>\n",
       "      <td>...</td>\n",
       "      <td>286,425.00</td>\n",
       "      <td>nan</td>\n",
       "      <td>nan</td>\n",
       "      <td>2016-10-11 00:00:00</td>\n",
       "      <td>0.00</td>\n",
       "      <td>0.00</td>\n",
       "      <td>0.00</td>\n",
       "      <td>0.00</td>\n",
       "      <td>0.00</td>\n",
       "      <td>4,500,000.00</td>\n",
       "    </tr>\n",
       "  </tbody>\n",
       "</table>\n",
       "<p>3 rows × 23 columns</p>\n",
       "</div>"
      ],
      "text/plain": [
       "            id                                             titulo  \\\n",
       "117211  258573                     casa en venta en san cristobal   \n",
       "102424  230271  casa en condominio en venta, san andrés cholul...   \n",
       "119201  168759  hermosa casa amplia en vista del valle....exce...   \n",
       "\n",
       "                                              descripcion     tipodepropiedad  \\\n",
       "117211  nocnok id: mx15-bf4078. bonita casa sola estil...                Casa   \n",
       "102424  hermosa casa en venta ubicada en parque santia...  Casa en condominio   \n",
       "119201  etapa: compra - venta directa \\nentrega: inmed...                Casa   \n",
       "\n",
       "               direccion               ciudad       provincia  \\\n",
       "117211               NaN           Cuernavaca         Morelos   \n",
       "102424               NaN   San Andrés Cholula          Puebla   \n",
       "119201  mar de las ondas  Naucalpan de Juárez  Edo. de México   \n",
       "\n",
       "                 antiguedad         habitaciones              garages  ...  \\\n",
       "117211                  nan                 3.00                 2.00  ...   \n",
       "102424                 1.00                 3.00                 1.00  ...   \n",
       "119201                20.00                 5.00                 2.00  ...   \n",
       "\n",
       "                     idzona                  lat                  lng  \\\n",
       "117211            65,573.00                  nan                  nan   \n",
       "102424                  nan                19.06               -98.29   \n",
       "119201           286,425.00                  nan                  nan   \n",
       "\n",
       "                      fecha             gimnasio        usosmultiples  \\\n",
       "117211  2016-06-09 00:00:00                 0.00                 0.00   \n",
       "102424  2016-12-08 00:00:00                 0.00                 0.00   \n",
       "119201  2016-10-11 00:00:00                 0.00                 0.00   \n",
       "\n",
       "                    piscina     escuelascercanas  centroscomercialescercanos  \\\n",
       "117211                 0.00                 0.00                        0.00   \n",
       "102424                 0.00                 0.00                        0.00   \n",
       "119201                 0.00                 0.00                        0.00   \n",
       "\n",
       "                     precio  \n",
       "117211         2,350,000.00  \n",
       "102424         5,395,000.00  \n",
       "119201         4,500,000.00  \n",
       "\n",
       "[3 rows x 23 columns]"
      ]
     },
     "execution_count": 143,
     "metadata": {},
     "output_type": "execute_result"
    }
   ],
   "source": [
    "df.sample(3)"
   ]
  },
  {
   "cell_type": "code",
   "execution_count": 80,
   "metadata": {},
   "outputs": [
    {
     "data": {
      "text/plain": [
       "id                                                                       254099\n",
       "titulo                                                        depto. tipo a-402\n",
       "descripcion                   depto. interior de 80.15m2, consta de sala com...\n",
       "tipodepropiedad                                                     Apartamento\n",
       "direccion                                       Avenida Division del Norte 2005\n",
       "ciudad                                                            Benito Juárez\n",
       "provincia                                                      Distrito Federal\n",
       "antiguedad                                                                  NaN\n",
       "habitaciones                                                               2.00\n",
       "garages                                                                    1.00\n",
       "banos                                                                      2.00\n",
       "metroscubiertos                                                           80.00\n",
       "metrostotales                                                             80.00\n",
       "idzona                                                                23,533.00\n",
       "lat                                                                         NaN\n",
       "lng                                                                         NaN\n",
       "fecha                                                       2015-08-23 00:00:00\n",
       "gimnasio                                                                   0.00\n",
       "usosmultiples                                                              0.00\n",
       "piscina                                                                    0.00\n",
       "escuelascercanas                                                           0.00\n",
       "centroscomercialescercanos                                                 0.00\n",
       "precio                                                             2,273,000.00\n",
       "Name: 0, dtype: object"
      ]
     },
     "execution_count": 80,
     "metadata": {},
     "output_type": "execute_result"
    }
   ],
   "source": [
    "df.loc[0]"
   ]
  },
  {
   "cell_type": "code",
   "execution_count": 81,
   "metadata": {},
   "outputs": [
    {
     "name": "stdout",
     "output_type": "stream",
     "text": [
      "(240000, 23)\n"
     ]
    },
    {
     "data": {
      "text/plain": [
       "5520000"
      ]
     },
     "execution_count": 81,
     "metadata": {},
     "output_type": "execute_result"
    }
   ],
   "source": [
    "# dimensiones del DF\n",
    "print(df.shape)\n",
    "df.size # rows x col"
   ]
  },
  {
   "cell_type": "markdown",
   "metadata": {},
   "source": [
    "### 2 Analizando utilizacion de memoria del dataframe"
   ]
  },
  {
   "cell_type": "code",
   "execution_count": 82,
   "metadata": {},
   "outputs": [
    {
     "name": "stdout",
     "output_type": "stream",
     "text": [
      "<class 'pandas.core.frame.DataFrame'>\n",
      "RangeIndex: 240000 entries, 0 to 239999\n",
      "Data columns (total 23 columns):\n",
      "id                            240000 non-null int64\n",
      "titulo                        234613 non-null object\n",
      "descripcion                   238381 non-null object\n",
      "tipodepropiedad               239954 non-null object\n",
      "direccion                     186928 non-null object\n",
      "ciudad                        239628 non-null object\n",
      "provincia                     239845 non-null object\n",
      "antiguedad                    196445 non-null float64\n",
      "habitaciones                  217529 non-null float64\n",
      "garages                       202235 non-null float64\n",
      "banos                         213779 non-null float64\n",
      "metroscubiertos               222600 non-null float64\n",
      "metrostotales                 188533 non-null float64\n",
      "idzona                        211379 non-null float64\n",
      "lat                           116512 non-null float64\n",
      "lng                           116512 non-null float64\n",
      "fecha                         240000 non-null object\n",
      "gimnasio                      240000 non-null float64\n",
      "usosmultiples                 240000 non-null float64\n",
      "piscina                       240000 non-null float64\n",
      "escuelascercanas              240000 non-null float64\n",
      "centroscomercialescercanos    240000 non-null float64\n",
      "precio                        240000 non-null float64\n",
      "dtypes: float64(15), int64(1), object(7)\n",
      "memory usage: 42.1+ MB\n"
     ]
    }
   ],
   "source": [
    "# veo info general\n",
    "df.info()"
   ]
  },
  {
   "cell_type": "code",
   "execution_count": 83,
   "metadata": {},
   "outputs": [
    {
     "data": {
      "text/plain": [
       "id                            240000\n",
       "titulo                        234613\n",
       "descripcion                   238381\n",
       "tipodepropiedad               239954\n",
       "direccion                     186928\n",
       "ciudad                        239628\n",
       "provincia                     239845\n",
       "antiguedad                    196445\n",
       "habitaciones                  217529\n",
       "garages                       202235\n",
       "banos                         213779\n",
       "metroscubiertos               222600\n",
       "metrostotales                 188533\n",
       "idzona                        211379\n",
       "lat                           116512\n",
       "lng                           116512\n",
       "fecha                         240000\n",
       "gimnasio                      240000\n",
       "usosmultiples                 240000\n",
       "piscina                       240000\n",
       "escuelascercanas              240000\n",
       "centroscomercialescercanos    240000\n",
       "precio                        240000\n",
       "dtype: int64"
      ]
     },
     "execution_count": 83,
     "metadata": {},
     "output_type": "execute_result"
    }
   ],
   "source": [
    "# cantidad de elementos elementos no nulos en el data frame\n",
    "df.count()"
   ]
  },
  {
   "cell_type": "markdown",
   "metadata": {},
   "source": [
    "### 3.\tConversion de Datos y mejoras en uso de memoria"
   ]
  },
  {
   "cell_type": "markdown",
   "metadata": {},
   "source": [
    "#### provincia"
   ]
  },
  {
   "cell_type": "code",
   "execution_count": 84,
   "metadata": {},
   "outputs": [
    {
     "data": {
      "text/plain": [
       "Index             80\n",
       "provincia    1920000\n",
       "dtype: int64"
      ]
     },
     "execution_count": 84,
     "metadata": {},
     "output_type": "execute_result"
    }
   ],
   "source": [
    "df.loc[:,['provincia']].memory_usage()"
   ]
  },
  {
   "cell_type": "code",
   "execution_count": 232,
   "metadata": {},
   "outputs": [
    {
     "data": {
      "text/plain": [
       "33"
      ]
     },
     "execution_count": 232,
     "metadata": {},
     "output_type": "execute_result"
    }
   ],
   "source": [
    "df['provincia'].unique().size"
   ]
  },
  {
   "cell_type": "code",
   "execution_count": 86,
   "metadata": {},
   "outputs": [
    {
     "data": {
      "text/plain": [
       "Distrito Federal         58790\n",
       "Edo. de México           41607\n",
       "Jalisco                  21238\n",
       "Querétaro                16988\n",
       "Nuevo León               15324\n",
       "Puebla                   10421\n",
       "San luis Potosí           8447\n",
       "Yucatán                   7928\n",
       "Morelos                   7337\n",
       "Veracruz                  5762\n",
       "Quintana Roo              4756\n",
       "Chihuahua                 4590\n",
       "Coahuila                  3695\n",
       "Baja California Norte     3220\n",
       "Sonora                    2988\n",
       "Guanajuato                2860\n",
       "Guerrero                  2678\n",
       "Hidalgo                   2521\n",
       "Michoacán                 2471\n",
       "Tamaulipas                2303\n",
       "Durango                   2275\n",
       "Sinaloa                   1806\n",
       "Aguascalientes            1753\n",
       "Baja California Sur       1700\n",
       "Nayarit                   1352\n",
       "Chiapas                   1126\n",
       "Colima                    1008\n",
       "Tabasco                    994\n",
       "Tlaxcala                   839\n",
       "Oaxaca                     711\n",
       "Campeche                   263\n",
       "Zacatecas                   94\n",
       "Name: provincia, dtype: int64"
      ]
     },
     "execution_count": 86,
     "metadata": {},
     "output_type": "execute_result"
    }
   ],
   "source": [
    "df['provincia'].value_counts()"
   ]
  },
  {
   "cell_type": "code",
   "execution_count": 87,
   "metadata": {},
   "outputs": [],
   "source": [
    "# creo una nueva serie en el df de tipo category (enum)\n",
    "df['provincia'] = df['provincia'].astype('category')"
   ]
  },
  {
   "cell_type": "code",
   "execution_count": 88,
   "metadata": {},
   "outputs": [
    {
     "data": {
      "text/plain": [
       "241616"
      ]
     },
     "execution_count": 88,
     "metadata": {},
     "output_type": "execute_result"
    }
   ],
   "source": [
    "df['provincia'].memory_usage()"
   ]
  },
  {
   "cell_type": "code",
   "execution_count": 89,
   "metadata": {},
   "outputs": [
    {
     "data": {
      "text/plain": [
       "CategoricalDtype(categories=['Aguascalientes', 'Baja California Norte',\n",
       "                  'Baja California Sur', 'Campeche', 'Chiapas', 'Chihuahua',\n",
       "                  'Coahuila', 'Colima', 'Distrito Federal', 'Durango',\n",
       "                  'Edo. de México', 'Guanajuato', 'Guerrero', 'Hidalgo',\n",
       "                  'Jalisco', 'Michoacán', 'Morelos', 'Nayarit', 'Nuevo León',\n",
       "                  'Oaxaca', 'Puebla', 'Querétaro', 'Quintana Roo',\n",
       "                  'San luis Potosí', 'Sinaloa', 'Sonora', 'Tabasco',\n",
       "                  'Tamaulipas', 'Tlaxcala', 'Veracruz', 'Yucatán',\n",
       "                  'Zacatecas'],\n",
       "                 ordered=False)"
      ]
     },
     "execution_count": 89,
     "metadata": {},
     "output_type": "execute_result"
    }
   ],
   "source": [
    "df['provincia'].dtype"
   ]
  },
  {
   "cell_type": "markdown",
   "metadata": {},
   "source": [
    "#### Fechas"
   ]
  },
  {
   "cell_type": "code",
   "execution_count": 90,
   "metadata": {},
   "outputs": [
    {
     "data": {
      "text/plain": [
       "0    2015-08-23 00:00:00\n",
       "Name: fecha, dtype: object"
      ]
     },
     "execution_count": 90,
     "metadata": {},
     "output_type": "execute_result"
    }
   ],
   "source": [
    "df.loc[0:0 , 'fecha']"
   ]
  },
  {
   "cell_type": "code",
   "execution_count": 264,
   "metadata": {},
   "outputs": [],
   "source": [
    "# Seteamos la fecha al tipo datetime\n",
    "df['fecha'] = pd.to_datetime(df['fecha'])\n",
    "# generamos una nueva columna obteniendo el año y mes\n",
    "df['year'] = df['fecha'].dt.year\n",
    "df['month'] = df['fecha'].dt.month"
   ]
  },
  {
   "cell_type": "code",
   "execution_count": 119,
   "metadata": {},
   "outputs": [
    {
     "data": {
      "text/plain": [
       "id                                     int64\n",
       "titulo                                object\n",
       "descripcion                           object\n",
       "tipodepropiedad                     category\n",
       "direccion                             object\n",
       "ciudad                              category\n",
       "provincia                           category\n",
       "antiguedad                           float64\n",
       "habitaciones                         float64\n",
       "garages                              float64\n",
       "banos                                float64\n",
       "metroscubiertos                      float64\n",
       "metrostotales                        float64\n",
       "idzona                               float64\n",
       "lat                                  float64\n",
       "lng                                  float64\n",
       "fecha                         datetime64[ns]\n",
       "gimnasio                             float64\n",
       "usosmultiples                        float64\n",
       "piscina                              float64\n",
       "escuelascercanas                     float64\n",
       "centroscomercialescercanos           float64\n",
       "precio                               float64\n",
       "year                                   int64\n",
       "month                                  int64\n",
       "dtype: object"
      ]
     },
     "execution_count": 119,
     "metadata": {},
     "output_type": "execute_result"
    }
   ],
   "source": [
    "df.dtypes"
   ]
  },
  {
   "cell_type": "markdown",
   "metadata": {},
   "source": [
    "#### tipodepropiedad"
   ]
  },
  {
   "cell_type": "code",
   "execution_count": 93,
   "metadata": {},
   "outputs": [
    {
     "data": {
      "text/plain": [
       "25"
      ]
     },
     "execution_count": 93,
     "metadata": {},
     "output_type": "execute_result"
    }
   ],
   "source": [
    "df['tipodepropiedad'].unique().size"
   ]
  },
  {
   "cell_type": "code",
   "execution_count": 94,
   "metadata": {},
   "outputs": [
    {
     "data": {
      "text/plain": [
       "Casa                             141717\n",
       "Apartamento                       57341\n",
       "Casa en condominio                19297\n",
       "Terreno                            9945\n",
       "Local Comercial                    3055\n",
       "Oficina comercial                  1741\n",
       "Bodega comercial                   1406\n",
       "Edificio                           1396\n",
       "Terreno comercial                  1326\n",
       "Casa uso de suelo                   708\n",
       "Quinta Vacacional                   395\n",
       "Duplex                              343\n",
       "Villa                               340\n",
       "Inmuebles productivos urbanos       200\n",
       "Rancho                              170\n",
       "Local en centro comercial           165\n",
       "Departamento Compartido             141\n",
       "Otros                               134\n",
       "Nave industrial                      76\n",
       "Terreno industrial                   31\n",
       "Huerta                               20\n",
       "Lote                                  5\n",
       "Garage                                1\n",
       "Hospedaje                             1\n",
       "Name: tipodepropiedad, dtype: int64"
      ]
     },
     "execution_count": 94,
     "metadata": {},
     "output_type": "execute_result"
    }
   ],
   "source": [
    "df['tipodepropiedad'].value_counts()"
   ]
  },
  {
   "cell_type": "code",
   "execution_count": 95,
   "metadata": {},
   "outputs": [],
   "source": [
    "df['tipodepropiedad'] = df['tipodepropiedad'].astype('category')"
   ]
  },
  {
   "cell_type": "code",
   "execution_count": 96,
   "metadata": {},
   "outputs": [
    {
     "data": {
      "text/plain": [
       "CategoricalDtype(categories=['Apartamento', 'Bodega comercial', 'Casa',\n",
       "                  'Casa en condominio', 'Casa uso de suelo',\n",
       "                  'Departamento Compartido', 'Duplex', 'Edificio', 'Garage',\n",
       "                  'Hospedaje', 'Huerta', 'Inmuebles productivos urbanos',\n",
       "                  'Local Comercial', 'Local en centro comercial', 'Lote',\n",
       "                  'Nave industrial', 'Oficina comercial', 'Otros',\n",
       "                  'Quinta Vacacional', 'Rancho', 'Terreno',\n",
       "                  'Terreno comercial', 'Terreno industrial', 'Villa'],\n",
       "                 ordered=False)"
      ]
     },
     "execution_count": 96,
     "metadata": {},
     "output_type": "execute_result"
    }
   ],
   "source": [
    "df['tipodepropiedad'].dtype"
   ]
  },
  {
   "cell_type": "markdown",
   "metadata": {},
   "source": [
    "#### ciudad"
   ]
  },
  {
   "cell_type": "code",
   "execution_count": 98,
   "metadata": {},
   "outputs": [
    {
     "data": {
      "text/plain": [
       "876"
      ]
     },
     "execution_count": 98,
     "metadata": {},
     "output_type": "execute_result"
    }
   ],
   "source": [
    "df['ciudad'].unique().size"
   ]
  },
  {
   "cell_type": "code",
   "execution_count": 99,
   "metadata": {},
   "outputs": [
    {
     "data": {
      "text/plain": [
       "Querétaro                        12646\n",
       "Benito Juárez                    11014\n",
       "Zapopan                          10360\n",
       "San Luis Potosí                   7925\n",
       "Mérida                            7162\n",
       "Monterrey                         6946\n",
       "Alvaro Obregón                    6633\n",
       "Cuauhtémoc                        6614\n",
       "Naucalpan de Juárez               6554\n",
       "Miguel Hidalgo                    5795\n",
       "Atizapán de Zaragoza              5783\n",
       "Tlalpan                           5721\n",
       "Huixquilucan                      5718\n",
       "Coyoacán                          5293\n",
       "Puebla                            4636\n",
       "Guadalajara                       4006\n",
       "San Andrés Cholula                3805\n",
       "Cancún                            3779\n",
       "Cuernavaca                        3775\n",
       "Chihuahua                         3757\n",
       "Tlalnepantla de Baz               3588\n",
       "Cuautitlán Izcalli                3408\n",
       "Tlajomulco de Zúñiga              3254\n",
       "Gustavo A. Madero                 3141\n",
       "Iztapalapa                        3093\n",
       "Cuajimalpa de Morelos             3020\n",
       "Tijuana                           2863\n",
       "Hermosillo                        2590\n",
       "Acapulco de Juárez                2454\n",
       "Ecatepec de Morelos               2159\n",
       "                                 ...  \n",
       "Atoyac de Alvarez                    1\n",
       "Chavinda                             1\n",
       "Atlangatepec                         1\n",
       "Sabinas                              1\n",
       "Juárez Hidalgo                       1\n",
       "Tixtla de Guerrero                   1\n",
       "CopAndaro                            1\n",
       "Ciénega de Zimatlán                  1\n",
       "Villagrán                            1\n",
       "Chilapa de Alvarez                   1\n",
       "Gral. Bravo                          1\n",
       "Progreso de Obregón                  1\n",
       "Villa de Cos                         1\n",
       "Chínipas                             1\n",
       "Los Reyes                            1\n",
       "General Plutarco Elías Calles        1\n",
       "Santa Cruz Acatepec                  1\n",
       "Cocotitlán                           1\n",
       "Tocumbo                              1\n",
       "PuruAndiro                           1\n",
       "El Barrio de la Soledad              1\n",
       "San Mateo Río Hondo                  1\n",
       "Almoloya del Río                     1\n",
       "San Jerónimo Tecuanipan              1\n",
       "Gral. Treviño                        1\n",
       "Suma                                 1\n",
       "El Mante                             1\n",
       "San Gabriel                          1\n",
       "Bella Vista                          1\n",
       "Dr. Belisario Domínguez              1\n",
       "Name: ciudad, Length: 875, dtype: int64"
      ]
     },
     "execution_count": 99,
     "metadata": {},
     "output_type": "execute_result"
    }
   ],
   "source": [
    "df['ciudad'].value_counts()"
   ]
  },
  {
   "cell_type": "code",
   "execution_count": 100,
   "metadata": {},
   "outputs": [],
   "source": [
    "df['ciudad'] = df['ciudad'].astype('category')"
   ]
  },
  {
   "cell_type": "code",
   "execution_count": 101,
   "metadata": {},
   "outputs": [
    {
     "data": {
      "text/plain": [
       "CategoricalDtype(categories=['Abalá', 'Abasolo', 'Abejones', 'Acajete', 'Acambay',\n",
       "                  'Acaponeta', 'Acapulco de Juárez', 'Acateno', 'Acatic',\n",
       "                  'Acatzingo',\n",
       "                  ...\n",
       "                  'Zitácuaro', 'Zumpahuacán', 'Zumpango', 'otra', 'ácatlán',\n",
       "                  'ácatlán de Juárez', 'ácaxochitlán', 'ácámbaro',\n",
       "                  'áutlán de Navarro', 'áyotlán'],\n",
       "                 ordered=False)"
      ]
     },
     "execution_count": 101,
     "metadata": {},
     "output_type": "execute_result"
    }
   ],
   "source": [
    "df['ciudad'].dtype"
   ]
  },
  {
   "cell_type": "code",
   "execution_count": 120,
   "metadata": {},
   "outputs": [
    {
     "data": {
      "text/plain": [
       "id                                     int64\n",
       "titulo                                object\n",
       "descripcion                           object\n",
       "tipodepropiedad                     category\n",
       "direccion                             object\n",
       "ciudad                              category\n",
       "provincia                           category\n",
       "antiguedad                           float64\n",
       "habitaciones                         float64\n",
       "garages                              float64\n",
       "banos                                float64\n",
       "metroscubiertos                      float64\n",
       "metrostotales                        float64\n",
       "idzona                               float64\n",
       "lat                                  float64\n",
       "lng                                  float64\n",
       "fecha                         datetime64[ns]\n",
       "gimnasio                             float64\n",
       "usosmultiples                        float64\n",
       "piscina                              float64\n",
       "escuelascercanas                     float64\n",
       "centroscomercialescercanos           float64\n",
       "precio                               float64\n",
       "year                                   int64\n",
       "month                                  int64\n",
       "dtype: object"
      ]
     },
     "execution_count": 120,
     "metadata": {},
     "output_type": "execute_result"
    }
   ],
   "source": [
    "df.dtypes"
   ]
  },
  {
   "cell_type": "markdown",
   "metadata": {},
   "source": [
    "\n",
    "## 4.\tVerificacion de Calidad de Datos"
   ]
  },
  {
   "cell_type": "code",
   "execution_count": 125,
   "metadata": {},
   "outputs": [
    {
     "data": {
      "text/html": [
       "<div>\n",
       "<style scoped>\n",
       "    .dataframe tbody tr th:only-of-type {\n",
       "        vertical-align: middle;\n",
       "    }\n",
       "\n",
       "    .dataframe tbody tr th {\n",
       "        vertical-align: top;\n",
       "    }\n",
       "\n",
       "    .dataframe thead th {\n",
       "        text-align: right;\n",
       "    }\n",
       "</style>\n",
       "<table border=\"1\" class=\"dataframe\">\n",
       "  <thead>\n",
       "    <tr style=\"text-align: right;\">\n",
       "      <th></th>\n",
       "      <th>id</th>\n",
       "      <th>antiguedad</th>\n",
       "      <th>habitaciones</th>\n",
       "      <th>garages</th>\n",
       "      <th>banos</th>\n",
       "      <th>metroscubiertos</th>\n",
       "      <th>metrostotales</th>\n",
       "      <th>idzona</th>\n",
       "      <th>lat</th>\n",
       "      <th>lng</th>\n",
       "      <th>gimnasio</th>\n",
       "      <th>usosmultiples</th>\n",
       "      <th>piscina</th>\n",
       "      <th>escuelascercanas</th>\n",
       "      <th>centroscomercialescercanos</th>\n",
       "      <th>precio</th>\n",
       "    </tr>\n",
       "  </thead>\n",
       "  <tbody>\n",
       "    <tr>\n",
       "      <th>count</th>\n",
       "      <td>240,000.00</td>\n",
       "      <td>196,445.00</td>\n",
       "      <td>217,529.00</td>\n",
       "      <td>202,235.00</td>\n",
       "      <td>213,779.00</td>\n",
       "      <td>222,600.00</td>\n",
       "      <td>188,533.00</td>\n",
       "      <td>211,379.00</td>\n",
       "      <td>116,512.00</td>\n",
       "      <td>116,512.00</td>\n",
       "      <td>240,000.00</td>\n",
       "      <td>240,000.00</td>\n",
       "      <td>240,000.00</td>\n",
       "      <td>240,000.00</td>\n",
       "      <td>240,000.00</td>\n",
       "      <td>240,000.00</td>\n",
       "    </tr>\n",
       "    <tr>\n",
       "      <th>mean</th>\n",
       "      <td>149,969.38</td>\n",
       "      <td>8.12</td>\n",
       "      <td>2.90</td>\n",
       "      <td>1.55</td>\n",
       "      <td>2.13</td>\n",
       "      <td>174.02</td>\n",
       "      <td>176.77</td>\n",
       "      <td>2,423,467.82</td>\n",
       "      <td>20.70</td>\n",
       "      <td>-99.51</td>\n",
       "      <td>0.06</td>\n",
       "      <td>0.06</td>\n",
       "      <td>0.09</td>\n",
       "      <td>0.44</td>\n",
       "      <td>0.40</td>\n",
       "      <td>2,530,838.35</td>\n",
       "    </tr>\n",
       "    <tr>\n",
       "      <th>std</th>\n",
       "      <td>86,634.58</td>\n",
       "      <td>9.55</td>\n",
       "      <td>0.90</td>\n",
       "      <td>0.85</td>\n",
       "      <td>0.91</td>\n",
       "      <td>98.15</td>\n",
       "      <td>94.43</td>\n",
       "      <td>10,567,938.36</td>\n",
       "      <td>3.14</td>\n",
       "      <td>9.74</td>\n",
       "      <td>0.24</td>\n",
       "      <td>0.23</td>\n",
       "      <td>0.28</td>\n",
       "      <td>0.50</td>\n",
       "      <td>0.49</td>\n",
       "      <td>2,152,551.80</td>\n",
       "    </tr>\n",
       "    <tr>\n",
       "      <th>min</th>\n",
       "      <td>1.00</td>\n",
       "      <td>0.00</td>\n",
       "      <td>1.00</td>\n",
       "      <td>0.00</td>\n",
       "      <td>1.00</td>\n",
       "      <td>15.00</td>\n",
       "      <td>15.00</td>\n",
       "      <td>22.00</td>\n",
       "      <td>-100.89</td>\n",
       "      <td>-125.86</td>\n",
       "      <td>0.00</td>\n",
       "      <td>0.00</td>\n",
       "      <td>0.00</td>\n",
       "      <td>0.00</td>\n",
       "      <td>0.00</td>\n",
       "      <td>310,000.00</td>\n",
       "    </tr>\n",
       "    <tr>\n",
       "      <th>25%</th>\n",
       "      <td>74,930.75</td>\n",
       "      <td>0.00</td>\n",
       "      <td>2.00</td>\n",
       "      <td>1.00</td>\n",
       "      <td>1.00</td>\n",
       "      <td>90.00</td>\n",
       "      <td>102.00</td>\n",
       "      <td>24,890.00</td>\n",
       "      <td>19.36</td>\n",
       "      <td>-100.98</td>\n",
       "      <td>0.00</td>\n",
       "      <td>0.00</td>\n",
       "      <td>0.00</td>\n",
       "      <td>0.00</td>\n",
       "      <td>0.00</td>\n",
       "      <td>952,772.50</td>\n",
       "    </tr>\n",
       "    <tr>\n",
       "      <th>50%</th>\n",
       "      <td>149,875.50</td>\n",
       "      <td>5.00</td>\n",
       "      <td>3.00</td>\n",
       "      <td>2.00</td>\n",
       "      <td>2.00</td>\n",
       "      <td>153.00</td>\n",
       "      <td>155.00</td>\n",
       "      <td>56,383.00</td>\n",
       "      <td>19.54</td>\n",
       "      <td>-99.24</td>\n",
       "      <td>0.00</td>\n",
       "      <td>0.00</td>\n",
       "      <td>0.00</td>\n",
       "      <td>0.00</td>\n",
       "      <td>0.00</td>\n",
       "      <td>1,850,000.00</td>\n",
       "    </tr>\n",
       "    <tr>\n",
       "      <th>75%</th>\n",
       "      <td>225,016.50</td>\n",
       "      <td>10.00</td>\n",
       "      <td>3.00</td>\n",
       "      <td>2.00</td>\n",
       "      <td>3.00</td>\n",
       "      <td>240.00</td>\n",
       "      <td>238.00</td>\n",
       "      <td>87,838.00</td>\n",
       "      <td>20.74</td>\n",
       "      <td>-99.13</td>\n",
       "      <td>0.00</td>\n",
       "      <td>0.00</td>\n",
       "      <td>0.00</td>\n",
       "      <td>1.00</td>\n",
       "      <td>1.00</td>\n",
       "      <td>3,390,000.00</td>\n",
       "    </tr>\n",
       "    <tr>\n",
       "      <th>max</th>\n",
       "      <td>299,999.00</td>\n",
       "      <td>80.00</td>\n",
       "      <td>10.00</td>\n",
       "      <td>3.00</td>\n",
       "      <td>4.00</td>\n",
       "      <td>439.00</td>\n",
       "      <td>439.00</td>\n",
       "      <td>50,003,999.00</td>\n",
       "      <td>83.03</td>\n",
       "      <td>121.04</td>\n",
       "      <td>1.00</td>\n",
       "      <td>1.00</td>\n",
       "      <td>1.00</td>\n",
       "      <td>1.00</td>\n",
       "      <td>1.00</td>\n",
       "      <td>12,525,000.00</td>\n",
       "    </tr>\n",
       "  </tbody>\n",
       "</table>\n",
       "</div>"
      ],
      "text/plain": [
       "                        id           antiguedad         habitaciones  \\\n",
       "count           240,000.00           196,445.00           217,529.00   \n",
       "mean            149,969.38                 8.12                 2.90   \n",
       "std              86,634.58                 9.55                 0.90   \n",
       "min                   1.00                 0.00                 1.00   \n",
       "25%              74,930.75                 0.00                 2.00   \n",
       "50%             149,875.50                 5.00                 3.00   \n",
       "75%             225,016.50                10.00                 3.00   \n",
       "max             299,999.00                80.00                10.00   \n",
       "\n",
       "                   garages                banos      metroscubiertos  \\\n",
       "count           202,235.00           213,779.00           222,600.00   \n",
       "mean                  1.55                 2.13               174.02   \n",
       "std                   0.85                 0.91                98.15   \n",
       "min                   0.00                 1.00                15.00   \n",
       "25%                   1.00                 1.00                90.00   \n",
       "50%                   2.00                 2.00               153.00   \n",
       "75%                   2.00                 3.00               240.00   \n",
       "max                   3.00                 4.00               439.00   \n",
       "\n",
       "             metrostotales               idzona                  lat  \\\n",
       "count           188,533.00           211,379.00           116,512.00   \n",
       "mean                176.77         2,423,467.82                20.70   \n",
       "std                  94.43        10,567,938.36                 3.14   \n",
       "min                  15.00                22.00              -100.89   \n",
       "25%                 102.00            24,890.00                19.36   \n",
       "50%                 155.00            56,383.00                19.54   \n",
       "75%                 238.00            87,838.00                20.74   \n",
       "max                 439.00        50,003,999.00                83.03   \n",
       "\n",
       "                       lng             gimnasio        usosmultiples  \\\n",
       "count           116,512.00           240,000.00           240,000.00   \n",
       "mean                -99.51                 0.06                 0.06   \n",
       "std                   9.74                 0.24                 0.23   \n",
       "min                -125.86                 0.00                 0.00   \n",
       "25%                -100.98                 0.00                 0.00   \n",
       "50%                 -99.24                 0.00                 0.00   \n",
       "75%                 -99.13                 0.00                 0.00   \n",
       "max                 121.04                 1.00                 1.00   \n",
       "\n",
       "                   piscina     escuelascercanas  centroscomercialescercanos  \\\n",
       "count           240,000.00           240,000.00                  240,000.00   \n",
       "mean                  0.09                 0.44                        0.40   \n",
       "std                   0.28                 0.50                        0.49   \n",
       "min                   0.00                 0.00                        0.00   \n",
       "25%                   0.00                 0.00                        0.00   \n",
       "50%                   0.00                 0.00                        0.00   \n",
       "75%                   0.00                 1.00                        1.00   \n",
       "max                   1.00                 1.00                        1.00   \n",
       "\n",
       "                    precio  \n",
       "count           240,000.00  \n",
       "mean          2,530,838.35  \n",
       "std           2,152,551.80  \n",
       "min             310,000.00  \n",
       "25%             952,772.50  \n",
       "50%           1,850,000.00  \n",
       "75%           3,390,000.00  \n",
       "max          12,525,000.00  "
      ]
     },
     "execution_count": 125,
     "metadata": {},
     "output_type": "execute_result"
    }
   ],
   "source": [
    "# metricas generales \n",
    "df.describe()"
   ]
  },
  {
   "cell_type": "code",
   "execution_count": 123,
   "metadata": {},
   "outputs": [
    {
     "data": {
      "text/plain": [
       "id                            False\n",
       "titulo                         True\n",
       "descripcion                    True\n",
       "tipodepropiedad                True\n",
       "direccion                      True\n",
       "ciudad                         True\n",
       "provincia                      True\n",
       "antiguedad                     True\n",
       "habitaciones                   True\n",
       "garages                        True\n",
       "banos                          True\n",
       "metroscubiertos                True\n",
       "metrostotales                  True\n",
       "idzona                         True\n",
       "lat                            True\n",
       "lng                            True\n",
       "fecha                         False\n",
       "gimnasio                      False\n",
       "usosmultiples                 False\n",
       "piscina                       False\n",
       "escuelascercanas              False\n",
       "centroscomercialescercanos    False\n",
       "precio                        False\n",
       "dtype: bool"
      ]
     },
     "execution_count": 123,
     "metadata": {},
     "output_type": "execute_result"
    }
   ],
   "source": [
    "# ver los nulos si existen\n",
    "df.isnull().any()"
   ]
  },
  {
   "cell_type": "code",
   "execution_count": 124,
   "metadata": {},
   "outputs": [
    {
     "data": {
      "text/plain": [
       "id                                 0\n",
       "titulo                          5387\n",
       "descripcion                     1619\n",
       "tipodepropiedad                   46\n",
       "direccion                      53072\n",
       "ciudad                           372\n",
       "provincia                        155\n",
       "antiguedad                     43555\n",
       "habitaciones                   22471\n",
       "garages                        37765\n",
       "banos                          26221\n",
       "metroscubiertos                17400\n",
       "metrostotales                  51467\n",
       "idzona                         28621\n",
       "lat                           123488\n",
       "lng                           123488\n",
       "fecha                              0\n",
       "gimnasio                           0\n",
       "usosmultiples                      0\n",
       "piscina                            0\n",
       "escuelascercanas                   0\n",
       "centroscomercialescercanos         0\n",
       "precio                             0\n",
       "dtype: int64"
      ]
     },
     "execution_count": 124,
     "metadata": {},
     "output_type": "execute_result"
    }
   ],
   "source": [
    "df.isnull().sum()"
   ]
  },
  {
   "cell_type": "code",
   "execution_count": 127,
   "metadata": {},
   "outputs": [],
   "source": []
  },
  {
   "cell_type": "code",
   "execution_count": 289,
   "metadata": {},
   "outputs": [
    {
     "data": {
      "text/html": [
       "<div>\n",
       "<style scoped>\n",
       "    .dataframe tbody tr th:only-of-type {\n",
       "        vertical-align: middle;\n",
       "    }\n",
       "\n",
       "    .dataframe tbody tr th {\n",
       "        vertical-align: top;\n",
       "    }\n",
       "\n",
       "    .dataframe thead th {\n",
       "        text-align: right;\n",
       "    }\n",
       "</style>\n",
       "<table border=\"1\" class=\"dataframe\">\n",
       "  <thead>\n",
       "    <tr style=\"text-align: right;\">\n",
       "      <th></th>\n",
       "      <th>Nulos</th>\n",
       "      <th>Porcentaje %</th>\n",
       "    </tr>\n",
       "  </thead>\n",
       "  <tbody>\n",
       "    <tr>\n",
       "      <th>lng</th>\n",
       "      <td>123488</td>\n",
       "      <td>51.45</td>\n",
       "    </tr>\n",
       "    <tr>\n",
       "      <th>lat</th>\n",
       "      <td>123488</td>\n",
       "      <td>51.45</td>\n",
       "    </tr>\n",
       "    <tr>\n",
       "      <th>direccion</th>\n",
       "      <td>53072</td>\n",
       "      <td>22.11</td>\n",
       "    </tr>\n",
       "    <tr>\n",
       "      <th>metrostotales</th>\n",
       "      <td>51467</td>\n",
       "      <td>21.44</td>\n",
       "    </tr>\n",
       "    <tr>\n",
       "      <th>antiguedad</th>\n",
       "      <td>43555</td>\n",
       "      <td>18.15</td>\n",
       "    </tr>\n",
       "    <tr>\n",
       "      <th>garages</th>\n",
       "      <td>37765</td>\n",
       "      <td>15.74</td>\n",
       "    </tr>\n",
       "    <tr>\n",
       "      <th>idzona</th>\n",
       "      <td>28621</td>\n",
       "      <td>11.93</td>\n",
       "    </tr>\n",
       "    <tr>\n",
       "      <th>banos</th>\n",
       "      <td>26221</td>\n",
       "      <td>10.93</td>\n",
       "    </tr>\n",
       "    <tr>\n",
       "      <th>habitaciones</th>\n",
       "      <td>22471</td>\n",
       "      <td>9.36</td>\n",
       "    </tr>\n",
       "    <tr>\n",
       "      <th>metroscubiertos</th>\n",
       "      <td>17400</td>\n",
       "      <td>7.25</td>\n",
       "    </tr>\n",
       "    <tr>\n",
       "      <th>titulo</th>\n",
       "      <td>5387</td>\n",
       "      <td>2.24</td>\n",
       "    </tr>\n",
       "    <tr>\n",
       "      <th>descripcion</th>\n",
       "      <td>1619</td>\n",
       "      <td>0.67</td>\n",
       "    </tr>\n",
       "    <tr>\n",
       "      <th>ciudad</th>\n",
       "      <td>372</td>\n",
       "      <td>0.16</td>\n",
       "    </tr>\n",
       "    <tr>\n",
       "      <th>provincia</th>\n",
       "      <td>155</td>\n",
       "      <td>0.06</td>\n",
       "    </tr>\n",
       "    <tr>\n",
       "      <th>tipodepropiedad</th>\n",
       "      <td>46</td>\n",
       "      <td>0.02</td>\n",
       "    </tr>\n",
       "    <tr>\n",
       "      <th>escuelascercanas</th>\n",
       "      <td>0</td>\n",
       "      <td>0.00</td>\n",
       "    </tr>\n",
       "    <tr>\n",
       "      <th>year</th>\n",
       "      <td>0</td>\n",
       "      <td>0.00</td>\n",
       "    </tr>\n",
       "    <tr>\n",
       "      <th>precio</th>\n",
       "      <td>0</td>\n",
       "      <td>0.00</td>\n",
       "    </tr>\n",
       "    <tr>\n",
       "      <th>centroscomercialescercanos</th>\n",
       "      <td>0</td>\n",
       "      <td>0.00</td>\n",
       "    </tr>\n",
       "    <tr>\n",
       "      <th>id</th>\n",
       "      <td>0</td>\n",
       "      <td>0.00</td>\n",
       "    </tr>\n",
       "    <tr>\n",
       "      <th>piscina</th>\n",
       "      <td>0</td>\n",
       "      <td>0.00</td>\n",
       "    </tr>\n",
       "    <tr>\n",
       "      <th>usosmultiples</th>\n",
       "      <td>0</td>\n",
       "      <td>0.00</td>\n",
       "    </tr>\n",
       "    <tr>\n",
       "      <th>gimnasio</th>\n",
       "      <td>0</td>\n",
       "      <td>0.00</td>\n",
       "    </tr>\n",
       "    <tr>\n",
       "      <th>fecha</th>\n",
       "      <td>0</td>\n",
       "      <td>0.00</td>\n",
       "    </tr>\n",
       "    <tr>\n",
       "      <th>month</th>\n",
       "      <td>0</td>\n",
       "      <td>0.00</td>\n",
       "    </tr>\n",
       "  </tbody>\n",
       "</table>\n",
       "</div>"
      ],
      "text/plain": [
       "                             Nulos         Porcentaje %\n",
       "lng                         123488                51.45\n",
       "lat                         123488                51.45\n",
       "direccion                    53072                22.11\n",
       "metrostotales                51467                21.44\n",
       "antiguedad                   43555                18.15\n",
       "garages                      37765                15.74\n",
       "idzona                       28621                11.93\n",
       "banos                        26221                10.93\n",
       "habitaciones                 22471                 9.36\n",
       "metroscubiertos              17400                 7.25\n",
       "titulo                        5387                 2.24\n",
       "descripcion                   1619                 0.67\n",
       "ciudad                         372                 0.16\n",
       "provincia                      155                 0.06\n",
       "tipodepropiedad                 46                 0.02\n",
       "escuelascercanas                 0                 0.00\n",
       "year                             0                 0.00\n",
       "precio                           0                 0.00\n",
       "centroscomercialescercanos       0                 0.00\n",
       "id                               0                 0.00\n",
       "piscina                          0                 0.00\n",
       "usosmultiples                    0                 0.00\n",
       "gimnasio                         0                 0.00\n",
       "fecha                            0                 0.00\n",
       "month                            0                 0.00"
      ]
     },
     "execution_count": 289,
     "metadata": {},
     "output_type": "execute_result"
    }
   ],
   "source": [
    "nulos = pd.DataFrame(df.isnull().sum(), columns=['Nulos'])\n",
    "nulos['Porcentaje %'] = round(100*nulos['Nulos'] / len(df), 2)\n",
    "nulos.sort_values ('Porcentaje %', ascending=False)"
   ]
  },
  {
   "cell_type": "code",
   "execution_count": 290,
   "metadata": {},
   "outputs": [],
   "source": [
    "nulos.index = nulos.index.set_names(['feature'])\n",
    "nulos = nulos.reset_index(level='feature')\n",
    "features = nulos.feature.unique()"
   ]
  },
  {
   "cell_type": "code",
   "execution_count": 293,
   "metadata": {},
   "outputs": [
    {
     "data": {
      "image/png": "[encoded data removed]",
      "text/plain": [
       "<Figure size 648x648 with 1 Axes>"
      ]
     },
     "metadata": {
      "needs_background": "light"
     },
     "output_type": "display_data"
    }
   ],
   "source": [
    "total = 240000\n",
    "N = len(features)\n",
    "porc_valor = nulos['Porcentaje %'].map(lambda x: total*((100 - x)/100))\n",
    "porc_nulos = nulos['Porcentaje %'].map(lambda x: total*(x/100))\n",
    "ind = np.arange(N)  \n",
    "width = 0.50      \n",
    "\n",
    "p1 = plt.bar(ind, porc_valor, width, color='black')\n",
    "p2 = plt.bar(ind, porc_nulos, width,bottom=porc_valor, color='lightgrey')\n",
    "\n",
    "plt.ylabel('Cantidad de filas')\n",
    "plt.xlabel('features')\n",
    "plt.title('Cantidad de nulos sobre valores asignados')\n",
    "plt.xticks(ind, features)\n",
    "plt.xticks(rotation=90)\n",
    "#plt.yticks(np.arange(0, 100, 10))\n",
    "plt.legend((p1[0], p2[0]), ('con valor', 'nulos'))\n",
    "plt.rcParams['figure.figsize'] = [10, 10]\n",
    "ax = plt.gca()\n",
    "ax.yaxis.get_major_formatter().set_scientific(False)\n",
    "plt.show()"
   ]
  },
  {
   "cell_type": "markdown",
   "metadata": {},
   "source": [
    "### IDs"
   ]
  },
  {
   "cell_type": "code",
   "execution_count": 132,
   "metadata": {},
   "outputs": [
    {
     "data": {
      "text/plain": [
       "True"
      ]
     },
     "execution_count": 132,
     "metadata": {},
     "output_type": "execute_result"
    }
   ],
   "source": [
    "# Verifico si son unicos los IDs\n",
    "df['id'].unique().size == df['id'].count()"
   ]
  },
  {
   "cell_type": "markdown",
   "metadata": {},
   "source": [
    "### Direcciones"
   ]
  },
  {
   "cell_type": "code",
   "execution_count": 134,
   "metadata": {},
   "outputs": [
    {
     "data": {
      "text/plain": [
       "False"
      ]
     },
     "execution_count": 134,
     "metadata": {},
     "output_type": "execute_result"
    }
   ],
   "source": [
    "# Verifico si son unicas las direcciones\n",
    "df['direccion'].unique().size == df['direccion'].count()"
   ]
  },
  {
   "cell_type": "markdown",
   "metadata": {},
   "source": [
    "### vamos a buscar cuales son las direcciones duplicadas"
   ]
  },
  {
   "cell_type": "code",
   "execution_count": 201,
   "metadata": {},
   "outputs": [],
   "source": [
    "# esta funcion devueve las celdas duplicadas\n",
    "def fduplicados (data, limite):\n",
    "    return data['Repeticiones'].sum() >= limite"
   ]
  },
  {
   "cell_type": "code",
   "execution_count": 202,
   "metadata": {},
   "outputs": [],
   "source": [
    "df1 = df.copy()\n",
    "df1['Repeticiones'] = 1"
   ]
  },
  {
   "cell_type": "code",
   "execution_count": 203,
   "metadata": {},
   "outputs": [],
   "source": [
    "agrupados = df1.groupby(['direccion'])"
   ]
  },
  {
   "cell_type": "code",
   "execution_count": 204,
   "metadata": {},
   "outputs": [],
   "source": [
    "agrupadosfiltrados = agrupados.filter(fduplicados, limite=2)"
   ]
  },
  {
   "cell_type": "code",
   "execution_count": 205,
   "metadata": {},
   "outputs": [],
   "source": [
    "repetidos =agrupadosfiltrados.groupby(['direccion']).agg({'Repeticiones':'sum'})\n",
    "repetidos.reset_index(inplace=True)"
   ]
  },
  {
   "cell_type": "code",
   "execution_count": 206,
   "metadata": {},
   "outputs": [
    {
     "name": "stdout",
     "output_type": "stream",
     "text": [
      "Cantidad de direcciones repetidas\n"
     ]
    },
    {
     "data": {
      "text/plain": [
       "63009"
      ]
     },
     "execution_count": 206,
     "metadata": {},
     "output_type": "execute_result"
    }
   ],
   "source": [
    "print (\"Cantidad de direcciones repetidas\")\n",
    "repetidos[\"Repeticiones\"].sum()"
   ]
  },
  {
   "cell_type": "code",
   "execution_count": 181,
   "metadata": {},
   "outputs": [],
   "source": []
  },
  {
   "cell_type": "code",
   "execution_count": 207,
   "metadata": {},
   "outputs": [
    {
     "name": "stdout",
     "output_type": "stream",
     "text": [
      "Ranking de direcciones mas repetidas\n"
     ]
    },
    {
     "data": {
      "text/html": [
       "<div>\n",
       "<style scoped>\n",
       "    .dataframe tbody tr th:only-of-type {\n",
       "        vertical-align: middle;\n",
       "    }\n",
       "\n",
       "    .dataframe tbody tr th {\n",
       "        vertical-align: top;\n",
       "    }\n",
       "\n",
       "    .dataframe thead th {\n",
       "        text-align: right;\n",
       "    }\n",
       "</style>\n",
       "<table border=\"1\" class=\"dataframe\">\n",
       "  <thead>\n",
       "    <tr style=\"text-align: right;\">\n",
       "      <th></th>\n",
       "      <th>direccion</th>\n",
       "      <th>Repeticiones</th>\n",
       "    </tr>\n",
       "  </thead>\n",
       "  <tbody>\n",
       "    <tr>\n",
       "      <th>35</th>\n",
       "      <td>-</td>\n",
       "      <td>660</td>\n",
       "    </tr>\n",
       "    <tr>\n",
       "      <th>64</th>\n",
       "      <td>.</td>\n",
       "      <td>476</td>\n",
       "    </tr>\n",
       "    <tr>\n",
       "      <th>85</th>\n",
       "      <td>1</td>\n",
       "      <td>212</td>\n",
       "    </tr>\n",
       "    <tr>\n",
       "      <th>3817</th>\n",
       "      <td>Calle</td>\n",
       "      <td>194</td>\n",
       "    </tr>\n",
       "    <tr>\n",
       "      <th>10195</th>\n",
       "      <td>Norte de Mérida</td>\n",
       "      <td>136</td>\n",
       "    </tr>\n",
       "    <tr>\n",
       "      <th>16308</th>\n",
       "      <td>x #x</td>\n",
       "      <td>122</td>\n",
       "    </tr>\n",
       "    <tr>\n",
       "      <th>77</th>\n",
       "      <td>0</td>\n",
       "      <td>113</td>\n",
       "    </tr>\n",
       "    <tr>\n",
       "      <th>15399</th>\n",
       "      <td>domicilio conocido</td>\n",
       "      <td>105</td>\n",
       "    </tr>\n",
       "    <tr>\n",
       "      <th>3847</th>\n",
       "      <td>Calle 18 No.344 x 11 y 13 Col. Camara de Comer...</td>\n",
       "      <td>94</td>\n",
       "    </tr>\n",
       "    <tr>\n",
       "      <th>15074</th>\n",
       "      <td>calle</td>\n",
       "      <td>94</td>\n",
       "    </tr>\n",
       "  </tbody>\n",
       "</table>\n",
       "</div>"
      ],
      "text/plain": [
       "                                               direccion  Repeticiones\n",
       "35                                                     -           660\n",
       "64                                                     .           476\n",
       "85                                                     1           212\n",
       "3817                                               Calle           194\n",
       "10195                                    Norte de Mérida           136\n",
       "16308                                               x #x           122\n",
       "77                                                     0           113\n",
       "15399                                 domicilio conocido           105\n",
       "3847   Calle 18 No.344 x 11 y 13 Col. Camara de Comer...            94\n",
       "15074                                              calle            94"
      ]
     },
     "execution_count": 207,
     "metadata": {},
     "output_type": "execute_result"
    }
   ],
   "source": [
    "print (\"Ranking de direcciones mas repetidas\")\n",
    "repetidos.nlargest(10,'Repeticiones')"
   ]
  },
  {
   "cell_type": "code",
   "execution_count": null,
   "metadata": {},
   "outputs": [],
   "source": []
  },
  {
   "cell_type": "code",
   "execution_count": 197,
   "metadata": {},
   "outputs": [
    {
     "data": {
      "text/html": [
       "<div>\n",
       "<style scoped>\n",
       "    .dataframe tbody tr th:only-of-type {\n",
       "        vertical-align: middle;\n",
       "    }\n",
       "\n",
       "    .dataframe tbody tr th {\n",
       "        vertical-align: top;\n",
       "    }\n",
       "\n",
       "    .dataframe thead th {\n",
       "        text-align: right;\n",
       "    }\n",
       "</style>\n",
       "<table border=\"1\" class=\"dataframe\">\n",
       "  <thead>\n",
       "    <tr style=\"text-align: right;\">\n",
       "      <th></th>\n",
       "      <th>id</th>\n",
       "      <th>titulo</th>\n",
       "      <th>descripcion</th>\n",
       "      <th>tipodepropiedad</th>\n",
       "      <th>direccion</th>\n",
       "      <th>ciudad</th>\n",
       "      <th>provincia</th>\n",
       "      <th>antiguedad</th>\n",
       "      <th>habitaciones</th>\n",
       "      <th>garages</th>\n",
       "      <th>...</th>\n",
       "      <th>idzona</th>\n",
       "      <th>lat</th>\n",
       "      <th>lng</th>\n",
       "      <th>fecha</th>\n",
       "      <th>gimnasio</th>\n",
       "      <th>usosmultiples</th>\n",
       "      <th>piscina</th>\n",
       "      <th>escuelascercanas</th>\n",
       "      <th>centroscomercialescercanos</th>\n",
       "      <th>precio</th>\n",
       "    </tr>\n",
       "  </thead>\n",
       "  <tbody>\n",
       "    <tr>\n",
       "      <th>160073</th>\n",
       "      <td>164116</td>\n",
       "      <td>casa lomas de angelopolis</td>\n",
       "      <td>lujos espacios ubicación y plenitud en cluster...</td>\n",
       "      <td>Casa</td>\n",
       "      <td>CASCATA</td>\n",
       "      <td>San Andrés Cholula</td>\n",
       "      <td>Puebla</td>\n",
       "      <td>nan</td>\n",
       "      <td>3.00</td>\n",
       "      <td>2.00</td>\n",
       "      <td>...</td>\n",
       "      <td>334,898.00</td>\n",
       "      <td>nan</td>\n",
       "      <td>nan</td>\n",
       "      <td>2015-04-12 00:00:00</td>\n",
       "      <td>1.00</td>\n",
       "      <td>0.00</td>\n",
       "      <td>0.00</td>\n",
       "      <td>0.00</td>\n",
       "      <td>0.00</td>\n",
       "      <td>1,730,000.00</td>\n",
       "    </tr>\n",
       "    <tr>\n",
       "      <th>208408</th>\n",
       "      <td>70102</td>\n",
       "      <td>lomas angelopolis, exclusivo terreno¡</td>\n",
       "      <td>nuevo cluster residencial llamado  gran reserv...</td>\n",
       "      <td>Terreno</td>\n",
       "      <td>CASCATA</td>\n",
       "      <td>San Andrés Cholula</td>\n",
       "      <td>Puebla</td>\n",
       "      <td>nan</td>\n",
       "      <td>nan</td>\n",
       "      <td>0.00</td>\n",
       "      <td>...</td>\n",
       "      <td>334,898.00</td>\n",
       "      <td>nan</td>\n",
       "      <td>nan</td>\n",
       "      <td>2016-12-05 00:00:00</td>\n",
       "      <td>0.00</td>\n",
       "      <td>0.00</td>\n",
       "      <td>0.00</td>\n",
       "      <td>1.00</td>\n",
       "      <td>1.00</td>\n",
       "      <td>1,900,000.00</td>\n",
       "    </tr>\n",
       "    <tr>\n",
       "      <th>230351</th>\n",
       "      <td>260226</td>\n",
       "      <td>venta casa en  lomas de angelopolis cascata en...</td>\n",
       "      <td>magnifico diseño y acabados casas en pre- vent...</td>\n",
       "      <td>Casa en condominio</td>\n",
       "      <td>CASCATA</td>\n",
       "      <td>San Andrés Cholula</td>\n",
       "      <td>Puebla</td>\n",
       "      <td>0.00</td>\n",
       "      <td>4.00</td>\n",
       "      <td>2.00</td>\n",
       "      <td>...</td>\n",
       "      <td>334,898.00</td>\n",
       "      <td>18.98</td>\n",
       "      <td>-98.29</td>\n",
       "      <td>2016-03-17 00:00:00</td>\n",
       "      <td>0.00</td>\n",
       "      <td>1.00</td>\n",
       "      <td>0.00</td>\n",
       "      <td>1.00</td>\n",
       "      <td>1.00</td>\n",
       "      <td>2,700,000.00</td>\n",
       "    </tr>\n",
       "  </tbody>\n",
       "</table>\n",
       "<p>3 rows × 23 columns</p>\n",
       "</div>"
      ],
      "text/plain": [
       "            id                                             titulo  \\\n",
       "160073  164116                          casa lomas de angelopolis   \n",
       "208408   70102             lomas angelopolis, exclusivo terreno¡    \n",
       "230351  260226  venta casa en  lomas de angelopolis cascata en...   \n",
       "\n",
       "                                              descripcion     tipodepropiedad  \\\n",
       "160073  lujos espacios ubicación y plenitud en cluster...                Casa   \n",
       "208408  nuevo cluster residencial llamado  gran reserv...             Terreno   \n",
       "230351  magnifico diseño y acabados casas en pre- vent...  Casa en condominio   \n",
       "\n",
       "       direccion              ciudad provincia           antiguedad  \\\n",
       "160073   CASCATA  San Andrés Cholula    Puebla                  nan   \n",
       "208408   CASCATA  San Andrés Cholula    Puebla                  nan   \n",
       "230351   CASCATA  San Andrés Cholula    Puebla                 0.00   \n",
       "\n",
       "               habitaciones              garages  ...               idzona  \\\n",
       "160073                 3.00                 2.00  ...           334,898.00   \n",
       "208408                  nan                 0.00  ...           334,898.00   \n",
       "230351                 4.00                 2.00  ...           334,898.00   \n",
       "\n",
       "                        lat                  lng                fecha  \\\n",
       "160073                  nan                  nan  2015-04-12 00:00:00   \n",
       "208408                  nan                  nan  2016-12-05 00:00:00   \n",
       "230351                18.98               -98.29  2016-03-17 00:00:00   \n",
       "\n",
       "                   gimnasio        usosmultiples              piscina  \\\n",
       "160073                 1.00                 0.00                 0.00   \n",
       "208408                 0.00                 0.00                 0.00   \n",
       "230351                 0.00                 1.00                 0.00   \n",
       "\n",
       "           escuelascercanas  centroscomercialescercanos               precio  \n",
       "160073                 0.00                        0.00         1,730,000.00  \n",
       "208408                 1.00                        1.00         1,900,000.00  \n",
       "230351                 1.00                        1.00         2,700,000.00  \n",
       "\n",
       "[3 rows x 23 columns]"
      ]
     },
     "execution_count": 197,
     "metadata": {},
     "output_type": "execute_result"
    }
   ],
   "source": [
    "#con esto accedo directamente\n",
    "df.loc[df['direccion'].isin([\"CASCATA\"]), :]"
   ]
  },
  {
   "cell_type": "markdown",
   "metadata": {},
   "source": [
    "## 5) Analizando propiedades especificas del set de datos"
   ]
  },
  {
   "cell_type": "code",
   "execution_count": 18,
   "metadata": {},
   "outputs": [],
   "source": [
    "# Revisemos alguna caterogia principal para ver como esta compuesta:\n"
   ]
  },
  {
   "cell_type": "markdown",
   "metadata": {},
   "source": [
    "## Inmuebles"
   ]
  },
  {
   "cell_type": "markdown",
   "metadata": {},
   "source": [
    "##### Tipo y cantidad de inmuebles"
   ]
  },
  {
   "cell_type": "code",
   "execution_count": null,
   "metadata": {},
   "outputs": [],
   "source": [
    "# cantidad de cada tipo de propiedades"
   ]
  },
  {
   "cell_type": "code",
   "execution_count": 208,
   "metadata": {},
   "outputs": [],
   "source": [
    "propiedades = df ['tipodepropiedad']"
   ]
  },
  {
   "cell_type": "code",
   "execution_count": 209,
   "metadata": {},
   "outputs": [
    {
     "data": {
      "text/plain": [
       "Casa                             141717\n",
       "Apartamento                       57341\n",
       "Casa en condominio                19297\n",
       "Terreno                            9945\n",
       "Local Comercial                    3055\n",
       "Oficina comercial                  1741\n",
       "Bodega comercial                   1406\n",
       "Edificio                           1396\n",
       "Terreno comercial                  1326\n",
       "Casa uso de suelo                   708\n",
       "Quinta Vacacional                   395\n",
       "Duplex                              343\n",
       "Villa                               340\n",
       "Inmuebles productivos urbanos       200\n",
       "Rancho                              170\n",
       "Local en centro comercial           165\n",
       "Departamento Compartido             141\n",
       "Otros                               134\n",
       "Nave industrial                      76\n",
       "Terreno industrial                   31\n",
       "Huerta                               20\n",
       "Lote                                  5\n",
       "Garage                                1\n",
       "Hospedaje                             1\n",
       "Name: tipodepropiedad, dtype: int64"
      ]
     },
     "execution_count": 209,
     "metadata": {},
     "output_type": "execute_result"
    }
   ],
   "source": [
    "propiedades.value_counts()"
   ]
  },
  {
   "cell_type": "code",
   "execution_count": 309,
   "metadata": {},
   "outputs": [
    {
     "name": "stdout",
     "output_type": "stream",
     "text": [
      "Total tipos de propiedad: 24\n"
     ]
    },
    {
     "data": {
      "image/png": "[encoded data removed]",
      "text/plain": [
       "<Figure size 1080x360 with 1 Axes>"
      ]
     },
     "metadata": {
      "needs_background": "light"
     },
     "output_type": "display_data"
    }
   ],
   "source": [
    "print(f\"Total tipos de propiedad: {propiedades.nunique()}\")\n",
    "propiedades.value_counts().plot(kind='bar', figsize=(15, 5), rot=70, \n",
    "title=\"Cantidad de inmuebles por tipo de propiedad\");"
   ]
  },
  {
   "cell_type": "code",
   "execution_count": null,
   "metadata": {},
   "outputs": [],
   "source": []
  },
  {
   "cell_type": "markdown",
   "metadata": {},
   "source": [
    "#####  Antiguedad de los inmuebles (18% nulos)"
   ]
  },
  {
   "cell_type": "code",
   "execution_count": 210,
   "metadata": {},
   "outputs": [],
   "source": [
    "antiguedad = df ['antiguedad']"
   ]
  },
  {
   "cell_type": "code",
   "execution_count": 212,
   "metadata": {},
   "outputs": [
    {
     "data": {
      "text/plain": [
       " 0.00    50335\n",
       " 5.00    33268\n",
       "10.00    28844\n",
       "20.00    19904\n",
       " 1.00    12353\n",
       " 4.00     7944\n",
       " 3.00     5616\n",
       " 2.00     5059\n",
       "15.00     3965\n",
       " 6.00     3169\n",
       "30.00     3055\n",
       " 8.00     2418\n",
       "25.00     2297\n",
       " 7.00     2046\n",
       "12.00     1492\n",
       "11.00     1434\n",
       "40.00     1347\n",
       "50.00     1193\n",
       " 9.00     1065\n",
       "35.00      938\n",
       "18.00      908\n",
       "21.00      742\n",
       "16.00      700\n",
       "14.00      616\n",
       "13.00      577\n",
       "17.00      529\n",
       "22.00      448\n",
       "28.00      396\n",
       "26.00      369\n",
       "45.00      329\n",
       "         ...  \n",
       "47.00       40\n",
       "55.00       38\n",
       "48.00       36\n",
       "46.00       31\n",
       "70.00       29\n",
       "41.00       27\n",
       "80.00       27\n",
       "53.00       17\n",
       "49.00       17\n",
       "65.00       17\n",
       "52.00       11\n",
       "58.00       10\n",
       "54.00        9\n",
       "75.00        6\n",
       "66.00        5\n",
       "59.00        5\n",
       "69.00        5\n",
       "67.00        4\n",
       "57.00        4\n",
       "63.00        4\n",
       "62.00        3\n",
       "56.00        3\n",
       "74.00        2\n",
       "68.00        2\n",
       "79.00        2\n",
       "61.00        2\n",
       "76.00        2\n",
       "71.00        1\n",
       "77.00        1\n",
       "64.00        1\n",
       "Name: antiguedad, Length: 78, dtype: int64"
      ]
     },
     "execution_count": 212,
     "metadata": {},
     "output_type": "execute_result"
    }
   ],
   "source": [
    "antiguedad.value_counts()"
   ]
  },
  {
   "cell_type": "code",
   "execution_count": 294,
   "metadata": {},
   "outputs": [
    {
     "data": {
      "text/plain": [
       "Text(0, 0.5, 'cantidad')"
      ]
     },
     "execution_count": 294,
     "metadata": {},
     "output_type": "execute_result"
    },
    {
     "data": {
      "image/png": "[encoded data removed]",
      "text/plain": [
       "<Figure size 720x720 with 1 Axes>"
      ]
     },
     "metadata": {
      "needs_background": "light"
     },
     "output_type": "display_data"
    }
   ],
   "source": [
    "df1 = df.dropna(subset=['antiguedad'])\n",
    "#df1['antiguedad_log'] = np.log(df1['antiguedad'])\n",
    "#df1['antiguedad_log'] = df1['antiguedad_log'].replace([np.inf, -np.inf], np.nan)\n",
    "\n",
    "g = df1['antiguedad'].plot.hist(bins=50, color='lightblue')\n",
    "g.set_title(\"Histograma de antigüedad\", fontsize=18)\n",
    "g.set_xlabel(\"antigüedad (años)\",fontsize=18)\n",
    "g.set_ylabel(\"cantidad\", fontsize=18)"
   ]
  },
  {
   "cell_type": "code",
   "execution_count": 295,
   "metadata": {},
   "outputs": [
    {
     "data": {
      "text/plain": [
       "Text(0, 0.5, 'Densidad')"
      ]
     },
     "execution_count": 295,
     "metadata": {},
     "output_type": "execute_result"
    },
    {
     "data": {
      "image/png": "[encoded data removed]",
      "text/plain": [
       "<Figure size 720x720 with 1 Axes>"
      ]
     },
     "metadata": {
      "needs_background": "light"
     },
     "output_type": "display_data"
    }
   ],
   "source": [
    "g = sns.distplot(df1[\"antiguedad\"], bins=50)\n",
    "g.set_title(\"Densidad de propiedades por antigüedad\", fontsize=18)\n",
    "g.set_xlabel(\"Antigüedad (años)\",fontsize=18)\n",
    "g.set_ylabel(\"Densidad\", fontsize=18)"
   ]
  },
  {
   "cell_type": "markdown",
   "metadata": {},
   "source": [
    "##### Cantidad de banos que tienen los inmuebles"
   ]
  },
  {
   "cell_type": "code",
   "execution_count": 213,
   "metadata": {},
   "outputs": [],
   "source": [
    "banos = df ['banos']"
   ]
  },
  {
   "cell_type": "code",
   "execution_count": 214,
   "metadata": {},
   "outputs": [
    {
     "data": {
      "text/plain": [
       "2.00    87683\n",
       "1.00    58173\n",
       "3.00    49365\n",
       "4.00    18558\n",
       "Name: banos, dtype: int64"
      ]
     },
     "execution_count": 214,
     "metadata": {},
     "output_type": "execute_result"
    }
   ],
   "source": [
    "banos.value_counts()"
   ]
  },
  {
   "cell_type": "code",
   "execution_count": 310,
   "metadata": {},
   "outputs": [
    {
     "data": {
      "text/plain": [
       "Text(0, 0.5, 'cantidad inmuebles')"
      ]
     },
     "execution_count": 310,
     "metadata": {},
     "output_type": "execute_result"
    },
    {
     "data": {
      "image/png": "[encoded data removed]",
      "text/plain": [
       "<Figure size 720x720 with 1 Axes>"
      ]
     },
     "metadata": {
      "needs_background": "light"
     },
     "output_type": "display_data"
    }
   ],
   "source": [
    "g = df['banos'].plot.hist(bins=6, color='lightblue')\n",
    "g.set_title(\"Histograma de baños por inmueble\", fontsize=18)\n",
    "g.set_xlabel(\"cantidad (baños)\",fontsize=18)\n",
    "g.set_ylabel(\"cantidad inmuebles\", fontsize=18)"
   ]
  },
  {
   "cell_type": "code",
   "execution_count": null,
   "metadata": {},
   "outputs": [],
   "source": []
  },
  {
   "cell_type": "markdown",
   "metadata": {},
   "source": [
    "## Distribucion geografica de inmuebles"
   ]
  },
  {
   "cell_type": "markdown",
   "metadata": {},
   "source": [
    "#### Cantidad de inmuebles por provincia"
   ]
  },
  {
   "cell_type": "code",
   "execution_count": 239,
   "metadata": {},
   "outputs": [
    {
     "data": {
      "text/plain": [
       "array(['Distrito Federal', 'Jalisco', 'Edo. de México', 'Oaxaca',\n",
       "       'Quintana Roo', 'Colima', 'San luis Potosí', 'Nuevo León',\n",
       "       'Querétaro', 'Tamaulipas', 'Puebla', 'Yucatán', 'Morelos',\n",
       "       'Guerrero', 'Tabasco', 'Guanajuato', 'Hidalgo', 'Veracruz',\n",
       "       'Chihuahua', 'Aguascalientes', 'Sonora', 'Michoacán',\n",
       "       'Baja California Norte', 'Baja California Sur', 'Coahuila',\n",
       "       'Durango', 'Sinaloa', 'Chiapas', 'Nayarit', 'Tlaxcala', 'Campeche',\n",
       "       'Zacatecas', nan], dtype=object)"
      ]
     },
     "execution_count": 239,
     "metadata": {},
     "output_type": "execute_result"
    }
   ],
   "source": [
    "# ver cantidad de provincias\n",
    "df['provincia'].unique()"
   ]
  },
  {
   "cell_type": "code",
   "execution_count": 240,
   "metadata": {},
   "outputs": [
    {
     "data": {
      "text/plain": [
       "33"
      ]
     },
     "execution_count": 240,
     "metadata": {},
     "output_type": "execute_result"
    }
   ],
   "source": [
    "\n",
    "df['provincia'].unique().size"
   ]
  },
  {
   "cell_type": "code",
   "execution_count": 241,
   "metadata": {},
   "outputs": [],
   "source": [
    "provincias = df['provincia']  #subset"
   ]
  },
  {
   "cell_type": "code",
   "execution_count": 242,
   "metadata": {},
   "outputs": [
    {
     "data": {
      "text/plain": [
       "Distrito Federal         58790\n",
       "Edo. de México           41607\n",
       "Jalisco                  21238\n",
       "Querétaro                16988\n",
       "Nuevo León               15324\n",
       "Puebla                   10421\n",
       "San luis Potosí           8447\n",
       "Yucatán                   7928\n",
       "Morelos                   7337\n",
       "Veracruz                  5762\n",
       "Quintana Roo              4756\n",
       "Chihuahua                 4590\n",
       "Coahuila                  3695\n",
       "Baja California Norte     3220\n",
       "Sonora                    2988\n",
       "Guanajuato                2860\n",
       "Guerrero                  2678\n",
       "Hidalgo                   2521\n",
       "Michoacán                 2471\n",
       "Tamaulipas                2303\n",
       "Durango                   2275\n",
       "Sinaloa                   1806\n",
       "Aguascalientes            1753\n",
       "Baja California Sur       1700\n",
       "Nayarit                   1352\n",
       "Chiapas                   1126\n",
       "Colima                    1008\n",
       "Tabasco                    994\n",
       "Tlaxcala                   839\n",
       "Oaxaca                     711\n",
       "Campeche                   263\n",
       "Zacatecas                   94\n",
       "Name: provincia, dtype: int64"
      ]
     },
     "execution_count": 242,
     "metadata": {},
     "output_type": "execute_result"
    }
   ],
   "source": [
    "provincias.value_counts()"
   ]
  },
  {
   "cell_type": "code",
   "execution_count": 311,
   "metadata": {},
   "outputs": [],
   "source": []
  },
  {
   "cell_type": "code",
   "execution_count": 314,
   "metadata": {},
   "outputs": [
    {
     "name": "stdout",
     "output_type": "stream",
     "text": [
      "cantidad de inmuebles por provincia: 32\n"
     ]
    },
    {
     "data": {
      "image/png": "[encoded data removed]",
      "text/plain": [
       "<Figure size 1080x360 with 1 Axes>"
      ]
     },
     "metadata": {
      "needs_background": "light"
     },
     "output_type": "display_data"
    }
   ],
   "source": [
    "print(f\"cantidad de inmuebles por provincia: {provincias.nunique()}\")\n",
    "provincias.value_counts().plot(kind='bar', figsize=(15, 5), rot=70, \n",
    "title=\"cantidad de inmuebles por provincia\");"
   ]
  },
  {
   "cell_type": "markdown",
   "metadata": {},
   "source": [
    "#### Ranking de municipios con mayor cantidad de inmuebles"
   ]
  },
  {
   "cell_type": "code",
   "execution_count": null,
   "metadata": {},
   "outputs": [],
   "source": []
  },
  {
   "cell_type": "markdown",
   "metadata": {},
   "source": [
    "#### ranking de zonas con mayor cantidad de inmuebles"
   ]
  },
  {
   "cell_type": "code",
   "execution_count": null,
   "metadata": {},
   "outputs": [],
   "source": []
  },
  {
   "cell_type": "markdown",
   "metadata": {},
   "source": [
    "#### tipos de inmuebles por provincia (que provincia tiene mayor porcentaje de casas)"
   ]
  },
  {
   "cell_type": "code",
   "execution_count": null,
   "metadata": {},
   "outputs": [],
   "source": []
  },
  {
   "cell_type": "code",
   "execution_count": null,
   "metadata": {},
   "outputs": [],
   "source": [
    "# Grafico nacho Distribucion en un mapa"
   ]
  },
  {
   "cell_type": "code",
   "execution_count": 42,
   "metadata": {},
   "outputs": [],
   "source": []
  },
  {
   "cell_type": "markdown",
   "metadata": {},
   "source": [
    "## Analisis temporal de publicaciones"
   ]
  },
  {
   "cell_type": "code",
   "execution_count": null,
   "metadata": {},
   "outputs": [],
   "source": []
  },
  {
   "cell_type": "markdown",
   "metadata": {},
   "source": [
    "#### Cantidad de publicaciones por año, y o por mes\n"
   ]
  },
  {
   "cell_type": "code",
   "execution_count": null,
   "metadata": {},
   "outputs": [],
   "source": []
  },
  {
   "cell_type": "markdown",
   "metadata": {},
   "source": [
    "#### Tipos de inmuebles publicados por año (para detectar algún crecimiento)\n"
   ]
  },
  {
   "cell_type": "code",
   "execution_count": null,
   "metadata": {},
   "outputs": [],
   "source": []
  },
  {
   "cell_type": "markdown",
   "metadata": {},
   "source": [
    "#### Provincia en la cual más se incrementó la oferta de inmuebles"
   ]
  },
  {
   "cell_type": "code",
   "execution_count": null,
   "metadata": {},
   "outputs": [],
   "source": [
    "\n"
   ]
  },
  {
   "cell_type": "markdown",
   "metadata": {},
   "source": [
    "## Analisis de precios"
   ]
  },
  {
   "cell_type": "markdown",
   "metadata": {},
   "source": [
    "#### distribucion de precios promedio por año"
   ]
  },
  {
   "cell_type": "code",
   "execution_count": 265,
   "metadata": {},
   "outputs": [
    {
     "data": {
      "text/html": [
       "<div>\n",
       "<style scoped>\n",
       "    .dataframe tbody tr th:only-of-type {\n",
       "        vertical-align: middle;\n",
       "    }\n",
       "\n",
       "    .dataframe tbody tr th {\n",
       "        vertical-align: top;\n",
       "    }\n",
       "\n",
       "    .dataframe thead th {\n",
       "        text-align: right;\n",
       "    }\n",
       "</style>\n",
       "<table border=\"1\" class=\"dataframe\">\n",
       "  <thead>\n",
       "    <tr style=\"text-align: right;\">\n",
       "      <th></th>\n",
       "      <th>precio</th>\n",
       "    </tr>\n",
       "    <tr>\n",
       "      <th>year</th>\n",
       "      <th></th>\n",
       "    </tr>\n",
       "  </thead>\n",
       "  <tbody>\n",
       "    <tr>\n",
       "      <th>2012</th>\n",
       "      <td>2,032,517.56</td>\n",
       "    </tr>\n",
       "    <tr>\n",
       "      <th>2013</th>\n",
       "      <td>2,125,061.05</td>\n",
       "    </tr>\n",
       "    <tr>\n",
       "      <th>2014</th>\n",
       "      <td>2,364,594.65</td>\n",
       "    </tr>\n",
       "    <tr>\n",
       "      <th>2015</th>\n",
       "      <td>2,634,569.73</td>\n",
       "    </tr>\n",
       "    <tr>\n",
       "      <th>2016</th>\n",
       "      <td>2,801,614.15</td>\n",
       "    </tr>\n",
       "  </tbody>\n",
       "</table>\n",
       "</div>"
      ],
      "text/plain": [
       "                   precio\n",
       "year                     \n",
       "2012         2,032,517.56\n",
       "2013         2,125,061.05\n",
       "2014         2,364,594.65\n",
       "2015         2,634,569.73\n",
       "2016         2,801,614.15"
      ]
     },
     "execution_count": 265,
     "metadata": {},
     "output_type": "execute_result"
    }
   ],
   "source": [
    "#comencemos viendo los precios promedios por año\n",
    "df.groupby('year').agg({'precio':'mean'})"
   ]
  },
  {
   "cell_type": "code",
   "execution_count": 296,
   "metadata": {},
   "outputs": [
    {
     "data": {
      "text/plain": [
       "Text(0, 0.5, 'cantidad')"
      ]
     },
     "execution_count": 296,
     "metadata": {},
     "output_type": "execute_result"
    },
    {
     "data": {
      "image/png": "[encoded data removed]",
      "text/plain": [
       "<Figure size 720x720 with 1 Axes>"
      ]
     },
     "metadata": {
      "needs_background": "light"
     },
     "output_type": "display_data"
    }
   ],
   "source": [
    "g = df1['precio'].plot.hist(bins=50, color='lightblue')\n",
    "g.set_title(\"Histograma de precios\", fontsize=18)\n",
    "g.set_xlabel(\"precio (MXN)\",fontsize=18)\n",
    "g.set_ylabel(\"cantidad\", fontsize=18)"
   ]
  },
  {
   "cell_type": "code",
   "execution_count": 297,
   "metadata": {},
   "outputs": [
    {
     "data": {
      "text/plain": [
       "Text(0, 0.5, 'cantidad')"
      ]
     },
     "execution_count": 297,
     "metadata": {},
     "output_type": "execute_result"
    },
    {
     "data": {
      "image/png": "[encoded data removed]",
      "text/plain": [
       "<Figure size 720x720 with 1 Axes>"
      ]
     },
     "metadata": {
      "needs_background": "light"
     },
     "output_type": "display_data"
    }
   ],
   "source": [
    "# Vemos que los datos están right skewed así que aplicamos una transformación logarítmica para normalizar\n",
    "# la distribución de precios y poder calcular las correlaciones con el resto de las variables\n",
    "df['precio_log'] = np.log(df['precio'])\n",
    "\n",
    "g = df['precio_log'].plot.hist(bins=50, color='lightblue')\n",
    "g.set_title(\"Histograma de precios (log)\", fontsize=18)\n",
    "g.set_xlabel(\"precio (log)\",fontsize=18)\n",
    "g.set_ylabel(\"cantidad\", fontsize=18)"
   ]
  },
  {
   "cell_type": "code",
   "execution_count": 266,
   "metadata": {},
   "outputs": [
    {
     "data": {
      "text/plain": [
       "2016    94038\n",
       "2015    51470\n",
       "2014    40572\n",
       "2013    30386\n",
       "2012    23534\n",
       "Name: year, dtype: int64"
      ]
     },
     "execution_count": 266,
     "metadata": {},
     "output_type": "execute_result"
    }
   ],
   "source": [
    "# cantidad de publicaciones por año\n",
    "# df.groupby('year')['id'].count()  \n",
    "df['year'].value_counts()"
   ]
  },
  {
   "cell_type": "code",
   "execution_count": null,
   "metadata": {},
   "outputs": [],
   "source": [
    "# comparemos el precio por mes"
   ]
  },
  {
   "cell_type": "code",
   "execution_count": 267,
   "metadata": {},
   "outputs": [
    {
     "data": {
      "text/html": [
       "<div>\n",
       "<style scoped>\n",
       "    .dataframe tbody tr th:only-of-type {\n",
       "        vertical-align: middle;\n",
       "    }\n",
       "\n",
       "    .dataframe tbody tr th {\n",
       "        vertical-align: top;\n",
       "    }\n",
       "\n",
       "    .dataframe thead tr th {\n",
       "        text-align: left;\n",
       "    }\n",
       "\n",
       "    .dataframe thead tr:last-of-type th {\n",
       "        text-align: right;\n",
       "    }\n",
       "</style>\n",
       "<table border=\"1\" class=\"dataframe\">\n",
       "  <thead>\n",
       "    <tr>\n",
       "      <th></th>\n",
       "      <th colspan=\"3\" halign=\"left\">precio</th>\n",
       "    </tr>\n",
       "    <tr>\n",
       "      <th></th>\n",
       "      <th>mean</th>\n",
       "      <th>count</th>\n",
       "      <th>sum</th>\n",
       "    </tr>\n",
       "    <tr>\n",
       "      <th>month</th>\n",
       "      <th></th>\n",
       "      <th></th>\n",
       "      <th></th>\n",
       "    </tr>\n",
       "  </thead>\n",
       "  <tbody>\n",
       "    <tr>\n",
       "      <th>1</th>\n",
       "      <td>2,380,728.28</td>\n",
       "      <td>16009</td>\n",
       "      <td>38,113,079,010.00</td>\n",
       "    </tr>\n",
       "    <tr>\n",
       "      <th>2</th>\n",
       "      <td>2,395,430.20</td>\n",
       "      <td>13723</td>\n",
       "      <td>32,872,488,649.00</td>\n",
       "    </tr>\n",
       "    <tr>\n",
       "      <th>3</th>\n",
       "      <td>2,498,691.19</td>\n",
       "      <td>14732</td>\n",
       "      <td>36,810,718,600.00</td>\n",
       "    </tr>\n",
       "    <tr>\n",
       "      <th>4</th>\n",
       "      <td>2,546,977.10</td>\n",
       "      <td>16466</td>\n",
       "      <td>41,938,524,984.00</td>\n",
       "    </tr>\n",
       "    <tr>\n",
       "      <th>5</th>\n",
       "      <td>2,457,124.77</td>\n",
       "      <td>16062</td>\n",
       "      <td>39,466,338,047.00</td>\n",
       "    </tr>\n",
       "    <tr>\n",
       "      <th>6</th>\n",
       "      <td>2,520,843.26</td>\n",
       "      <td>17221</td>\n",
       "      <td>43,411,441,832.00</td>\n",
       "    </tr>\n",
       "    <tr>\n",
       "      <th>7</th>\n",
       "      <td>2,551,788.47</td>\n",
       "      <td>17510</td>\n",
       "      <td>44,681,816,100.00</td>\n",
       "    </tr>\n",
       "    <tr>\n",
       "      <th>8</th>\n",
       "      <td>2,517,020.83</td>\n",
       "      <td>20897</td>\n",
       "      <td>52,598,184,194.00</td>\n",
       "    </tr>\n",
       "    <tr>\n",
       "      <th>9</th>\n",
       "      <td>2,558,958.43</td>\n",
       "      <td>20622</td>\n",
       "      <td>52,770,840,815.00</td>\n",
       "    </tr>\n",
       "    <tr>\n",
       "      <th>10</th>\n",
       "      <td>2,512,789.45</td>\n",
       "      <td>23306</td>\n",
       "      <td>58,563,070,853.00</td>\n",
       "    </tr>\n",
       "    <tr>\n",
       "      <th>11</th>\n",
       "      <td>2,531,623.41</td>\n",
       "      <td>21225</td>\n",
       "      <td>53,733,706,871.00</td>\n",
       "    </tr>\n",
       "    <tr>\n",
       "      <th>12</th>\n",
       "      <td>2,662,774.84</td>\n",
       "      <td>42227</td>\n",
       "      <td>112,440,993,060.00</td>\n",
       "    </tr>\n",
       "  </tbody>\n",
       "</table>\n",
       "</div>"
      ],
      "text/plain": [
       "                    precio                            \n",
       "                      mean  count                  sum\n",
       "month                                                 \n",
       "1             2,380,728.28  16009    38,113,079,010.00\n",
       "2             2,395,430.20  13723    32,872,488,649.00\n",
       "3             2,498,691.19  14732    36,810,718,600.00\n",
       "4             2,546,977.10  16466    41,938,524,984.00\n",
       "5             2,457,124.77  16062    39,466,338,047.00\n",
       "6             2,520,843.26  17221    43,411,441,832.00\n",
       "7             2,551,788.47  17510    44,681,816,100.00\n",
       "8             2,517,020.83  20897    52,598,184,194.00\n",
       "9             2,558,958.43  20622    52,770,840,815.00\n",
       "10            2,512,789.45  23306    58,563,070,853.00\n",
       "11            2,531,623.41  21225    53,733,706,871.00\n",
       "12            2,662,774.84  42227   112,440,993,060.00"
      ]
     },
     "execution_count": 267,
     "metadata": {},
     "output_type": "execute_result"
    }
   ],
   "source": [
    " df.groupby('month').agg({'precio':['mean','count','sum']})"
   ]
  },
  {
   "cell_type": "code",
   "execution_count": null,
   "metadata": {},
   "outputs": [],
   "source": []
  },
  {
   "cell_type": "markdown",
   "metadata": {},
   "source": [
    "#### distribucion de precios promedio por mes"
   ]
  },
  {
   "cell_type": "code",
   "execution_count": null,
   "metadata": {},
   "outputs": [],
   "source": []
  },
  {
   "cell_type": "code",
   "execution_count": null,
   "metadata": {},
   "outputs": [],
   "source": [
    "#relacion entre el precio y la fecha de publicion. (filtrar año y mes de publicacion) \n",
    "#si hay alguna relacion, la recomendacion para el usuario es cuando les conviene comprar.[Jose]"
   ]
  },
  {
   "cell_type": "markdown",
   "metadata": {},
   "source": [
    "\n",
    "#### Precio promedio de las propiedades para cada ciudad"
   ]
  },
  {
   "cell_type": "code",
   "execution_count": null,
   "metadata": {},
   "outputs": [],
   "source": []
  },
  {
   "cell_type": "code",
   "execution_count": 285,
   "metadata": {},
   "outputs": [],
   "source": [
    "# coordenadas de las ciudades\n",
    "ciudades = pd.read_csv('datos/ciudades.csv')"
   ]
  },
  {
   "cell_type": "code",
   "execution_count": 286,
   "metadata": {},
   "outputs": [],
   "source": [
    "# valores medios de precios de propiedades por ciudad\n",
    "precios_por_ciudad = df.groupby('ciudad').agg({'precio': 'mean'})\\\n",
    "    .sort_values('precio', ascending=False)\n",
    "\n",
    "precios_por_ciudad = pd.merge(precios_por_ciudad, ciudades, on='ciudad', how='left')\n",
    "precios_por_ciudad = precios_por_ciudad.dropna()"
   ]
  },
  {
   "cell_type": "code",
   "execution_count": 301,
   "metadata": {},
   "outputs": [
    {
     "data": {
      "text/html": [
       "<div style=\"width:100%;\"><div style=\"position:relative;width:100%;height:0;padding-bottom:60%;\"><iframe src=\"data:text/html;charset=utf-8;base64,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\" style=\"position:absolute;width:100%;height:100%;left:0;top:0;border:none !important;\" allowfullscreen webkitallowfullscreen mozallowfullscreen></iframe></div></div>"
      ],
      "text/plain": [
       "<folium.folium.Map at 0x36b89940>"
      ]
     },
     "execution_count": 301,
     "metadata": {},
     "output_type": "execute_result"
    }
   ],
   "source": [
    "#nacho\n",
    "from folium.plugins import HeatMap\n",
    "# crea el mapa de Mexico usando valores de latitud y longitude\n",
    "mexico_heatmap = folium.Map(location=[20, -102], zoom_start=5)\n",
    "\n",
    "HeatMap(precios_por_ciudad[['lat', 'lng', 'precio']], radius=8, max_zoom=4).add_to(mexico_heatmap)\n",
    "#folium.map.LayerControl('topright', collapsed=False).add_to(mexico_heatmap)\n",
    "# Guarda el mapa\n",
    "mexico_heatmap.save(outfile= \"mapa.html\")\n",
    "# Mostrar el mapa\n",
    "mexico_heatmap"
   ]
  },
  {
   "cell_type": "code",
   "execution_count": null,
   "metadata": {},
   "outputs": [],
   "source": []
  },
  {
   "cell_type": "markdown",
   "metadata": {},
   "source": [
    "#### precio por tipo de inmuebles a lo largo del tiempo (nacho)"
   ]
  },
  {
   "cell_type": "code",
   "execution_count": null,
   "metadata": {},
   "outputs": [],
   "source": [
    "#Precio promedio de cada tipo de propiedades a lo largo del tiempo."
   ]
  },
  {
   "cell_type": "code",
   "execution_count": null,
   "metadata": {},
   "outputs": [],
   "source": []
  },
  {
   "cell_type": "code",
   "execution_count": 276,
   "metadata": {},
   "outputs": [
    {
     "data": {
      "text/html": [
       "<div>\n",
       "<style scoped>\n",
       "    .dataframe tbody tr th:only-of-type {\n",
       "        vertical-align: middle;\n",
       "    }\n",
       "\n",
       "    .dataframe tbody tr th {\n",
       "        vertical-align: top;\n",
       "    }\n",
       "\n",
       "    .dataframe thead th {\n",
       "        text-align: right;\n",
       "    }\n",
       "</style>\n",
       "<table border=\"1\" class=\"dataframe\">\n",
       "  <thead>\n",
       "    <tr style=\"text-align: right;\">\n",
       "      <th></th>\n",
       "      <th>tipodepropiedad</th>\n",
       "      <th>precio</th>\n",
       "      <th>yearmonth</th>\n",
       "    </tr>\n",
       "  </thead>\n",
       "  <tbody>\n",
       "    <tr>\n",
       "      <th>0</th>\n",
       "      <td>Apartamento</td>\n",
       "      <td>1,779,493.93</td>\n",
       "      <td>2012-1</td>\n",
       "    </tr>\n",
       "    <tr>\n",
       "      <th>1</th>\n",
       "      <td>Bodega comercial</td>\n",
       "      <td>2,233,477.27</td>\n",
       "      <td>2012-1</td>\n",
       "    </tr>\n",
       "    <tr>\n",
       "      <th>2</th>\n",
       "      <td>Casa</td>\n",
       "      <td>1,887,837.33</td>\n",
       "      <td>2012-1</td>\n",
       "    </tr>\n",
       "    <tr>\n",
       "      <th>3</th>\n",
       "      <td>Casa en condominio</td>\n",
       "      <td>2,110,458.88</td>\n",
       "      <td>2012-1</td>\n",
       "    </tr>\n",
       "    <tr>\n",
       "      <th>4</th>\n",
       "      <td>Casa uso de suelo</td>\n",
       "      <td>2,590,000.00</td>\n",
       "      <td>2012-1</td>\n",
       "    </tr>\n",
       "  </tbody>\n",
       "</table>\n",
       "</div>"
      ],
      "text/plain": [
       "      tipodepropiedad               precio yearmonth\n",
       "0         Apartamento         1,779,493.93    2012-1\n",
       "1    Bodega comercial         2,233,477.27    2012-1\n",
       "2                Casa         1,887,837.33    2012-1\n",
       "3  Casa en condominio         2,110,458.88    2012-1\n",
       "4   Casa uso de suelo         2,590,000.00    2012-1"
      ]
     },
     "execution_count": 276,
     "metadata": {},
     "output_type": "execute_result"
    }
   ],
   "source": [
    "dftmp = df.groupby(['year', 'month', 'tipodepropiedad']).agg({'precio':'mean'})\n",
    "#dftmp['precio_log'] = np.log(dftmp['precio'])\n",
    "dftmp = dftmp.reset_index(level='year')\n",
    "dftmp = dftmp.reset_index(level='month')\n",
    "dftmp = dftmp.reset_index(level='tipodepropiedad')\n",
    "dftmp['yearmonth'] = dftmp['year'].map(str) + \"-\" + dftmp['month'].map(str)\n",
    "dftmp = dftmp.drop(columns=['year', 'month'])\n",
    "dftmp.head(5)"
   ]
  },
  {
   "cell_type": "code",
   "execution_count": 277,
   "metadata": {},
   "outputs": [],
   "source": [
    "preciosporprop = [dftmp['precio'][dftmp.tipodepropiedad == 'Apartamento'], \n",
    "                  dftmp['precio'][dftmp.tipodepropiedad == 'Casa'],\n",
    "                  dftmp['precio'][dftmp.tipodepropiedad == 'Casa en condominio'],\n",
    "                  dftmp['precio'][dftmp.tipodepropiedad == 'Terreno']\n",
    "                 ]\n",
    "tipodepropiedad = ['Apartamento', 'Casa', 'Casa en condominio', 'Terreno']"
   ]
  },
  {
   "cell_type": "code",
   "execution_count": 280,
   "metadata": {},
   "outputs": [
    {
     "data": {
      "image/png": "[encoded data removed]",
      "text/plain": [
       "<Figure size 1080x576 with 1 Axes>"
      ]
     },
     "metadata": {
      "needs_background": "light"
     },
     "output_type": "display_data"
    }
   ],
   "source": [
    "#plt.stackplot(np.arange(len(dftmp.groupby('yearmonth'))), precioporprop, labels=tipodepropiedad)\n",
    "x = np.arange(len(dftmp.groupby('yearmonth')))\n",
    "mpl.rcParams[\"axes.formatter.useoffset\"] = False\n",
    "plt.stackplot(x, preciosporprop , labels=tipodepropiedad)\n",
    "plt.xticks(x, ['1/2012', ' ', ' ', ' ', ' ', '6/2012', ' ', ' ', ' ', ' ', ' ', ' ',\n",
    "               '1/2013', ' ', ' ', ' ', ' ', '6/2013', ' ', ' ', ' ', ' ', ' ', ' ',\n",
    "               '1/2014', ' ', ' ', ' ', ' ', '6/2014', ' ', ' ', ' ', ' ', ' ', ' ',\n",
    "               '1/2015', ' ', ' ', ' ', ' ', '6/2015', ' ', ' ', ' ', ' ', ' ', ' ',\n",
    "               '1/2016', ' ', ' ', ' ', ' ', '6/2016', ' ', ' ', ' ', ' ', ' ', '12/2016'])\n",
    "plt.legend(loc='upper left')\n",
    "plt.rcParams['figure.figsize'] = [8, 8]\n",
    "plt.title(\"precios de propiedades en el tiempo por tipo de propiedad\")\n",
    "plt.ylabel(\"precio (MXN)\")\n",
    "plt.xlabel(\"fecha\")\n",
    "ax = plt.gca()\n",
    "ax.yaxis.get_major_formatter().set_scientific(False)\n",
    "\n",
    "plt.show()"
   ]
  },
  {
   "cell_type": "code",
   "execution_count": null,
   "metadata": {},
   "outputs": [],
   "source": []
  },
  {
   "cell_type": "code",
   "execution_count": null,
   "metadata": {},
   "outputs": [],
   "source": []
  },
  {
   "cell_type": "code",
   "execution_count": null,
   "metadata": {},
   "outputs": [],
   "source": []
  },
  {
   "cell_type": "markdown",
   "metadata": {},
   "source": [
    "#### Matriz de correlacion"
   ]
  },
  {
   "cell_type": "code",
   "execution_count": 299,
   "metadata": {},
   "outputs": [
    {
     "name": "stdout",
     "output_type": "stream",
     "text": [
      "titulo                     object\n",
      "descripcion                object\n",
      "tipodepropiedad            object\n",
      "direccion                  object\n",
      "ciudad                     object\n",
      "provincia                  object\n",
      "fecha              datetime64[ns]\n",
      "dtype: object\n"
     ]
    },
    {
     "data": {
      "text/html": [
       "<div>\n",
       "<style scoped>\n",
       "    .dataframe tbody tr th:only-of-type {\n",
       "        vertical-align: middle;\n",
       "    }\n",
       "\n",
       "    .dataframe tbody tr th {\n",
       "        vertical-align: top;\n",
       "    }\n",
       "\n",
       "    .dataframe thead th {\n",
       "        text-align: right;\n",
       "    }\n",
       "</style>\n",
       "<table border=\"1\" class=\"dataframe\">\n",
       "  <thead>\n",
       "    <tr style=\"text-align: right;\">\n",
       "      <th></th>\n",
       "      <th>titulo</th>\n",
       "      <th>descripcion</th>\n",
       "      <th>tipodepropiedad</th>\n",
       "      <th>direccion</th>\n",
       "      <th>ciudad</th>\n",
       "      <th>provincia</th>\n",
       "      <th>fecha</th>\n",
       "    </tr>\n",
       "  </thead>\n",
       "  <tbody>\n",
       "    <tr>\n",
       "      <th>count</th>\n",
       "      <td>234613</td>\n",
       "      <td>238381</td>\n",
       "      <td>239954</td>\n",
       "      <td>186928</td>\n",
       "      <td>239628</td>\n",
       "      <td>239845</td>\n",
       "      <td>240000</td>\n",
       "    </tr>\n",
       "    <tr>\n",
       "      <th>unique</th>\n",
       "      <td>186191</td>\n",
       "      <td>232187</td>\n",
       "      <td>24</td>\n",
       "      <td>140269</td>\n",
       "      <td>875</td>\n",
       "      <td>32</td>\n",
       "      <td>1830</td>\n",
       "    </tr>\n",
       "    <tr>\n",
       "      <th>top</th>\n",
       "      <td>casa en venta</td>\n",
       "      <td>empresa dedicada a los   ante notario y regist...</td>\n",
       "      <td>Casa</td>\n",
       "      <td>-</td>\n",
       "      <td>Querétaro</td>\n",
       "      <td>Distrito Federal</td>\n",
       "      <td>2016-12-03 00:00:00</td>\n",
       "    </tr>\n",
       "    <tr>\n",
       "      <th>freq</th>\n",
       "      <td>468</td>\n",
       "      <td>119</td>\n",
       "      <td>141717</td>\n",
       "      <td>660</td>\n",
       "      <td>12646</td>\n",
       "      <td>58790</td>\n",
       "      <td>1416</td>\n",
       "    </tr>\n",
       "    <tr>\n",
       "      <th>first</th>\n",
       "      <td>NaN</td>\n",
       "      <td>NaN</td>\n",
       "      <td>NaN</td>\n",
       "      <td>NaN</td>\n",
       "      <td>NaN</td>\n",
       "      <td>NaN</td>\n",
       "      <td>2012-01-01 00:00:00</td>\n",
       "    </tr>\n",
       "    <tr>\n",
       "      <th>last</th>\n",
       "      <td>NaN</td>\n",
       "      <td>NaN</td>\n",
       "      <td>NaN</td>\n",
       "      <td>NaN</td>\n",
       "      <td>NaN</td>\n",
       "      <td>NaN</td>\n",
       "      <td>2016-12-31 00:00:00</td>\n",
       "    </tr>\n",
       "  </tbody>\n",
       "</table>\n",
       "</div>"
      ],
      "text/plain": [
       "               titulo                                        descripcion  \\\n",
       "count          234613                                             238381   \n",
       "unique         186191                                             232187   \n",
       "top     casa en venta  empresa dedicada a los   ante notario y regist...   \n",
       "freq              468                                                119   \n",
       "first             NaN                                                NaN   \n",
       "last              NaN                                                NaN   \n",
       "\n",
       "       tipodepropiedad direccion     ciudad         provincia  \\\n",
       "count           239954    186928     239628            239845   \n",
       "unique              24    140269        875                32   \n",
       "top               Casa         -  Querétaro  Distrito Federal   \n",
       "freq            141717       660      12646             58790   \n",
       "first              NaN       NaN        NaN               NaN   \n",
       "last               NaN       NaN        NaN               NaN   \n",
       "\n",
       "                      fecha  \n",
       "count                240000  \n",
       "unique                 1830  \n",
       "top     2016-12-03 00:00:00  \n",
       "freq                   1416  \n",
       "first   2012-01-01 00:00:00  \n",
       "last    2016-12-31 00:00:00  "
      ]
     },
     "execution_count": 299,
     "metadata": {},
     "output_type": "execute_result"
    }
   ],
   "source": [
    "# Analizamos que features son numericas para correlacionarlas\n",
    "features_numericas = df.select_dtypes(include=[np.number])\n",
    "features_numericas.dtypes\n",
    "\n",
    "# Observamos tambien cuales son las features categoricas\n",
    "categoricas = df.select_dtypes(exclude=[np.number])\n",
    "print(categoricas.dtypes)\n",
    "categoricas.describe()"
   ]
  },
  {
   "cell_type": "code",
   "execution_count": 300,
   "metadata": {},
   "outputs": [
    {
     "data": {
      "text/plain": [
       "Text(0.5, 1, 'Matriz de correlaciones como heatmap')"
      ]
     },
     "execution_count": 300,
     "metadata": {},
     "output_type": "execute_result"
    },
    {
     "data": {
      "image/png": "[encoded data removed]",
      "text/plain": [
       "<Figure size 1440x648 with 2 Axes>"
      ]
     },
     "metadata": {
      "needs_background": "light"
     },
     "output_type": "display_data"
    }
   ],
   "source": [
    "# Matriz de correlaciones como heatmap\n",
    "corr = features_numericas.corr()\n",
    "plt.subplots(figsize=(20, 9))\n",
    "sns.heatmap(corr, square=True)\n",
    "plt.title(\"Matriz de correlaciones como heatmap\")"
   ]
  },
  {
   "cell_type": "code",
   "execution_count": null,
   "metadata": {},
   "outputs": [],
   "source": []
  }
 ],
 "metadata": {
  "kernelspec": {
   "display_name": "Python 3",
   "language": "python",
   "name": "python3"
  }
 },
 "nbformat": 4,
 "nbformat_minor": 2
}
