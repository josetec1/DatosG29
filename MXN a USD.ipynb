{
 "cells": [
  {
   "cell_type": "code",
   "execution_count": null,
   "metadata": {},
   "outputs": [],
   "source": [
    "import pandas as pd\n",
    "df = pd.read_csv(\"datos/train.csv\", sep=\",\", index_col='id', parse_dates=['fecha'])\n",
    "pd.options.display.float_format = '{:20,.2f}'.format # suprimimos la notacion cientifica en los outputs"
   ]
  },
  {
   "cell_type": "code",
   "execution_count": null,
   "metadata": {},
   "outputs": [],
   "source": [
    "# calculo las fechas minima y máxima del dataset para poder buscar \n",
    "# los datos de cambio de moneda y pasar los precios a dolares\n",
    "start_date = min(df.fecha).strftime('%Y-%m-%d')\n",
    "end_date = max(df.fecha).strftime('%Y-%m-%d')"
   ]
  },
  {
   "cell_type": "code",
   "execution_count": null,
   "metadata": {},
   "outputs": [],
   "source": [
    "import requests\n",
    "from pandas.io.json import json_normalize\n",
    "\n",
    "# Hago un request a una api de tasas de cambio de monedas entre dolar (USD) y pesos mexicanos (MXN)\n",
    "def importExchangeRateUSDtoMXN():\n",
    "    URL = \"https://api.exchangeratesapi.io/history?start_at=\" + start_date + \"&end_at=\" + end_date + \"&symbols=USD&base=MXN\"\n",
    "    response = requests.get(url = URL)\n",
    "    rates = pd.read_json(response.json()['rates'])\n",
    "    rates.to_csv(r'datos/exchange.csv') \n"
   ]
  },
  {
   "cell_type": "code",
   "execution_count": null,
   "metadata": {},
   "outputs": [],
   "source": [
    "#importExchangeRateUSDtoMXN()"
   ]
  },
  {
   "cell_type": "markdown",
   "metadata": {},
   "source": []
  },
  {
   "cell_type": "code",
   "execution_count": null,
   "metadata": {},
   "outputs": [],
   "source": [
    "exchange = pd.read_csv('datos/exchange.csv', parse_dates=['date'])"
   ]
  },
  {
   "cell_type": "code",
   "execution_count": null,
   "metadata": {},
   "outputs": [],
   "source": [
    "\n",
    "# Debido a \n",
    "def merge_parcial(x):\n",
    "    df2 = pd.merge(df, x, on = \"fecha\", how='left')\n",
    "    df2.to_csv(\"datos.csv\", mode=\"a\", header=False, index=False)\n",
    "\n",
    "reader = pd.read_csv(\"datos/exchange.csv\", parse_dates=['fecha'], chunksize=1000)\n",
    "\n",
    "[merge_parcial(r) for r in reader]"
   ]
  }
 ],
 "metadata": {
  "kernelspec": {
   "display_name": "Python 3",
   "language": "python",
   "name": "python3"
  },
  "language_info": {
   "codemirror_mode": {
    "name": "ipython",
    "version": 3
   },
   "file_extension": ".py",
   "mimetype": "text/x-python",
   "name": "python",
   "nbconvert_exporter": "python",
   "pygments_lexer": "ipython3",
   "version": "3.7.3"
  }
 },
 "nbformat": 4,
 "nbformat_minor": 2
}
